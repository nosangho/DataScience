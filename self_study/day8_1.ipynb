{
 "cells": [
  {
   "cell_type": "code",
   "execution_count": 1,
   "metadata": {
    "collapsed": true
   },
   "outputs": [],
   "source": [
    "class OrderedList(object):\n",
    "    \n",
    "    def __init__(self):\n",
    "        self.nums = []\n",
    "    \n",
    "    def append(self,num):\n",
    "        if len(self.num) == 0:\n",
    "            self.nums.append[num]\n",
    "        else:\n",
    "            i=0\n",
    "            while i < len(self.num):\n",
    "                if self.nums[i] > num:\n",
    "                    break\n",
    "                i += 1\n",
    "                \n",
    "            self.nums.insert(i, num)"
   ]
  },
  {
   "cell_type": "code",
   "execution_count": 1,
   "metadata": {
    "collapsed": false
   },
   "outputs": [
    {
     "name": "stdout",
     "output_type": "stream",
     "text": [
      "[('weather', 5.0), ('the', 4.0), ('python', 3.0), ('we', 3.0), ('language', 3.0), ('tools', 3.0), ('of', 3.0), ('and', 3.0), ('Python', 3.0), ('is', 2.6666666666666665), ('they', 2.0), ('for', 2.0), ('forecast', 2.0), ('learning', 2.0), ('apis', 2.0), ('have', 2.0), ('machine', 2.0), ('be', 1.5), ('can', 1.5), ('predict', 1.5), ('very', 1.5), ('to', 1.3333333333333333), ('are', 1.3333333333333333), ('The', 1.3333333333333333), ('Today', 1.0), ('features', 1.0), ('web', 1.0), ('with', 1.0), ('better', 1.0), ('going', 1.0), ('include', 1.0), ('branch', 1.0), ('ones', 1.0), ('using', 1.0), ('compiler', 1.0), ('these', 1.0), ('friends.', 1.0), ('concise', 1.0), ('intelligence', 1.0), ('hard', 1.0), ('implemented', 1.0), ('out', 1.0), ('specification', 1.0), ('artificial', 1.0), ('bunch', 1.0), ('houses', 1.0), ('super', 1.0), ('about', 1.0), ('many', 1.0), ('computers', 1.0), ('days', 1.0), ('times', 1.0), ('supervised', 1.0), ('however,', 1.0), ('there', 1.0), ('debugger', 1.0), ('classification', 1.0), ('reasons', 1.0), ('powerful', 1.0), ('one', 1.0), ('from', 1.0), ('people', 1.0), ('their', 1.0), ('2', 1.0), ('analyze', 1.0), ('today', 1.0), ('more', 1.0), ('mostly', 1.0), ('ruby', 1.0), ('than', 1.0), ('has', 1.0), ('this', 1.0), ('profiler', 1.0), ('will', 1.0), ('anywhere', 1.0), ('result', 1.0), ('it', 1.0), ('learnin', 1.0), ('in', 1.0), ('any', 1.0), ('incorrect', 1.0), ('compared', 1.0), ('built', 1.0), ('regression', 1.0), ('also', 1.0), ('other', 1.0), ('widely', 1.0), ('classify', 1.0), ('nice', 1.0), ('used', 1.0), ('price', 1.0), ('data', 1.0), ('a', 1.0), ('faster', 1.0), ('sometimes', 1.0), ('In', 1.0)]\n"
     ]
    }
   ],
   "source": [
    "# 해당 폴더의 모든 파일을 순환하며 읽어들이는 예제\n",
    "import os\n",
    "for root, dirs, files in os.walk('./data_set'):\n",
    "    files.remove('sample.csv')\n",
    "    dict = {}\n",
    "    dict2= {}\n",
    "    dict3 = {}\n",
    "    dict4 = {}\n",
    "    for f in files:\n",
    "#        print f\n",
    "        with open(os.path.join('./data_set',f), 'r') as fin:\n",
    "            data = fin.read()\n",
    "            split_data = data.split()\n",
    "            one_data = set(split_data)\n",
    "                                    \n",
    "            for word in split_data:\n",
    "                if word in dict:\n",
    "                    dict[word] += 1\n",
    "                else:\n",
    "                    dict[word] = 1\n",
    "            \n",
    "            term_frequency = sorted(dict.items(), key = lambda x:x[1], reverse = True)\n",
    "\n",
    "#            one_data = dict.keys()\n",
    "            \n",
    "            for word in one_data:\n",
    "                if word in dict2:\n",
    "                    dict2[word] += 1\n",
    "                else:\n",
    "                    dict2[word] = 1\n",
    "                       \n",
    "            document_frequency = sorted(dict2.items(), key = lambda x:x[1], reverse = True)\n",
    "            \n",
    "            for word in dict2:\n",
    "                dict3[word] = float(1.00/dict2[word])\n",
    "            \n",
    "            inverse_document_frequency = sorted(dict3.items(), key = lambda x:x[1], reverse = True)\n",
    "            \n",
    "            for word in one_data: \n",
    "                dict4[word] = dict[word]*dict3[word]\n",
    "                \n",
    "            tf_idf = sorted(dict4.items(), key = lambda x:x[1], reverse = True)    \n",
    "\n",
    "    print tf_idf"
   ]
  },
  {
   "cell_type": "code",
   "execution_count": 18,
   "metadata": {
    "collapsed": false
   },
   "outputs": [
    {
     "name": "stdout",
     "output_type": "stream",
     "text": [
      "abcedf\n",
      "\n"
     ]
    }
   ],
   "source": [
    "a = 'abcedf\\n'\n",
    "print a"
   ]
  },
  {
   "cell_type": "code",
   "execution_count": 14,
   "metadata": {
    "collapsed": false
   },
   "outputs": [
    {
     "name": "stdout",
     "output_type": "stream",
     "text": [
      "abcege\\n\n"
     ]
    }
   ],
   "source": [
    "b = r'abcege\\n'\n",
    "print b"
   ]
  },
  {
   "cell_type": "code",
   "execution_count": 24,
   "metadata": {
    "collapsed": false
   },
   "outputs": [
    {
     "name": "stdout",
     "output_type": "stream",
     "text": [
      "<_sre.SRE_Match object at 0x049F1BB8>\n",
      "iii\n"
     ]
    }
   ],
   "source": [
    "import re\n",
    "\n",
    "match = re.search(r'iii','piiig')\n",
    "print match\n",
    "print match.group()"
   ]
  },
  {
   "cell_type": "code",
   "execution_count": 27,
   "metadata": {
    "collapsed": false
   },
   "outputs": [
    {
     "name": "stdout",
     "output_type": "stream",
     "text": [
      "dkg\n"
     ]
    }
   ],
   "source": [
    "m = re.search(r'..g','pidkg')\n",
    "print m.group()"
   ]
  },
  {
   "cell_type": "code",
   "execution_count": 35,
   "metadata": {
    "collapsed": false
   },
   "outputs": [
    {
     "ename": "AttributeError",
     "evalue": "'NoneType' object has no attribute 'group'",
     "output_type": "error",
     "traceback": [
      "\u001b[0;31m---------------------------------------------------------------------------\u001b[0m",
      "\u001b[0;31mAttributeError\u001b[0m                            Traceback (most recent call last)",
      "\u001b[0;32m<ipython-input-35-58bd1130286c>\u001b[0m in \u001b[0;36m<module>\u001b[0;34m()\u001b[0m\n\u001b[1;32m     20\u001b[0m \u001b[0mm\u001b[0m \u001b[1;33m=\u001b[0m \u001b[0mre\u001b[0m\u001b[1;33m.\u001b[0m\u001b[0msearch\u001b[0m\u001b[1;33m(\u001b[0m\u001b[1;34mr'[\\w.-]+@[\\w.-]+'\u001b[0m\u001b[1;33m,\u001b[0m\u001b[0mnews1\u001b[0m\u001b[1;33m)\u001b[0m\u001b[1;33m\u001b[0m\u001b[0m\n\u001b[1;32m     21\u001b[0m \u001b[0mm1\u001b[0m \u001b[1;33m=\u001b[0m \u001b[0mre\u001b[0m\u001b[1;33m.\u001b[0m\u001b[0msearch\u001b[0m\u001b[1;33m(\u001b[0m\u001b[1;34mr'^\\d+-\\d\\d\\d\\d-\\d\\d\\d$'\u001b[0m\u001b[1;33m,\u001b[0m \u001b[1;34m'010-4905-4856'\u001b[0m\u001b[1;33m)\u001b[0m\u001b[1;33m\u001b[0m\u001b[0m\n\u001b[0;32m---> 22\u001b[0;31m \u001b[1;32mprint\u001b[0m \u001b[0mm1\u001b[0m\u001b[1;33m.\u001b[0m\u001b[0mgroup\u001b[0m\u001b[1;33m(\u001b[0m\u001b[1;33m)\u001b[0m\u001b[1;33m\u001b[0m\u001b[0m\n\u001b[0m\u001b[1;32m     23\u001b[0m \u001b[1;33m\u001b[0m\u001b[0m\n\u001b[1;32m     24\u001b[0m \u001b[1;32mprint\u001b[0m \u001b[0mm\u001b[0m\u001b[1;33m.\u001b[0m\u001b[0mgroup\u001b[0m\u001b[1;33m(\u001b[0m\u001b[1;33m)\u001b[0m\u001b[1;33m\u001b[0m\u001b[0m\n",
      "\u001b[0;31mAttributeError\u001b[0m: 'NoneType' object has no attribute 'group'"
     ]
    }
   ],
   "source": [
    "import requests\n",
    "from bs4 import BeautifulSoup\n",
    "\n",
    "def get_news_content(url):\n",
    "    response = requests.get(url)\n",
    "    content = response.text\n",
    "\n",
    "    soup = BeautifulSoup(content)\n",
    "\n",
    "    div = soup.find('div', attrs = {'id' : 'harmonyContainer'})\n",
    "    \n",
    "    content = ''\n",
    "    for paragraph in div.find_all('p'):\n",
    "        content += paragraph.get_text()\n",
    "        \n",
    "    return content.encode('utf-8')\n",
    "        \n",
    "news1 = get_news_content('http://v.media.daum.net/v/20170112152314639')\n",
    "\n",
    "m = re.search(r'[\\w.-]+@[\\w.-]+',news1)\n",
    "m1 = re.search(r'^0\\d+-\\d+-\\d+', '010-4905-4856')\n",
    "\n",
    "print m1.group()\n",
    "print m.group()\n",
    "\n",
    "print news1"
   ]
  },
  {
   "cell_type": "code",
   "execution_count": 37,
   "metadata": {
    "collapsed": false
   },
   "outputs": [
    {
     "name": "stdout",
     "output_type": "stream",
     "text": [
      "010-4905-2746\n"
     ]
    }
   ],
   "source": [
    "m = re.search(r'^0\\d{2}-\\d{4}-\\d{4}', '010-4905-2746')\n",
    "\n",
    "print m.group()"
   ]
  },
  {
   "cell_type": "code",
   "execution_count": null,
   "metadata": {
    "collapsed": true
   },
   "outputs": [],
   "source": []
  },
  {
   "cell_type": "code",
   "execution_count": 62,
   "metadata": {
    "collapsed": false
   },
   "outputs": [
    {
     "name": "stdout",
     "output_type": "stream",
     "text": [
      "abc\n",
      "a_bdd\n",
      "good32\n",
      "aB_32\n"
     ]
    }
   ],
   "source": [
    "variables = ['abc', '3bdf','a_bdd', 'good32','aB_32']\n",
    "\n",
    "for i in variables:\n",
    "    m = re.search(r'^[a-zA-Z_]+[\\w\\d]*', i) \n",
    "    if m!= None:\n",
    "        print m.group()"
   ]
  },
  {
   "cell_type": "code",
   "execution_count": null,
   "metadata": {
    "collapsed": true
   },
   "outputs": [],
   "source": []
  },
  {
   "cell_type": "code",
   "execution_count": 57,
   "metadata": {
    "collapsed": false
   },
   "outputs": [
    {
     "name": "stdout",
     "output_type": "stream",
     "text": [
      "sample.csv\n",
      "\"id\",\"city\",\"population\",\"area\"\n",
      "\"1\",\"pangyo\",1000,230\n",
      "\"2\",\"seoul\",2000,400\n",
      "\"3\",\"busan\",5000,500\n",
      "\"4\",\"jeju\",200,200\n",
      "\n",
      "tf_idf1.txt\n",
      "Python is very concise language compared to the other ones\n",
      "Python has powerful tools and the tools are very nice\n",
      "The tools include debugger profiler and the compiler\n",
      "Python is used widely for many reasons and mostly for web apis\n",
      "The apis built from python is about 2 times faster than ruby\n",
      "python is language and also a specification python can be implemented in any language\n",
      "\n",
      "tf_idf2.txt\n",
      "The weather is very nice today\n",
      "In this weather many people are going out with their friends.\n",
      "weather forecast in these days is sometimes incorrect \n",
      "the super computers are used to forecast the weather however, it is hard to predict the weather\n",
      "\n",
      "tf_idf3.txt\n",
      "machine learning is the one branch of artificial intelligence\n",
      "it can be used anywhere to predict classify analyze with bunch of data out there\n",
      "The more we have the better the result will be\n",
      "Today we learnin classification and regression they are supervised machine learning and we can predict the price of the houses using the features they have \n",
      "\n"
     ]
    }
   ],
   "source": [
    "# 해당 폴더의 모든 파일을 순환하며 읽어들이는 예제\n",
    "import os\n",
    "for root, dirs, files in os.walk('./data_set'):\n",
    "    for f in files:\n",
    "        print f\n",
    "        with open(os.path.join('./data_set',f), 'r') as fin:\n",
    "            data = fin.read()\n",
    "\n",
    "            print data"
   ]
  },
  {
   "cell_type": "code",
   "execution_count": 66,
   "metadata": {
    "collapsed": false
   },
   "outputs": [
    {
     "name": "stdout",
     "output_type": "stream",
     "text": [
      "['the', 'the', 'the', 'the', 'the', 'the']\n"
     ]
    }
   ],
   "source": [
    "m = re.findall(r'\\bthe\\b',data)\n",
    "print m"
   ]
  },
  {
   "cell_type": "code",
   "execution_count": null,
   "metadata": {
    "collapsed": false
   },
   "outputs": [],
   "source": []
  },
  {
   "cell_type": "code",
   "execution_count": null,
   "metadata": {
    "collapsed": true
   },
   "outputs": [],
   "source": []
  },
  {
   "cell_type": "code",
   "execution_count": null,
   "metadata": {
    "collapsed": true
   },
   "outputs": [],
   "source": [
    "replaced = re.sub"
   ]
  },
  {
   "cell_type": "code",
   "execution_count": null,
   "metadata": {
    "collapsed": true
   },
   "outputs": [],
   "source": []
  },
  {
   "cell_type": "code",
   "execution_count": 72,
   "metadata": {
    "collapsed": false
   },
   "outputs": [
    {
     "name": "stdout",
     "output_type": "stream",
     "text": [
      "['one', 'two', 'three', 'four', 'five', 'six']\n"
     ]
    }
   ],
   "source": [
    "str1 = \"one, two three.four*five:six\"\n",
    "print re.split(r'[,:.*\\s]*', str1)"
   ]
  },
  {
   "cell_type": "code",
   "execution_count": null,
   "metadata": {
    "collapsed": true
   },
   "outputs": [],
   "source": []
  },
  {
   "cell_type": "code",
   "execution_count": 75,
   "metadata": {
    "collapsed": false
   },
   "outputs": [],
   "source": [
    "import re\n",
    "\n",
    "ip_address = re.compile(r'^\\d+.\\d+.\\d+.\\d+')"
   ]
  },
  {
   "cell_type": "code",
   "execution_count": 80,
   "metadata": {
    "collapsed": false
   },
   "outputs": [
    {
     "name": "stdout",
     "output_type": "stream",
     "text": [
      "<_sre.SRE_Match object at 0x06FCDDE8>\n",
      "This ip is correct\n"
     ]
    }
   ],
   "source": [
    "ip1 = '192.168.0.114'\n",
    "ip2 = '192.168.112.'\n",
    "\n",
    "m = ip_address.search(ip1)\n",
    "print m\n",
    "if m != None:\n",
    "    print \"This ip is correct\"\n",
    "else:\n",
    "    print \"no\""
   ]
  },
  {
   "cell_type": "code",
   "execution_count": null,
   "metadata": {
    "collapsed": true
   },
   "outputs": [],
   "source": []
  }
 ],
 "metadata": {
  "kernelspec": {
   "display_name": "Python 2",
   "language": "python",
   "name": "python2"
  },
  "language_info": {
   "codemirror_mode": {
    "name": "ipython",
    "version": 2
   },
   "file_extension": ".py",
   "mimetype": "text/x-python",
   "name": "python",
   "nbconvert_exporter": "python",
   "pygments_lexer": "ipython2",
   "version": "2.7.13"
  }
 },
 "nbformat": 4,
 "nbformat_minor": 2
}
