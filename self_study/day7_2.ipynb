{
 "cells": [
  {
   "cell_type": "code",
   "execution_count": 7,
   "metadata": {
    "collapsed": false
   },
   "outputs": [
    {
     "name": "stdout",
     "output_type": "stream",
     "text": [
      "729\n"
     ]
    }
   ],
   "source": [
    "class Calculator(object):\n",
    "    def __init__(self, a, b, func):\n",
    "        self.a = a\n",
    "        self.b = b\n",
    "        self.func = func\n",
    "    def apply(self):\n",
    "        # return lambda self.a , self.b : self.func # lambda로 표현하면 왜 안되지?\n",
    "        result = self.func(self.a, self.b)\n",
    "        return result\n",
    "    \n",
    "cal = Calculator(3,6, lambda x,y : x**y)\n",
    "\n",
    "print cal.apply()\n",
    "\n",
    "# 유연한 함수 : 밖에서 값을 만들어서 class안의 내용을 유연하게 사용"
   ]
  },
  {
   "cell_type": "code",
   "execution_count": 8,
   "metadata": {
    "collapsed": true
   },
   "outputs": [],
   "source": [
    "class Student(object):\n",
    "    def __init__(self,name,age,major):\n",
    "        self.name = name\n",
    "        self.age = age\n",
    "        self.major = major\n",
    "\n",
    "s1 = Student('sangho',30,'cs')"
   ]
  },
  {
   "cell_type": "code",
   "execution_count": 10,
   "metadata": {
    "collapsed": false
   },
   "outputs": [],
   "source": [
    "from collections import namedtuple\n",
    "Student = namedtuple('Student', ['name','age','major'])\n",
    "\n",
    "s1 = Student('sangho',30,'cs')"
   ]
  },
  {
   "cell_type": "code",
   "execution_count": null,
   "metadata": {
    "collapsed": true
   },
   "outputs": [],
   "source": []
  },
  {
   "cell_type": "code",
   "execution_count": null,
   "metadata": {
    "collapsed": true
   },
   "outputs": [],
   "source": []
  },
  {
   "cell_type": "code",
   "execution_count": null,
   "metadata": {
    "collapsed": true
   },
   "outputs": [],
   "source": []
  },
  {
   "cell_type": "code",
   "execution_count": null,
   "metadata": {
    "collapsed": true
   },
   "outputs": [],
   "source": []
  },
  {
   "cell_type": "code",
   "execution_count": null,
   "metadata": {
    "collapsed": true
   },
   "outputs": [],
   "source": []
  },
  {
   "cell_type": "code",
   "execution_count": 14,
   "metadata": {
    "collapsed": false
   },
   "outputs": [
    {
     "data": {
      "text/plain": [
       "54"
      ]
     },
     "execution_count": 14,
     "metadata": {},
     "output_type": "execute_result"
    }
   ],
   "source": [
    "class Calculator(object):\n",
    "    \n",
    "    def __init__(self,a,b,func):\n",
    "        self.a = a\n",
    "        self.b = b\n",
    "        self.func = func\n",
    "    \n",
    "    def apply(self):\n",
    "        result = self.func(self.a, self.b)\n",
    "        return result\n",
    "    \n",
    "cal = Calculator(6,9, lambda x,y : x * y)\n",
    "\n",
    "cal.apply()"
   ]
  },
  {
   "cell_type": "code",
   "execution_count": null,
   "metadata": {
    "collapsed": true
   },
   "outputs": [],
   "source": []
  },
  {
   "cell_type": "code",
   "execution_count": null,
   "metadata": {
    "collapsed": true
   },
   "outputs": [],
   "source": []
  },
  {
   "cell_type": "code",
   "execution_count": 23,
   "metadata": {
    "collapsed": true
   },
   "outputs": [],
   "source": [
    "class RankService(object):\n",
    "    \n",
    "    def __init__(self):\n",
    "        self.music_data={}\n",
    "    \n",
    "    def count_music(self,title):\n",
    "        if title in self.music_data:\n",
    "            self.music_data[title] += 1\n",
    "        else:\n",
    "            self.music_data[title] = 1\n",
    "    \n",
    "    def ranking(self):\n",
    "        return sorted(self.music_data.items(), key = lambda x:x[1], reverse = True)"
   ]
  },
  {
   "cell_type": "code",
   "execution_count": 24,
   "metadata": {
    "collapsed": false
   },
   "outputs": [
    {
     "name": "stdout",
     "output_type": "stream",
     "text": [
      "[('without you', 5), ('moon river', 3), ('to heaven', 2), ('I will be there', 1)]\n"
     ]
    }
   ],
   "source": [
    "ranker = RankService()\n",
    "ranker.count_music('without you')\n",
    "ranker.count_music('without you')\n",
    "ranker.count_music('to heaven')\n",
    "\n",
    "ranker.count_music('to heaven')\n",
    "ranker.count_music('without you')\n",
    "\n",
    "ranker.count_music('I will be there')\n",
    "ranker.count_music('without you')\n",
    "\n",
    "ranker.count_music('moon river')\n",
    "ranker.count_music('moon river')\n",
    "ranker.count_music('without you')\n",
    "ranker.count_music('moon river')\n",
    "\n",
    "print ranker.ranking()"
   ]
  },
  {
   "cell_type": "code",
   "execution_count": null,
   "metadata": {
    "collapsed": true
   },
   "outputs": [],
   "source": []
  },
  {
   "cell_type": "code",
   "execution_count": null,
   "metadata": {
    "collapsed": true
   },
   "outputs": [],
   "source": []
  },
  {
   "cell_type": "code",
   "execution_count": null,
   "metadata": {
    "collapsed": true
   },
   "outputs": [],
   "source": []
  },
  {
   "cell_type": "code",
   "execution_count": null,
   "metadata": {
    "collapsed": true
   },
   "outputs": [],
   "source": []
  },
  {
   "cell_type": "code",
   "execution_count": null,
   "metadata": {
    "collapsed": true
   },
   "outputs": [],
   "source": []
  }
 ],
 "metadata": {
  "kernelspec": {
   "display_name": "Python 2",
   "language": "python",
   "name": "python2"
  },
  "language_info": {
   "codemirror_mode": {
    "name": "ipython",
    "version": 2
   },
   "file_extension": ".py",
   "mimetype": "text/x-python",
   "name": "python",
   "nbconvert_exporter": "python",
   "pygments_lexer": "ipython2",
   "version": "2.7.13"
  }
 },
 "nbformat": 4,
 "nbformat_minor": 2
}
