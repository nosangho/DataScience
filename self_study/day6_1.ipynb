{
 "cells": [
  {
   "cell_type": "code",
   "execution_count": 27,
   "metadata": {
    "collapsed": true
   },
   "outputs": [],
   "source": [
    "class BankAccount():\n",
    "    \n",
    "    def __init__ (self, amount):\n",
    "        self.amount = amount\n",
    "        \n",
    "    def withdraw(self,amount):\n",
    "        self.amount -= amount\n",
    "        return self.amount\n",
    "        \n",
    "    def save(self,amount):\n",
    "        self.amount += amount\n",
    "        return self.amount\n",
    "    \n",
    "    def check(self):\n",
    "        return self.amount\n",
    "\n",
    "    def check_interest(self,interest_month,duration_month):\n",
    "        self.amount = self.amount * (1 + interest_month) * duration_month"
   ]
  },
  {
   "cell_type": "code",
   "execution_count": 28,
   "metadata": {
    "collapsed": true
   },
   "outputs": [],
   "source": [
    "a = BankAccount(100)"
   ]
  },
  {
   "cell_type": "code",
   "execution_count": 29,
   "metadata": {
    "collapsed": false
   },
   "outputs": [
    {
     "name": "stdout",
     "output_type": "stream",
     "text": [
      "-100\n"
     ]
    }
   ],
   "source": [
    "print a.withdraw(200)"
   ]
  },
  {
   "cell_type": "code",
   "execution_count": 30,
   "metadata": {
    "collapsed": false
   },
   "outputs": [
    {
     "name": "stdout",
     "output_type": "stream",
     "text": [
      "400\n"
     ]
    }
   ],
   "source": [
    "print a.save(500)"
   ]
  },
  {
   "cell_type": "code",
   "execution_count": null,
   "metadata": {
    "collapsed": true
   },
   "outputs": [],
   "source": []
  },
  {
   "cell_type": "code",
   "execution_count": 32,
   "metadata": {
    "collapsed": false
   },
   "outputs": [],
   "source": [
    "class StudentClass():\n",
    "    \n",
    "    def __init__ (self, kor, eng, math):\n",
    "        self.kor = float(kor)\n",
    "        self.eng = float(eng)\n",
    "        self.math = float(math)\n",
    "        \n",
    "    def printfn(self):\n",
    "        print \"kor_score : \", self.kor\n",
    "        print \"eng_score : \", self.eng\n",
    "        print \"math_score : \", self.math\n",
    "        \n",
    "    def get_average(self):\n",
    "        sum = self.kor + self.eng + self.math\n",
    "        average = sum / 3\n",
    "        return average"
   ]
  },
  {
   "cell_type": "code",
   "execution_count": 33,
   "metadata": {
    "collapsed": true
   },
   "outputs": [],
   "source": [
    "sangho = StudentClass(100, 86, 92)"
   ]
  },
  {
   "cell_type": "code",
   "execution_count": 34,
   "metadata": {
    "collapsed": false
   },
   "outputs": [
    {
     "name": "stdout",
     "output_type": "stream",
     "text": [
      "kor_score :  100.0\n",
      "eng_score :  86.0\n",
      "math_score :  92.0\n"
     ]
    }
   ],
   "source": [
    "sangho.printfn()"
   ]
  },
  {
   "cell_type": "code",
   "execution_count": 35,
   "metadata": {
    "collapsed": false
   },
   "outputs": [
    {
     "data": {
      "text/plain": [
       "92.66666666666667"
      ]
     },
     "execution_count": 35,
     "metadata": {},
     "output_type": "execute_result"
    }
   ],
   "source": [
    "sangho.get_average()"
   ]
  },
  {
   "cell_type": "code",
   "execution_count": null,
   "metadata": {
    "collapsed": true
   },
   "outputs": [],
   "source": []
  },
  {
   "cell_type": "code",
   "execution_count": 36,
   "metadata": {
    "collapsed": true
   },
   "outputs": [],
   "source": [
    "import datetime as dt\n",
    "today = dt.datetime.now()\n",
    "week_age = today - dt.timedelta(days = 7)"
   ]
  },
  {
   "cell_type": "code",
   "execution_count": 41,
   "metadata": {
    "collapsed": true
   },
   "outputs": [],
   "source": [
    "class VideoManager():\n",
    "    def __init__(self):\n",
    "        self.videos = {}\n",
    "        \n",
    "    def add_video(self,title):\n",
    "        self.videos[title] = dt.datetime.now()\n",
    "        \n",
    "    def find_video(self,title):\n",
    "        return \"Ok\" if title in self.video else \"No\"\n",
    "    \n",
    "    def is_new_release(self,title):\n",
    "        now = dt.datetime.now()\n",
    "        if self.video[title] >= today - dt.timedelta(days = 7):\n",
    "            return \"new video\"\n",
    "        else:\n",
    "            return \"old video\"\n",
    "        \n",
    "        # return self.video[title] >= today - dt.timedelta(days = 7):\n",
    "        # 네줄을 한줄로 줄이는것"
   ]
  },
  {
   "cell_type": "code",
   "execution_count": null,
   "metadata": {
    "collapsed": true
   },
   "outputs": [],
   "source": []
  },
  {
   "cell_type": "code",
   "execution_count": 44,
   "metadata": {
    "collapsed": false
   },
   "outputs": [
    {
     "name": "stdout",
     "output_type": "stream",
     "text": [
      "sangho works very hard\n",
      "sangho sleeps 8 hours every day\n"
     ]
    }
   ],
   "source": [
    "class Person(object):\n",
    "    def __init__(self,name):\n",
    "        self.name = name\n",
    "    \n",
    "    def work(self):\n",
    "        print '{} works very hard'.format(self.name)\n",
    "        \n",
    "    def sleep(self,hour):\n",
    "        print '{} sleeps {} hours every day'.format(self.name,hour)\n",
    "        \n",
    "p1 = Person('sangho')\n",
    "p1.work()\n",
    "\n",
    "p1.sleep(8)"
   ]
  },
  {
   "cell_type": "code",
   "execution_count": null,
   "metadata": {
    "collapsed": true
   },
   "outputs": [],
   "source": []
  },
  {
   "cell_type": "code",
   "execution_count": 45,
   "metadata": {
    "collapsed": true
   },
   "outputs": [],
   "source": [
    "class Circle(object):\n",
    "    def __init__(self,radius):\n",
    "        self.radius = radius\n",
    "    \n",
    "    def get_area(self):\n",
    "        return 3.14 * 2 * self.radius\n",
    "    \n",
    "    def get_length(self):\n",
    "        return 3.14 * (self.radius) **2"
   ]
  },
  {
   "cell_type": "code",
   "execution_count": 49,
   "metadata": {
    "collapsed": false
   },
   "outputs": [
    {
     "name": "stdout",
     "output_type": "stream",
     "text": [
      "31.4\n",
      "78.5\n"
     ]
    }
   ],
   "source": [
    "circle = Circle(5)\n",
    "\n",
    "print circle.get_area()\n",
    "print circle.get_length()"
   ]
  },
  {
   "cell_type": "code",
   "execution_count": 58,
   "metadata": {
    "collapsed": false
   },
   "outputs": [],
   "source": [
    "class BankAccount(object):\n",
    "    def __init__(self, amount):\n",
    "        self.amount = amount\n",
    "        \n",
    "    def withdraw(self, cash):\n",
    "        if self.amount >= cash:\n",
    "            self.amount -= cash\n",
    "        else:\n",
    "            return \"잔액이 부족합니다.\"\n",
    "    \n",
    "    def save(self, cash):\n",
    "        self.amount += cash\n",
    "    \n",
    "    def check(self):\n",
    "        return self.amount\n",
    "    \n",
    "    def check_interest(self, interest_month, duration_month):\n",
    "        return self.amount + ((1+interest_month)**duration_month)"
   ]
  },
  {
   "cell_type": "code",
   "execution_count": null,
   "metadata": {
    "collapsed": true
   },
   "outputs": [],
   "source": []
  },
  {
   "cell_type": "code",
   "execution_count": 64,
   "metadata": {
    "collapsed": true
   },
   "outputs": [],
   "source": [
    "class StudentManager(object):\n",
    "    def __init__(self,kor,eng,math):\n",
    "        self.kor = float(kor)\n",
    "        self.eng = float(eng)\n",
    "        self.math = float(math)\n",
    "        \n",
    "    def print_score(self):\n",
    "        print '국어시험 점수 : ',self.kor\n",
    "        print '영어시험 점수 : ',self.eng\n",
    "        print '수학시험 점수 : ',self.math\n",
    "        \n",
    "    def get_average(self):\n",
    "        avg = (self.kor + self.eng + self.math) / 3\n",
    "        print '평균점수 : ',avg"
   ]
  },
  {
   "cell_type": "code",
   "execution_count": 65,
   "metadata": {
    "collapsed": false
   },
   "outputs": [
    {
     "name": "stdout",
     "output_type": "stream",
     "text": [
      "국어시험 점수 :  60.0\n",
      "영어시험 점수 :  44.0\n",
      "수학시험 점수 :  68.0\n",
      "평균점수 :  57.3333333333\n"
     ]
    }
   ],
   "source": [
    "s = StudentManager(60,44,68)\n",
    "\n",
    "s.print_score()\n",
    "s.get_average()"
   ]
  },
  {
   "cell_type": "code",
   "execution_count": null,
   "metadata": {
    "collapsed": true
   },
   "outputs": [],
   "source": []
  },
  {
   "cell_type": "code",
   "execution_count": 67,
   "metadata": {
    "collapsed": true
   },
   "outputs": [],
   "source": [
    "class VideoManager(object):\n",
    "    def __init__(self):\n",
    "        self.videos = {}\n",
    "        \n",
    "    def add_video(self,title, date = dt.datetime.now()):\n",
    "        self.videos[title] = date\n",
    "        \n",
    "    def find_video(self,title):\n",
    "        return title in self.videos\n",
    "    \n",
    "    def is_new_video(self,title):\n",
    "        now = dt.datetime.now()\n",
    "        week_ago = now - dt.datetime(days = 7)\n",
    "        \n",
    "        return self.title[title] > week_ago "
   ]
  },
  {
   "cell_type": "code",
   "execution_count": null,
   "metadata": {
    "collapsed": true
   },
   "outputs": [],
   "source": []
  },
  {
   "cell_type": "code",
   "execution_count": null,
   "metadata": {
    "collapsed": true
   },
   "outputs": [],
   "source": []
  },
  {
   "cell_type": "code",
   "execution_count": 69,
   "metadata": {
    "collapsed": false
   },
   "outputs": [
    {
     "name": "stdout",
     "output_type": "stream",
     "text": [
      "work hard\n",
      "work hard\n"
     ]
    }
   ],
   "source": [
    "class Person(object):\n",
    "    def work(self):\n",
    "        print \"work hard\"\n",
    "\n",
    "class Student(Person):\n",
    "    pass\n",
    "\n",
    "p1 = Person()\n",
    "s1 = Student()\n",
    "\n",
    "p1.work()\n",
    "s1.work()"
   ]
  },
  {
   "cell_type": "code",
   "execution_count": null,
   "metadata": {
    "collapsed": true
   },
   "outputs": [],
   "source": []
  },
  {
   "cell_type": "code",
   "execution_count": 72,
   "metadata": {
    "collapsed": false
   },
   "outputs": [
    {
     "name": "stdout",
     "output_type": "stream",
     "text": [
      "sangho  play baseball\n",
      "inho  play baseball\n",
      "jongyeol  play baseball\n",
      "jihyun  play soccer\n",
      "okhae  play soccer\n",
      "boksil  play soccer\n"
     ]
    }
   ],
   "source": [
    "class SoccorPlayer(object):\n",
    "    \n",
    "    def __init__(self, name):\n",
    "        self.name = name\n",
    "    \n",
    "    def play(self):\n",
    "        print self.name, \" play soccer\"\n",
    "        \n",
    "class BaseBall(object):\n",
    "    \n",
    "    def __init__(self,name):\n",
    "        self.name = name\n",
    "        \n",
    "    def play(self):\n",
    "        print self.name, \" play baseball\"\n",
    "        \n",
    "a1 = BaseBall('sangho')\n",
    "a2 = BaseBall('inho')\n",
    "a3 = BaseBall('jongyeol')\n",
    "\n",
    "b1 = SoccorPlayer('jihyun')\n",
    "b2 = SoccorPlayer('okhae')\n",
    "b3 = SoccorPlayer('boksil')\n",
    "\n",
    "players = [a1, a2, a3, b1, b2, b3]\n",
    "\n",
    "for player in players:\n",
    "    player.play()"
   ]
  },
  {
   "cell_type": "code",
   "execution_count": null,
   "metadata": {
    "collapsed": true
   },
   "outputs": [],
   "source": []
  },
  {
   "cell_type": "code",
   "execution_count": null,
   "metadata": {
    "collapsed": true
   },
   "outputs": [],
   "source": []
  },
  {
   "cell_type": "code",
   "execution_count": 83,
   "metadata": {
    "collapsed": false
   },
   "outputs": [
    {
     "data": {
      "text/plain": [
       "'hello no king pro'"
      ]
     },
     "execution_count": 83,
     "metadata": {},
     "output_type": "execute_result"
    }
   ],
   "source": [
    "class Word(object):\n",
    "    def __init__(self,text):\n",
    "        self.text = text\n",
    "        \n",
    "    def __eq__(self,text2):\n",
    "        return self.text.upper() == text2.text.upper()\n",
    "    \n",
    "    def __len__(self):\n",
    "        return len(self.text)\n",
    "    \n",
    "    def __repr__(self):\n",
    "        return self.text\n",
    "    \n",
    "    def __add__(self,text2):\n",
    "        return self.text + ' ' + text2.text\n",
    "        \n",
    "\n",
    "w1 = Word('hello no')\n",
    "w2 = Word('king pro')\n",
    "\n",
    "w3 = w1 + w2\n",
    "\n",
    "w3"
   ]
  },
  {
   "cell_type": "code",
   "execution_count": 88,
   "metadata": {
    "collapsed": true
   },
   "outputs": [],
   "source": [
    "class Word(object):\n",
    "    def __init__(self,text):\n",
    "        self.text = text\n",
    "        \n",
    "    def __len__(self):\n",
    "        return len(self.text)\n",
    "    \n",
    "    def __repr__(self):\n",
    "        return self.text\n",
    "    \n",
    "    def __getitem__(self,key):\n",
    "        return self.text[key]\n"
   ]
  },
  {
   "cell_type": "code",
   "execution_count": 89,
   "metadata": {
    "collapsed": false
   },
   "outputs": [
    {
     "data": {
      "text/plain": [
       "[aaron, hb, Akronhaha, Bob]"
      ]
     },
     "execution_count": 89,
     "metadata": {},
     "output_type": "execute_result"
    }
   ],
   "source": [
    "w1 = Word('aaron')\n",
    "w2 = Word('Akronhaha')\n",
    "w3 = Word('Bob')\n",
    "w4 = Word('hb')\n",
    "\n",
    "words = [w1, w2, w3, w4]\n",
    "\n",
    "sorted(words, key = lambda x : len(x))\n",
    "sorted(words, key = lambda x : x[1])"
   ]
  },
  {
   "cell_type": "code",
   "execution_count": null,
   "metadata": {
    "collapsed": true
   },
   "outputs": [],
   "source": []
  },
  {
   "cell_type": "code",
   "execution_count": 99,
   "metadata": {
    "collapsed": true
   },
   "outputs": [],
   "source": [
    "class ComplexNumber(object):\n",
    "    \n",
    "    def __init__(self, num, img):\n",
    "        self.num = num\n",
    "        self.img = img\n",
    "    \n",
    "    def __repr__(self):\n",
    "        return \"{} + {}j\".format(self.num, self.img)\n",
    "    \n",
    "    def __add__(self, nn2):\n",
    "        return ComplexNumber(self.num + nn2.num, self.img + nn2.img)"
   ]
  },
  {
   "cell_type": "code",
   "execution_count": 101,
   "metadata": {
    "collapsed": false
   },
   "outputs": [
    {
     "ename": "TypeError",
     "evalue": "__add__() takes exactly 3 arguments (2 given)",
     "output_type": "error",
     "traceback": [
      "\u001b[0;31m---------------------------------------------------------------------------\u001b[0m",
      "\u001b[0;31mTypeError\u001b[0m                                 Traceback (most recent call last)",
      "\u001b[0;32m<ipython-input-101-ba7c18e5ffa8>\u001b[0m in \u001b[0;36m<module>\u001b[0;34m()\u001b[0m\n\u001b[1;32m      1\u001b[0m \u001b[0mc1\u001b[0m \u001b[1;33m=\u001b[0m \u001b[0mComplexNumber\u001b[0m\u001b[1;33m(\u001b[0m\u001b[1;36m2\u001b[0m\u001b[1;33m,\u001b[0m\u001b[1;36m6\u001b[0m\u001b[1;33m)\u001b[0m\u001b[1;33m\u001b[0m\u001b[0m\n\u001b[1;32m      2\u001b[0m \u001b[0mc2\u001b[0m \u001b[1;33m=\u001b[0m \u001b[0mComplexNumber\u001b[0m\u001b[1;33m(\u001b[0m\u001b[1;36m5\u001b[0m\u001b[1;33m,\u001b[0m\u001b[1;36m7\u001b[0m\u001b[1;33m)\u001b[0m\u001b[1;33m\u001b[0m\u001b[0m\n\u001b[0;32m----> 3\u001b[0;31m \u001b[0mc1\u001b[0m \u001b[1;33m+\u001b[0m \u001b[0mc2\u001b[0m\u001b[1;33m\u001b[0m\u001b[0m\n\u001b[0m",
      "\u001b[0;31mTypeError\u001b[0m: __add__() takes exactly 3 arguments (2 given)"
     ]
    }
   ],
   "source": [
    "c1 = ComplexNumber(2,6)\n",
    "c2 = ComplexNumber(5,7)\n",
    "c1 + c2"
   ]
  },
  {
   "cell_type": "code",
   "execution_count": null,
   "metadata": {
    "collapsed": true
   },
   "outputs": [],
   "source": []
  }
 ],
 "metadata": {
  "kernelspec": {
   "display_name": "Python 2",
   "language": "python",
   "name": "python2"
  },
  "language_info": {
   "codemirror_mode": {
    "name": "ipython",
    "version": 2
   },
   "file_extension": ".py",
   "mimetype": "text/x-python",
   "name": "python",
   "nbconvert_exporter": "python",
   "pygments_lexer": "ipython2",
   "version": "2.7.13"
  }
 },
 "nbformat": 4,
 "nbformat_minor": 2
}
