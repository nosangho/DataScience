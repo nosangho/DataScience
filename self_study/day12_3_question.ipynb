{
 "cells": [
  {
   "cell_type": "code",
   "execution_count": 1,
   "metadata": {
    "collapsed": true
   },
   "outputs": [],
   "source": [
    "import requests\n",
    "import re\n",
    "from bs4 import BeautifulSoup"
   ]
  },
  {
   "cell_type": "code",
   "execution_count": 12,
   "metadata": {
    "collapsed": false
   },
   "outputs": [
    {
     "name": "stdout",
     "output_type": "stream",
     "text": [
      "<Response [200]>\n"
     ]
    }
   ],
   "source": [
    "url = ('http://www.cine21.com/rank/person/content')\n",
    "\n",
    "data = {\n",
    "    'section' : 'actor',\n",
    "    'perior_start' : '2016-12',\n",
    "    'gender' : 'all',\n",
    "    'page' : '1'\n",
    "}\n",
    "\n",
    "res = requests.post(url, data = data)\n",
    "dom = BeautifulSoup(res.text)\n",
    "\n",
    "name = dom.sel\n",
    "\n",
    "print res"
   ]
  },
  {
   "cell_type": "code",
   "execution_count": 13,
   "metadata": {
    "collapsed": false
   },
   "outputs": [
    {
     "name": "stdout",
     "output_type": "stream",
     "text": [
      "UTF-8\n"
     ]
    }
   ],
   "source": [
    "import requests\n",
    "import re\n",
    "from bs4 import BeautifulSoup\n",
    "\n",
    "base_url = 'http://www.cine21.com'\n",
    "cine_url = '{}/rank/person/content'.format(base_url)\n",
    "\n",
    "data = {}\n",
    "for i in range(1,10):\n",
    "    data['section'] = 'actor'                         # page를 변경해도 url변경이 없당\n",
    "    data['period_start'] = '2016-12'\n",
    "    data['gender'] = 'all'\n",
    "    data['page'] = i\n",
    "\n",
    "res = requests.post(cine_url, data = data)\n",
    "print res.encoding\n",
    "\n",
    "soup = BeautifulSoup(res.text)\n",
    "\n",
    "names = soup.find_all('div', attrs = {'class' : 'name'})"
   ]
  },
  {
   "cell_type": "code",
   "execution_count": 39,
   "metadata": {
    "collapsed": false
   },
   "outputs": [
    {
     "name": "stdout",
     "output_type": "stream",
     "text": [
      "[<p dmcf-pid=\"nZsnC9JECG\" dmcf-ptype=\"general\">(\\uc138\\uc885=\\uc5f0\\ud569\\ub274\\uc2a4) \\uc774\\ub300\\ud76c \\uae30\\uc790 = '\\ub77c\\uba74\\uc5d0 \\uae40\\ubc25 \\uba39\\ub290\\ub2c8 \\ub3c8\\uac00\\uc2a4\\ub098 \\uc81c\\uc721 \\ub36e\\ubc25 \\uba39\\uace0 \\ub9d0\\uc9c0.'</p>, <p class=\"link_figure\"><img alt=\"[\\uc5f0\\ud569\\ub274\\uc2a4 \\uc790\\ub8cc\\uc0ac\\uc9c4]\" class=\"thumb_g\" dmcf-mid=\"n4XXyZgfg3\" dmcf-mtype=\"image\" height=\"356\" src=\"http://img4.daumcdn.net/thumb/R658x0.q70/?fname=http://t1.daumcdn.net/news/201702/04/yonhap/20170204100201935avlh.jpg\" width=\"500\"/></p>, <p dmcf-pid=\"nbm91k9mj5\" dmcf-ptype=\"general\">\\uc9c1\\uc7a5\\uc778 \\uc774\\uc815\\ud638(35)\\uc528\\ub294 \\ucd5c\\uadfc \\uc800\\ub141 \\uc2dd\\uc0ac \\uc804 \\ubc30\\uac00 \\ucd9c\\ucd9c\\ud574 \\ubd84\\uc2dd\\uc9d1\\uc5d0 \\ucc3e\\uc558\\ub2e4\\uac00 \\uba54\\ub274\\ud310\\uc744 \\ubcf4\\uace0 \\uae5c\\uc9dd \\ub180\\ub790\\ub2e4.</p>, <p dmcf-pid=\"nlk72C7h43\" dmcf-ptype=\"general\">\\uac12\\uc2f8\\uc9c0\\ub9cc \\ub9cc\\uc871\\uac10\\uc774 \\ud070 \\uae40\\ubc25 \\ud55c \\uc904\\uacfc \\ub77c\\uba74 \\ud55c \\uc0ac\\ubc1c\\ub85c \\uc694\\uae30\\ud560 \\uc0dd\\uac01\\uc774\\uc5c8\\ub2e4. \\uae40\\ubc25 \\ud55c \\ub369\\uc774\\ub97c \\uc785\\uc5d0 \\ub123\\uace0 \\uace0\\uc2ac\\uace0\\uc2ac\\ud55c \\uba74\\ubc1c\\uc744 \\ud761\\uc785\\ud55c \\ud6c4, \\uc5bc\\ud070\\ud55c \\uad6d\\ubb3c\\uc744 \\ud55c \\ubaa8\\uae08 \\ud06c\\uac8c \\ub4e4\\uc774\\ud0a4\\ub824\\ub358 \\uc18c\\ubc15\\ud55c \\uae30\\ub300\\ub294 \\uc640\\uc7a5\\ucc3d \\ubb34\\ub108\\uc838 \\ub0b4\\ub838\\ub2e4.</p>, <p dmcf-pid=\"n8BA93XMxw\" dmcf-ptype=\"general\">\\uae30\\ubcf8 \\uae40\\ubc25\\uc774 \\ud55c \\uc904\\uc5d0 2\\ucc9c500\\uc6d0, \\ub77c\\uba74 \\ud55c \\uadf8\\ub987\\uc774 4\\ucc9c\\uc6d0\\uc73c\\ub85c \\uaed1\\ucda9 \\uc624\\ub978 \\uac83\\uc774\\ub2e4.</p>, <p dmcf-pid=\"nlqQXXz3Jf\" dmcf-ptype=\"general\">\\uc774\\uc528\\ub294 \"\\uc774\\uc81c\\ub294 \\ub77c\\uba74\\uc5d0 \\uae40\\ubc25\\uc744 \\uacc1\\ub4e4\\uc5ec \\uba39\\uae30\\uc5d0\\ub3c4 \\uac00\\uaca9\\uc774 \\ub9cc\\ub9cc\\uce58 \\uc54a\\uc544 \\ucc28\\ub77c\\ub9ac \\uc81c\\ub300\\ub85c \\ub41c \\uc2dd\\uc0ac\\ub97c \\ud558\\ub294 \\uac8c \\ub354 \\uc2f8\\ub2e4\"\\uba70 \\uc501\\uc4f8\\ud574\\ud588\\ub2e4.</p>, <p dmcf-pid=\"nriD1ELhnG\" dmcf-ptype=\"general\">\\uc18d \\uae4a\\uc740 \\uacf3\\uae4c\\uc9c0 \\ub530\\ub73b\\ud558\\uac8c \\ub370\\uc6cc\\uc8fc\\ub294 \\ub77c\\uba74, \\uba39\\uc74c\\uc9c1\\uc2a4\\ub7ec\\uc6b4 \\uac16\\uc740 \\uc7ac\\ub8cc\\ub97c \\ud488\\uc740 \\uae40\\ubc25\\uc740 \\uc11c\\ubbfc\\ub4e4\\uc774 \\uac00\\ubccd\\uac8c \\ud55c \\ub07c\\ub97c \\ub54c\\uc6b0\\uace0\\ub294 \\ud558\\ub294 \\ubd84\\uc2dd\\uc9d1 \\ub2e8\\uc9dd \\uba54\\ub274\\ub2e4. \\ud558\\uc9c0\\ub9cc \\uac00\\uaca9 \\uc0c1\\uc2b9\\uc774 \\uc2ec\\uc0c1\\uce58 \\uc54a\\ub2e4.</p>, <p dmcf-pid=\"nQwJQC7uxb\" dmcf-ptype=\"general\">4\\uc77c \\ud1b5\\uacc4\\uccad\\uc5d0 \\ub530\\ub974\\uba74 \\uc9c0\\ub09c\\ub2ec \\uae40\\ubc25 \\uac00\\uaca9\\uc740 \\uc804\\ub144 \\ub3d9\\uc6d4\\ubcf4\\ub2e4 7.6% \\uc62c\\ub77c \\uc678\\uc2dd \\ud488\\ubaa9 \\uc911 \\ucd5c\\uace0 \\uc0c1\\uc2b9\\ub960\\uc744 \\uae30\\ub85d\\ud588\\ub2e4. \\ub77c\\uba74\\ub3c4 4.5% \\uc62c\\ub77c \\uc0c1\\uc2b9\\ud3ed\\uc774 \\ucef8\\ub2e4.</p>, <p dmcf-pid=\"nCiuvQ2lDq\" dmcf-ptype=\"general\">\\uc804\\uccb4 \\uc18c\\ube44\\uc790\\ubb3c\\uac00 \\uc0c1\\uc2b9\\ub960 2.0%\\ub97c \\ud6e8\\uc52c \\ucd08\\uacfc\\ud55c \\uc218\\uce58\\ub2e4.</p>, <p dmcf-pid=\"nSWUn2YOC8\" dmcf-ptype=\"general\">\\ub2e4\\ub978 \\uc678\\uc2dd \\ud488\\ubaa9\\uc758 \\uc0c1\\uc2b9\\ub960\\ub3c4 \\ub0ae\\uc9c0 \\uc54a\\uc558\\ub2e4. 1\\ub144 \\uc804\\ubcf4\\ub2e4 \\ubcf6\\uc74c\\ubc25\\uc740 3.4%, \\uac08\\ube44\\ud0d5\\uc740 4.2%, \\ubd88\\uace0\\uae30\\ub294 3.2%, \\uc9ec\\ubf55\\uc740 3.1%, \\uc9dc\\uc7a5\\uba74\\uc740 2.5% \\uc62c\\ub77c \\uc11c\\ubbfc\\ub4e4\\uc758 \\uc9c0\\uac11\\uc744 \\uac00\\ubccd\\uac8c \\ud588\\ub2e4.</p>, <p dmcf-pid=\"nxbXE1Lbc9\" dmcf-ptype=\"general\">\\uc774\\ub7ec\\ud55c \\uc0c1\\uc2b9\\uc138\\ub294 \\uc870\\ub958\\uc778\\ud50c\\ub8e8\\uc5d4\\uc790(AI)\\ub85c \\uc8fc\\uc694 \\uc678\\uc2dd \\uc7ac\\ub8cc\\uc778 \\uacc4\\ub780 \\uac00\\uaca9\\uc774 \\ud3ed\\ub4f1\\ud558\\ub294 \\ub4f1 \\ub18d\\xb7\\ucd95\\xb7\\uc218\\uc0b0\\ubb3c \\uac00\\uaca9\\uc774 \\ud06c\\uac8c \\uc62c\\ub790\\uae30 \\ub54c\\ubb38\\uc73c\\ub85c \\ubd84\\uc11d\\ub41c\\ub2e4. \\uc7ac\\ub8cc\\uc758 \\uac00\\uaca9 \\uc0c1\\uc2b9\\ubd84\\uc774 \\ubc18\\uc601\\ub41c \\uac83\\uc774\\ub2e4.</p>, <p dmcf-pid=\"nmSQEtMrBf\" dmcf-ptype=\"general\">\\uc9c0\\ub09c\\ub2ec \\uacc4\\ub780 \\uac00\\uaca9\\uc740 \\uc804\\ub144\\ub3d9\\uc6d4\\ub300\\ube44 \\ubb34\\ub824 61.9% \\ub6f0\\uc5c8\\ub2e4. \\ub18d\\xb7\\ucd95\\xb7\\uc218\\uc0b0\\ubb3c \\uc804\\uccb4\\ub85c \\ubd24\\uc744 \\ub54c\\ub3c4 1\\ub144 \\uc804\\ubcf4\\ub2e4 8.5% \\uac00\\uaca9\\uc774 \\uc0c1\\uc2b9\\ud588\\ub2e4.</p>, <p dmcf-pid=\"nAk9QolnWM\" dmcf-ptype=\"general\">\\ud1b5\\uacc4\\uccad \\ubb3c\\uac00\\ub3d9\\ud5a5\\uacfc \\uc6b0\\uc601\\uc81c \\uacfc\\uc7a5\\uc740 \"\\uae40\\ubc25\\uc758 \\uc8fc\\uc694 \\uc7ac\\ub8cc\\uc778 \\uacc4\\ub780\\uc758 \\uac00\\uaca9\\uc774 \\ud06c\\uac8c \\uc624\\ub974\\ub294 \\ub4f1 \\uc7ac\\ub8cc\\ube44\\uac00 \\ub192\\uac8c \\ub098\\ud0c0\\ub098 \\ub2e4\\ub978 \\ud488\\ubaa9\\uc5d0 \\ube44\\ud574 \\uac00\\uaca9 \\uc0c1\\uc2b9\\ub960\\uc774 \\ub192\\uc558\\ub2e4\"\\uace0 \\ubd84\\uc11d\\ud588\\ub2e4.</p>, <p dmcf-pid=\"nPTUq1ZSrz\" dmcf-ptype=\"general\">2vs2@yna.co.kr</p>]\n",
      "<p dmcf-pid=\"nZsnC9JECG\" dmcf-ptype=\"general\">(세종=연합뉴스) 이대희 기자 = '라면에 김밥 먹느니 돈가스나 제육 덮밥 먹고 말지.'</p>\n",
      "<p class=\"link_figure\"><img alt=\"[연합뉴스 자료사진]\" class=\"thumb_g\" dmcf-mid=\"n4XXyZgfg3\" dmcf-mtype=\"image\" height=\"356\" src=\"http://img4.daumcdn.net/thumb/R658x0.q70/?fname=http://t1.daumcdn.net/news/201702/04/yonhap/20170204100201935avlh.jpg\" width=\"500\"/></p>\n",
      "<p dmcf-pid=\"nbm91k9mj5\" dmcf-ptype=\"general\">직장인 이정호(35)씨는 최근 저녁 식사 전 배가 출출해 분식집에 찾았다가 메뉴판을 보고 깜짝 놀랐다.</p>\n",
      "<p dmcf-pid=\"nlk72C7h43\" dmcf-ptype=\"general\">값싸지만 만족감이 큰 김밥 한 줄과 라면 한 사발로 요기할 생각이었다. 김밥 한 덩이를 입에 넣고 고슬고슬한 면발을 흡입한 후, 얼큰한 국물을 한 모금 크게 들이키려던 소박한 기대는 와장창 무너져 내렸다.</p>\n",
      "<p dmcf-pid=\"n8BA93XMxw\" dmcf-ptype=\"general\">기본 김밥이 한 줄에 2천500원, 라면 한 그릇이 4천원으로 껑충 오른 것이다.</p>\n",
      "<p dmcf-pid=\"nlqQXXz3Jf\" dmcf-ptype=\"general\">이씨는 \"이제는 라면에 김밥을 곁들여 먹기에도 가격이 만만치 않아 차라리 제대로 된 식사를 하는 게 더 싸다\"며 씁쓸해했다.</p>\n",
      "<p dmcf-pid=\"nriD1ELhnG\" dmcf-ptype=\"general\">속 깊은 곳까지 따뜻하게 데워주는 라면, 먹음직스러운 갖은 재료를 품은 김밥은 서민들이 가볍게 한 끼를 때우고는 하는 분식집 단짝 메뉴다. 하지만 가격 상승이 심상치 않다.</p>\n",
      "<p dmcf-pid=\"nQwJQC7uxb\" dmcf-ptype=\"general\">4일 통계청에 따르면 지난달 김밥 가격은 전년 동월보다 7.6% 올라 외식 품목 중 최고 상승률을 기록했다. 라면도 4.5% 올라 상승폭이 컸다.</p>\n",
      "<p dmcf-pid=\"nCiuvQ2lDq\" dmcf-ptype=\"general\">전체 소비자물가 상승률 2.0%를 훨씬 초과한 수치다.</p>\n",
      "<p dmcf-pid=\"nSWUn2YOC8\" dmcf-ptype=\"general\">다른 외식 품목의 상승률도 낮지 않았다. 1년 전보다 볶음밥은 3.4%, 갈비탕은 4.2%, 불고기는 3.2%, 짬뽕은 3.1%, 짜장면은 2.5% 올라 서민들의 지갑을 가볍게 했다.</p>\n",
      "<p dmcf-pid=\"nxbXE1Lbc9\" dmcf-ptype=\"general\">이러한 상승세는 조류인플루엔자(AI)로 주요 외식 재료인 계란 가격이 폭등하는 등 농·축·수산물 가격이 크게 올랐기 때문으로 분석된다. 재료의 가격 상승분이 반영된 것이다.</p>\n",
      "<p dmcf-pid=\"nmSQEtMrBf\" dmcf-ptype=\"general\">지난달 계란 가격은 전년동월대비 무려 61.9% 뛰었다. 농·축·수산물 전체로 봤을 때도 1년 전보다 8.5% 가격이 상승했다.</p>\n",
      "<p dmcf-pid=\"nAk9QolnWM\" dmcf-ptype=\"general\">통계청 물가동향과 우영제 과장은 \"김밥의 주요 재료인 계란의 가격이 크게 오르는 등 재료비가 높게 나타나 다른 품목에 비해 가격 상승률이 높았다\"고 분석했다.</p>\n",
      "<p dmcf-pid=\"nPTUq1ZSrz\" dmcf-ptype=\"general\">2vs2@yna.co.kr</p>\n"
     ]
    }
   ],
   "source": [
    "import requests\n",
    "import re\n",
    "from bs4 import BeautifulSoup\n",
    "\n",
    "url = 'http://v.media.daum.net/v/20170204100202326'\n",
    "\n",
    "res = requests.get(url)\n",
    "dom = BeautifulSoup(res.content)\n",
    "\n",
    "text = dom.find('div', attrs = {'class':'article_view'})\n",
    "type(text)\n",
    "\n",
    "print text.find_all('p')            # 아래와 결과 차이가 나는 이유?\n",
    "\n",
    "for p in text.find_all('p'):\n",
    "    print p\n",
    "    \n",
    "#for p in text.find_all('p'):        # 여기서는 왜 get_text라고 써야하나\n",
    "#    print p.get_text()"
   ]
  },
  {
   "cell_type": "code",
   "execution_count": 43,
   "metadata": {
    "collapsed": false
   },
   "outputs": [
    {
     "ename": "AttributeError",
     "evalue": "'ResultSet' object has no attribute 'text'",
     "output_type": "error",
     "traceback": [
      "\u001b[0;31m---------------------------------------------------------------------------\u001b[0m",
      "\u001b[0;31mAttributeError\u001b[0m                            Traceback (most recent call last)",
      "\u001b[0;32m<ipython-input-43-fb01cae929cf>\u001b[0m in \u001b[0;36m<module>\u001b[0;34m()\u001b[0m\n\u001b[1;32m     16\u001b[0m \u001b[1;33m\u001b[0m\u001b[0m\n\u001b[1;32m     17\u001b[0m \u001b[1;33m\u001b[0m\u001b[0m\n\u001b[0;32m---> 18\u001b[0;31m \u001b[1;32mprint\u001b[0m \u001b[0mget_news_title2\u001b[0m\u001b[1;33m(\u001b[0m\u001b[1;34m'http://media.daum.net/digital/newsview?newsid=20160929044237479#alex-area'\u001b[0m\u001b[1;33m)\u001b[0m\u001b[1;33m\u001b[0m\u001b[0m\n\u001b[0m",
      "\u001b[0;32m<ipython-input-43-fb01cae929cf>\u001b[0m in \u001b[0;36mget_news_title2\u001b[0;34m(url)\u001b[0m\n\u001b[1;32m     13\u001b[0m     \u001b[1;31m# soub.find('h3')\u001b[0m\u001b[1;33m\u001b[0m\u001b[1;33m\u001b[0m\u001b[0m\n\u001b[1;32m     14\u001b[0m \u001b[1;33m\u001b[0m\u001b[0m\n\u001b[0;32m---> 15\u001b[0;31m     \u001b[1;32mreturn\u001b[0m \u001b[0mh3\u001b[0m\u001b[1;33m.\u001b[0m\u001b[0mtext\u001b[0m\u001b[1;33m\u001b[0m\u001b[0m\n\u001b[0m\u001b[1;32m     16\u001b[0m \u001b[1;33m\u001b[0m\u001b[0m\n\u001b[1;32m     17\u001b[0m \u001b[1;33m\u001b[0m\u001b[0m\n",
      "\u001b[0;31mAttributeError\u001b[0m: 'ResultSet' object has no attribute 'text'"
     ]
    }
   ],
   "source": [
    "def title_matcher(tag):\n",
    "    return tag.name == 'h3'\n",
    "\n",
    "def get_news_title2(url):\n",
    "    response = requests.get(url)\n",
    "    content = response.text\n",
    "    \n",
    "    soup = BeautifulSoup(content)\n",
    "    \n",
    "    h3 = soup.find_all(lambda x : x.name == 'h3') # x는 모든 테그 / 테그를 각각 검사한다. \n",
    "    soup.find('h3', attrs = {'class' : 'tit_subject'})\n",
    "    # h3 = soup.find(title_matcher) 위아래 모두 동일한 코드\n",
    "    # soub.find('h3')\n",
    "    \n",
    "    return h3.text\n",
    "\n",
    "\n",
    "print get_news_title2('http://media.daum.net/digital/newsview?newsid=20160929044237479#alex-area')"
   ]
  },
  {
   "cell_type": "code",
   "execution_count": 47,
   "metadata": {
    "collapsed": false
   },
   "outputs": [
    {
     "name": "stdout",
     "output_type": "stream",
     "text": [
      "한끼 가볍게 때운다? 김밥·라면 외식물가 급등에 서민 부담\n"
     ]
    }
   ],
   "source": [
    "def title_tag(tag):\n",
    "    return tag.name == 'h3'\n",
    "\n",
    "def get_news_title2(url):\n",
    "    res = requests.get(url)\n",
    "    dom = BeautifulSoup(res.text,\"html.parser\")\n",
    "    \n",
    "    #h3 = dom.find(lambda x:x.name == 'h3')\n",
    "    #title = dom.find('h3',attrs = {'class':'tit_view'})\n",
    "    \n",
    "    h3 = dom.find(title_tag)\n",
    "    soup.find('h3')\n",
    "    \n",
    "    \n",
    "    return h3.get_text()\n",
    "\n",
    "print get_news_title2(\"http://v.media.daum.net/v/20170204100202326\")    "
   ]
  },
  {
   "cell_type": "code",
   "execution_count": 51,
   "metadata": {
    "collapsed": false
   },
   "outputs": [
    {
     "name": "stdout",
     "output_type": "stream",
     "text": [
      "이정현 “미르재단 800억원이 문제?…세월호는 900억도 금방 모금했다” - 경향신문\n"
     ]
    }
   ],
   "source": [
    "import requests\n",
    "from bs4 import BeautifulSoup\n",
    "\n",
    "res = requests.get('http://news.khan.co.kr/kh_news/khan_art_view.html?artid=201609281510001&code=910100&nv=stand&utm_source=naver&utm_medium=newsstand&utm_campaign=top1')\n",
    "soup = BeautifulSoup(res.content)\n",
    "title = soup.select('title')[0] # select문법은 다 가져오기 때문에(리스트로 반환) idex를 기제 = soup.find('title')\n",
    "print title.get_text()"
   ]
  },
  {
   "cell_type": "code",
   "execution_count": null,
   "metadata": {
    "collapsed": true
   },
   "outputs": [],
   "source": []
  }
 ],
 "metadata": {
  "kernelspec": {
   "display_name": "Python 2",
   "language": "python",
   "name": "python2"
  },
  "language_info": {
   "codemirror_mode": {
    "name": "ipython",
    "version": 2
   },
   "file_extension": ".py",
   "mimetype": "text/x-python",
   "name": "python",
   "nbconvert_exporter": "python",
   "pygments_lexer": "ipython2",
   "version": "2.7.13"
  }
 },
 "nbformat": 4,
 "nbformat_minor": 2
}
