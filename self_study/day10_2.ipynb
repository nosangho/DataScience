{
 "cells": [
  {
   "cell_type": "code",
   "execution_count": 2,
   "metadata": {
    "collapsed": false
   },
   "outputs": [],
   "source": [
    "import numpy as np\n",
    "import pandas as pd"
   ]
  },
  {
   "cell_type": "code",
   "execution_count": 3,
   "metadata": {
    "collapsed": true
   },
   "outputs": [],
   "source": [
    "data = np.random.randn(2,3)"
   ]
  },
  {
   "cell_type": "code",
   "execution_count": 4,
   "metadata": {
    "collapsed": false
   },
   "outputs": [
    {
     "name": "stdout",
     "output_type": "stream",
     "text": [
      "[[-1.50172173 -0.16704605  0.62302329]\n",
      " [-1.43264369  0.55351799  0.52655533]]\n"
     ]
    }
   ],
   "source": [
    "print data"
   ]
  },
  {
   "cell_type": "code",
   "execution_count": 5,
   "metadata": {
    "collapsed": false
   },
   "outputs": [
    {
     "name": "stdout",
     "output_type": "stream",
     "text": [
      "[[-15.0172173   -1.67046046   6.23023293]\n",
      " [-14.32643686   5.53517991   5.26555331]]\n"
     ]
    }
   ],
   "source": [
    "print data *10"
   ]
  },
  {
   "cell_type": "code",
   "execution_count": 6,
   "metadata": {
    "collapsed": false
   },
   "outputs": [
    {
     "data": {
      "text/plain": [
       "dtype('float64')"
      ]
     },
     "execution_count": 6,
     "metadata": {},
     "output_type": "execute_result"
    }
   ],
   "source": [
    "data.dtype"
   ]
  },
  {
   "cell_type": "code",
   "execution_count": 7,
   "metadata": {
    "collapsed": false
   },
   "outputs": [
    {
     "data": {
      "text/plain": [
       "(2, 3)"
      ]
     },
     "execution_count": 7,
     "metadata": {},
     "output_type": "execute_result"
    }
   ],
   "source": [
    "data.shape"
   ]
  },
  {
   "cell_type": "code",
   "execution_count": 8,
   "metadata": {
    "collapsed": false
   },
   "outputs": [
    {
     "ename": "TypeError",
     "evalue": "data type not understood",
     "output_type": "error",
     "traceback": [
      "\u001b[0;31m---------------------------------------------------------------------------\u001b[0m",
      "\u001b[0;31mTypeError\u001b[0m                                 Traceback (most recent call last)",
      "\u001b[0;32m<ipython-input-8-8f9f38c18b63>\u001b[0m in \u001b[0;36m<module>\u001b[0;34m()\u001b[0m\n\u001b[0;32m----> 1\u001b[0;31m \u001b[0mnp\u001b[0m\u001b[1;33m.\u001b[0m\u001b[0mzeros\u001b[0m\u001b[1;33m(\u001b[0m\u001b[1;36m2\u001b[0m\u001b[1;33m,\u001b[0m\u001b[1;36m3\u001b[0m\u001b[1;33m)\u001b[0m\u001b[1;33m\u001b[0m\u001b[0m\n\u001b[0m",
      "\u001b[0;31mTypeError\u001b[0m: data type not understood"
     ]
    }
   ],
   "source": [
    "np.zeros(2,3)"
   ]
  },
  {
   "cell_type": "code",
   "execution_count": 9,
   "metadata": {
    "collapsed": false
   },
   "outputs": [
    {
     "data": {
      "text/plain": [
       "array([[ 0.,  0.,  0.],\n",
       "       [ 0.,  0.,  0.]])"
      ]
     },
     "execution_count": 9,
     "metadata": {},
     "output_type": "execute_result"
    }
   ],
   "source": [
    "np.zeros((2,3))"
   ]
  },
  {
   "cell_type": "code",
   "execution_count": 10,
   "metadata": {
    "collapsed": false
   },
   "outputs": [
    {
     "data": {
      "text/plain": [
       "array([[ 1.,  1.,  1.],\n",
       "       [ 1.,  1.,  1.]])"
      ]
     },
     "execution_count": 10,
     "metadata": {},
     "output_type": "execute_result"
    }
   ],
   "source": [
    "np.ones((2,3))"
   ]
  },
  {
   "cell_type": "code",
   "execution_count": 11,
   "metadata": {
    "collapsed": false
   },
   "outputs": [
    {
     "data": {
      "text/plain": [
       "array([ 1,  2,  3,  4,  5,  6,  7,  8,  9, 10])"
      ]
     },
     "execution_count": 11,
     "metadata": {},
     "output_type": "execute_result"
    }
   ],
   "source": [
    "np.arange(1,11)"
   ]
  },
  {
   "cell_type": "code",
   "execution_count": 12,
   "metadata": {
    "collapsed": true
   },
   "outputs": [],
   "source": [
    "a = np.random.randn(2,3)"
   ]
  },
  {
   "cell_type": "code",
   "execution_count": 13,
   "metadata": {
    "collapsed": false
   },
   "outputs": [
    {
     "name": "stdout",
     "output_type": "stream",
     "text": [
      "[[-1.85272253 -1.18923821 -0.34216738]\n",
      " [ 0.44001196  0.82586833 -3.35083055]]\n"
     ]
    }
   ],
   "source": [
    "print a *2"
   ]
  },
  {
   "cell_type": "code",
   "execution_count": 14,
   "metadata": {
    "collapsed": false
   },
   "outputs": [
    {
     "name": "stdout",
     "output_type": "stream",
     "text": [
      "[[-0.46318063 -0.29730955 -0.08554184]\n",
      " [ 0.11000299  0.20646708 -0.83770764]]\n"
     ]
    }
   ],
   "source": [
    "print a /2"
   ]
  },
  {
   "cell_type": "code",
   "execution_count": 15,
   "metadata": {
    "collapsed": false
   },
   "outputs": [
    {
     "name": "stdout",
     "output_type": "stream",
     "text": [
      "[[ 0.8581452   0.35357188  0.02926963]\n",
      " [ 0.04840263  0.17051462  2.80701635]]\n"
     ]
    }
   ],
   "source": [
    "print a**2"
   ]
  },
  {
   "cell_type": "code",
   "execution_count": 16,
   "metadata": {
    "collapsed": false
   },
   "outputs": [
    {
     "name": "stdout",
     "output_type": "stream",
     "text": [
      "[[ 0  1  2  3  4  5  6  7]\n",
      " [ 8  9 10 11 12 13 14 15]\n",
      " [16 17 18 19 20 21 22 23]\n",
      " [24 25 26 27 28 29 30 31]]\n"
     ]
    }
   ],
   "source": [
    "print np.arange(32).reshape(4,8)"
   ]
  },
  {
   "cell_type": "code",
   "execution_count": 17,
   "metadata": {
    "collapsed": true
   },
   "outputs": [],
   "source": [
    "arr = np.arange(15).reshape(3,5)"
   ]
  },
  {
   "cell_type": "code",
   "execution_count": 18,
   "metadata": {
    "collapsed": false
   },
   "outputs": [
    {
     "name": "stdout",
     "output_type": "stream",
     "text": [
      "[[ 0  1  2  3  4]\n",
      " [ 5  6  7  8  9]\n",
      " [10 11 12 13 14]]\n"
     ]
    }
   ],
   "source": [
    "print arr"
   ]
  },
  {
   "cell_type": "code",
   "execution_count": 19,
   "metadata": {
    "collapsed": false
   },
   "outputs": [
    {
     "name": "stdout",
     "output_type": "stream",
     "text": [
      "[[ 0  5 10]\n",
      " [ 1  6 11]\n",
      " [ 2  7 12]\n",
      " [ 3  8 13]\n",
      " [ 4  9 14]]\n"
     ]
    }
   ],
   "source": [
    "print arr.T"
   ]
  },
  {
   "cell_type": "code",
   "execution_count": 20,
   "metadata": {
    "collapsed": false
   },
   "outputs": [
    {
     "data": {
      "text/plain": [
       "array([[125, 140, 155, 170, 185],\n",
       "       [140, 158, 176, 194, 212],\n",
       "       [155, 176, 197, 218, 239],\n",
       "       [170, 194, 218, 242, 266],\n",
       "       [185, 212, 239, 266, 293]])"
      ]
     },
     "execution_count": 20,
     "metadata": {},
     "output_type": "execute_result"
    }
   ],
   "source": [
    "np.dot(arr.T,arr)"
   ]
  },
  {
   "cell_type": "code",
   "execution_count": 21,
   "metadata": {
    "collapsed": true
   },
   "outputs": [],
   "source": [
    "from math import sqrt"
   ]
  },
  {
   "cell_type": "code",
   "execution_count": 22,
   "metadata": {
    "collapsed": false
   },
   "outputs": [
    {
     "name": "stdout",
     "output_type": "stream",
     "text": [
      "10000 loops, best of 3: 41 µs per loop\n"
     ]
    }
   ],
   "source": [
    "arr = np.arange(10000)\n",
    "%timeit np.sqrt(arr)"
   ]
  },
  {
   "cell_type": "code",
   "execution_count": 23,
   "metadata": {
    "collapsed": true
   },
   "outputs": [],
   "source": [
    "arr1 = np.random.randn(10)\n",
    "arr2 = np.random.randn(10)"
   ]
  },
  {
   "cell_type": "code",
   "execution_count": 27,
   "metadata": {
    "collapsed": false
   },
   "outputs": [
    {
     "name": "stdout",
     "output_type": "stream",
     "text": [
      "[ 1.35019985  1.36487667  0.65006779 -0.93774545 -0.09508943 -0.32410945\n",
      " -0.81259679  0.13642051  0.4927842   0.53250485]\n",
      "[-0.65907234  0.16274002  0.79978717  0.56383989 -1.0421135  -0.24353034\n",
      "  0.25360242  1.73291495  0.63631284  1.6731928 ]\n"
     ]
    },
    {
     "data": {
      "text/plain": [
       "array([ 1.35019985,  1.36487667,  0.79978717,  0.56383989, -0.09508943,\n",
       "       -0.24353034,  0.25360242,  1.73291495,  0.63631284,  1.6731928 ])"
      ]
     },
     "execution_count": 27,
     "metadata": {},
     "output_type": "execute_result"
    }
   ],
   "source": [
    "print arr1\n",
    "print arr2\n",
    "\n",
    "np.maximum(arr1,arr2)"
   ]
  },
  {
   "cell_type": "code",
   "execution_count": 28,
   "metadata": {
    "collapsed": true
   },
   "outputs": [],
   "source": [
    "arr = np.random.randn(4,4)"
   ]
  },
  {
   "cell_type": "code",
   "execution_count": 29,
   "metadata": {
    "collapsed": false
   },
   "outputs": [
    {
     "name": "stdout",
     "output_type": "stream",
     "text": [
      "[[ 1.27388441  0.71888866 -1.54457054 -0.40539353]\n",
      " [ 0.62030421  0.97714079  0.20596213  1.73326118]\n",
      " [-1.34863781 -0.27897771  2.01816126  0.46144593]\n",
      " [-0.96906163 -1.41939894  0.92486212 -0.19930066]]\n"
     ]
    }
   ],
   "source": [
    "print arr"
   ]
  },
  {
   "cell_type": "code",
   "execution_count": 30,
   "metadata": {
    "collapsed": false
   },
   "outputs": [
    {
     "name": "stdout",
     "output_type": "stream",
     "text": [
      "[[ 1  1 -1 -1]\n",
      " [ 1  1  1  1]\n",
      " [-1 -1  1  1]\n",
      " [-1 -1  1 -1]]\n"
     ]
    }
   ],
   "source": [
    "print np.where(arr>0,1,-1)"
   ]
  },
  {
   "cell_type": "code",
   "execution_count": 33,
   "metadata": {
    "collapsed": false
   },
   "outputs": [
    {
     "name": "stdout",
     "output_type": "stream",
     "text": [
      "[[ 1.          0.71888866 -1.54457054 -0.40539353]\n",
      " [ 0.62030421  0.97714079  0.20596213  1.        ]\n",
      " [-1.34863781 -0.27897771  1.          0.46144593]\n",
      " [-0.96906163 -1.41939894  0.92486212 -0.19930066]]\n"
     ]
    }
   ],
   "source": [
    "print np.where(arr>1,1,arr)"
   ]
  },
  {
   "cell_type": "code",
   "execution_count": 34,
   "metadata": {
    "collapsed": true
   },
   "outputs": [],
   "source": [
    "arr = np.random.randn(4,5)"
   ]
  },
  {
   "cell_type": "code",
   "execution_count": 35,
   "metadata": {
    "collapsed": false
   },
   "outputs": [
    {
     "name": "stdout",
     "output_type": "stream",
     "text": [
      "[[ 0.83769395 -0.61123834  0.19893373 -2.00313493 -0.82287076]\n",
      " [ 1.06537965 -0.10773728  0.12310344 -1.68192718  0.87216787]\n",
      " [ 2.08249697  1.82801731 -0.30680714  0.93421022  0.62216381]\n",
      " [-1.66060468  1.31319335  0.27780452  2.07461889  0.59270503]]\n"
     ]
    }
   ],
   "source": [
    "print arr"
   ]
  },
  {
   "cell_type": "code",
   "execution_count": 36,
   "metadata": {
    "collapsed": false
   },
   "outputs": [
    {
     "name": "stdout",
     "output_type": "stream",
     "text": [
      "0.28140842186\n"
     ]
    }
   ],
   "source": [
    "print arr.mean()"
   ]
  },
  {
   "cell_type": "code",
   "execution_count": 37,
   "metadata": {
    "collapsed": false
   },
   "outputs": [
    {
     "name": "stdout",
     "output_type": "stream",
     "text": [
      "0.28140842186\n"
     ]
    }
   ],
   "source": [
    "print np.mean(arr)"
   ]
  },
  {
   "cell_type": "code",
   "execution_count": 39,
   "metadata": {
    "collapsed": false
   },
   "outputs": [
    {
     "name": "stdout",
     "output_type": "stream",
     "text": [
      "5.6281684372\n"
     ]
    }
   ],
   "source": [
    "print arr.sum()"
   ]
  },
  {
   "cell_type": "code",
   "execution_count": 40,
   "metadata": {
    "collapsed": false
   },
   "outputs": [
    {
     "name": "stdout",
     "output_type": "stream",
     "text": [
      "5.6281684372\n"
     ]
    }
   ],
   "source": [
    "print np.sum(arr)"
   ]
  },
  {
   "cell_type": "code",
   "execution_count": 41,
   "metadata": {
    "collapsed": false
   },
   "outputs": [
    {
     "name": "stdout",
     "output_type": "stream",
     "text": [
      "[ 0.58124147  0.60555876  0.07325864 -0.16905825  0.31604148]\n"
     ]
    }
   ],
   "source": [
    "print arr.mean(axis = 0)"
   ]
  },
  {
   "cell_type": "code",
   "execution_count": 42,
   "metadata": {
    "collapsed": false
   },
   "outputs": [
    {
     "name": "stdout",
     "output_type": "stream",
     "text": [
      "[-0.48012327  0.0541973   1.03201624  0.51954342]\n"
     ]
    }
   ],
   "source": [
    "print arr.mean(axis = 1)"
   ]
  },
  {
   "cell_type": "code",
   "execution_count": 44,
   "metadata": {
    "collapsed": false
   },
   "outputs": [
    {
     "name": "stdout",
     "output_type": "stream",
     "text": [
      "[ 2.32496589  2.42223504  0.29303456 -0.676233    1.26416594]\n"
     ]
    }
   ],
   "source": [
    "print arr.sum(axis = 0)"
   ]
  },
  {
   "cell_type": "code",
   "execution_count": 45,
   "metadata": {
    "collapsed": true
   },
   "outputs": [],
   "source": [
    "arr = np.random.randn(8)"
   ]
  },
  {
   "cell_type": "code",
   "execution_count": 46,
   "metadata": {
    "collapsed": false
   },
   "outputs": [
    {
     "name": "stdout",
     "output_type": "stream",
     "text": [
      "[-0.34936137 -1.02899125 -0.88195994 -0.73067055 -0.52042535  1.29530416\n",
      " -1.09606434 -0.07453779]\n"
     ]
    }
   ],
   "source": [
    "print arr"
   ]
  },
  {
   "cell_type": "code",
   "execution_count": 47,
   "metadata": {
    "collapsed": true
   },
   "outputs": [],
   "source": [
    "arr.sort()"
   ]
  },
  {
   "cell_type": "code",
   "execution_count": 48,
   "metadata": {
    "collapsed": false
   },
   "outputs": [
    {
     "name": "stdout",
     "output_type": "stream",
     "text": [
      "[-1.09606434 -1.02899125 -0.88195994 -0.73067055 -0.52042535 -0.34936137\n",
      " -0.07453779  1.29530416]\n"
     ]
    }
   ],
   "source": [
    "print arr"
   ]
  },
  {
   "cell_type": "code",
   "execution_count": 49,
   "metadata": {
    "collapsed": true
   },
   "outputs": [],
   "source": [
    "arr = np.random.randn(3,4)"
   ]
  },
  {
   "cell_type": "code",
   "execution_count": 50,
   "metadata": {
    "collapsed": false
   },
   "outputs": [
    {
     "name": "stdout",
     "output_type": "stream",
     "text": [
      "None\n"
     ]
    }
   ],
   "source": [
    "print arr.sort(0)"
   ]
  },
  {
   "cell_type": "code",
   "execution_count": 51,
   "metadata": {
    "collapsed": false
   },
   "outputs": [
    {
     "name": "stdout",
     "output_type": "stream",
     "text": [
      "[[-1.67222409 -1.10663395 -0.45653219 -1.28756394]\n",
      " [-0.551772    0.43782262  0.81877804 -0.24297131]\n",
      " [ 0.28327176  0.5120123   0.95140047  0.30324671]]\n"
     ]
    }
   ],
   "source": [
    "print arr"
   ]
  },
  {
   "cell_type": "code",
   "execution_count": 52,
   "metadata": {
    "collapsed": true
   },
   "outputs": [],
   "source": [
    "arr.sort(0)"
   ]
  },
  {
   "cell_type": "code",
   "execution_count": 53,
   "metadata": {
    "collapsed": false
   },
   "outputs": [
    {
     "name": "stdout",
     "output_type": "stream",
     "text": [
      "[[-1.67222409 -1.10663395 -0.45653219 -1.28756394]\n",
      " [-0.551772    0.43782262  0.81877804 -0.24297131]\n",
      " [ 0.28327176  0.5120123   0.95140047  0.30324671]]\n"
     ]
    }
   ],
   "source": [
    "print arr"
   ]
  },
  {
   "cell_type": "code",
   "execution_count": 54,
   "metadata": {
    "collapsed": true
   },
   "outputs": [],
   "source": [
    "arr.sort(1)"
   ]
  },
  {
   "cell_type": "code",
   "execution_count": 55,
   "metadata": {
    "collapsed": false
   },
   "outputs": [
    {
     "name": "stdout",
     "output_type": "stream",
     "text": [
      "[[-1.67222409 -1.28756394 -1.10663395 -0.45653219]\n",
      " [-0.551772   -0.24297131  0.43782262  0.81877804]\n",
      " [ 0.28327176  0.30324671  0.5120123   0.95140047]]\n"
     ]
    }
   ],
   "source": [
    "print arr"
   ]
  },
  {
   "cell_type": "code",
   "execution_count": 56,
   "metadata": {
    "collapsed": true
   },
   "outputs": [],
   "source": [
    "arr.sort()"
   ]
  },
  {
   "cell_type": "code",
   "execution_count": 57,
   "metadata": {
    "collapsed": false
   },
   "outputs": [
    {
     "name": "stdout",
     "output_type": "stream",
     "text": [
      "[[-1.67222409 -1.28756394 -1.10663395 -0.45653219]\n",
      " [-0.551772   -0.24297131  0.43782262  0.81877804]\n",
      " [ 0.28327176  0.30324671  0.5120123   0.95140047]]\n"
     ]
    }
   ],
   "source": [
    "print arr"
   ]
  },
  {
   "cell_type": "code",
   "execution_count": 61,
   "metadata": {
    "collapsed": false
   },
   "outputs": [
    {
     "name": "stdout",
     "output_type": "stream",
     "text": [
      "[[ 2.57102015 -0.38039329  0.63571169]\n",
      " [ 0.88945102  0.98163658  1.21979723]\n",
      " [ 1.30061672  1.27872386  0.57394107]]\n",
      "[[ 9.0928716   1.55824848  3.4658548 ]\n",
      " [ 1.55824848  2.74344414  1.68948926]\n",
      " [ 3.4658548   1.68948926  2.22144299]]\n"
     ]
    }
   ],
   "source": [
    "from numpy.linalg import inv, qr\n",
    "\n",
    "X = np.random.randn(3,3)\n",
    "mat = X.T.dot(X)\n",
    "\n",
    "print X\n",
    "print mat"
   ]
  },
  {
   "cell_type": "code",
   "execution_count": 62,
   "metadata": {
    "collapsed": false
   },
   "outputs": [
    {
     "name": "stdout",
     "output_type": "stream",
     "text": [
      "[[ 0.32565554 -0.33704282  0.35561293]\n",
      " [-0.35167639 -0.21205141  0.84019867]\n",
      " [ 0.04555164  1.23622227 -0.93545878]]\n"
     ]
    }
   ],
   "source": [
    "print inv(X)"
   ]
  },
  {
   "cell_type": "code",
   "execution_count": 63,
   "metadata": {
    "collapsed": false
   },
   "outputs": [
    {
     "data": {
      "text/plain": [
       "array([[  1.00000000e+00,  -1.11022302e-16,   0.00000000e+00],\n",
       "       [ -3.46944695e-17,   1.00000000e+00,   0.00000000e+00],\n",
       "       [ -1.70002901e-16,  -1.11022302e-16,   1.00000000e+00]])"
      ]
     },
     "execution_count": 63,
     "metadata": {},
     "output_type": "execute_result"
    }
   ],
   "source": [
    "X.dot(inv(X))"
   ]
  },
  {
   "cell_type": "code",
   "execution_count": 73,
   "metadata": {
    "collapsed": false
   },
   "outputs": [
    {
     "name": "stdout",
     "output_type": "stream",
     "text": [
      "18\n",
      "[1, 2, 3, 2, 3, 2, 3, 4, 5, 6, 7, 6, 7, 8, 9, 8, 7, 8, 9, 8, 7, 6, 5, 4, 3, 4, 3, 4, 3, 2, 3, 2, 3, 4, 5, 6, 5, 6, 7, 8, 9, 8, 9, 10, 9, 8, 9, 10, 11, 12, 11, 10, 11, 12, 11, 12, 13, 12, 11, 12, 11, 10, 9, 10, 11, 10, 11, 10, 11, 12, 13, 14, 13, 14, 15, 14, 15, 16, 15, 16, 17, 18, 17, 16, 17, 18, 17, 18, 19, 20, 19, 18, 17, 16, 17, 16, 17, 16, 17, 18]\n"
     ]
    }
   ],
   "source": [
    "import random\n",
    "\n",
    "pos = 0\n",
    "steps = 100\n",
    "walk = []\n",
    "for step in xrange(steps):\n",
    "    step = 1 if random.randint(0,1) else -1\n",
    "    pos += step\n",
    "    walk.append(pos)\n",
    "    \n",
    "print pos\n",
    "print walk"
   ]
  },
  {
   "cell_type": "code",
   "execution_count": 76,
   "metadata": {
    "collapsed": true
   },
   "outputs": [],
   "source": [
    "steps = 1000\n",
    "ways = np.random.randint(0,2,size = steps)\n",
    "steps = np.where(ways>0,1,-1)\n",
    "walk = steps.cumsum()"
   ]
  },
  {
   "cell_type": "code",
   "execution_count": 77,
   "metadata": {
    "collapsed": false
   },
   "outputs": [
    {
     "name": "stdout",
     "output_type": "stream",
     "text": [
      "[  1   2   1   2   3   4   3   2   3   4   5   6   7   8   7   8   7   8\n",
      "   7   8   7   6   7   6   5   6   7   6   5   6   5   6   7   8   7   8\n",
      "   7   6   5   6   7   6   7   8   7   8   9   8   9  10   9   8   7   6\n",
      "   5   4   5   4   3   4   3   2   1   0  -1  -2  -3  -2  -3  -2  -1  -2\n",
      "  -1  -2  -3  -2  -3  -4  -5  -4  -3  -2  -1  -2  -3  -4  -3  -4  -5  -6\n",
      "  -7  -6  -5  -4  -3  -2  -1   0  -1  -2  -1  -2  -1  -2  -3  -2  -3  -4\n",
      "  -5  -6  -7  -6  -7  -8  -9  -8  -7  -6  -7  -8  -9 -10 -11 -10  -9 -10\n",
      " -11 -12 -11 -10 -11 -10  -9  -8  -7  -6  -5  -6  -5  -4  -3  -2  -3  -4\n",
      "  -5  -6  -7  -6  -5  -6  -5  -4  -3  -2  -1   0  -1   0  -1  -2  -3  -4\n",
      "  -5  -4  -5  -6  -5  -6  -7  -6  -5  -4  -3  -4  -5  -6  -7  -6  -5  -6\n",
      "  -7  -8  -9 -10  -9 -10  -9  -8  -7  -6  -7  -6  -5  -4  -3  -2  -1   0\n",
      "  -1  -2  -3  -4  -3  -4  -3  -2  -1   0   1   0  -1   0  -1  -2  -1   0\n",
      "  -1  -2  -3  -4  -5  -4  -5  -4  -5  -4  -3  -2  -3  -4  -3  -2  -3  -2\n",
      "  -1   0   1   2   3   4   3   4   3   4   3   2   3   2   3   4   5   6\n",
      "   7   6   5   4   3   2   3   2   1   0  -1   0  -1   0  -1   0   1   0\n",
      "  -1  -2  -1  -2  -3  -2  -3  -4  -3  -2  -1   0   1   0   1   2   1   0\n",
      "   1   2   1   2   1   0  -1   0  -1   0  -1   0  -1  -2  -1  -2  -1   0\n",
      "  -1   0  -1  -2  -3  -4  -3  -4  -5  -6  -7  -8  -7  -8  -9 -10  -9 -10\n",
      " -11 -10 -11 -12 -11 -10 -11 -10 -11 -10  -9 -10 -11 -12 -13 -14 -15 -16\n",
      " -15 -16 -15 -14 -13 -14 -15 -16 -15 -14 -13 -12 -13 -14 -15 -16 -15 -16\n",
      " -15 -14 -15 -16 -17 -16 -17 -16 -17 -16 -17 -16 -17 -18 -17 -18 -17 -16\n",
      " -15 -16 -17 -16 -15 -16 -15 -14 -13 -12 -13 -14 -13 -12 -11 -12 -13 -12\n",
      " -11 -10 -11 -12 -13 -14 -13 -12 -13 -12 -13 -14 -13 -12 -13 -12 -13 -12\n",
      " -13 -14 -15 -14 -13 -12 -13 -12 -11 -10 -11 -10 -11 -12 -13 -14 -13 -14\n",
      " -15 -14 -13 -14 -13 -14 -13 -14 -15 -16 -15 -16 -15 -14 -15 -14 -15 -14\n",
      " -15 -16 -17 -16 -15 -16 -17 -16 -17 -18 -19 -18 -17 -18 -17 -16 -15 -14\n",
      " -15 -14 -15 -14 -15 -14 -15 -14 -13 -12 -13 -14 -13 -12 -11 -10 -11 -12\n",
      " -11 -10 -11 -10 -11 -12 -13 -14 -15 -16 -15 -16 -15 -16 -17 -16 -15 -16\n",
      " -17 -16 -17 -16 -17 -16 -17 -18 -19 -20 -19 -20 -21 -20 -21 -20 -21 -22\n",
      " -23 -24 -25 -26 -27 -28 -27 -26 -25 -24 -23 -22 -23 -24 -23 -22 -23 -22\n",
      " -21 -22 -21 -20 -21 -20 -19 -20 -19 -20 -19 -18 -17 -16 -15 -16 -15 -16\n",
      " -15 -16 -15 -16 -15 -16 -17 -16 -15 -16 -17 -16 -15 -14 -13 -14 -15 -14\n",
      " -13 -14 -15 -16 -17 -16 -17 -18 -19 -18 -17 -16 -15 -14 -13 -12 -11 -10\n",
      "  -9  -8  -7  -6  -7  -6  -5  -4  -5  -4  -3  -2  -3  -4  -3  -4  -5  -4\n",
      "  -3  -4  -3  -2  -1   0   1   2   1   2   1   2   1   0  -1   0   1   0\n",
      "   1   0   1   2   1   2   1   0   1   2   1   0   1   2   1   0   1   2\n",
      "   1   0  -1   0  -1   0  -1   0   1   0  -1   0  -1   0   1   0  -1   0\n",
      "   1   2   1   2   3   2   3   4   3   2   3   4   5   4   5   6   7   8\n",
      "   9  10  11  10   9   8   7   6   5   4   3   2   1   2   3   2   3   4\n",
      "   5   4   5   6   7   6   5   4   5   6   5   4   3   2   1   2   1   0\n",
      "  -1  -2  -3  -2  -3  -2  -1  -2  -3  -2  -3  -4  -5  -6  -5  -4  -3  -2\n",
      "  -1   0  -1   0   1   0   1   0   1   0   1   2   1   0   1   2   3   4\n",
      "   5   6   5   6   7   6   7   8   7   6   5   4   3   4   5   6   7   8\n",
      "   7   6   5   4   3   2   3   2   3   2   3   4   3   2   3   4   5   4\n",
      "   5   6   5   6   5   6   7   6   5   6   5   4   5   6   5   4   3   4\n",
      "   3   4   5   6   7   8   9  10   9   8   7   8   7   8   7   8   9   8\n",
      "   9  10   9  10  11  10   9  10   9  10  11  10   9   8   7   6   7   6\n",
      "   7   8   7   8   7   8   9  10   9   8   7   8   9  10   9  10  11  12\n",
      "  11  10   9  10  11  12  13  12  11  10   9   8   7   6   7   6   5   4\n",
      "   3   2   3   2   3   4   5   4   5   6   7   6   7   6   5   6   5   6\n",
      "   5   4   5   6   5   6   7   8   9  10  11  10   9   8   9  10  11  12\n",
      "  13  14  13  12  11  12  13  14  13  14  15  14  15  14  13  12  11  12\n",
      "  11  10  11  12  11  12  13  14  13  14  15  14  15  14  13  14  15  14\n",
      "  13  12  11  10   9   8   7   8   7   6   7   8   7   8   9   8   7   8\n",
      "   7   8   9   8   7   8   7   6   7   6   7   6   7   8   7   8   7   6\n",
      "   5   6   7   8   7   6   5   4   5   6]\n"
     ]
    }
   ],
   "source": [
    "print walk"
   ]
  },
  {
   "cell_type": "code",
   "execution_count": 80,
   "metadata": {
    "collapsed": false
   },
   "outputs": [],
   "source": [
    "df = pd.read_csv('./euro_winners.csv')"
   ]
  },
  {
   "cell_type": "code",
   "execution_count": 81,
   "metadata": {
    "collapsed": false
   },
   "outputs": [
    {
     "data": {
      "text/html": [
       "<div>\n",
       "<table border=\"1\" class=\"dataframe\">\n",
       "  <thead>\n",
       "    <tr style=\"text-align: right;\">\n",
       "      <th></th>\n",
       "      <th>Season</th>\n",
       "      <th>Nation</th>\n",
       "      <th>Winners</th>\n",
       "      <th>Score</th>\n",
       "      <th>Runners-up</th>\n",
       "      <th>Runner-UpNation</th>\n",
       "      <th>Venue</th>\n",
       "      <th>Attendance</th>\n",
       "    </tr>\n",
       "  </thead>\n",
       "  <tbody>\n",
       "    <tr>\n",
       "      <th>0</th>\n",
       "      <td>1955–56</td>\n",
       "      <td>Spain</td>\n",
       "      <td>Real Madrid</td>\n",
       "      <td>4–3</td>\n",
       "      <td>Stade de Reims</td>\n",
       "      <td>France</td>\n",
       "      <td>Parc des Princes,Paris</td>\n",
       "      <td>38239</td>\n",
       "    </tr>\n",
       "    <tr>\n",
       "      <th>1</th>\n",
       "      <td>1956–57</td>\n",
       "      <td>Spain</td>\n",
       "      <td>Real Madrid</td>\n",
       "      <td>2–0</td>\n",
       "      <td>Fiorentina</td>\n",
       "      <td>Italy</td>\n",
       "      <td>Santiago Bernabéu Stadium, Madrid</td>\n",
       "      <td>124000</td>\n",
       "    </tr>\n",
       "    <tr>\n",
       "      <th>2</th>\n",
       "      <td>1957–58</td>\n",
       "      <td>Spain</td>\n",
       "      <td>Real Madrid</td>\n",
       "      <td>3–2</td>\n",
       "      <td>Milan</td>\n",
       "      <td>Italy</td>\n",
       "      <td>Heysel Stadium,Brussels</td>\n",
       "      <td>67000</td>\n",
       "    </tr>\n",
       "    <tr>\n",
       "      <th>3</th>\n",
       "      <td>1958–59</td>\n",
       "      <td>Spain</td>\n",
       "      <td>Real Madrid</td>\n",
       "      <td>2–0</td>\n",
       "      <td>Stade de Reims</td>\n",
       "      <td>France</td>\n",
       "      <td>Neckarstadion,Stuttgart</td>\n",
       "      <td>72000</td>\n",
       "    </tr>\n",
       "    <tr>\n",
       "      <th>4</th>\n",
       "      <td>1959–60</td>\n",
       "      <td>Spain</td>\n",
       "      <td>Real Madrid</td>\n",
       "      <td>7–3</td>\n",
       "      <td>Eintracht Frankfurt</td>\n",
       "      <td>Germany</td>\n",
       "      <td>Hampden Park,Glasgow</td>\n",
       "      <td>127621</td>\n",
       "    </tr>\n",
       "  </tbody>\n",
       "</table>\n",
       "</div>"
      ],
      "text/plain": [
       "    Season Nation      Winners Score           Runners-up Runner-UpNation  \\\n",
       "0  1955–56  Spain  Real Madrid   4–3       Stade de Reims          France   \n",
       "1  1956–57  Spain  Real Madrid   2–0           Fiorentina           Italy   \n",
       "2  1957–58  Spain  Real Madrid   3–2                Milan           Italy   \n",
       "3  1958–59  Spain  Real Madrid   2–0       Stade de Reims          France   \n",
       "4  1959–60  Spain  Real Madrid   7–3  Eintracht Frankfurt         Germany   \n",
       "\n",
       "                               Venue  Attendance  \n",
       "0             Parc des Princes,Paris       38239  \n",
       "1  Santiago Bernabéu Stadium, Madrid      124000  \n",
       "2            Heysel Stadium,Brussels       67000  \n",
       "3            Neckarstadion,Stuttgart       72000  \n",
       "4               Hampden Park,Glasgow      127621  "
      ]
     },
     "execution_count": 81,
     "metadata": {},
     "output_type": "execute_result"
    }
   ],
   "source": [
    "df.head()"
   ]
  },
  {
   "cell_type": "code",
   "execution_count": 84,
   "metadata": {
    "collapsed": false
   },
   "outputs": [],
   "source": [
    "nation_group = df.groupby('Nation')"
   ]
  },
  {
   "cell_type": "code",
   "execution_count": 88,
   "metadata": {
    "collapsed": false
   },
   "outputs": [
    {
     "data": {
      "text/plain": [
       "{'England': Int64Index([12, 21, 22, 23, 24, 25, 26, 28, 43, 49, 52, 56], dtype='int64'),\n",
       " 'France': Int64Index([37], dtype='int64'),\n",
       " 'Germany': Int64Index([18, 19, 20, 27, 41, 45, 57], dtype='int64'),\n",
       " 'Italy': Int64Index([7, 8, 9, 13, 29, 33, 34, 38, 40, 47, 51, 54], dtype='int64'),\n",
       " 'Netherlands': Int64Index([14, 15, 16, 17, 32, 39], dtype='int64'),\n",
       " 'Portugal': Int64Index([5, 6, 31, 48], dtype='int64'),\n",
       " 'Romania': Int64Index([30], dtype='int64'),\n",
       " 'Scotland': Int64Index([11], dtype='int64'),\n",
       " 'Spain': Int64Index([0, 1, 2, 3, 4, 10, 36, 42, 44, 46, 50, 53, 55], dtype='int64'),\n",
       " 'Yugoslavia': Int64Index([35], dtype='int64')}"
      ]
     },
     "execution_count": 88,
     "metadata": {},
     "output_type": "execute_result"
    }
   ],
   "source": [
    "nation_group.groups"
   ]
  },
  {
   "cell_type": "code",
   "execution_count": 89,
   "metadata": {
    "collapsed": false
   },
   "outputs": [
    {
     "data": {
      "text/plain": [
       "10"
      ]
     },
     "execution_count": 89,
     "metadata": {},
     "output_type": "execute_result"
    }
   ],
   "source": [
    "len(nation_group.groups)"
   ]
  },
  {
   "cell_type": "code",
   "execution_count": 90,
   "metadata": {
    "collapsed": false
   },
   "outputs": [
    {
     "data": {
      "text/html": [
       "<div>\n",
       "<table border=\"1\" class=\"dataframe\">\n",
       "  <thead>\n",
       "    <tr style=\"text-align: right;\">\n",
       "      <th></th>\n",
       "      <th>Season</th>\n",
       "      <th>Winners</th>\n",
       "      <th>Score</th>\n",
       "      <th>Runners-up</th>\n",
       "      <th>Runner-UpNation</th>\n",
       "      <th>Venue</th>\n",
       "      <th>Attendance</th>\n",
       "    </tr>\n",
       "    <tr>\n",
       "      <th>Nation</th>\n",
       "      <th></th>\n",
       "      <th></th>\n",
       "      <th></th>\n",
       "      <th></th>\n",
       "      <th></th>\n",
       "      <th></th>\n",
       "      <th></th>\n",
       "    </tr>\n",
       "  </thead>\n",
       "  <tbody>\n",
       "    <tr>\n",
       "      <th>England</th>\n",
       "      <td>12</td>\n",
       "      <td>12</td>\n",
       "      <td>12</td>\n",
       "      <td>12</td>\n",
       "      <td>12</td>\n",
       "      <td>12</td>\n",
       "      <td>12</td>\n",
       "    </tr>\n",
       "    <tr>\n",
       "      <th>France</th>\n",
       "      <td>1</td>\n",
       "      <td>1</td>\n",
       "      <td>1</td>\n",
       "      <td>1</td>\n",
       "      <td>1</td>\n",
       "      <td>1</td>\n",
       "      <td>1</td>\n",
       "    </tr>\n",
       "    <tr>\n",
       "      <th>Germany</th>\n",
       "      <td>7</td>\n",
       "      <td>7</td>\n",
       "      <td>7</td>\n",
       "      <td>7</td>\n",
       "      <td>7</td>\n",
       "      <td>7</td>\n",
       "      <td>7</td>\n",
       "    </tr>\n",
       "    <tr>\n",
       "      <th>Italy</th>\n",
       "      <td>12</td>\n",
       "      <td>12</td>\n",
       "      <td>12</td>\n",
       "      <td>12</td>\n",
       "      <td>12</td>\n",
       "      <td>12</td>\n",
       "      <td>12</td>\n",
       "    </tr>\n",
       "    <tr>\n",
       "      <th>Netherlands</th>\n",
       "      <td>6</td>\n",
       "      <td>6</td>\n",
       "      <td>6</td>\n",
       "      <td>6</td>\n",
       "      <td>6</td>\n",
       "      <td>6</td>\n",
       "      <td>6</td>\n",
       "    </tr>\n",
       "    <tr>\n",
       "      <th>Portugal</th>\n",
       "      <td>4</td>\n",
       "      <td>4</td>\n",
       "      <td>4</td>\n",
       "      <td>4</td>\n",
       "      <td>4</td>\n",
       "      <td>4</td>\n",
       "      <td>4</td>\n",
       "    </tr>\n",
       "    <tr>\n",
       "      <th>Romania</th>\n",
       "      <td>1</td>\n",
       "      <td>1</td>\n",
       "      <td>1</td>\n",
       "      <td>1</td>\n",
       "      <td>1</td>\n",
       "      <td>1</td>\n",
       "      <td>1</td>\n",
       "    </tr>\n",
       "    <tr>\n",
       "      <th>Scotland</th>\n",
       "      <td>1</td>\n",
       "      <td>1</td>\n",
       "      <td>1</td>\n",
       "      <td>1</td>\n",
       "      <td>1</td>\n",
       "      <td>1</td>\n",
       "      <td>1</td>\n",
       "    </tr>\n",
       "    <tr>\n",
       "      <th>Spain</th>\n",
       "      <td>13</td>\n",
       "      <td>13</td>\n",
       "      <td>13</td>\n",
       "      <td>13</td>\n",
       "      <td>13</td>\n",
       "      <td>13</td>\n",
       "      <td>13</td>\n",
       "    </tr>\n",
       "    <tr>\n",
       "      <th>Yugoslavia</th>\n",
       "      <td>1</td>\n",
       "      <td>1</td>\n",
       "      <td>1</td>\n",
       "      <td>1</td>\n",
       "      <td>1</td>\n",
       "      <td>1</td>\n",
       "      <td>1</td>\n",
       "    </tr>\n",
       "  </tbody>\n",
       "</table>\n",
       "</div>"
      ],
      "text/plain": [
       "             Season  Winners  Score  Runners-up  Runner-UpNation  Venue  \\\n",
       "Nation                                                                    \n",
       "England          12       12     12          12               12     12   \n",
       "France            1        1      1           1                1      1   \n",
       "Germany           7        7      7           7                7      7   \n",
       "Italy            12       12     12          12               12     12   \n",
       "Netherlands       6        6      6           6                6      6   \n",
       "Portugal          4        4      4           4                4      4   \n",
       "Romania           1        1      1           1                1      1   \n",
       "Scotland          1        1      1           1                1      1   \n",
       "Spain            13       13     13          13               13     13   \n",
       "Yugoslavia        1        1      1           1                1      1   \n",
       "\n",
       "             Attendance  \n",
       "Nation                   \n",
       "England              12  \n",
       "France                1  \n",
       "Germany               7  \n",
       "Italy                12  \n",
       "Netherlands           6  \n",
       "Portugal              4  \n",
       "Romania               1  \n",
       "Scotland              1  \n",
       "Spain                13  \n",
       "Yugoslavia            1  "
      ]
     },
     "execution_count": 90,
     "metadata": {},
     "output_type": "execute_result"
    }
   ],
   "source": [
    "nation_group.count()"
   ]
  },
  {
   "cell_type": "code",
   "execution_count": 91,
   "metadata": {
    "collapsed": false
   },
   "outputs": [
    {
     "data": {
      "text/plain": [
       "Nation\n",
       "England        12\n",
       "France          1\n",
       "Germany         7\n",
       "Italy          12\n",
       "Netherlands     6\n",
       "Portugal        4\n",
       "Romania         1\n",
       "Scotland        1\n",
       "Spain          13\n",
       "Yugoslavia      1\n",
       "dtype: int64"
      ]
     },
     "execution_count": 91,
     "metadata": {},
     "output_type": "execute_result"
    }
   ],
   "source": [
    "nation_group.size()"
   ]
  },
  {
   "cell_type": "code",
   "execution_count": 93,
   "metadata": {
    "collapsed": false
   },
   "outputs": [
    {
     "data": {
      "text/plain": [
       "Nation\n",
       "Spain          13\n",
       "Italy          12\n",
       "England        12\n",
       "Germany         7\n",
       "Netherlands     6\n",
       "Portugal        4\n",
       "Yugoslavia      1\n",
       "Scotland        1\n",
       "Romania         1\n",
       "France          1\n",
       "dtype: int64"
      ]
     },
     "execution_count": 93,
     "metadata": {},
     "output_type": "execute_result"
    }
   ],
   "source": [
    "nation_group.size().sort_values(ascending = False)"
   ]
  },
  {
   "cell_type": "code",
   "execution_count": 94,
   "metadata": {
    "collapsed": true
   },
   "outputs": [],
   "source": [
    "club_group = df.groupby(['Nation','Winners'])"
   ]
  },
  {
   "cell_type": "code",
   "execution_count": 95,
   "metadata": {
    "collapsed": false
   },
   "outputs": [
    {
     "data": {
      "text/plain": [
       "Nation       Winners          \n",
       "Spain        Real Madrid          9\n",
       "Italy        Milan                7\n",
       "Germany      Bayern Munich        5\n",
       "England      Liverpool            5\n",
       "Spain        Barcelona            4\n",
       "Netherlands  Ajax                 4\n",
       "England      Manchester United    3\n",
       "Italy        Internazionale       3\n",
       "             Juventus             2\n",
       "Portugal     Porto                2\n",
       "             Benfica              2\n",
       "England      Nottingham Forest    2\n",
       "             Chelsea              1\n",
       "France       Marseille            1\n",
       "Yugoslavia   Red Star Belgrade    1\n",
       "Germany      Borussia Dortmund    1\n",
       "             Hamburg              1\n",
       "Netherlands  Feyenoord            1\n",
       "             PSV Eindhoven        1\n",
       "Romania      Steaua Bucure?ti     1\n",
       "Scotland     Celtic               1\n",
       "England      Aston Villa          1\n",
       "dtype: int64"
      ]
     },
     "execution_count": 95,
     "metadata": {},
     "output_type": "execute_result"
    }
   ],
   "source": [
    "club_group.size().sort_values(ascending=False)"
   ]
  },
  {
   "cell_type": "code",
   "execution_count": 96,
   "metadata": {
    "collapsed": true
   },
   "outputs": [],
   "source": [
    "df = pd.read_csv('./goal_stats_euro_leagues_2012-13.csv')"
   ]
  },
  {
   "cell_type": "code",
   "execution_count": 97,
   "metadata": {
    "collapsed": false
   },
   "outputs": [
    {
     "data": {
      "text/html": [
       "<div>\n",
       "<table border=\"1\" class=\"dataframe\">\n",
       "  <thead>\n",
       "    <tr style=\"text-align: right;\">\n",
       "      <th></th>\n",
       "      <th>Month</th>\n",
       "      <th>Stat</th>\n",
       "      <th>EPL</th>\n",
       "      <th>La Liga</th>\n",
       "      <th>Serie A</th>\n",
       "      <th>Bundesliga</th>\n",
       "    </tr>\n",
       "  </thead>\n",
       "  <tbody>\n",
       "    <tr>\n",
       "      <th>0</th>\n",
       "      <td>08/01/2012</td>\n",
       "      <td>MatchesPlayed</td>\n",
       "      <td>20.0</td>\n",
       "      <td>20</td>\n",
       "      <td>10.0</td>\n",
       "      <td>10.0</td>\n",
       "    </tr>\n",
       "    <tr>\n",
       "      <th>1</th>\n",
       "      <td>09/01/2012</td>\n",
       "      <td>MatchesPlayed</td>\n",
       "      <td>38.0</td>\n",
       "      <td>39</td>\n",
       "      <td>50.0</td>\n",
       "      <td>44.0</td>\n",
       "    </tr>\n",
       "    <tr>\n",
       "      <th>2</th>\n",
       "      <td>10/01/2012</td>\n",
       "      <td>MatchesPlayed</td>\n",
       "      <td>31.0</td>\n",
       "      <td>31</td>\n",
       "      <td>39.0</td>\n",
       "      <td>27.0</td>\n",
       "    </tr>\n",
       "    <tr>\n",
       "      <th>3</th>\n",
       "      <td>11/01/2012</td>\n",
       "      <td>MatchesPlayed</td>\n",
       "      <td>50.0</td>\n",
       "      <td>41</td>\n",
       "      <td>42.0</td>\n",
       "      <td>46.0</td>\n",
       "    </tr>\n",
       "    <tr>\n",
       "      <th>4</th>\n",
       "      <td>12/01/2012</td>\n",
       "      <td>MatchesPlayed</td>\n",
       "      <td>59.0</td>\n",
       "      <td>39</td>\n",
       "      <td>39.0</td>\n",
       "      <td>26.0</td>\n",
       "    </tr>\n",
       "  </tbody>\n",
       "</table>\n",
       "</div>"
      ],
      "text/plain": [
       "        Month           Stat   EPL  La Liga  Serie A  Bundesliga\n",
       "0  08/01/2012  MatchesPlayed  20.0       20     10.0        10.0\n",
       "1  09/01/2012  MatchesPlayed  38.0       39     50.0        44.0\n",
       "2  10/01/2012  MatchesPlayed  31.0       31     39.0        27.0\n",
       "3  11/01/2012  MatchesPlayed  50.0       41     42.0        46.0\n",
       "4  12/01/2012  MatchesPlayed  59.0       39     39.0        26.0"
      ]
     },
     "execution_count": 97,
     "metadata": {},
     "output_type": "execute_result"
    }
   ],
   "source": [
    "df.head()"
   ]
  },
  {
   "cell_type": "code",
   "execution_count": 98,
   "metadata": {
    "collapsed": true
   },
   "outputs": [],
   "source": [
    "df = df.set_index('Month')"
   ]
  },
  {
   "cell_type": "code",
   "execution_count": 100,
   "metadata": {
    "collapsed": false
   },
   "outputs": [
    {
     "data": {
      "text/html": [
       "<div>\n",
       "<table border=\"1\" class=\"dataframe\">\n",
       "  <thead>\n",
       "    <tr style=\"text-align: right;\">\n",
       "      <th></th>\n",
       "      <th>Stat</th>\n",
       "      <th>EPL</th>\n",
       "      <th>La Liga</th>\n",
       "      <th>Serie A</th>\n",
       "      <th>Bundesliga</th>\n",
       "    </tr>\n",
       "    <tr>\n",
       "      <th>Month</th>\n",
       "      <th></th>\n",
       "      <th></th>\n",
       "      <th></th>\n",
       "      <th></th>\n",
       "      <th></th>\n",
       "    </tr>\n",
       "  </thead>\n",
       "  <tbody>\n",
       "    <tr>\n",
       "      <th>08/01/2012</th>\n",
       "      <td>MatchesPlayed</td>\n",
       "      <td>20.0</td>\n",
       "      <td>20</td>\n",
       "      <td>10.0</td>\n",
       "      <td>10.0</td>\n",
       "    </tr>\n",
       "    <tr>\n",
       "      <th>09/01/2012</th>\n",
       "      <td>MatchesPlayed</td>\n",
       "      <td>38.0</td>\n",
       "      <td>39</td>\n",
       "      <td>50.0</td>\n",
       "      <td>44.0</td>\n",
       "    </tr>\n",
       "    <tr>\n",
       "      <th>10/01/2012</th>\n",
       "      <td>MatchesPlayed</td>\n",
       "      <td>31.0</td>\n",
       "      <td>31</td>\n",
       "      <td>39.0</td>\n",
       "      <td>27.0</td>\n",
       "    </tr>\n",
       "    <tr>\n",
       "      <th>11/01/2012</th>\n",
       "      <td>MatchesPlayed</td>\n",
       "      <td>50.0</td>\n",
       "      <td>41</td>\n",
       "      <td>42.0</td>\n",
       "      <td>46.0</td>\n",
       "    </tr>\n",
       "    <tr>\n",
       "      <th>12/01/2012</th>\n",
       "      <td>MatchesPlayed</td>\n",
       "      <td>59.0</td>\n",
       "      <td>39</td>\n",
       "      <td>39.0</td>\n",
       "      <td>26.0</td>\n",
       "    </tr>\n",
       "  </tbody>\n",
       "</table>\n",
       "</div>"
      ],
      "text/plain": [
       "                     Stat   EPL  La Liga  Serie A  Bundesliga\n",
       "Month                                                        \n",
       "08/01/2012  MatchesPlayed  20.0       20     10.0        10.0\n",
       "09/01/2012  MatchesPlayed  38.0       39     50.0        44.0\n",
       "10/01/2012  MatchesPlayed  31.0       31     39.0        27.0\n",
       "11/01/2012  MatchesPlayed  50.0       41     42.0        46.0\n",
       "12/01/2012  MatchesPlayed  59.0       39     39.0        26.0"
      ]
     },
     "execution_count": 100,
     "metadata": {},
     "output_type": "execute_result"
    }
   ],
   "source": [
    "df.head()"
   ]
  },
  {
   "cell_type": "code",
   "execution_count": 102,
   "metadata": {
    "collapsed": false
   },
   "outputs": [],
   "source": [
    "year_group = df.groupby(lambda month : month.split('/')[2])"
   ]
  },
  {
   "cell_type": "code",
   "execution_count": 103,
   "metadata": {
    "collapsed": false
   },
   "outputs": [
    {
     "data": {
      "text/plain": [
       "<pandas.core.groupby.DataFrameGroupBy object at 0x098BDF90>"
      ]
     },
     "execution_count": 103,
     "metadata": {},
     "output_type": "execute_result"
    }
   ],
   "source": [
    "year_group"
   ]
  },
  {
   "cell_type": "code",
   "execution_count": 104,
   "metadata": {
    "collapsed": false
   },
   "outputs": [
    {
     "name": "stdout",
     "output_type": "stream",
     "text": [
      "<pandas.core.groupby.DataFrameGroupBy object at 0x098BDF90>\n"
     ]
    }
   ],
   "source": [
    "print year_group"
   ]
  },
  {
   "cell_type": "code",
   "execution_count": 105,
   "metadata": {
    "collapsed": false
   },
   "outputs": [
    {
     "data": {
      "text/plain": [
       "{'2012': Index([u'08/01/2012', u'09/01/2012', u'10/01/2012', u'11/01/2012',\n",
       "        u'12/01/2012', u'08/01/2012', u'09/01/2012', u'10/01/2012',\n",
       "        u'11/01/2012', u'12/01/2012'],\n",
       "       dtype='object', name=u'Month'),\n",
       " '2013': Index([u'01/01/2013', u'02/01/2013', u'03/01/2013', u'04/01/2013',\n",
       "        u'05/01/2013', u'06/02/2013', u'01/01/2013', u'02/01/2013',\n",
       "        u'03/01/2013', u'04/01/2013', u'05/01/2013', u'06/01/2013'],\n",
       "       dtype='object', name=u'Month')}"
      ]
     },
     "execution_count": 105,
     "metadata": {},
     "output_type": "execute_result"
    }
   ],
   "source": [
    "year_group.groups"
   ]
  },
  {
   "cell_type": "code",
   "execution_count": 106,
   "metadata": {
    "collapsed": false
   },
   "outputs": [
    {
     "data": {
      "text/plain": [
       "2012    10\n",
       "2013    12\n",
       "dtype: int64"
      ]
     },
     "execution_count": 106,
     "metadata": {},
     "output_type": "execute_result"
    }
   ],
   "source": [
    "year_group.size()"
   ]
  },
  {
   "cell_type": "code",
   "execution_count": 107,
   "metadata": {
    "collapsed": false
   },
   "outputs": [
    {
     "data": {
      "text/html": [
       "<div>\n",
       "<table border=\"1\" class=\"dataframe\">\n",
       "  <thead>\n",
       "    <tr style=\"text-align: right;\">\n",
       "      <th></th>\n",
       "      <th>Stat</th>\n",
       "      <th>EPL</th>\n",
       "      <th>La Liga</th>\n",
       "      <th>Serie A</th>\n",
       "      <th>Bundesliga</th>\n",
       "    </tr>\n",
       "    <tr>\n",
       "      <th>Month</th>\n",
       "      <th></th>\n",
       "      <th></th>\n",
       "      <th></th>\n",
       "      <th></th>\n",
       "      <th></th>\n",
       "    </tr>\n",
       "  </thead>\n",
       "  <tbody>\n",
       "    <tr>\n",
       "      <th>08/01/2012</th>\n",
       "      <td>MatchesPlayed</td>\n",
       "      <td>20.0</td>\n",
       "      <td>20</td>\n",
       "      <td>10.0</td>\n",
       "      <td>10.0</td>\n",
       "    </tr>\n",
       "    <tr>\n",
       "      <th>09/01/2012</th>\n",
       "      <td>MatchesPlayed</td>\n",
       "      <td>38.0</td>\n",
       "      <td>39</td>\n",
       "      <td>50.0</td>\n",
       "      <td>44.0</td>\n",
       "    </tr>\n",
       "    <tr>\n",
       "      <th>10/01/2012</th>\n",
       "      <td>MatchesPlayed</td>\n",
       "      <td>31.0</td>\n",
       "      <td>31</td>\n",
       "      <td>39.0</td>\n",
       "      <td>27.0</td>\n",
       "    </tr>\n",
       "    <tr>\n",
       "      <th>11/01/2012</th>\n",
       "      <td>MatchesPlayed</td>\n",
       "      <td>50.0</td>\n",
       "      <td>41</td>\n",
       "      <td>42.0</td>\n",
       "      <td>46.0</td>\n",
       "    </tr>\n",
       "    <tr>\n",
       "      <th>12/01/2012</th>\n",
       "      <td>MatchesPlayed</td>\n",
       "      <td>59.0</td>\n",
       "      <td>39</td>\n",
       "      <td>39.0</td>\n",
       "      <td>26.0</td>\n",
       "    </tr>\n",
       "    <tr>\n",
       "      <th>01/01/2013</th>\n",
       "      <td>MatchesPlayed</td>\n",
       "      <td>42.0</td>\n",
       "      <td>40</td>\n",
       "      <td>40.0</td>\n",
       "      <td>18.0</td>\n",
       "    </tr>\n",
       "    <tr>\n",
       "      <th>02/01/2013</th>\n",
       "      <td>MatchesPlayed</td>\n",
       "      <td>30.0</td>\n",
       "      <td>40</td>\n",
       "      <td>40.0</td>\n",
       "      <td>36.0</td>\n",
       "    </tr>\n",
       "    <tr>\n",
       "      <th>03/01/2013</th>\n",
       "      <td>MatchesPlayed</td>\n",
       "      <td>35.0</td>\n",
       "      <td>38</td>\n",
       "      <td>39.0</td>\n",
       "      <td>36.0</td>\n",
       "    </tr>\n",
       "    <tr>\n",
       "      <th>04/01/2013</th>\n",
       "      <td>MatchesPlayed</td>\n",
       "      <td>42.0</td>\n",
       "      <td>42</td>\n",
       "      <td>41.0</td>\n",
       "      <td>36.0</td>\n",
       "    </tr>\n",
       "    <tr>\n",
       "      <th>05/01/2013</th>\n",
       "      <td>MatchesPlayed</td>\n",
       "      <td>33.0</td>\n",
       "      <td>40</td>\n",
       "      <td>40.0</td>\n",
       "      <td>27.0</td>\n",
       "    </tr>\n",
       "  </tbody>\n",
       "</table>\n",
       "</div>"
      ],
      "text/plain": [
       "                     Stat   EPL  La Liga  Serie A  Bundesliga\n",
       "Month                                                        \n",
       "08/01/2012  MatchesPlayed  20.0       20     10.0        10.0\n",
       "09/01/2012  MatchesPlayed  38.0       39     50.0        44.0\n",
       "10/01/2012  MatchesPlayed  31.0       31     39.0        27.0\n",
       "11/01/2012  MatchesPlayed  50.0       41     42.0        46.0\n",
       "12/01/2012  MatchesPlayed  59.0       39     39.0        26.0\n",
       "01/01/2013  MatchesPlayed  42.0       40     40.0        18.0\n",
       "02/01/2013  MatchesPlayed  30.0       40     40.0        36.0\n",
       "03/01/2013  MatchesPlayed  35.0       38     39.0        36.0\n",
       "04/01/2013  MatchesPlayed  42.0       42     41.0        36.0\n",
       "05/01/2013  MatchesPlayed  33.0       40     40.0        27.0"
      ]
     },
     "execution_count": 107,
     "metadata": {},
     "output_type": "execute_result"
    }
   ],
   "source": [
    "year_group.head()"
   ]
  },
  {
   "cell_type": "code",
   "execution_count": 109,
   "metadata": {
    "collapsed": false
   },
   "outputs": [
    {
     "name": "stdout",
     "output_type": "stream",
     "text": [
      "2012\n",
      "                     Stat    EPL  La Liga  Serie A  Bundesliga\n",
      "Month                                                         \n",
      "08/01/2012  MatchesPlayed   20.0       20     10.0        10.0\n",
      "09/01/2012  MatchesPlayed   38.0       39     50.0        44.0\n",
      "10/01/2012  MatchesPlayed   31.0       31     39.0        27.0\n",
      "11/01/2012  MatchesPlayed   50.0       41     42.0        46.0\n",
      "12/01/2012  MatchesPlayed   59.0       39     39.0        26.0\n",
      "08/01/2012    GoalsScored   57.0       60     21.0        23.0\n",
      "09/01/2012    GoalsScored  111.0      112    133.0       135.0\n",
      "10/01/2012    GoalsScored   95.0       88     97.0        77.0\n",
      "11/01/2012    GoalsScored  121.0      116    120.0       137.0\n",
      "12/01/2012    GoalsScored  183.0      109    125.0        72.0\n",
      "2013\n",
      "                     Stat    EPL  La Liga  Serie A  Bundesliga\n",
      "Month                                                         \n",
      "01/01/2013  MatchesPlayed   42.0       40     40.0        18.0\n",
      "02/01/2013  MatchesPlayed   30.0       40     40.0        36.0\n",
      "03/01/2013  MatchesPlayed   35.0       38     39.0        36.0\n",
      "04/01/2013  MatchesPlayed   42.0       42     41.0        36.0\n",
      "05/01/2013  MatchesPlayed   33.0       40     40.0        27.0\n",
      "06/02/2013  MatchesPlayed    NaN       10      NaN         NaN\n",
      "01/01/2013    GoalsScored  117.0      121    104.0        51.0\n",
      "02/01/2013    GoalsScored   87.0      110    100.0       101.0\n",
      "03/01/2013    GoalsScored   91.0      101     99.0       106.0\n",
      "04/01/2013    GoalsScored  105.0      127    102.0       104.0\n",
      "05/01/2013    GoalsScored   96.0      109    102.0        92.0\n",
      "06/01/2013    GoalsScored    NaN       80      NaN         NaN\n"
     ]
    }
   ],
   "source": [
    "for name, group in year_group:\n",
    "    print name\n",
    "    print group"
   ]
  },
  {
   "cell_type": "code",
   "execution_count": 110,
   "metadata": {
    "collapsed": true
   },
   "outputs": [],
   "source": [
    "month_group = df.groupby(level = 0)"
   ]
  },
  {
   "cell_type": "code",
   "execution_count": 111,
   "metadata": {
    "collapsed": false
   },
   "outputs": [
    {
     "data": {
      "text/html": [
       "<div>\n",
       "<table border=\"1\" class=\"dataframe\">\n",
       "  <thead>\n",
       "    <tr style=\"text-align: right;\">\n",
       "      <th></th>\n",
       "      <th>Stat</th>\n",
       "      <th>EPL</th>\n",
       "      <th>La Liga</th>\n",
       "      <th>Serie A</th>\n",
       "      <th>Bundesliga</th>\n",
       "    </tr>\n",
       "    <tr>\n",
       "      <th>Month</th>\n",
       "      <th></th>\n",
       "      <th></th>\n",
       "      <th></th>\n",
       "      <th></th>\n",
       "      <th></th>\n",
       "    </tr>\n",
       "  </thead>\n",
       "  <tbody>\n",
       "    <tr>\n",
       "      <th>08/01/2012</th>\n",
       "      <td>MatchesPlayed</td>\n",
       "      <td>20.0</td>\n",
       "      <td>20</td>\n",
       "      <td>10.0</td>\n",
       "      <td>10.0</td>\n",
       "    </tr>\n",
       "    <tr>\n",
       "      <th>09/01/2012</th>\n",
       "      <td>MatchesPlayed</td>\n",
       "      <td>38.0</td>\n",
       "      <td>39</td>\n",
       "      <td>50.0</td>\n",
       "      <td>44.0</td>\n",
       "    </tr>\n",
       "    <tr>\n",
       "      <th>10/01/2012</th>\n",
       "      <td>MatchesPlayed</td>\n",
       "      <td>31.0</td>\n",
       "      <td>31</td>\n",
       "      <td>39.0</td>\n",
       "      <td>27.0</td>\n",
       "    </tr>\n",
       "    <tr>\n",
       "      <th>11/01/2012</th>\n",
       "      <td>MatchesPlayed</td>\n",
       "      <td>50.0</td>\n",
       "      <td>41</td>\n",
       "      <td>42.0</td>\n",
       "      <td>46.0</td>\n",
       "    </tr>\n",
       "    <tr>\n",
       "      <th>12/01/2012</th>\n",
       "      <td>MatchesPlayed</td>\n",
       "      <td>59.0</td>\n",
       "      <td>39</td>\n",
       "      <td>39.0</td>\n",
       "      <td>26.0</td>\n",
       "    </tr>\n",
       "    <tr>\n",
       "      <th>01/01/2013</th>\n",
       "      <td>MatchesPlayed</td>\n",
       "      <td>42.0</td>\n",
       "      <td>40</td>\n",
       "      <td>40.0</td>\n",
       "      <td>18.0</td>\n",
       "    </tr>\n",
       "    <tr>\n",
       "      <th>02/01/2013</th>\n",
       "      <td>MatchesPlayed</td>\n",
       "      <td>30.0</td>\n",
       "      <td>40</td>\n",
       "      <td>40.0</td>\n",
       "      <td>36.0</td>\n",
       "    </tr>\n",
       "    <tr>\n",
       "      <th>03/01/2013</th>\n",
       "      <td>MatchesPlayed</td>\n",
       "      <td>35.0</td>\n",
       "      <td>38</td>\n",
       "      <td>39.0</td>\n",
       "      <td>36.0</td>\n",
       "    </tr>\n",
       "    <tr>\n",
       "      <th>04/01/2013</th>\n",
       "      <td>MatchesPlayed</td>\n",
       "      <td>42.0</td>\n",
       "      <td>42</td>\n",
       "      <td>41.0</td>\n",
       "      <td>36.0</td>\n",
       "    </tr>\n",
       "    <tr>\n",
       "      <th>05/01/2013</th>\n",
       "      <td>MatchesPlayed</td>\n",
       "      <td>33.0</td>\n",
       "      <td>40</td>\n",
       "      <td>40.0</td>\n",
       "      <td>27.0</td>\n",
       "    </tr>\n",
       "    <tr>\n",
       "      <th>06/02/2013</th>\n",
       "      <td>MatchesPlayed</td>\n",
       "      <td>NaN</td>\n",
       "      <td>10</td>\n",
       "      <td>NaN</td>\n",
       "      <td>NaN</td>\n",
       "    </tr>\n",
       "    <tr>\n",
       "      <th>08/01/2012</th>\n",
       "      <td>GoalsScored</td>\n",
       "      <td>57.0</td>\n",
       "      <td>60</td>\n",
       "      <td>21.0</td>\n",
       "      <td>23.0</td>\n",
       "    </tr>\n",
       "    <tr>\n",
       "      <th>09/01/2012</th>\n",
       "      <td>GoalsScored</td>\n",
       "      <td>111.0</td>\n",
       "      <td>112</td>\n",
       "      <td>133.0</td>\n",
       "      <td>135.0</td>\n",
       "    </tr>\n",
       "    <tr>\n",
       "      <th>10/01/2012</th>\n",
       "      <td>GoalsScored</td>\n",
       "      <td>95.0</td>\n",
       "      <td>88</td>\n",
       "      <td>97.0</td>\n",
       "      <td>77.0</td>\n",
       "    </tr>\n",
       "    <tr>\n",
       "      <th>11/01/2012</th>\n",
       "      <td>GoalsScored</td>\n",
       "      <td>121.0</td>\n",
       "      <td>116</td>\n",
       "      <td>120.0</td>\n",
       "      <td>137.0</td>\n",
       "    </tr>\n",
       "    <tr>\n",
       "      <th>12/01/2012</th>\n",
       "      <td>GoalsScored</td>\n",
       "      <td>183.0</td>\n",
       "      <td>109</td>\n",
       "      <td>125.0</td>\n",
       "      <td>72.0</td>\n",
       "    </tr>\n",
       "    <tr>\n",
       "      <th>01/01/2013</th>\n",
       "      <td>GoalsScored</td>\n",
       "      <td>117.0</td>\n",
       "      <td>121</td>\n",
       "      <td>104.0</td>\n",
       "      <td>51.0</td>\n",
       "    </tr>\n",
       "    <tr>\n",
       "      <th>02/01/2013</th>\n",
       "      <td>GoalsScored</td>\n",
       "      <td>87.0</td>\n",
       "      <td>110</td>\n",
       "      <td>100.0</td>\n",
       "      <td>101.0</td>\n",
       "    </tr>\n",
       "    <tr>\n",
       "      <th>03/01/2013</th>\n",
       "      <td>GoalsScored</td>\n",
       "      <td>91.0</td>\n",
       "      <td>101</td>\n",
       "      <td>99.0</td>\n",
       "      <td>106.0</td>\n",
       "    </tr>\n",
       "    <tr>\n",
       "      <th>04/01/2013</th>\n",
       "      <td>GoalsScored</td>\n",
       "      <td>105.0</td>\n",
       "      <td>127</td>\n",
       "      <td>102.0</td>\n",
       "      <td>104.0</td>\n",
       "    </tr>\n",
       "    <tr>\n",
       "      <th>05/01/2013</th>\n",
       "      <td>GoalsScored</td>\n",
       "      <td>96.0</td>\n",
       "      <td>109</td>\n",
       "      <td>102.0</td>\n",
       "      <td>92.0</td>\n",
       "    </tr>\n",
       "    <tr>\n",
       "      <th>06/01/2013</th>\n",
       "      <td>GoalsScored</td>\n",
       "      <td>NaN</td>\n",
       "      <td>80</td>\n",
       "      <td>NaN</td>\n",
       "      <td>NaN</td>\n",
       "    </tr>\n",
       "  </tbody>\n",
       "</table>\n",
       "</div>"
      ],
      "text/plain": [
       "                     Stat    EPL  La Liga  Serie A  Bundesliga\n",
       "Month                                                         \n",
       "08/01/2012  MatchesPlayed   20.0       20     10.0        10.0\n",
       "09/01/2012  MatchesPlayed   38.0       39     50.0        44.0\n",
       "10/01/2012  MatchesPlayed   31.0       31     39.0        27.0\n",
       "11/01/2012  MatchesPlayed   50.0       41     42.0        46.0\n",
       "12/01/2012  MatchesPlayed   59.0       39     39.0        26.0\n",
       "01/01/2013  MatchesPlayed   42.0       40     40.0        18.0\n",
       "02/01/2013  MatchesPlayed   30.0       40     40.0        36.0\n",
       "03/01/2013  MatchesPlayed   35.0       38     39.0        36.0\n",
       "04/01/2013  MatchesPlayed   42.0       42     41.0        36.0\n",
       "05/01/2013  MatchesPlayed   33.0       40     40.0        27.0\n",
       "06/02/2013  MatchesPlayed    NaN       10      NaN         NaN\n",
       "08/01/2012    GoalsScored   57.0       60     21.0        23.0\n",
       "09/01/2012    GoalsScored  111.0      112    133.0       135.0\n",
       "10/01/2012    GoalsScored   95.0       88     97.0        77.0\n",
       "11/01/2012    GoalsScored  121.0      116    120.0       137.0\n",
       "12/01/2012    GoalsScored  183.0      109    125.0        72.0\n",
       "01/01/2013    GoalsScored  117.0      121    104.0        51.0\n",
       "02/01/2013    GoalsScored   87.0      110    100.0       101.0\n",
       "03/01/2013    GoalsScored   91.0      101     99.0       106.0\n",
       "04/01/2013    GoalsScored  105.0      127    102.0       104.0\n",
       "05/01/2013    GoalsScored   96.0      109    102.0        92.0\n",
       "06/01/2013    GoalsScored    NaN       80      NaN         NaN"
      ]
     },
     "execution_count": 111,
     "metadata": {},
     "output_type": "execute_result"
    }
   ],
   "source": [
    "month_group.head()"
   ]
  },
  {
   "cell_type": "code",
   "execution_count": 113,
   "metadata": {
    "collapsed": false
   },
   "outputs": [
    {
     "name": "stdout",
     "output_type": "stream",
     "text": [
      "01/01/2013\n",
      "                     Stat    EPL  La Liga  Serie A  Bundesliga\n",
      "Month                                                         \n",
      "01/01/2013  MatchesPlayed   42.0       40     40.0        18.0\n",
      "01/01/2013    GoalsScored  117.0      121    104.0        51.0\n",
      "**************************************************\n",
      "02/01/2013\n",
      "                     Stat   EPL  La Liga  Serie A  Bundesliga\n",
      "Month                                                        \n",
      "02/01/2013  MatchesPlayed  30.0       40     40.0        36.0\n",
      "02/01/2013    GoalsScored  87.0      110    100.0       101.0\n",
      "**************************************************\n",
      "03/01/2013\n",
      "                     Stat   EPL  La Liga  Serie A  Bundesliga\n",
      "Month                                                        \n",
      "03/01/2013  MatchesPlayed  35.0       38     39.0        36.0\n",
      "03/01/2013    GoalsScored  91.0      101     99.0       106.0\n",
      "**************************************************\n",
      "04/01/2013\n",
      "                     Stat    EPL  La Liga  Serie A  Bundesliga\n",
      "Month                                                         \n",
      "04/01/2013  MatchesPlayed   42.0       42     41.0        36.0\n",
      "04/01/2013    GoalsScored  105.0      127    102.0       104.0\n",
      "**************************************************\n",
      "05/01/2013\n",
      "                     Stat   EPL  La Liga  Serie A  Bundesliga\n",
      "Month                                                        \n",
      "05/01/2013  MatchesPlayed  33.0       40     40.0        27.0\n",
      "05/01/2013    GoalsScored  96.0      109    102.0        92.0\n",
      "**************************************************\n",
      "06/01/2013\n",
      "                   Stat  EPL  La Liga  Serie A  Bundesliga\n",
      "Month                                                     \n",
      "06/01/2013  GoalsScored  NaN       80      NaN         NaN\n",
      "**************************************************\n",
      "06/02/2013\n",
      "                     Stat  EPL  La Liga  Serie A  Bundesliga\n",
      "Month                                                       \n",
      "06/02/2013  MatchesPlayed  NaN       10      NaN         NaN\n",
      "**************************************************\n",
      "08/01/2012\n",
      "                     Stat   EPL  La Liga  Serie A  Bundesliga\n",
      "Month                                                        \n",
      "08/01/2012  MatchesPlayed  20.0       20     10.0        10.0\n",
      "08/01/2012    GoalsScored  57.0       60     21.0        23.0\n",
      "**************************************************\n",
      "09/01/2012\n",
      "                     Stat    EPL  La Liga  Serie A  Bundesliga\n",
      "Month                                                         \n",
      "09/01/2012  MatchesPlayed   38.0       39     50.0        44.0\n",
      "09/01/2012    GoalsScored  111.0      112    133.0       135.0\n",
      "**************************************************\n",
      "10/01/2012\n",
      "                     Stat   EPL  La Liga  Serie A  Bundesliga\n",
      "Month                                                        \n",
      "10/01/2012  MatchesPlayed  31.0       31     39.0        27.0\n",
      "10/01/2012    GoalsScored  95.0       88     97.0        77.0\n",
      "**************************************************\n",
      "11/01/2012\n",
      "                     Stat    EPL  La Liga  Serie A  Bundesliga\n",
      "Month                                                         \n",
      "11/01/2012  MatchesPlayed   50.0       41     42.0        46.0\n",
      "11/01/2012    GoalsScored  121.0      116    120.0       137.0\n",
      "**************************************************\n",
      "12/01/2012\n",
      "                     Stat    EPL  La Liga  Serie A  Bundesliga\n",
      "Month                                                         \n",
      "12/01/2012  MatchesPlayed   59.0       39     39.0        26.0\n",
      "12/01/2012    GoalsScored  183.0      109    125.0        72.0\n",
      "**************************************************\n"
     ]
    }
   ],
   "source": [
    "for name, group in month_group:\n",
    "    print name\n",
    "    print group\n",
    "    print \"*\"*50"
   ]
  },
  {
   "cell_type": "code",
   "execution_count": 115,
   "metadata": {
    "collapsed": false
   },
   "outputs": [],
   "source": [
    "df = df.reset_index()"
   ]
  },
  {
   "cell_type": "code",
   "execution_count": 116,
   "metadata": {
    "collapsed": false
   },
   "outputs": [
    {
     "data": {
      "text/html": [
       "<div>\n",
       "<table border=\"1\" class=\"dataframe\">\n",
       "  <thead>\n",
       "    <tr style=\"text-align: right;\">\n",
       "      <th></th>\n",
       "      <th>Month</th>\n",
       "      <th>Stat</th>\n",
       "      <th>EPL</th>\n",
       "      <th>La Liga</th>\n",
       "      <th>Serie A</th>\n",
       "      <th>Bundesliga</th>\n",
       "    </tr>\n",
       "  </thead>\n",
       "  <tbody>\n",
       "    <tr>\n",
       "      <th>0</th>\n",
       "      <td>08/01/2012</td>\n",
       "      <td>MatchesPlayed</td>\n",
       "      <td>20.0</td>\n",
       "      <td>20</td>\n",
       "      <td>10.0</td>\n",
       "      <td>10.0</td>\n",
       "    </tr>\n",
       "    <tr>\n",
       "      <th>1</th>\n",
       "      <td>09/01/2012</td>\n",
       "      <td>MatchesPlayed</td>\n",
       "      <td>38.0</td>\n",
       "      <td>39</td>\n",
       "      <td>50.0</td>\n",
       "      <td>44.0</td>\n",
       "    </tr>\n",
       "    <tr>\n",
       "      <th>2</th>\n",
       "      <td>10/01/2012</td>\n",
       "      <td>MatchesPlayed</td>\n",
       "      <td>31.0</td>\n",
       "      <td>31</td>\n",
       "      <td>39.0</td>\n",
       "      <td>27.0</td>\n",
       "    </tr>\n",
       "    <tr>\n",
       "      <th>3</th>\n",
       "      <td>11/01/2012</td>\n",
       "      <td>MatchesPlayed</td>\n",
       "      <td>50.0</td>\n",
       "      <td>41</td>\n",
       "      <td>42.0</td>\n",
       "      <td>46.0</td>\n",
       "    </tr>\n",
       "    <tr>\n",
       "      <th>4</th>\n",
       "      <td>12/01/2012</td>\n",
       "      <td>MatchesPlayed</td>\n",
       "      <td>59.0</td>\n",
       "      <td>39</td>\n",
       "      <td>39.0</td>\n",
       "      <td>26.0</td>\n",
       "    </tr>\n",
       "  </tbody>\n",
       "</table>\n",
       "</div>"
      ],
      "text/plain": [
       "        Month           Stat   EPL  La Liga  Serie A  Bundesliga\n",
       "0  08/01/2012  MatchesPlayed  20.0       20     10.0        10.0\n",
       "1  09/01/2012  MatchesPlayed  38.0       39     50.0        44.0\n",
       "2  10/01/2012  MatchesPlayed  31.0       31     39.0        27.0\n",
       "3  11/01/2012  MatchesPlayed  50.0       41     42.0        46.0\n",
       "4  12/01/2012  MatchesPlayed  59.0       39     39.0        26.0"
      ]
     },
     "execution_count": 116,
     "metadata": {},
     "output_type": "execute_result"
    }
   ],
   "source": [
    "df.head()"
   ]
  },
  {
   "cell_type": "code",
   "execution_count": 117,
   "metadata": {
    "collapsed": true
   },
   "outputs": [],
   "source": [
    "df = df.set_index(['Month','Stat'])"
   ]
  },
  {
   "cell_type": "code",
   "execution_count": 118,
   "metadata": {
    "collapsed": false
   },
   "outputs": [
    {
     "data": {
      "text/html": [
       "<div>\n",
       "<table border=\"1\" class=\"dataframe\">\n",
       "  <thead>\n",
       "    <tr style=\"text-align: right;\">\n",
       "      <th></th>\n",
       "      <th></th>\n",
       "      <th>EPL</th>\n",
       "      <th>La Liga</th>\n",
       "      <th>Serie A</th>\n",
       "      <th>Bundesliga</th>\n",
       "    </tr>\n",
       "    <tr>\n",
       "      <th>Month</th>\n",
       "      <th>Stat</th>\n",
       "      <th></th>\n",
       "      <th></th>\n",
       "      <th></th>\n",
       "      <th></th>\n",
       "    </tr>\n",
       "  </thead>\n",
       "  <tbody>\n",
       "    <tr>\n",
       "      <th>08/01/2012</th>\n",
       "      <th>MatchesPlayed</th>\n",
       "      <td>20.0</td>\n",
       "      <td>20</td>\n",
       "      <td>10.0</td>\n",
       "      <td>10.0</td>\n",
       "    </tr>\n",
       "    <tr>\n",
       "      <th>09/01/2012</th>\n",
       "      <th>MatchesPlayed</th>\n",
       "      <td>38.0</td>\n",
       "      <td>39</td>\n",
       "      <td>50.0</td>\n",
       "      <td>44.0</td>\n",
       "    </tr>\n",
       "    <tr>\n",
       "      <th>10/01/2012</th>\n",
       "      <th>MatchesPlayed</th>\n",
       "      <td>31.0</td>\n",
       "      <td>31</td>\n",
       "      <td>39.0</td>\n",
       "      <td>27.0</td>\n",
       "    </tr>\n",
       "    <tr>\n",
       "      <th>11/01/2012</th>\n",
       "      <th>MatchesPlayed</th>\n",
       "      <td>50.0</td>\n",
       "      <td>41</td>\n",
       "      <td>42.0</td>\n",
       "      <td>46.0</td>\n",
       "    </tr>\n",
       "    <tr>\n",
       "      <th>12/01/2012</th>\n",
       "      <th>MatchesPlayed</th>\n",
       "      <td>59.0</td>\n",
       "      <td>39</td>\n",
       "      <td>39.0</td>\n",
       "      <td>26.0</td>\n",
       "    </tr>\n",
       "  </tbody>\n",
       "</table>\n",
       "</div>"
      ],
      "text/plain": [
       "                           EPL  La Liga  Serie A  Bundesliga\n",
       "Month      Stat                                             \n",
       "08/01/2012 MatchesPlayed  20.0       20     10.0        10.0\n",
       "09/01/2012 MatchesPlayed  38.0       39     50.0        44.0\n",
       "10/01/2012 MatchesPlayed  31.0       31     39.0        27.0\n",
       "11/01/2012 MatchesPlayed  50.0       41     42.0        46.0\n",
       "12/01/2012 MatchesPlayed  59.0       39     39.0        26.0"
      ]
     },
     "execution_count": 118,
     "metadata": {},
     "output_type": "execute_result"
    }
   ],
   "source": [
    "df.head()"
   ]
  },
  {
   "cell_type": "code",
   "execution_count": 119,
   "metadata": {
    "collapsed": false
   },
   "outputs": [
    {
     "data": {
      "text/plain": [
       "EPL           20.0\n",
       "La Liga       20.0\n",
       "Serie A       10.0\n",
       "Bundesliga    10.0\n",
       "Name: (08/01/2012, MatchesPlayed), dtype: float64"
      ]
     },
     "execution_count": 119,
     "metadata": {},
     "output_type": "execute_result"
    }
   ],
   "source": [
    "df.loc['08/01/2012','MatchesPlayed']"
   ]
  },
  {
   "cell_type": "code",
   "execution_count": 120,
   "metadata": {
    "collapsed": true
   },
   "outputs": [],
   "source": [
    "import matplotlib.pyplot as plt"
   ]
  },
  {
   "cell_type": "code",
   "execution_count": 121,
   "metadata": {
    "collapsed": true
   },
   "outputs": [],
   "source": [
    "%matplotlib inline"
   ]
  },
  {
   "cell_type": "code",
   "execution_count": 123,
   "metadata": {
    "collapsed": false
   },
   "outputs": [
    {
     "data": {
      "text/plain": [
       "[<matplotlib.lines.Line2D at 0x78eabd0>]"
      ]
     },
     "execution_count": 123,
     "metadata": {},
     "output_type": "execute_result"
    },
    {
     "data": {
      "image/png": "[encoded data removed]",
      "text/plain": [
       "<matplotlib.figure.Figure at 0x6e9eeb0>"
      ]
     },
     "metadata": {},
     "output_type": "display_data"
    }
   ],
   "source": [
    "plt.plot(np.random.randn(50).cumsum(),'b-')"
   ]
  },
  {
   "cell_type": "code",
   "execution_count": 130,
   "metadata": {
    "collapsed": false
   },
   "outputs": [
    {
     "data": {
      "image/png": "[encoded data removed]",
      "text/plain": [
       "<matplotlib.figure.Figure at 0x7251e30>"
      ]
     },
     "metadata": {},
     "output_type": "display_data"
    }
   ],
   "source": [
    "plt.hist(np.random.randn(10000), bins=100, color ='b', alpha = 0.5)\n",
    "plt.show()"
   ]
  },
  {
   "cell_type": "code",
   "execution_count": 133,
   "metadata": {
    "collapsed": false
   },
   "outputs": [
    {
     "data": {
      "text/plain": [
       "<function matplotlib.pyplot.show>"
      ]
     },
     "execution_count": 133,
     "metadata": {},
     "output_type": "execute_result"
    },
    {
     "data": {
      "image/png": "[encoded data removed]",
      "text/plain": [
       "<matplotlib.figure.Figure at 0x7569770>"
      ]
     },
     "metadata": {},
     "output_type": "display_data"
    }
   ],
   "source": [
    "plt.scatter(np.arange(300), np.arange(300) + 3 * np.random.randn(300))\n",
    "plt.show"
   ]
  },
  {
   "cell_type": "code",
   "execution_count": 145,
   "metadata": {
    "collapsed": false
   },
   "outputs": [
    {
     "data": {
      "image/png": "[encoded data removed]",
      "text/plain": [
       "<matplotlib.figure.Figure at 0x9d129f0>"
      ]
     },
     "metadata": {},
     "output_type": "display_data"
    }
   ],
   "source": [
    "fig, axes = plt.subplots(2,2, sharex = True, sharey = True)\n",
    "for i in range(2):\n",
    "    for j in range(2):\n",
    "        axes[i,j].hist(np.random.randn(500), bins = 50, color ='r')\n",
    "        \n",
    "plt.subplots_adjust(wspace=0, hspace=0)"
   ]
  },
  {
   "cell_type": "code",
   "execution_count": 146,
   "metadata": {
    "collapsed": false
   },
   "outputs": [
    {
     "data": {
      "text/plain": [
       "[<matplotlib.lines.Line2D at 0xa0d4f70>]"
      ]
     },
     "execution_count": 146,
     "metadata": {},
     "output_type": "execute_result"
    },
    {
     "data": {
      "image/png": "[encoded data removed]",
      "text/plain": [
       "<matplotlib.figure.Figure at 0x9fb3290>"
      ]
     },
     "metadata": {},
     "output_type": "display_data"
    }
   ],
   "source": [
    "plt.plot(np.arange(10), np.arange(10), 'r^')"
   ]
  },
  {
   "cell_type": "code",
   "execution_count": 152,
   "metadata": {
    "collapsed": false
   },
   "outputs": [
    {
     "data": {
      "image/png": "[encoded data removed]",
      "text/plain": [
       "<matplotlib.figure.Figure at 0x89c7130>"
      ]
     },
     "metadata": {},
     "output_type": "display_data"
    }
   ],
   "source": [
    "color = np.array(['g','r'])\n",
    "styles = np.array(['-','--','-.',':','x','o','^'])\n",
    "\n",
    "fig, axes = plt.subplots(2,7, sharex = True, sharey = True)\n",
    "for i in xrange(2):\n",
    "    for j in xrange(7):\n",
    "        axes[i,j].plot(np.arange(10), np.arange(10) + 3 * np.random.randn(10), color[i] + styles[j])\n",
    "\n",
    "plt.subplots_adjust(wspace=0,hspace=0)"
   ]
  },
  {
   "cell_type": "code",
   "execution_count": 156,
   "metadata": {
    "collapsed": false
   },
   "outputs": [
    {
     "data": {
      "image/png": "[encoded data removed]",
      "text/plain": [
       "<matplotlib.figure.Figure at 0x8b8c9f0>"
      ]
     },
     "metadata": {},
     "output_type": "display_data"
    }
   ],
   "source": [
    "plt.xlabel('X')\n",
    "plt.ylabel('Y')\n",
    "plt.title('Hello world')\n",
    "plt.axis([0,1000,-50,50])\n",
    "plt.grid(True)\n",
    "plt.plot(np.random.randn(1000), label = 'one')\n",
    "plt.plot(np.random.randn(1000).cumsum(), label = 'two')\n",
    "plt.legend()\n",
    "plt.show()"
   ]
  },
  {
   "cell_type": "code",
   "execution_count": null,
   "metadata": {
    "collapsed": true
   },
   "outputs": [],
   "source": [
    "np.random.randn(100).cumsum"
   ]
  }
 ],
 "metadata": {
  "kernelspec": {
   "display_name": "Python 2",
   "language": "python",
   "name": "python2"
  },
  "language_info": {
   "codemirror_mode": {
    "name": "ipython",
    "version": 2
   },
   "file_extension": ".py",
   "mimetype": "text/x-python",
   "name": "python",
   "nbconvert_exporter": "python",
   "pygments_lexer": "ipython2",
   "version": "2.7.13"
  }
 },
 "nbformat": 4,
 "nbformat_minor": 2
}
