{
 "cells": [
  {
   "cell_type": "code",
   "execution_count": 3,
   "metadata": {
    "collapsed": false
   },
   "outputs": [
    {
     "name": "stdout",
     "output_type": "stream",
     "text": [
      "52\n"
     ]
    }
   ],
   "source": [
    "# 연습문제\n",
    "# 1. Calculator class 작성\n",
    "\n",
    "class Calculator(object):\n",
    "    \n",
    "    def __init__(self, a, b, func):          =====> # ***** 함수안에 함수를 활용하는 부분\n",
    "        self.a = int(a)\n",
    "        self.b = int(b)\n",
    "        self.func = func\n",
    "        \n",
    "    def any_func(self):                \n",
    "        result = self.func(self.a, self.b)   =====> # 이렇게 사용 할 경우에 함수사용에 범용성이 높아진다.\n",
    "        return result\n",
    "\n",
    "cal = Calculator(4,6, lambda x, y : x**2 + y**2)\n",
    "print cal.any_func()"
   ]
  },
  {
   "cell_type": "code",
   "execution_count": 7,
   "metadata": {
    "collapsed": false
   },
   "outputs": [],
   "source": [
    "# 연습문제\n",
    "# 2. 멜론 일간 음악 랭킹 구하는 calss 구현\n",
    "\n",
    "class MelonMusicRank(object):\n",
    "    \n",
    "    def __Init__(self):\n",
    "        self.songs = {}\n",
    "        \n",
    "    def increse_music(self,title):\n",
    "        if self.songs[title] in self.songs:\n",
    "            self.songs[title] += 1\n",
    "        else:\n",
    "            self.songs[title] = 1\n",
    "    \n",
    "    def rank_service(self):\n",
    "        return sorted(self.songs.items(), key = lambda x:x[1], reverse = True)\n",
    "                      # dict 형태의 {'title1':count1, 'title2':count2, ....}를 [(title1:count1), (title2:count2)..] 형태로 변환\n",
    "                      # 변환 후에 리스트 첫번째 부터 끝까지 돌면서 각 튜플에 index[1]의 값을 반환"
   ]
  },
  {
   "cell_type": "code",
   "execution_count": 8,
   "metadata": {
    "collapsed": false
   },
   "outputs": [
    {
     "name": "stdout",
     "output_type": "stream",
     "text": [
      "Car22(engine='super power', door='ultra')\n",
      "Car22(engine='super2', door='side') <class '__main__.Car22'>\n"
     ]
    }
   ],
   "source": [
    "from collections import namedtuple\n",
    "Car = namedtuple('Car22', 'engine door')\n",
    "\n",
    "car1 = Car('super power', 'ultra')\n",
    "print car1\n",
    "\n",
    "car2 = Car(engine = 'super2', door = 'side')\n",
    "\n",
    "print car2, type(car2)"
   ]
  },
  {
   "cell_type": "code",
   "execution_count": 17,
   "metadata": {
    "collapsed": false
   },
   "outputs": [],
   "source": [
    "from collections import namedtuple\n",
    "Car = namedtuple('E','engi2 door')     # namedtuple에서 첫번째 오는 factor는 뭐지?"
   ]
  },
  {
   "cell_type": "code",
   "execution_count": 18,
   "metadata": {
    "collapsed": false
   },
   "outputs": [
    {
     "name": "stdout",
     "output_type": "stream",
     "text": [
      "E(engi2='mini', door='small')\n"
     ]
    }
   ],
   "source": [
    "car1 = Car('mini','small')\n",
    "print car1"
   ]
  },
  {
   "cell_type": "code",
   "execution_count": 23,
   "metadata": {
    "collapsed": true
   },
   "outputs": [],
   "source": [
    "Pet = namedtuple('pet_info', ['name','age'])    # 첫번째 오는 건 튜플의 이름같은 느낌?"
   ]
  },
  {
   "cell_type": "code",
   "execution_count": 24,
   "metadata": {
    "collapsed": false
   },
   "outputs": [
    {
     "name": "stdout",
     "output_type": "stream",
     "text": [
      "pet_info(name='gomdung', age='20')\n"
     ]
    }
   ],
   "source": [
    "cat = Pet('gomdung','20')\n",
    "print cat"
   ]
  },
  {
   "cell_type": "code",
   "execution_count": 25,
   "metadata": {
    "collapsed": false
   },
   "outputs": [
    {
     "name": "stdout",
     "output_type": "stream",
     "text": [
      "gomdung\n"
     ]
    }
   ],
   "source": [
    "print cat[0]"
   ]
  },
  {
   "cell_type": "code",
   "execution_count": 26,
   "metadata": {
    "collapsed": false
   },
   "outputs": [
    {
     "name": "stdout",
     "output_type": "stream",
     "text": [
      "20\n"
     ]
    }
   ],
   "source": [
    "print cat[1]"
   ]
  },
  {
   "cell_type": "code",
   "execution_count": 29,
   "metadata": {
    "collapsed": false
   },
   "outputs": [
    {
     "name": "stdout",
     "output_type": "stream",
     "text": [
      "<type 'str'> <type 'str'>\n"
     ]
    }
   ],
   "source": [
    "name, age = cat                # 왜 이렇게 되는 지 모르겠다.\n",
    "print type(name), type(age)"
   ]
  },
  {
   "cell_type": "code",
   "execution_count": 30,
   "metadata": {
    "collapsed": true
   },
   "outputs": [],
   "source": [
    "a = (10,40,50)"
   ]
  },
  {
   "cell_type": "code",
   "execution_count": 31,
   "metadata": {
    "collapsed": true
   },
   "outputs": [],
   "source": [
    "name, age, hold = a"
   ]
  },
  {
   "cell_type": "code",
   "execution_count": 32,
   "metadata": {
    "collapsed": false
   },
   "outputs": [
    {
     "name": "stdout",
     "output_type": "stream",
     "text": [
      "10\n"
     ]
    }
   ],
   "source": [
    "print name"
   ]
  },
  {
   "cell_type": "code",
   "execution_count": 33,
   "metadata": {
    "collapsed": true
   },
   "outputs": [],
   "source": [
    "# 연습문제\n",
    "# 3. 학생이름, 나이, 전공을 속성으로 갖는 class 작성\n",
    "\n",
    "class Student(object):\n",
    "    \n",
    "    def __init__(self, name, age, major):\n",
    "        self.name = name\n",
    "        self.age = age\n",
    "        self.major = major"
   ]
  },
  {
   "cell_type": "code",
   "execution_count": 36,
   "metadata": {
    "collapsed": true
   },
   "outputs": [],
   "source": [
    "# 연습문제\n",
    "# 4. namedtuple로 학생이름, 나이, 전공을 속성으로 갖는 class 작성\n",
    "\n",
    "from collections import namedtuple\n",
    "\n",
    "Student = namedtuple('Student_info',['name','age','major'])"
   ]
  },
  {
   "cell_type": "code",
   "execution_count": 37,
   "metadata": {
    "collapsed": true
   },
   "outputs": [],
   "source": [
    "class StudentScoreAndCourseManager(object):\n",
    "    def __init__(self):\n",
    "        scores = {}\n",
    "        courses = {}\n",
    "        \n",
    "    def get_score(self, student_name, course):\n",
    "        pass\n",
    "    \n",
    "    def get_courses(self, student_name):\n",
    "        pass"
   ]
  },
  {
   "cell_type": "code",
   "execution_count": 38,
   "metadata": {
    "collapsed": true
   },
   "outputs": [],
   "source": [
    "class ScoreManager(object):\n",
    "    def __init__(self):\n",
    "        scores = {}\n",
    "        \n",
    "    def get_score(self, student_name, course):\n",
    "        pass\n",
    "    \n",
    "class CourseManager(object):\n",
    "    def __init__(self):\n",
    "        courses = {}\n",
    "        \n",
    "    def get_courses(self,student_name):\n",
    "        pass"
   ]
  },
  {
   "cell_type": "code",
   "execution_count": null,
   "metadata": {
    "collapsed": true
   },
   "outputs": [],
   "source": []
  }
 ],
 "metadata": {
  "kernelspec": {
   "display_name": "Python 2",
   "language": "python",
   "name": "python2"
  },
  "language_info": {
   "codemirror_mode": {
    "name": "ipython",
    "version": 2
   },
   "file_extension": ".py",
   "mimetype": "text/x-python",
   "name": "python",
   "nbconvert_exporter": "python",
   "pygments_lexer": "ipython2",
   "version": "2.7.13"
  }
 },
 "nbformat": 4,
 "nbformat_minor": 2
}
