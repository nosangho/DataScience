{
 "cells": [
  {
   "cell_type": "code",
   "execution_count": 1,
   "metadata": {
    "collapsed": false
   },
   "outputs": [
    {
     "name": "stderr",
     "output_type": "stream",
     "text": [
      "c:\\python27\\lib\\site-packages\\bs4\\__init__.py:181: UserWarning: No parser was explicitly specified, so I'm using the best available HTML parser for this system (\"html5lib\"). This usually isn't a problem, but if you run this code on another system, or in a different virtual environment, it may use a different parser and behave differently.\n",
      "\n",
      "The code that caused this warning is on line 174 of the file c:\\python27\\lib\\runpy.py. To get rid of this warning, change code that looks like this:\n",
      "\n",
      " BeautifulSoup([your markup])\n",
      "\n",
      "to this:\n",
      "\n",
      " BeautifulSoup([your markup], \"html5lib\")\n",
      "\n",
      "  markup_type=markup_type))\n"
     ]
    },
    {
     "ename": "AttributeError",
     "evalue": "'NoneType' object has no attribute 'find_all'",
     "output_type": "error",
     "traceback": [
      "\u001b[0;31m---------------------------------------------------------------------------\u001b[0m",
      "\u001b[0;31mAttributeError\u001b[0m                            Traceback (most recent call last)",
      "\u001b[0;32m<ipython-input-1-71133420a2d0>\u001b[0m in \u001b[0;36m<module>\u001b[0;34m()\u001b[0m\n\u001b[1;32m     88\u001b[0m \u001b[1;33m\u001b[0m\u001b[0m\n\u001b[1;32m     89\u001b[0m \u001b[0mwine2\u001b[0m \u001b[1;33m=\u001b[0m \u001b[0mGetText\u001b[0m\u001b[1;33m(\u001b[0m\u001b[0murl_list\u001b[0m\u001b[1;33m)\u001b[0m\u001b[1;33m\u001b[0m\u001b[0m\n\u001b[0;32m---> 90\u001b[0;31m \u001b[1;32mprint\u001b[0m \u001b[0mwine2\u001b[0m\u001b[1;33m.\u001b[0m\u001b[0mwine_info\u001b[0m\u001b[1;33m(\u001b[0m\u001b[1;33m)\u001b[0m\u001b[1;33m\u001b[0m\u001b[0m\n\u001b[0m",
      "\u001b[0;32m<ipython-input-1-71133420a2d0>\u001b[0m in \u001b[0;36mwine_info\u001b[0;34m(self)\u001b[0m\n\u001b[1;32m     79\u001b[0m \u001b[1;33m\u001b[0m\u001b[0m\n\u001b[1;32m     80\u001b[0m             \u001b[0mli7\u001b[0m \u001b[1;33m=\u001b[0m \u001b[0msoup\u001b[0m\u001b[1;33m.\u001b[0m\u001b[0mfind\u001b[0m\u001b[1;33m(\u001b[0m\u001b[1;34m'li'\u001b[0m\u001b[1;33m,\u001b[0m \u001b[0mattrs\u001b[0m \u001b[1;33m=\u001b[0m \u001b[1;33m{\u001b[0m\u001b[1;34m'class'\u001b[0m \u001b[1;33m:\u001b[0m \u001b[1;34m'Body'\u001b[0m\u001b[1;33m}\u001b[0m\u001b[1;33m)\u001b[0m\u001b[1;33m\u001b[0m\u001b[0m\n\u001b[0;32m---> 81\u001b[0;31m             \u001b[0mpx\u001b[0m \u001b[1;33m=\u001b[0m \u001b[0mli7\u001b[0m\u001b[1;33m.\u001b[0m\u001b[0mfind_all\u001b[0m\u001b[1;33m(\u001b[0m\u001b[1;34m'img'\u001b[0m\u001b[1;33m)\u001b[0m\u001b[1;33m[\u001b[0m\u001b[1;36m1\u001b[0m\u001b[1;33m]\u001b[0m\u001b[1;33m[\u001b[0m\u001b[1;34m'style'\u001b[0m\u001b[1;33m]\u001b[0m\u001b[1;33m\u001b[0m\u001b[0m\n\u001b[0m\u001b[1;32m     82\u001b[0m             \u001b[0mwine_dict\u001b[0m\u001b[1;33m[\u001b[0m\u001b[0mwine\u001b[0m\u001b[1;33m]\u001b[0m\u001b[1;33m[\u001b[0m\u001b[1;34m'body'\u001b[0m\u001b[1;33m]\u001b[0m \u001b[1;33m=\u001b[0m \u001b[0mre\u001b[0m\u001b[1;33m.\u001b[0m\u001b[0msearch\u001b[0m\u001b[1;33m(\u001b[0m\u001b[1;34mr'\\d+'\u001b[0m\u001b[1;33m,\u001b[0m \u001b[0mpx\u001b[0m\u001b[1;33m)\u001b[0m\u001b[1;33m.\u001b[0m\u001b[0mgroup\u001b[0m\u001b[1;33m(\u001b[0m\u001b[1;33m)\u001b[0m\u001b[1;33m\u001b[0m\u001b[0m\n\u001b[1;32m     83\u001b[0m \u001b[1;33m\u001b[0m\u001b[0m\n",
      "\u001b[0;31mAttributeError\u001b[0m: 'NoneType' object has no attribute 'find_all'"
     ]
    }
   ],
   "source": [
    "import requests\n",
    "from bs4 import BeautifulSoup\n",
    "from HTMLParser import HTMLParser\n",
    "import re\n",
    "\n",
    "#GetUrl 클래스 : 인기순으로 정렬된 화면에서 각 와인에 대한 설명 페이지로 들어가는 링크를 리스트로 반환\n",
    "\n",
    "class GetUrl(object):\n",
    "    def __init__(self, url):\n",
    "        self.url = url\n",
    "    \n",
    "    def get_url(self):\n",
    "        res = requests.get(self.url)\n",
    "        soup = BeautifulSoup(res.text)\n",
    "        links = []\n",
    "        \n",
    "        for dd in soup.find_all('dd', attrs = {'class' : 'EngName'}):\n",
    "            links.append(str(dd.a['href']))\n",
    "        \n",
    "        return links\n",
    "    \n",
    "    def make_url(self):\n",
    "        links = self.get_url()\n",
    "        wine_url = []\n",
    "        url_base = 'http://wine21.com/13_WineSearch/winesearch01_view.php?sh_searchtype=2&sh_winetype=Red&sh_orderby=viewcnt|DESC&SelUno={}&page=1&increment=0'\n",
    "        \n",
    "        for i in links:\n",
    "            val = re.search(r'\\d{5}', i).group()\n",
    "            wine_url.append(url_base.format(val))\n",
    "        \n",
    "        return wine_url\n",
    "\n",
    "url = 'http://wine21.com/13_WineSearch/winesearch01_list.php?sh_searchtype=2&sh_winetype=Red&sh_orderby=viewcnt|DESC'  \n",
    "#인기순으로 정렬한 페이지의 url 주소\n",
    "\n",
    "wine = GetUrl(url)\n",
    "url_list = wine.make_url()\n",
    "\n",
    "\n",
    "#GetText 클래스 : 각 와인에 대한 설명 페이지의 url 리스트를 원소로 갖는다 (GetUrl 클래스에서 생성), 각 와인 이름을 key로 하고 포도종류, 당도 등을 value로 갖는 dict를 만든다.\n",
    "\n",
    "from collections import OrderedDict\n",
    "\n",
    "class GetText(object):\n",
    "    def __init__(self, ulist):\n",
    "        self.ulist = ulist\n",
    "    \n",
    "    def wine_info(self):\n",
    "        wine_dict = OrderedDict()\n",
    "        \n",
    "        for url in self.ulist :\n",
    "            res = requests.get(url)\n",
    "            soup = BeautifulSoup(res.text)\n",
    "            li = soup.find('li', attrs = {'class' : 'WineEndName'})\n",
    "            wine = li.get_text()\n",
    "            wine_dict[wine] = OrderedDict()\n",
    "            \n",
    "            li2 = soup.find('li', attrs = {'class' : 'Winery'})  #한글 인코딩 문제\n",
    "            producer = li2.a.get_text()\n",
    "            wine_dict[wine]['producer'] = producer\n",
    "            \n",
    "            li3 = soup.find('li', attrs = {'class' : 'Varieties'})\n",
    "            varieties = ''\n",
    "            for var in li3.find_all('a') :\n",
    "                varieties += var.get_text()\n",
    "            wine_dict[wine]['varieties'] = varieties\n",
    "            \n",
    "            li4 = soup.find('li', attrs = {'class' : 'BestFor'})  #앞 뒤 공백(\\n) 문제\n",
    "            bestfor = li4.get_text()\n",
    "            wine_dict[wine]['bestfor'] = bestfor\n",
    "            \n",
    "            li5 = soup.find('li', attrs = {'class' : 'ServingTemp'})  #특수문자 표기 문제(ºC)\n",
    "            servingtemp = li5.get_text()\n",
    "            wine_dict[wine]['servingtemp'] = servingtemp\n",
    "            \n",
    "            li6 = soup.find('li', attrs = {'class' : 'Sweetness'})\n",
    "            px = li6.find_all('img')[1]['style']\n",
    "            wine_dict[wine]['sweetness'] = re.search(r'\\d+', px).group()\n",
    "            \n",
    "            li7 = soup.find('li', attrs = {'class' : 'Body'})\n",
    "            px = li7.find_all('img')[1]['style']\n",
    "            wine_dict[wine]['body'] = re.search(r'\\d+', px).group()\n",
    "            \n",
    "            ul = soup.find('ul', attrs = {'class' : 'TastingnoteList'})  #한글 깨져서 나옴\n",
    "            wine_dict[wine]['tastingnote']= ul.get_text()\n",
    "            \n",
    "        return wine_dict\n",
    "\n",
    "wine2 = GetText(url_list)\n",
    "print wine2.wine_info()\n"
   ]
  },
  {
   "cell_type": "code",
   "execution_count": 35,
   "metadata": {
    "collapsed": false
   },
   "outputs": [],
   "source": [
    "# -*- coding: utf-8 -*-\n",
    "from bs4 import BeautifulSoup\n",
    "import requests\n",
    "import re\n",
    "from HTMLParser import HTMLParser"
   ]
  },
  {
   "cell_type": "code",
   "execution_count": 40,
   "metadata": {
    "collapsed": true
   },
   "outputs": [],
   "source": [
    "response = requests.get(\"http://wine21.com/13_WineSearch/winesearch01_list.php\")\n",
    "dom = BeautifulSoup(response.text, \"html.parser\")\n",
    "\n",
    "wine_names = dom.select(\"div#WineSearchList dd.EngName\")"
   ]
  },
  {
   "cell_type": "code",
   "execution_count": 41,
   "metadata": {
    "collapsed": false
   },
   "outputs": [],
   "source": [
    "wine_name = wine_names[0]"
   ]
  },
  {
   "cell_type": "code",
   "execution_count": 42,
   "metadata": {
    "collapsed": false
   },
   "outputs": [
    {
     "data": {
      "text/plain": [
       "u'Genio Espanol Silver'"
      ]
     },
     "execution_count": 42,
     "metadata": {},
     "output_type": "execute_result"
    }
   ],
   "source": [
    "wine_name.text"
   ]
  },
  {
   "cell_type": "code",
   "execution_count": 44,
   "metadata": {
    "collapsed": false
   },
   "outputs": [
    {
     "name": "stdout",
     "output_type": "stream",
     "text": [
      "[u'Genio Espanol Silver', u'Genio Espanol Gold', u'Vinas Del Rey', u'Forman, Cabernet Sauvignon', u'Paso a Paso Tempranillo', u'Finca Luzon', u'Tarima', u'Anciens Temps Cabernet Syrah', u'Cannonball Cabernet Sauvignon', u'Chateau Le Vieux Chen', u'Manoir Grignon Sauvignon Blanc', u'Chatains Marte ']\n"
     ]
    }
   ],
   "source": [
    "result = []\n",
    "\n",
    "for wine_EngName in wine_names:\n",
    "     result.append(wine_EngName.text)\n",
    "\n",
    "print result,        "
   ]
  },
  {
   "cell_type": "code",
   "execution_count": null,
   "metadata": {
    "collapsed": false
   },
   "outputs": [],
   "source": [
    "# http://wine21.com/13_WineSearch/winesearch01_list.php?sh_searchtype=1&page=3&increment=0\n",
    "for i in range(1,1476):\n",
    "    url = \"http://wine21.com/13_WineSearch/winesearch01_list.php?sh_searchtype=1&page={}&increment=0\".format(i)\n",
    "\n",
    "\n",
    "    response = requests.get(url)\n",
    "    dom = BeautifulSoup(response.text, \"html.parser\")\n",
    "\n",
    "    wine_names = dom.select(\"div#WineSearchList dd.EngName\")\n",
    "\n",
    "    for wine_EngName in wine_names:\n",
    "        result.append(wine_EngName.text)\n",
    "        \n",
    "len(result)        "
   ]
  },
  {
   "cell_type": "code",
   "execution_count": null,
   "metadata": {
    "collapsed": true
   },
   "outputs": [],
   "source": [
    "for i in range(37198,61674):\n",
    "    url = \"http://wine21.com/13_WineSearch/winesearch01_view.php?sh_searchtype=1&sh_orderby=writedate|DESC&sh_MaxPage=100&SelUno={}&page=1&increment=0\".format(i)\n",
    "\n",
    "\n",
    "    response = requests.get(url)\n",
    "    dom = BeautifulSoup(response.text, \"html.parser\")\n",
    "\n",
    "    wine_names = dom.select(\"div#WineViewTitle ul.WineName\")\n",
    "\n",
    "    for wine_name in wine_names:\n",
    "        result.append(wine_EngName.text)\n",
    "        \n",
    "len(result)     "
   ]
  },
  {
   "cell_type": "code",
   "execution_count": 77,
   "metadata": {
    "collapsed": false
   },
   "outputs": [
    {
     "data": {
      "text/plain": [
       "<ul class=\"WineName\">\\n<li class=\"WineKorName\">\\xec\\x95\\x84\\xeb\\xa5\\xb4\\xec\\x88\\x98\\xec\\x95\\x84\\xea\\xb0\\x80 \\xed\\x8c\\x90 \\xeb\\x8d\\xb0 \\xec\\x98\\xa4\\xeb\\xa1\\x9c 2014</li>\\n<li class=\"WineEndName\">Fan D. Oro 2014</li>\\n<li class=\"WineProduction\"><a href=\"javascript:ProductionWineListIt('P40');\">Spain</a> &gt; <a href=\"javascript:ProductionWineListIt('P4047');\">Ribera del Duero</a></li>\\n</ul>"
      ]
     },
     "execution_count": 77,
     "metadata": {},
     "output_type": "execute_result"
    }
   ],
   "source": [
    "from bs4 import BeautifulSoup\n",
    "import requests\n",
    "import re\n",
    "from HTMLParser import HTMLParser\n",
    "\n",
    "url = \"http://wine21.com/13_WineSearch/winesearch01_view.php?sh_searchtype=1&sh_orderby=writedate|DESC&sh_MaxPage=100&SelUno=61555&page=1&increment=0\"\n",
    "\n",
    "\n",
    "response = requests.get(url)\n",
    "dom = BeautifulSoup(response.text, \"html.parser\")\n",
    "\n",
    "wine_names = dom.select(\"div#WineViewTitle ul.WineName\")\n",
    "wine_name = wine_names[0]\n",
    "wine_name"
   ]
  },
  {
   "cell_type": "code",
   "execution_count": 81,
   "metadata": {
    "collapsed": false
   },
   "outputs": [
    {
     "ename": "TypeError",
     "evalue": "'NoneType' object is not callable",
     "output_type": "error",
     "traceback": [
      "\u001b[0;31m---------------------------------------------------------------------------\u001b[0m",
      "\u001b[0;31mTypeError\u001b[0m                                 Traceback (most recent call last)",
      "\u001b[0;32m<ipython-input-81-d92ba4964d99>\u001b[0m in \u001b[0;36m<module>\u001b[0;34m()\u001b[0m\n\u001b[0;32m----> 1\u001b[0;31m \u001b[0mwine_name\u001b[0m\u001b[1;33m.\u001b[0m\u001b[0msplit\u001b[0m\u001b[1;33m(\u001b[0m\u001b[1;34m\">\"\u001b[0m\u001b[1;33m)\u001b[0m\u001b[1;33m\u001b[0m\u001b[0m\n\u001b[0m",
      "\u001b[0;31mTypeError\u001b[0m: 'NoneType' object is not callable"
     ]
    }
   ],
   "source": [
    "wine_name.split(\">\")"
   ]
  },
  {
   "cell_type": "code",
   "execution_count": null,
   "metadata": {
    "collapsed": true
   },
   "outputs": [],
   "source": []
  },
  {
   "cell_type": "code",
   "execution_count": null,
   "metadata": {
    "collapsed": true
   },
   "outputs": [],
   "source": []
  }
 ],
 "metadata": {
  "kernelspec": {
   "display_name": "Python 2",
   "language": "python",
   "name": "python2"
  },
  "language_info": {
   "codemirror_mode": {
    "name": "ipython",
    "version": 2
   },
   "file_extension": ".py",
   "mimetype": "text/x-python",
   "name": "python",
   "nbconvert_exporter": "python",
   "pygments_lexer": "ipython2",
   "version": "2.7.13"
  }
 },
 "nbformat": 4,
 "nbformat_minor": 2
}
