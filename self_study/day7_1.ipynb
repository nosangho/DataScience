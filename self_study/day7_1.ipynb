{
 "cells": [
  {
   "cell_type": "code",
   "execution_count": 5,
   "metadata": {
    "collapsed": false
   },
   "outputs": [
    {
     "ename": "SyntaxError",
     "evalue": "invalid syntax (<ipython-input-5-e5ab4b6b6468>, line 5)",
     "output_type": "error",
     "traceback": [
      "\u001b[0;36m  File \u001b[0;32m\"<ipython-input-5-e5ab4b6b6468>\"\u001b[0;36m, line \u001b[0;32m5\u001b[0m\n\u001b[0;31m    def compare(self.word2):\u001b[0m\n\u001b[0m                    ^\u001b[0m\n\u001b[0;31mSyntaxError\u001b[0m\u001b[0;31m:\u001b[0m invalid syntax\n"
     ]
    }
   ],
   "source": [
    "class Word(object):\n",
    "    def __init__(self, text):\n",
    "        self.text = text\n",
    "        \n",
    "    def compare(self.word2):\n",
    "        return self.text.lower() == word2.text.lower()\n",
    "        \n",
    "    def __eq__(self,word2):\n",
    "        return self.text.lower() == word2.text.lower()\n",
    "    \n",
    "    def __len__(self):\n",
    "        return len(self.text)\n",
    "    \n",
    "    def length(self):     # 위의 시과 동일\n",
    "        return len(self.text)\n",
    "    \n",
    "    def append(self.word2):\n",
    "        return Word(self.text+ ' '+word2.text) # word라는 class 객체로 반환시키려고\n",
    "    \n",
    "    def __str__(self):    # text로 반환하는 스페셜메소드 print문을 만났을때\n",
    "        return self.text  # 그냥하면 표현식으로 나옴 \n",
    "\n",
    "    def __repr__(self):   # 대부분의 경우 print로 출력해줌\n",
    "        return self.text\n",
    "    \n",
    "    \n",
    "w1 = Word('Sangho')\n",
    "w2 = Word('sangho')\n",
    "\n",
    "print w1 == w2\n",
    "# print w1.__eq__(w2) 위의 식과 동일 위의것이 더 간단하게 표현\n",
    "\n",
    "print len(w1)\n",
    "print w1.length() # 이렇게도 호출가능 / 스페셜메소드가 아니라 내장함수로 기능\n"
   ]
  },
  {
   "cell_type": "code",
   "execution_count": null,
   "metadata": {
    "collapsed": true
   },
   "outputs": [],
   "source": []
  },
  {
   "cell_type": "code",
   "execution_count": 13,
   "metadata": {
    "collapsed": false
   },
   "outputs": [
    {
     "name": "stdout",
     "output_type": "stream",
     "text": [
      "[word(self.text), word(self.text), word(self.text), word(self.text)]\n"
     ]
    },
    {
     "ename": "TypeError",
     "evalue": "__getitem__() takes exactly 1 argument (2 given)",
     "output_type": "error",
     "traceback": [
      "\u001b[0;31m---------------------------------------------------------------------------\u001b[0m",
      "\u001b[0;31mTypeError\u001b[0m                                 Traceback (most recent call last)",
      "\u001b[0;32m<ipython-input-13-7d25c408b2c1>\u001b[0m in \u001b[0;36m<module>\u001b[0;34m()\u001b[0m\n\u001b[1;32m     26\u001b[0m \u001b[1;33m\u001b[0m\u001b[0m\n\u001b[1;32m     27\u001b[0m \u001b[1;32mprint\u001b[0m \u001b[0msorted\u001b[0m\u001b[1;33m(\u001b[0m\u001b[0mwords\u001b[0m\u001b[1;33m,\u001b[0m \u001b[0mkey\u001b[0m \u001b[1;33m=\u001b[0m \u001b[1;32mlambda\u001b[0m \u001b[0mx\u001b[0m \u001b[1;33m:\u001b[0m \u001b[0mlen\u001b[0m\u001b[1;33m(\u001b[0m\u001b[0mx\u001b[0m\u001b[1;33m)\u001b[0m\u001b[1;33m)\u001b[0m\u001b[1;33m\u001b[0m\u001b[0m\n\u001b[0;32m---> 28\u001b[0;31m \u001b[1;32mprint\u001b[0m \u001b[0msorted\u001b[0m\u001b[1;33m(\u001b[0m\u001b[0mwords\u001b[0m\u001b[1;33m,\u001b[0m \u001b[0mkey\u001b[0m \u001b[1;33m=\u001b[0m \u001b[1;32mlambda\u001b[0m \u001b[0mx\u001b[0m \u001b[1;33m:\u001b[0m \u001b[0mx\u001b[0m\u001b[1;33m[\u001b[0m\u001b[1;36m1\u001b[0m\u001b[1;33m]\u001b[0m\u001b[1;33m)\u001b[0m\u001b[1;33m\u001b[0m\u001b[0m\n\u001b[0m",
      "\u001b[0;32m<ipython-input-13-7d25c408b2c1>\u001b[0m in \u001b[0;36m<lambda>\u001b[0;34m(x)\u001b[0m\n\u001b[1;32m     26\u001b[0m \u001b[1;33m\u001b[0m\u001b[0m\n\u001b[1;32m     27\u001b[0m \u001b[1;32mprint\u001b[0m \u001b[0msorted\u001b[0m\u001b[1;33m(\u001b[0m\u001b[0mwords\u001b[0m\u001b[1;33m,\u001b[0m \u001b[0mkey\u001b[0m \u001b[1;33m=\u001b[0m \u001b[1;32mlambda\u001b[0m \u001b[0mx\u001b[0m \u001b[1;33m:\u001b[0m \u001b[0mlen\u001b[0m\u001b[1;33m(\u001b[0m\u001b[0mx\u001b[0m\u001b[1;33m)\u001b[0m\u001b[1;33m)\u001b[0m\u001b[1;33m\u001b[0m\u001b[0m\n\u001b[0;32m---> 28\u001b[0;31m \u001b[1;32mprint\u001b[0m \u001b[0msorted\u001b[0m\u001b[1;33m(\u001b[0m\u001b[0mwords\u001b[0m\u001b[1;33m,\u001b[0m \u001b[0mkey\u001b[0m \u001b[1;33m=\u001b[0m \u001b[1;32mlambda\u001b[0m \u001b[0mx\u001b[0m \u001b[1;33m:\u001b[0m \u001b[0mx\u001b[0m\u001b[1;33m[\u001b[0m\u001b[1;36m1\u001b[0m\u001b[1;33m]\u001b[0m\u001b[1;33m)\u001b[0m\u001b[1;33m\u001b[0m\u001b[0m\n\u001b[0m",
      "\u001b[0;31mTypeError\u001b[0m: __getitem__() takes exactly 1 argument (2 given)"
     ]
    }
   ],
   "source": [
    "class Word():\n",
    "    def __init__(self,text):\n",
    "        self.text = text\n",
    "        \n",
    "    def __len__(self):\n",
    "        return len(self.text)\n",
    "\n",
    "    def __str__(self):\n",
    "        return self.text\n",
    "\n",
    "    def __getitem__(self):\n",
    "        return self.text[key]\n",
    "    \n",
    "    def __repr__(self):\n",
    "        return 'word(self.text)'\n",
    "\n",
    "w1 = Word('aaron')\n",
    "w2 = Word('Akronhaha')\n",
    "w3 = Word('Bob')\n",
    "w4 = Word('hb')\n",
    "\n",
    "words = [w1, w2, w3, w4]\n",
    "\n",
    "len(w1)\n",
    "len(words)\n",
    "\n",
    "print sorted(words, key = lambda x : len(x))\n",
    "print sorted(words, key = lambda x : x[1])\n",
    "# 이 코드 확인 필요"
   ]
  },
  {
   "cell_type": "code",
   "execution_count": null,
   "metadata": {
    "collapsed": true
   },
   "outputs": [],
   "source": []
  },
  {
   "cell_type": "code",
   "execution_count": null,
   "metadata": {
    "collapsed": true
   },
   "outputs": [],
   "source": [
    "class Complex(object):\n",
    "    \n",
    "    def __init__(self,num,bok):\n",
    "        self.num = num\n",
    "        self.bok = bok\n",
    "    \n",
    "    def __repr__(self):\n",
    "        return '{} + {}j'.format(self.num, self.bok)\n",
    "    \n",
    "    def __str__(self):\n",
    "        return '{} + {}j'.format(self.num, self.bok)\n",
    "    \n",
    "    def __eq__(self, cp2):\n",
    "        return self.num == cp2.num and self.bok == cp2.bok\n",
    "    \n",
    "    def __ne__(self, cp2):\n",
    "        return not (self.num == cp2.num and self.bok == cp2.bok)\n",
    "        \n",
    "    def __add__(self, cp2):\n",
    "        return Complex(self.num + cp2.num, self.bok + cp2.bok.)\n",
    "    \n",
    "    def __sub__(self, cp2):\n",
    "        return Complex(self.num - cp2.num, self.bok - cp2.bok)\n",
    "    \n",
    "    def __mul__(self, cp2):\n",
    "        (self.num*cp2.num - self.bok*cp2.bok)"
   ]
  }
 ],
 "metadata": {
  "kernelspec": {
   "display_name": "Python 2",
   "language": "python",
   "name": "python2"
  },
  "language_info": {
   "codemirror_mode": {
    "name": "ipython",
    "version": 2
   },
   "file_extension": ".py",
   "mimetype": "text/x-python",
   "name": "python",
   "nbconvert_exporter": "python",
   "pygments_lexer": "ipython2",
   "version": "2.7.13"
  }
 },
 "nbformat": 4,
 "nbformat_minor": 2
}
