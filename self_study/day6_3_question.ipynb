{
 "cells": [
  {
   "cell_type": "code",
   "execution_count": 1,
   "metadata": {
    "collapsed": true
   },
   "outputs": [],
   "source": [
    "class ctest_simulation_menthod():\n",
    "    pass"
   ]
  },
  {
   "cell_type": "code",
   "execution_count": 2,
   "metadata": {
    "collapsed": true
   },
   "outputs": [],
   "source": [
    "class person():\n",
    "    pass"
   ]
  },
  {
   "cell_type": "code",
   "execution_count": 5,
   "metadata": {
    "collapsed": false
   },
   "outputs": [],
   "source": [
    "class Person(object):\n",
    "    def __init__(self):\n",
    "\n",
    "        print self\n",
    "        print 'object is creater'"
   ]
  },
  {
   "cell_type": "code",
   "execution_count": 13,
   "metadata": {
    "collapsed": false
   },
   "outputs": [
    {
     "name": "stdout",
     "output_type": "stream",
     "text": [
      "<__main__.Person object at 0x0420D450>\n",
      "object is creater\n"
     ]
    }
   ],
   "source": [
    "p1 = Person()"
   ]
  },
  {
   "cell_type": "code",
   "execution_count": 11,
   "metadata": {
    "collapsed": false
   },
   "outputs": [
    {
     "name": "stdout",
     "output_type": "stream",
     "text": [
      "<__main__.person instance at 0x0422BD50>\n"
     ]
    }
   ],
   "source": [
    "print p1"
   ]
  },
  {
   "cell_type": "code",
   "execution_count": 14,
   "metadata": {
    "collapsed": true
   },
   "outputs": [],
   "source": [
    "class Person(object):\n",
    "    def __init__(self,name,phone):\n",
    "        self.name = name\n",
    "        self.phone = phone\n",
    "        \n",
    "    def test(self):\n",
    "        print \" name : \",self.name\n",
    "        print \" phone_number : \",self.phone"
   ]
  },
  {
   "cell_type": "code",
   "execution_count": 17,
   "metadata": {
    "collapsed": false
   },
   "outputs": [],
   "source": [
    "p1 = Person('sangho','010-4905-2746')"
   ]
  },
  {
   "cell_type": "code",
   "execution_count": 33,
   "metadata": {
    "collapsed": false
   },
   "outputs": [
    {
     "name": "stdout",
     "output_type": "stream",
     "text": [
      " name :  sangho\n",
      " phone_number :  010-4905-2746\n"
     ]
    }
   ],
   "source": [
    "p1.test\n",
    "\n",
    "p1.test()            # 멤버함수 호출 시 뒤에 () 붙이는 것과 안 붙이는 것과의 차이?"
   ]
  },
  {
   "cell_type": "code",
   "execution_count": 26,
   "metadata": {
    "collapsed": false
   },
   "outputs": [],
   "source": [
    "class Person():                # class 정의시 ()의 의미? -> object를 써도되고 안써도 되고...\n",
    "    def __init__(self,name,height):\n",
    "        self.name = name             \n",
    "        self.height = height\n",
    "        \n",
    "    def work(self,hour):       # 멤버함수 정의할때는 self.hour가 필요없나?\n",
    "        print \"{} is works {} hours in day\".format(self.name, hour)"
   ]
  },
  {
   "cell_type": "code",
   "execution_count": 27,
   "metadata": {
    "collapsed": true
   },
   "outputs": [],
   "source": [
    "a1 = Person(\"sangho\",190)"
   ]
  },
  {
   "cell_type": "code",
   "execution_count": 28,
   "metadata": {
    "collapsed": false
   },
   "outputs": [
    {
     "name": "stdout",
     "output_type": "stream",
     "text": [
      "sangho is works 20hours in day\n"
     ]
    }
   ],
   "source": [
    "a1.work(20)"
   ]
  },
  {
   "cell_type": "code",
   "execution_count": 46,
   "metadata": {
    "collapsed": false
   },
   "outputs": [],
   "source": [
    "# 연습문제\n",
    "# 1. Circle class 만들기\n",
    "class Circle():\n",
    "    def __init__(self,radius):\n",
    "        self.radius = radius\n",
    "    def get_area(self):\n",
    "        print \"area :\",3.14 * self.radius * self.radius\n",
    "    def get_length(self):\n",
    "        print \"rength :\", 2 * 3.14 * self.radius"
   ]
  },
  {
   "cell_type": "code",
   "execution_count": 47,
   "metadata": {
    "collapsed": false
   },
   "outputs": [
    {
     "name": "stdout",
     "output_type": "stream",
     "text": [
      "area : 78.5\n",
      "rength : 31.4\n",
      "None\n"
     ]
    }
   ],
   "source": [
    "a1 = Circle(5)\n",
    "a1.get_area()\n",
    "print a1.get_length()"
   ]
  },
  {
   "cell_type": "code",
   "execution_count": 72,
   "metadata": {
    "collapsed": false
   },
   "outputs": [],
   "source": [
    "# 연습문제\n",
    "# 2. BankAccount 만들기\n",
    "class BankAccount():\n",
    "    def __init__(self,amount):\n",
    "        self.amount = amount\n",
    "    \n",
    "    def withdraw(self,amount):\n",
    "        if amount > self.amount:\n",
    "            print \"Not enough Money\"\n",
    "        else:\n",
    "            self.amount -= amount\n",
    "            return self.amount\n",
    "        \n",
    "    def save(self,amount):\n",
    "        self.amount += amount\n",
    "        print self.amount\n",
    "        \n",
    "    def check(self):\n",
    "        print self.amount\n",
    "    \n",
    "    def check_interest(self,interest_month,duration_month):\n",
    "        return self.amount * ((1 + interest_month) ** duration_month)"
   ]
  },
  {
   "cell_type": "code",
   "execution_count": 73,
   "metadata": {
    "collapsed": true
   },
   "outputs": [],
   "source": [
    "sangho_account = BankAccount(1000)"
   ]
  },
  {
   "cell_type": "code",
   "execution_count": 74,
   "metadata": {
    "collapsed": false
   },
   "outputs": [
    {
     "data": {
      "text/plain": [
       "0"
      ]
     },
     "execution_count": 74,
     "metadata": {},
     "output_type": "execute_result"
    }
   ],
   "source": [
    "sangho_account.withdraw(1000)"
   ]
  },
  {
   "cell_type": "code",
   "execution_count": 75,
   "metadata": {
    "collapsed": false
   },
   "outputs": [
    {
     "name": "stdout",
     "output_type": "stream",
     "text": [
      "100000\n"
     ]
    }
   ],
   "source": [
    "sangho_account.save(100000)"
   ]
  },
  {
   "cell_type": "code",
   "execution_count": 76,
   "metadata": {
    "collapsed": false
   },
   "outputs": [
    {
     "name": "stdout",
     "output_type": "stream",
     "text": [
      "100000\n"
     ]
    }
   ],
   "source": [
    "sangho_account.check()"
   ]
  },
  {
   "cell_type": "code",
   "execution_count": 78,
   "metadata": {
    "collapsed": false
   },
   "outputs": [
    {
     "data": {
      "text/plain": [
       "19004963.77488081"
      ]
     },
     "execution_count": 78,
     "metadata": {},
     "output_type": "execute_result"
    }
   ],
   "source": [
    "sangho_account.check_interest(0.3,20)"
   ]
  },
  {
   "cell_type": "code",
   "execution_count": 82,
   "metadata": {
    "collapsed": true
   },
   "outputs": [],
   "source": [
    "# 연습문제\n",
    "# 3. 학생 성적 관리 class\n",
    "class Student_Score():\n",
    "    \n",
    "    def __init__(self, kor, eng, math):\n",
    "        self.kor = float(kor)\n",
    "        self.eng = float(eng)\n",
    "        self.math = float(math)\n",
    "        \n",
    "    def socer_print(self):\n",
    "        print \"kor_score :\", self.kor\n",
    "        print \"eng_score :\", self.eng\n",
    "        print \"math_score :\", self.math\n",
    "        \n",
    "    def get_average(self):\n",
    "        ave = (self.kor + self.eng + self.math) / 3.0\n",
    "        return ave"
   ]
  },
  {
   "cell_type": "code",
   "execution_count": 104,
   "metadata": {
    "collapsed": false
   },
   "outputs": [
    {
     "ename": "SyntaxError",
     "evalue": "invalid syntax (<ipython-input-104-9b01f1ab0599>, line 13)",
     "output_type": "error",
     "traceback": [
      "\u001b[0;36m  File \u001b[0;32m\"<ipython-input-104-9b01f1ab0599>\"\u001b[0;36m, line \u001b[0;32m13\u001b[0m\n\u001b[0;31m    if title in self.videos\u001b[0m\n\u001b[0m                           ^\u001b[0m\n\u001b[0;31mSyntaxError\u001b[0m\u001b[0;31m:\u001b[0m invalid syntax\n"
     ]
    }
   ],
   "source": [
    "# 연습문제\n",
    "# 4. 비디오 가계 관리 class 작성\n",
    "import datetime as dt\n",
    "\n",
    "class Video():\n",
    "    videos ={}\n",
    "    \n",
    "    def __init__(self,videos):\n",
    "        self.videos = {}             # 비디오를 딕트로 받고 싶을때는 이렇게 표현\n",
    "                                     # 리스트나 튜플도 이런식으로 표현\n",
    "                                     # 디폴트 값이 int or str?\n",
    "    def add_video(self, title, date = dt.datetime.now()):\n",
    "        if title in self.videos\n",
    "            print \"already this video\"\n",
    "        else:\n",
    "            self.videos[title] = today:\n",
    "                \n",
    "    def find_video(self, title):\n",
    "        if title in self.videos:\n",
    "            return title\n",
    "        else:\n",
    "            return \"we dont have this title\", title\n",
    "    \n",
    "    def is_new_release(self,title):\n",
    "        today = dt.datetime.now()\n",
    "        weeks_ago = today - dt.timedelta(days = 7)\n",
    "        \n",
    "        return self.videos[title] >= week_age"
   ]
  },
  {
   "cell_type": "code",
   "execution_count": 106,
   "metadata": {
    "collapsed": true
   },
   "outputs": [],
   "source": [
    "import datetime as dt"
   ]
  },
  {
   "cell_type": "code",
   "execution_count": 112,
   "metadata": {
    "collapsed": false
   },
   "outputs": [
    {
     "data": {
      "text/plain": [
       "datetime.date"
      ]
     },
     "execution_count": 112,
     "metadata": {},
     "output_type": "execute_result"
    }
   ],
   "source": [
    "dt.date"
   ]
  },
  {
   "cell_type": "code",
   "execution_count": 123,
   "metadata": {
    "collapsed": false
   },
   "outputs": [],
   "source": [
    "dt = datetime.datetime.now() # 현재시간을 datetime class의 tuple형태? 로 반환"
   ]
  },
  {
   "cell_type": "code",
   "execution_count": 124,
   "metadata": {
    "collapsed": false
   },
   "outputs": [
    {
     "data": {
      "text/plain": [
       "datetime.datetime(2017, 2, 2, 15, 50, 2, 397000)"
      ]
     },
     "execution_count": 124,
     "metadata": {},
     "output_type": "execute_result"
    }
   ],
   "source": [
    "dt"
   ]
  },
  {
   "cell_type": "code",
   "execution_count": null,
   "metadata": {
    "collapsed": true
   },
   "outputs": [],
   "source": []
  },
  {
   "cell_type": "code",
   "execution_count": 125,
   "metadata": {
    "collapsed": false
   },
   "outputs": [
    {
     "data": {
      "text/plain": [
       "(2017, 2, 2, 15, 50)"
      ]
     },
     "execution_count": 125,
     "metadata": {},
     "output_type": "execute_result"
    }
   ],
   "source": [
    "dt.year, dt.month, dt.day, dt.hour, dt.minute # dt. 안에 인스턴스 속성"
   ]
  },
  {
   "cell_type": "code",
   "execution_count": 127,
   "metadata": {
    "collapsed": false
   },
   "outputs": [
    {
     "data": {
      "text/plain": [
       "3"
      ]
     },
     "execution_count": 127,
     "metadata": {},
     "output_type": "execute_result"
    }
   ],
   "source": [
    "dt.weekday()"
   ]
  },
  {
   "cell_type": "code",
   "execution_count": 130,
   "metadata": {
    "collapsed": false
   },
   "outputs": [],
   "source": [
    "# 문자열 parcing\n",
    "dt1 = datetime.datetime.strptime(\"2014-12-11 11:30\", \"%Y-%m-%d %H:%M\") # 이걸 하고나면 기본적인 dateime.now()한 값과 동일 하게 나옴"
   ]
  },
  {
   "cell_type": "code",
   "execution_count": 132,
   "metadata": {
    "collapsed": false
   },
   "outputs": [
    {
     "data": {
      "text/plain": [
       "'2014.12.11'"
      ]
     },
     "execution_count": 132,
     "metadata": {},
     "output_type": "execute_result"
    }
   ],
   "source": [
    "dt1.strftime(\"%Y.%m.%d\")"
   ]
  },
  {
   "cell_type": "code",
   "execution_count": 134,
   "metadata": {
    "collapsed": true
   },
   "outputs": [],
   "source": [
    "class Person(object):\n",
    "    pass\n",
    "\n",
    "class Student(Person):\n",
    "    pass\n",
    "\n",
    "p1 = Person()\n",
    "p2 = Student()"
   ]
  },
  {
   "cell_type": "code",
   "execution_count": 135,
   "metadata": {
    "collapsed": false
   },
   "outputs": [
    {
     "name": "stdout",
     "output_type": "stream",
     "text": [
      "<__main__.Person object at 0x04266330> <__main__.Student object at 0x04266350>\n"
     ]
    }
   ],
   "source": [
    "print p1, p2"
   ]
  },
  {
   "cell_type": "code",
   "execution_count": 136,
   "metadata": {
    "collapsed": true
   },
   "outputs": [],
   "source": [
    "class Person(object):\n",
    "    def work(self):\n",
    "        print \"hello\"\n",
    "        \n",
    "class Student(Person):\n",
    "    pass"
   ]
  },
  {
   "cell_type": "code",
   "execution_count": 137,
   "metadata": {
    "collapsed": true
   },
   "outputs": [],
   "source": [
    "p1 = Person()"
   ]
  },
  {
   "cell_type": "code",
   "execution_count": 138,
   "metadata": {
    "collapsed": true
   },
   "outputs": [],
   "source": [
    "p2 = Student()"
   ]
  },
  {
   "cell_type": "code",
   "execution_count": 140,
   "metadata": {
    "collapsed": false
   },
   "outputs": [
    {
     "name": "stdout",
     "output_type": "stream",
     "text": [
      "hello\n"
     ]
    }
   ],
   "source": [
    "p2.work()"
   ]
  },
  {
   "cell_type": "code",
   "execution_count": 141,
   "metadata": {
    "collapsed": true
   },
   "outputs": [],
   "source": [
    "class Person():\n",
    "    def __init__(self,name):\n",
    "        self.name = name\n",
    "    \n",
    "    def sleep(self, hours):\n",
    "        print \"{} is {} hours sleeping\".format(self.name,hours)"
   ]
  },
  {
   "cell_type": "code",
   "execution_count": 142,
   "metadata": {
    "collapsed": true
   },
   "outputs": [],
   "source": [
    "a = Person(\"sangho\")"
   ]
  },
  {
   "cell_type": "code",
   "execution_count": 143,
   "metadata": {
    "collapsed": false
   },
   "outputs": [
    {
     "name": "stdout",
     "output_type": "stream",
     "text": [
      "sangho is 10 hours sleeping\n"
     ]
    }
   ],
   "source": [
    "a.sleep(10)"
   ]
  },
  {
   "cell_type": "code",
   "execution_count": 146,
   "metadata": {
    "collapsed": false
   },
   "outputs": [
    {
     "name": "stdout",
     "output_type": "stream",
     "text": [
      "10\n"
     ]
    },
    {
     "ename": "TypeError",
     "evalue": "unbound method print_count() must be called with A instance as first argument (got nothing instead)",
     "output_type": "error",
     "traceback": [
      "\u001b[0;31m---------------------------------------------------------------------------\u001b[0m",
      "\u001b[0;31mTypeError\u001b[0m                                 Traceback (most recent call last)",
      "\u001b[0;32m<ipython-input-146-19adf8d4a580>\u001b[0m in \u001b[0;36m<module>\u001b[0;34m()\u001b[0m\n\u001b[1;32m     16\u001b[0m \u001b[0ma\u001b[0m \u001b[1;33m=\u001b[0m \u001b[0mA\u001b[0m\u001b[1;33m(\u001b[0m\u001b[1;36m10\u001b[0m\u001b[1;33m)\u001b[0m\u001b[1;33m\u001b[0m\u001b[0m\n\u001b[1;32m     17\u001b[0m \u001b[0ma\u001b[0m\u001b[1;33m.\u001b[0m\u001b[0mprint_cnt\u001b[0m\u001b[1;33m(\u001b[0m\u001b[1;33m)\u001b[0m       \u001b[1;31m# 객체로 호출\u001b[0m\u001b[1;33m\u001b[0m\u001b[0m\n\u001b[0;32m---> 18\u001b[0;31m \u001b[0mA\u001b[0m\u001b[1;33m.\u001b[0m\u001b[0mprint_count\u001b[0m \u001b[1;33m(\u001b[0m\u001b[1;33m)\u001b[0m   \u001b[1;31m# calss로 호출\"\u001b[0m\u001b[1;33m\u001b[0m\u001b[0m\n\u001b[0m",
      "\u001b[0;31mTypeError\u001b[0m: unbound method print_count() must be called with A instance as first argument (got nothing instead)"
     ]
    }
   ],
   "source": [
    "class A(object):\n",
    "    \n",
    "    count = 0\n",
    "    \n",
    "    def __init__(self, cnt):\n",
    "        A.count += 1\n",
    "        \n",
    "        self.cnt = cnt\n",
    "        \n",
    "    def print_cnt(self):\n",
    "        print self.cnt\n",
    "        \n",
    "    def print_count(cls):\n",
    "        print cls.count\n",
    "        \n",
    "a = A(10)\n",
    "a.print_cnt()       # 객체로 호출\n",
    "A.print_count ()   # calss로 호출\""
   ]
  },
  {
   "cell_type": "code",
   "execution_count": 177,
   "metadata": {
    "collapsed": false
   },
   "outputs": [],
   "source": [
    "class Word(object):\n",
    "    def __init__(self,text):\n",
    "        self.text = text\n",
    "        \n",
    "    def compare(self,word2):\n",
    "        return self.text.lower() == word2.lower()\n",
    "    \n",
    "    def __eq__(self,word2):\n",
    "        return self.text.lower() == word2.lower()\n",
    "    \n",
    "    def __len__(self):\n",
    "        return len(self.text)\n",
    "        \n",
    "    def __add__(self, word2):\n",
    "        return Word(self.text + word2.text)     # wprd 뒤에 .text가 붙는 이유? => 변수 중에 text만 추출, 다른게 섞여있이면 special method가 성립 안함\n",
    "                                                # 앞에 Word는 왜 붙이는 거지? => 결과값을 Word의 객체로 내보낸다?"
   ]
  },
  {
   "cell_type": "code",
   "execution_count": 178,
   "metadata": {
    "collapsed": false
   },
   "outputs": [],
   "source": [
    "w1 = Word('holy')\n",
    "w2 = Word('good123')"
   ]
  },
  {
   "cell_type": "code",
   "execution_count": 179,
   "metadata": {
    "collapsed": false
   },
   "outputs": [
    {
     "data": {
      "text/plain": [
       "7"
      ]
     },
     "execution_count": 179,
     "metadata": {},
     "output_type": "execute_result"
    }
   ],
   "source": [
    "len(w2)"
   ]
  },
  {
   "cell_type": "code",
   "execution_count": 180,
   "metadata": {
    "collapsed": false
   },
   "outputs": [
    {
     "ename": "TypeError",
     "evalue": "cannot concatenate 'str' and 'Word' objects",
     "output_type": "error",
     "traceback": [
      "\u001b[0;31m---------------------------------------------------------------------------\u001b[0m",
      "\u001b[0;31mTypeError\u001b[0m                                 Traceback (most recent call last)",
      "\u001b[0;32m<ipython-input-180-0525bd89f6a9>\u001b[0m in \u001b[0;36m<module>\u001b[0;34m()\u001b[0m\n\u001b[0;32m----> 1\u001b[0;31m \u001b[0mw1\u001b[0m \u001b[1;33m+\u001b[0m \u001b[0mw2\u001b[0m\u001b[1;33m\u001b[0m\u001b[0m\n\u001b[0m",
      "\u001b[0;32m<ipython-input-177-49a82d068830>\u001b[0m in \u001b[0;36m__add__\u001b[0;34m(self, word2)\u001b[0m\n\u001b[1;32m     13\u001b[0m \u001b[1;33m\u001b[0m\u001b[0m\n\u001b[1;32m     14\u001b[0m     \u001b[1;32mdef\u001b[0m \u001b[0m__add__\u001b[0m\u001b[1;33m(\u001b[0m\u001b[0mself\u001b[0m\u001b[1;33m,\u001b[0m \u001b[0mword2\u001b[0m\u001b[1;33m)\u001b[0m\u001b[1;33m:\u001b[0m\u001b[1;33m\u001b[0m\u001b[0m\n\u001b[0;32m---> 15\u001b[0;31m         \u001b[1;32mreturn\u001b[0m \u001b[0mself\u001b[0m\u001b[1;33m.\u001b[0m\u001b[0mtext\u001b[0m \u001b[1;33m+\u001b[0m \u001b[0mword2\u001b[0m     \u001b[1;31m# wprd 뒤에 .text가 붙는 이유?\u001b[0m\u001b[1;33m\u001b[0m\u001b[0m\n\u001b[0m\u001b[1;32m     16\u001b[0m                                           \u001b[1;31m# 앞에 Word는 왜 붙이는 거지?\u001b[0m\u001b[1;33m\u001b[0m\u001b[1;33m\u001b[0m\u001b[0m\n",
      "\u001b[0;31mTypeError\u001b[0m: cannot concatenate 'str' and 'Word' objects"
     ]
    }
   ],
   "source": [
    "w1 + w2"
   ]
  },
  {
   "cell_type": "code",
   "execution_count": 183,
   "metadata": {
    "collapsed": true
   },
   "outputs": [],
   "source": [
    "class Word(object):\n",
    "    def __init__(self, text):\n",
    "        self.text = text\n",
    "        \n",
    "    def __eq__(self, word2):\n",
    "        return self.text.lower() == word2.text.lower()\n",
    "    \n",
    "    def __add__(self, word2):\n",
    "        return Word(self.text + word2.text)\n",
    "    \n",
    "    def __repr__(self):                # __repr__ 과 __str__의 차이점?\n",
    "        return self.text\n",
    "    \n",
    "    def __str__(self):\n",
    "        return self.text\n",
    "    \n",
    "    def __getitem__(self, key):        # 이것도 모르겄음\n",
    "        return self.text[key]\n",
    "    \n",
    "    def __len__(self):\n",
    "        return len(self.text) * 2"
   ]
  },
  {
   "cell_type": "code",
   "execution_count": 185,
   "metadata": {
    "collapsed": false
   },
   "outputs": [
    {
     "ename": "TypeError",
     "evalue": "'Word' object does not support indexing",
     "output_type": "error",
     "traceback": [
      "\u001b[0;31m---------------------------------------------------------------------------\u001b[0m",
      "\u001b[0;31mTypeError\u001b[0m                                 Traceback (most recent call last)",
      "\u001b[0;32m<ipython-input-185-c09fdf6af55e>\u001b[0m in \u001b[0;36m<module>\u001b[0;34m()\u001b[0m\n\u001b[1;32m     12\u001b[0m \u001b[1;31m# __getitem__(self, key)\u001b[0m\u001b[1;33m\u001b[0m\u001b[1;33m\u001b[0m\u001b[0m\n\u001b[1;32m     13\u001b[0m \u001b[1;33m\u001b[0m\u001b[0m\n\u001b[0;32m---> 14\u001b[0;31m \u001b[0mw1\u001b[0m\u001b[1;33m[\u001b[0m\u001b[1;36m0\u001b[0m\u001b[1;33m]\u001b[0m\u001b[1;33m\u001b[0m\u001b[0m\n\u001b[0m",
      "\u001b[0;31mTypeError\u001b[0m: 'Word' object does not support indexing"
     ]
    }
   ],
   "source": [
    "w1 = Word('aaron')\n",
    "w2 = Word('Akronhaha')\n",
    "w3 = Word('Bob')\n",
    "w4 = Word('hb')\n",
    "\n",
    "words = [w1, w2, w3, w4]\n",
    "\n",
    "len(w1)\n",
    "\n",
    "# __len__(self)\n",
    "\n",
    "# __getitem__(self, key)\n",
    "\n",
    "w1[0]"
   ]
  },
  {
   "cell_type": "code",
   "execution_count": 201,
   "metadata": {
    "collapsed": true
   },
   "outputs": [],
   "source": [
    "# 연습문제\n",
    "# Word 클래스를 생성하여 Word를 원소로 갖는 리스트 생성\n",
    "# 1. 문자열 기준으로 정렬\n",
    "# 2. 두번째 문자를 기준으로 정렬\n",
    "\n",
    "class Word():\n",
    "    \n",
    "    def __init__(self, text):\n",
    "        self.text =text\n",
    "        \n",
    "    def __len__(self):\n",
    "        return len(self.text) \n",
    "    \n",
    "    def __str__(self):\n",
    "        return self.text\n",
    "    \n",
    "    def __getitem__(self,key):\n",
    "        return self.text[key]"
   ]
  },
  {
   "cell_type": "code",
   "execution_count": 202,
   "metadata": {
    "collapsed": true
   },
   "outputs": [],
   "source": [
    "w1 = Word('sangho')\n",
    "w2 = Word('bokshil')\n",
    "w3 = Word('jihyun')\n",
    "w4 = Word('inho')\n",
    "\n",
    "words = [w1,w2,w3,w4]"
   ]
  },
  {
   "cell_type": "code",
   "execution_count": 203,
   "metadata": {
    "collapsed": false
   },
   "outputs": [
    {
     "name": "stdout",
     "output_type": "stream",
     "text": [
      "[<__main__.Word instance at 0x0429F0D0>, <__main__.Word instance at 0x0429F940>, <__main__.Word instance at 0x0429F788>, <__main__.Word instance at 0x0429F6C0>]\n"
     ]
    }
   ],
   "source": [
    "print sorted(words, key = lambda x : len(x))"
   ]
  },
  {
   "cell_type": "code",
   "execution_count": null,
   "metadata": {
    "collapsed": true
   },
   "outputs": [],
   "source": []
  }
 ],
 "metadata": {
  "kernelspec": {
   "display_name": "Python 2",
   "language": "python",
   "name": "python2"
  },
  "language_info": {
   "codemirror_mode": {
    "name": "ipython",
    "version": 2
   },
   "file_extension": ".py",
   "mimetype": "text/x-python",
   "name": "python",
   "nbconvert_exporter": "python",
   "pygments_lexer": "ipython2",
   "version": "2.7.13"
  }
 },
 "nbformat": 4,
 "nbformat_minor": 2
}
