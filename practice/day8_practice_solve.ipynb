{
 "cells": [
  {
   "cell_type": "markdown",
   "metadata": {},
   "source": [
    "* class 연습문제 tf-idf 구해보세요.\n",
    "tf : 단어가 총 출현한 갯수\n",
    "idf : 1/n 문단에 단어가 출현한 갯수\n",
    "tf * idf = 단어가 많이 출현해도 문단에도 단어가 많으면 가중치를 없엔다\n",
    " - data_set/tf_idfx.txt를 읽어들여 각 단어들의 tf-idf 를 구하시오\n",
    " - term frequency : 각 문서에서 해당 단어가 나오는 빈도\n",
    " - document frequency : 해당 단어가 얼마나 많은 문서에서 나타나는가 하는 빈도\n",
    " - inverse document frequency : 1/df\n",
    " - tips import os os.walk 사용하기"
   ]
  },
  {
   "cell_type": "code",
   "execution_count": null,
   "metadata": {
    "collapsed": true
   },
   "outputs": [],
   "source": [
    "import os\n",
    "for root, dirs, files in os.walk('./data_set'):\n",
    "    files.remove('sample.csv')\n",
    "    \n",
    "    dict = {}\n",
    "    dict2= {}\n",
    "    dict3 = {}\n",
    "    dict4 = {}\n",
    "    \n",
    "    for f in files:\n",
    "#       print f\n",
    "        with open(os.path.join('./data_set',f), 'r') as fin:\n",
    "            data = fin.read()\n",
    "            split_data = data.split()\n",
    "            one_data = set(split_data)\n",
    "                                    \n",
    "            for word in split_data:\n",
    "                if word in dict:\n",
    "                    dict[word] += 1\n",
    "                else:\n",
    "                    dict[word] = 1\n",
    "            \n",
    "            term_frequency = sorted(dict.items(), key = lambda x:x[1], reverse = True)\n",
    "\n",
    "#           one_data = dict.keys()\n",
    "            \n",
    "            for word in one_data:\n",
    "                if word in dict2:\n",
    "                    dict2[word] += 1\n",
    "                else:\n",
    "                    dict2[word] = 1\n",
    "                       \n",
    "            document_frequency = sorted(dict2.items(), key = lambda x:x[1], reverse = True)\n",
    "            \n",
    "            for word in dict2:\n",
    "                dict3[word] = float(1.00/dict2[word])\n",
    "            \n",
    "            inverse_document_frequency = sorted(dict3.items(), key = lambda x:x[1], reverse = True)\n",
    "            \n",
    "            for word in one_data: \n",
    "                dict4[word] = dict[word]*dict3[word]\n",
    "                \n",
    "            tf_idf = sorted(dict4.items(), key = lambda x:x[1], reverse = True)    \n",
    "\n",
    "    print term_frequency\n",
    "    print document_frequency\n",
    "    print inverse_document_frequency\n",
    "    print tf_idf"
   ]
  },
  {
   "cell_type": "code",
   "execution_count": null,
   "metadata": {
    "collapsed": true
   },
   "outputs": [],
   "source": []
  }
 ],
 "metadata": {
  "kernelspec": {
   "display_name": "Python 2",
   "language": "python",
   "name": "python2"
  },
  "language_info": {
   "codemirror_mode": {
    "name": "ipython",
    "version": 2
   },
   "file_extension": ".py",
   "mimetype": "text/x-python",
   "name": "python",
   "nbconvert_exporter": "python",
   "pygments_lexer": "ipython2",
   "version": "2.7.13"
  }
 },
 "nbformat": 4,
 "nbformat_minor": 2
}
