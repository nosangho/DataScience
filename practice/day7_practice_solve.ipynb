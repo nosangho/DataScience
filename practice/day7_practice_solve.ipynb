{
 "cells": [
  {
   "cell_type": "markdown",
   "metadata": {},
   "source": [
    "1. Calculator class를 작성하세요\n",
    " - a, b 두개의 정수를 속성으로 갖습니다.\n",
    " - func이라는 함수를 속성으로 갖습니다.\n",
    " - 속성으로 갖고있는 func을 a,b를 인자로 호출하여 결과를 반환하는 메소드를 갖습니다. apply(self) "
   ]
  },
  {
   "cell_type": "code",
   "execution_count": null,
   "metadata": {
    "collapsed": true
   },
   "outputs": [],
   "source": [
    "class Calculator(object):\n",
    "    \n",
    "    def __init__(self,a,b,func):\n",
    "        self.a = a\n",
    "        self.b = b\n",
    "        self.func = func\n",
    "    \n",
    "    def apply(self):\n",
    "        result = self.func(self.a, self.b)\n",
    "        return result\n",
    "    \n",
    "cal = Calculator(6,9, lambda x,y : x * y)\n",
    "\n",
    "cal.apply()"
   ]
  },
  {
   "cell_type": "markdown",
   "metadata": {},
   "source": [
    "2. 여러분이 멜론에서 일한다고 합시다.\n",
    " - 요구사항 : 일간 음악 랭킹(사람들이 많이 들을 수록 순위가 높음)을 구하는 class를 만들어 보세요."
   ]
  },
  {
   "cell_type": "code",
   "execution_count": 2,
   "metadata": {
    "collapsed": true
   },
   "outputs": [],
   "source": [
    "class RankService(object):\n",
    "    \n",
    "    def __init__(self):\n",
    "        self.data={}\n",
    "    \n",
    "    def music_count(self,title):\n",
    "        if title in self.data:\n",
    "            self.data[title] +=1\n",
    "        else:\n",
    "            self.data[title] = 1\n",
    "    \n",
    "    def ranking(self):\n",
    "        return sorted(self.data.items(), key = lambda x : x[1], reverse = True)"
   ]
  },
  {
   "cell_type": "code",
   "execution_count": 4,
   "metadata": {
    "collapsed": false
   },
   "outputs": [
    {
     "name": "stdout",
     "output_type": "stream",
     "text": [
      "[('without you', 5), ('moon river', 3), ('to heaven', 2), ('I will be there', 1)]\n"
     ]
    }
   ],
   "source": [
    "ranker = RankService()\n",
    "ranker.music_count('without you')\n",
    "ranker.music_count('without you')\n",
    "ranker.music_count('to heaven')\n",
    "\n",
    "ranker.music_count('to heaven')\n",
    "ranker.music_count('without you')\n",
    "\n",
    "ranker.music_count('I will be there')\n",
    "ranker.music_count('without you')\n",
    "\n",
    "ranker.music_count('moon river')\n",
    "ranker.music_count('moon river')\n",
    "ranker.music_count('without you')\n",
    "ranker.music_count('moon river')\n",
    "\n",
    "\n",
    "print ranker.ranking()        "
   ]
  },
  {
   "cell_type": "code",
   "execution_count": null,
   "metadata": {
    "collapsed": true
   },
   "outputs": [],
   "source": []
  }
 ],
 "metadata": {
  "kernelspec": {
   "display_name": "Python 2",
   "language": "python",
   "name": "python2"
  },
  "language_info": {
   "codemirror_mode": {
    "name": "ipython",
    "version": 2
   },
   "file_extension": ".py",
   "mimetype": "text/x-python",
   "name": "python",
   "nbconvert_exporter": "python",
   "pygments_lexer": "ipython2",
   "version": "2.7.13"
  }
 },
 "nbformat": 4,
 "nbformat_minor": 2
}
