{
 "cells": [
  {
   "cell_type": "markdown",
   "metadata": {},
   "source": [
    "## 학습목표\n",
    " 1. numpy, pandas를 이용한 수치 및 데이터 처리\n",
    " 3. matplotlib 이해 및 그래프 출력 방법 확인"
   ]
  },
  {
   "cell_type": "markdown",
   "metadata": {
    "collapsed": true
   },
   "source": [
    "* numpy 복습"
   ]
  },
  {
   "cell_type": "code",
   "execution_count": 2,
   "metadata": {
    "collapsed": true
   },
   "outputs": [],
   "source": [
    "import numpy as np"
   ]
  },
  {
   "cell_type": "code",
   "execution_count": 3,
   "metadata": {
    "collapsed": false
   },
   "outputs": [
    {
     "name": "stdout",
     "output_type": "stream",
     "text": [
      "[[ 0.62251359  0.28321965  0.19596374]\n",
      " [-1.11705713  0.03018712  2.27815749]]\n"
     ]
    }
   ],
   "source": [
    "data = np.random.randn(2, 3)\n",
    "print data"
   ]
  },
  {
   "cell_type": "code",
   "execution_count": 4,
   "metadata": {
    "collapsed": false
   },
   "outputs": [
    {
     "name": "stdout",
     "output_type": "stream",
     "text": [
      "[[  6.2251359    2.83219653   1.95963743]\n",
      " [-11.17057133   0.30187116  22.78157488]]\n"
     ]
    }
   ],
   "source": [
    "print data * 10"
   ]
  },
  {
   "cell_type": "code",
   "execution_count": 5,
   "metadata": {
    "collapsed": false
   },
   "outputs": [
    {
     "name": "stdout",
     "output_type": "stream",
     "text": [
      "[[ 1.24502718  0.56643931  0.39192749]\n",
      " [-2.23411427  0.06037423  4.55631498]]\n"
     ]
    }
   ],
   "source": [
    "print data + data"
   ]
  },
  {
   "cell_type": "code",
   "execution_count": 6,
   "metadata": {
    "collapsed": false
   },
   "outputs": [
    {
     "name": "stdout",
     "output_type": "stream",
     "text": [
      "float64 (2, 3)\n"
     ]
    }
   ],
   "source": [
    "print data.dtype, data.shape"
   ]
  },
  {
   "cell_type": "code",
   "execution_count": 7,
   "metadata": {
    "collapsed": false
   },
   "outputs": [
    {
     "data": {
      "text/plain": [
       "array([[ 0.,  0.,  0.],\n",
       "       [ 0.,  0.,  0.]])"
      ]
     },
     "execution_count": 7,
     "metadata": {},
     "output_type": "execute_result"
    }
   ],
   "source": [
    "np.zeros((2, 3))"
   ]
  },
  {
   "cell_type": "code",
   "execution_count": 8,
   "metadata": {
    "collapsed": false
   },
   "outputs": [
    {
     "data": {
      "text/plain": [
       "array([[ 1.,  1.,  1.],\n",
       "       [ 1.,  1.,  1.]])"
      ]
     },
     "execution_count": 8,
     "metadata": {},
     "output_type": "execute_result"
    }
   ],
   "source": [
    "np.ones((2, 3))"
   ]
  },
  {
   "cell_type": "code",
   "execution_count": 9,
   "metadata": {
    "collapsed": false
   },
   "outputs": [
    {
     "data": {
      "text/plain": [
       "array([ 1,  2,  3,  4,  5,  6,  7,  8,  9, 10, 11, 12, 13, 14])"
      ]
     },
     "execution_count": 9,
     "metadata": {},
     "output_type": "execute_result"
    }
   ],
   "source": [
    "np.arange(1, 15)"
   ]
  },
  {
   "cell_type": "code",
   "execution_count": 10,
   "metadata": {
    "collapsed": false
   },
   "outputs": [
    {
     "name": "stdout",
     "output_type": "stream",
     "text": [
      "[[-0.76854367 -3.56543722  1.56106381]\n",
      " [-2.74468036  0.96267548 -0.97459351]]\n",
      "[[-0.19213592 -0.89135931  0.39026595]\n",
      " [-0.68617009  0.24066887 -0.24364838]]\n",
      "[[ 0.14766484  3.17808565  0.60923005]\n",
      " [ 1.88331757  0.23168602  0.23745813]]\n"
     ]
    }
   ],
   "source": [
    "a = np.random.randn(2, 3)\n",
    "print a * 2\n",
    "print a / 2\n",
    "print a ** 2"
   ]
  },
  {
   "cell_type": "markdown",
   "metadata": {},
   "source": [
    "* reshape"
   ]
  },
  {
   "cell_type": "code",
   "execution_count": 12,
   "metadata": {
    "collapsed": false
   },
   "outputs": [
    {
     "name": "stdout",
     "output_type": "stream",
     "text": [
      "[[ 0  1  2  3  4  5  6  7]\n",
      " [ 8  9 10 11 12 13 14 15]\n",
      " [16 17 18 19 20 21 22 23]\n",
      " [24 25 26 27 28 29 30 31]]\n",
      "[[ 0  1  2  3]\n",
      " [ 4  5  6  7]\n",
      " [ 8  9 10 11]\n",
      " [12 13 14 15]\n",
      " [16 17 18 19]\n",
      " [20 21 22 23]\n",
      " [24 25 26 27]\n",
      " [28 29 30 31]]\n"
     ]
    }
   ],
   "source": [
    "print np.arange(32).reshape((4, 8))\n",
    "print np.arange(32).reshape((8, 4))"
   ]
  },
  {
   "cell_type": "markdown",
   "metadata": {},
   "source": [
    "* transpose\n",
    "  - 배열 전치\n",
    "  - 데이터를 복사하지 않고 데이터 모양이 바뀐 뷰를 반환"
   ]
  },
  {
   "cell_type": "code",
   "execution_count": 15,
   "metadata": {
    "collapsed": false
   },
   "outputs": [
    {
     "name": "stdout",
     "output_type": "stream",
     "text": [
      "[[ 0  1  2]\n",
      " [ 3  4  5]\n",
      " [ 6  7  8]\n",
      " [ 9 10 11]\n",
      " [12 13 14]]\n",
      "[[ 0  3  6  9 12]\n",
      " [ 1  4  7 10 13]\n",
      " [ 2  5  8 11 14]]\n",
      "[[ 0  1  2]\n",
      " [ 3  4  5]\n",
      " [ 6  7  8]\n",
      " [ 9 10 11]\n",
      " [12 13 14]]\n"
     ]
    }
   ],
   "source": [
    "arr = np.arange(15).reshape(5, 3)\n",
    "print arr\n",
    "print arr.T\n",
    "print arr"
   ]
  },
  {
   "cell_type": "code",
   "execution_count": 16,
   "metadata": {
    "collapsed": false
   },
   "outputs": [
    {
     "data": {
      "text/plain": [
       "array([[270, 300, 330],\n",
       "       [300, 335, 370],\n",
       "       [330, 370, 410]])"
      ]
     },
     "execution_count": 16,
     "metadata": {},
     "output_type": "execute_result"
    }
   ],
   "source": [
    "np.dot(arr.T, arr)  # 전치한것과 자기자신은 곱셈이 가능"
   ]
  },
  {
   "cell_type": "markdown",
   "metadata": {},
   "source": [
    "* universial function\n",
    "  - ndarray 의 각각 원소별로 연산을 수행함\n",
    "  - 벡터화 연산으로 매우 고속으로 처리됨\n",
    "  - sqrt, exp 등 간단한 변형을 전체 원소에 적용"
   ]
  },
  {
   "cell_type": "code",
   "execution_count": 19,
   "metadata": {
    "collapsed": false
   },
   "outputs": [
    {
     "name": "stdout",
     "output_type": "stream",
     "text": [
      "The slowest run took 6.19 times longer than the fastest. This could mean that an intermediate result is being cached.\n",
      "10000 loops, best of 3: 21.2 µs per loop\n",
      "****************************************************************************************************\n",
      "1000 loops, best of 3: 1 ms per loop\n"
     ]
    }
   ],
   "source": [
    "from math import sqrt\n",
    "\n",
    "arr = np.arange(10000)\n",
    "%timeit np.sqrt(arr)\n",
    "print '*' * 100\n",
    "\n",
    "%timeit [sqrt(i) for i in arr]"
   ]
  },
  {
   "cell_type": "code",
   "execution_count": 20,
   "metadata": {
    "collapsed": false
   },
   "outputs": [
    {
     "name": "stdout",
     "output_type": "stream",
     "text": [
      "[  1.00000000e+00   2.71828183e+00   7.38905610e+00   2.00855369e+01\n",
      "   5.45981500e+01   1.48413159e+02   4.03428793e+02   1.09663316e+03\n",
      "   2.98095799e+03   8.10308393e+03]\n"
     ]
    }
   ],
   "source": [
    "arr = np.arange(10)\n",
    "print np.exp(arr)"
   ]
  },
  {
   "cell_type": "code",
   "execution_count": 21,
   "metadata": {
    "collapsed": false
   },
   "outputs": [
    {
     "name": "stdout",
     "output_type": "stream",
     "text": [
      "[ 2.30927575  0.53274125  0.97292611 -0.3978923   0.34267577  0.08739953\n",
      " -1.48509721  0.94247905]\n",
      "[ 0.29716491 -0.41612436  0.82287106 -2.05831878  0.31220306 -0.56825321\n",
      " -0.14834226  0.03164783]\n"
     ]
    }
   ],
   "source": [
    "x = np.random.randn(8)\n",
    "y = np.random.randn(8)\n",
    "\n",
    "print x\n",
    "print y"
   ]
  },
  {
   "cell_type": "code",
   "execution_count": 22,
   "metadata": {
    "collapsed": false
   },
   "outputs": [
    {
     "data": {
      "text/plain": [
       "array([ 2.30927575,  0.53274125,  0.97292611, -0.3978923 ,  0.34267577,\n",
       "        0.08739953, -0.14834226,  0.94247905])"
      ]
     },
     "execution_count": 22,
     "metadata": {},
     "output_type": "execute_result"
    }
   ],
   "source": [
    "np.maximum(x, y) # elemnent 비교하여 큰 elemnet 반환"
   ]
  },
  {
   "cell_type": "code",
   "execution_count": 45,
   "metadata": {
    "collapsed": false
   },
   "outputs": [
    {
     "name": "stdout",
     "output_type": "stream",
     "text": [
      "[-1.37011571 -1.41008447  0.08853612  4.55215398  2.82397521 -4.10556959\n",
      "  2.92625089]\n"
     ]
    },
    {
     "data": {
      "text/plain": [
       "(array([-0.37011571, -0.41008447,  0.08853612,  0.55215398,  0.82397521,\n",
       "        -0.10556959,  0.92625089]), array([-1., -1.,  0.,  4.,  2., -4.,  2.]))"
      ]
     },
     "execution_count": 45,
     "metadata": {},
     "output_type": "execute_result"
    }
   ],
   "source": [
    "arr = np.random.randn(7) * 5\n",
    "print arr\n",
    "np.modf(arr)\n",
    "# 별로 안 중요함"
   ]
  },
  {
   "cell_type": "markdown",
   "metadata": {},
   "source": [
    "* 조건\n",
    " - numpy where 함수 (x if condition else y) 삼항식의 벡터화된 버젼\n",
    " - np.where(condition, val1, val2)"
   ]
  },
  {
   "cell_type": "code",
   "execution_count": 30,
   "metadata": {
    "collapsed": false
   },
   "outputs": [
    {
     "name": "stdout",
     "output_type": "stream",
     "text": [
      "[1.0, 3.0, 1.3, 1.5, 2.5]\n"
     ]
    }
   ],
   "source": [
    "xarr = np.array([1.0, 1.0, 1.3, 1.5, 1.5])\n",
    "yarr = np.array([2.0, 3.0, 2.3, 2.7, 2.5])\n",
    "\n",
    "cond = np.array([True, False, True, True, False])\n",
    "\n",
    "# 순수 파이썬으로 수행되기 때문에 느리다.\n",
    "result = [x if c else y for x, y, c in zip(xarr, yarr, cond)]\n",
    "print result"
   ]
  },
  {
   "cell_type": "code",
   "execution_count": 31,
   "metadata": {
    "collapsed": false
   },
   "outputs": [
    {
     "name": "stdout",
     "output_type": "stream",
     "text": [
      "[ 1.   3.   1.3  1.5  2.5]\n"
     ]
    }
   ],
   "source": [
    "# where 의 x,y 위치에는 벡터도 스칼라값도 올 수 있다.\n",
    "result = np.where(cond, xarr, yarr) # cond는 if일종의 조건이기 때문에 ture or false이다.\n",
    "print result                        # 앞에는 ture일 떄의 값 뒤에는 false일때의 값"
   ]
  },
  {
   "cell_type": "markdown",
   "metadata": {},
   "source": [
    "* 연습문제) \n",
    "  - 랜덤한 4*4 행렬을 생성 한 뒤, 양수는 1 음수는 -1로 바뀐 행렬을 출력하세요\n",
    "  - 랜덤한 4*4 행렬을 생성 한 뒤, 양수는 1 음수는 그대로한 행렬을 출력하세요\n",
    "  "
   ]
  },
  {
   "cell_type": "code",
   "execution_count": 32,
   "metadata": {
    "collapsed": false
   },
   "outputs": [
    {
     "name": "stdout",
     "output_type": "stream",
     "text": [
      "[[ 0.18253172 -0.39210684  1.86460075 -0.91360752]\n",
      " [-1.55278971  1.19560193 -1.73992517 -1.59050726]\n",
      " [ 0.39920047 -0.70160816 -0.93284405  0.87163014]\n",
      " [-1.13397806 -0.32200299  0.98584449  0.31011263]]\n",
      "[[ 1 -1  1 -1]\n",
      " [-1  1 -1 -1]\n",
      " [ 1 -1 -1  1]\n",
      " [-1 -1  1  1]]\n",
      "[[ 1.         -0.39210684  1.         -0.91360752]\n",
      " [-1.55278971  1.         -1.73992517 -1.59050726]\n",
      " [ 1.         -0.70160816 -0.93284405  1.        ]\n",
      " [-1.13397806 -0.32200299  1.          1.        ]]\n"
     ]
    }
   ],
   "source": []
  },
  {
   "cell_type": "markdown",
   "metadata": {},
   "source": [
    "* 수학, 통계 함수"
   ]
  },
  {
   "cell_type": "code",
   "execution_count": 33,
   "metadata": {
    "collapsed": false
   },
   "outputs": [
    {
     "name": "stdout",
     "output_type": "stream",
     "text": [
      "[[-1.32522381 -2.3586643   1.48259885  0.35084532]\n",
      " [-0.09690705 -0.27371873  0.94763825  0.70219804]\n",
      " [ 0.6865181  -1.9556494  -0.47315424  0.18904504]\n",
      " [ 0.05432837  2.28827928 -0.8443832   1.04135555]\n",
      " [-1.87398263 -0.42651013  0.53874617 -0.3393388 ]]\n"
     ]
    }
   ],
   "source": [
    "arr = np.random.randn(5, 4)\n",
    "print arr"
   ]
  },
  {
   "cell_type": "code",
   "execution_count": 34,
   "metadata": {
    "collapsed": false
   },
   "outputs": [
    {
     "name": "stdout",
     "output_type": "stream",
     "text": [
      "-0.0842989658862\n",
      "-0.0842989658862\n"
     ]
    }
   ],
   "source": [
    "print arr.mean() # 평균 np.ndarray의 method\n",
    "print np.mean(arr) # 평균 np 패키지의 function"
   ]
  },
  {
   "cell_type": "code",
   "execution_count": 35,
   "metadata": {
    "collapsed": false
   },
   "outputs": [
    {
     "name": "stdout",
     "output_type": "stream",
     "text": [
      "-1.68597931772\n",
      "-1.68597931772\n"
     ]
    }
   ],
   "source": [
    "print np.sum(arr)\n",
    "print arr.sum() #  np의 멤버함수"
   ]
  },
  {
   "cell_type": "code",
   "execution_count": 36,
   "metadata": {
    "collapsed": false
   },
   "outputs": [
    {
     "name": "stdout",
     "output_type": "stream",
     "text": [
      "[[-1.32522381 -2.3586643   1.48259885  0.35084532]\n",
      " [-0.09690705 -0.27371873  0.94763825  0.70219804]\n",
      " [ 0.6865181  -1.9556494  -0.47315424  0.18904504]\n",
      " [ 0.05432837  2.28827928 -0.8443832   1.04135555]\n",
      " [-1.87398263 -0.42651013  0.53874617 -0.3393388 ]]\n",
      "*****\n",
      "[-0.5110534  -0.54525266  0.33028916  0.38882103]\n",
      "*****\n",
      "[-0.46261098  0.31980263 -0.38831012  0.634895   -0.52527135]\n"
     ]
    }
   ],
   "source": [
    "print arr\n",
    "print '*****'\n",
    "print arr.mean(axis = 0) # 0 - 행, 1 - 열, 따라간다.\n",
    "print '*****'\n",
    "print arr.mean(axis = 1) # 0 - 행, 1 - 열\n",
    "                         # 0 - column , 1 - row"
   ]
  },
  {
   "cell_type": "code",
   "execution_count": 37,
   "metadata": {
    "collapsed": false
   },
   "outputs": [
    {
     "name": "stdout",
     "output_type": "stream",
     "text": [
      "[-2.55526701 -2.72626328  1.65144582  1.94410515]\n"
     ]
    }
   ],
   "source": [
    "print arr.sum(axis=0)"
   ]
  },
  {
   "cell_type": "markdown",
   "metadata": {},
   "source": [
    "* 연습문제)\n",
    " - 랜덤한 2차원 배열을 생성하고 행별 평균이 가장 높은 행의 값은?"
   ]
  },
  {
   "cell_type": "code",
   "execution_count": 38,
   "metadata": {
    "collapsed": false
   },
   "outputs": [
    {
     "name": "stdout",
     "output_type": "stream",
     "text": [
      "[[-0.51420387 -0.23753064  1.58673675 -0.59591103]\n",
      " [-1.21079522 -0.55821699 -1.20257569 -0.44351317]\n",
      " [-1.15933703 -0.06378322  1.5029448   0.42222331]\n",
      " [-0.23663757 -0.30704872 -0.33044835  0.90808991]]\n",
      "[ 0.0597728  -0.85377527  0.17551196  0.00848882]\n",
      "0.175511964159\n"
     ]
    }
   ],
   "source": []
  },
  {
   "cell_type": "markdown",
   "metadata": {},
   "source": [
    "* 정렬\n",
    " - ndarray.sort"
   ]
  },
  {
   "cell_type": "code",
   "execution_count": 39,
   "metadata": {
    "collapsed": false
   },
   "outputs": [
    {
     "name": "stdout",
     "output_type": "stream",
     "text": [
      "[-1.03634359  1.02954637  0.39927442  2.49615018  1.35546245 -0.78337467\n",
      " -0.80720827 -0.59048539]\n"
     ]
    }
   ],
   "source": [
    "arr = np.random.randn(8)\n",
    "print arr"
   ]
  },
  {
   "cell_type": "code",
   "execution_count": 40,
   "metadata": {
    "collapsed": false
   },
   "outputs": [
    {
     "name": "stdout",
     "output_type": "stream",
     "text": [
      "[-1.03634359 -0.80720827 -0.78337467 -0.59048539  0.39927442  1.02954637\n",
      "  1.35546245  2.49615018]\n"
     ]
    }
   ],
   "source": [
    "arr.sort()\n",
    "print arr"
   ]
  },
  {
   "cell_type": "code",
   "execution_count": 44,
   "metadata": {
    "collapsed": false
   },
   "outputs": [
    {
     "name": "stdout",
     "output_type": "stream",
     "text": [
      "[[ 0.48445367  0.4001964   0.49597295]\n",
      " [-0.19698697 -0.01501497 -0.23606666]]\n",
      "[[ 0.4001964   0.48445367  0.49597295]\n",
      " [-0.23606666 -0.19698697 -0.01501497]]\n",
      "[[-0.23606666 -0.19698697 -0.01501497]\n",
      " [ 0.4001964   0.48445367  0.49597295]]\n"
     ]
    }
   ],
   "source": [
    "arr = np.random.randn(2, 3)\n",
    "print arr\n",
    "\n",
    "arr.sort(1) # 열을 따라서 정렬, 즉 각 행 정렬\n",
    "print arr\n",
    "\n",
    "arr.sort(0) # 행따라 정렬, 즉 각 열 정렬\n",
    "print arr"
   ]
  },
  {
   "cell_type": "markdown",
   "metadata": {},
   "source": [
    "* 집합 함수\n",
    " - 많이 사용되는 집합 함수\n",
    " - np.unique(x)         : 중복 제거 후, 정렬하여 반환\n",
    " - np.intersect1d(x, y) : 배열 중 공통적으로 포함하는 원소를 정렬하여 반화나\n",
    " - np.union1d(x, y)     : 합집합 반환 "
   ]
  },
  {
   "cell_type": "code",
   "execution_count": 45,
   "metadata": {
    "collapsed": false
   },
   "outputs": [
    {
     "data": {
      "text/plain": [
       "array(['Aaron', 'Bill', 'Bob', 'Doe', 'John', 'Kate'], \n",
       "      dtype='|S5')"
      ]
     },
     "execution_count": 45,
     "metadata": {},
     "output_type": "execute_result"
    }
   ],
   "source": [
    "names = np.array(['Aaron', 'Bob', 'Bill', 'Bob', 'John', 'Bob', 'Bill', 'Doe', 'Kate'])\n",
    "np.unique(names)"
   ]
  },
  {
   "cell_type": "code",
   "execution_count": 48,
   "metadata": {
    "collapsed": false
   },
   "outputs": [
    {
     "data": {
      "text/plain": [
       "array([1, 2, 3])"
      ]
     },
     "execution_count": 48,
     "metadata": {},
     "output_type": "execute_result"
    }
   ],
   "source": [
    "nums = np.array([3, 1, 1, 2, 2, 2, 3, 3, 3, 3, 1, 1])\n",
    "np.unique(nums) # 정렬하여 반환"
   ]
  },
  {
   "cell_type": "code",
   "execution_count": 1,
   "metadata": {
    "collapsed": false
   },
   "outputs": [
    {
     "ename": "NameError",
     "evalue": "name 'nums' is not defined",
     "output_type": "error",
     "traceback": [
      "\u001b[0;31m---------------------------------------------------------------------------\u001b[0m",
      "\u001b[0;31mNameError\u001b[0m                                 Traceback (most recent call last)",
      "\u001b[0;32m<ipython-input-1-5a99df804d46>\u001b[0m in \u001b[0;36m<module>\u001b[0;34m()\u001b[0m\n\u001b[1;32m      1\u001b[0m \u001b[1;31m# np.unique의 순수한 파이썬 구현\u001b[0m\u001b[1;33m\u001b[0m\u001b[1;33m\u001b[0m\u001b[0m\n\u001b[0;32m----> 2\u001b[0;31m \u001b[0msorted\u001b[0m\u001b[1;33m(\u001b[0m\u001b[0mset\u001b[0m\u001b[1;33m(\u001b[0m\u001b[0mnums\u001b[0m\u001b[1;33m)\u001b[0m\u001b[1;33m)\u001b[0m\u001b[1;33m\u001b[0m\u001b[0m\n\u001b[0m",
      "\u001b[0;31mNameError\u001b[0m: name 'nums' is not defined"
     ]
    }
   ],
   "source": [
    "# np.unique의 순수한 파이썬 구현\n",
    "sorted(set(nums))"
   ]
  },
  {
   "cell_type": "code",
   "execution_count": 49,
   "metadata": {
    "collapsed": false
   },
   "outputs": [
    {
     "name": "stdout",
     "output_type": "stream",
     "text": [
      "[4 5 6]\n",
      "[1 2 3 4 5 6 7 8 9]\n"
     ]
    }
   ],
   "source": [
    "x = np.array([1, 2, 3, 4, 5, 6])\n",
    "y = np.array([4, 5, 6, 7, 8, 9])\n",
    "\n",
    "print np.intersect1d(x, y)   # 교집합\n",
    "print np.union1d(x, y)       # 합집합"
   ]
  },
  {
   "cell_type": "markdown",
   "metadata": {},
   "source": [
    "* 선형대수 package\n",
    " - numpy.linalg"
   ]
  },
  {
   "cell_type": "code",
   "execution_count": 50,
   "metadata": {
    "collapsed": false
   },
   "outputs": [
    {
     "name": "stdout",
     "output_type": "stream",
     "text": [
      "[[-0.8269363   0.05892448  2.06595254]\n",
      " [ 0.32353875  0.94386794 -1.30018021]\n",
      " [-0.48883288 -0.05172916  1.66860727]]\n",
      "[[ 1.02745855  0.28193798 -2.94473992]\n",
      " [ 0.28193798  0.89703469 -1.19177888]\n",
      " [-2.94473992 -1.19177888  8.74287868]]\n"
     ]
    }
   ],
   "source": [
    "from numpy.linalg import inv, qr\n",
    "\n",
    "X = np.random.randn(3, 3)\n",
    "mat = X.T.dot(X)\n",
    "\n",
    "print X\n",
    "print mat"
   ]
  },
  {
   "cell_type": "code",
   "execution_count": 51,
   "metadata": {
    "collapsed": false
   },
   "outputs": [
    {
     "name": "stdout",
     "output_type": "stream",
     "text": [
      "[[-4.67527537  0.63629104  6.28439671]\n",
      " [-0.29679796  1.14712603  1.261316  ]\n",
      " [-1.37886335  0.22196945  2.47947292]]\n"
     ]
    }
   ],
   "source": [
    "print inv(X) # x 역행렬"
   ]
  },
  {
   "cell_type": "code",
   "execution_count": 52,
   "metadata": {
    "collapsed": false
   },
   "outputs": [
    {
     "data": {
      "text/plain": [
       "array([[  1.00000000e+00,  -3.95561363e-17,   0.00000000e+00],\n",
       "       [ -4.12678238e-18,   1.00000000e+00,   0.00000000e+00],\n",
       "       [  0.00000000e+00,  -5.55111512e-17,   1.00000000e+00]])"
      ]
     },
     "execution_count": 52,
     "metadata": {},
     "output_type": "execute_result"
    }
   ],
   "source": [
    "X.dot(inv(X))"
   ]
  },
  {
   "cell_type": "markdown",
   "metadata": {},
   "source": [
    "* 계단 오르내리기 실습\n",
    " - 계단의 중간에서 같은 확률로 올라가거나 내려간다고 가정"
   ]
  },
  {
   "cell_type": "code",
   "execution_count": 54,
   "metadata": {
    "collapsed": false
   },
   "outputs": [
    {
     "name": "stdout",
     "output_type": "stream",
     "text": [
      "[1, 2, 3, 4, 3, 4, 3, 2, 3, 4, 5, 4, 3, 4, 3, 2, 3, 2, 1, 0, 1, 0, -1, -2, -1, 0, -1, 0, 1, 0, 1, 2, 3, 4, 3, 4, 3, 4, 3, 2, 1, 2, 1, 0, 1, 0, -1, 0, 1, 2, 3, 2, 1, 0, 1, 0, 1, 2, 1, 2, 1, 0, -1, -2, -3, -4, -3, -2, -1, 0, 1, 0, -1, -2, -3, -4, -3, -2, -3, -4, -3, -2, -3, -4, -5, -6, -7, -6, -7, -8, -7, -8, -7, -6, -7, -6, -7, -6, -5, -4, -5, -6, -7, -8, -9, -10, -9, -8, -9, -8, -9, -10, -11, -12, -11, -10, -9, -10, -9, -8, -7, -8, -9, -10, -9, -8, -7, -8, -7, -8, -9, -8, -9, -8, -9, -10, -9, -10, -11, -12, -13, -12, -13, -12, -13, -12, -13, -14, -13, -12, -13, -14, -15, -16, -17, -18, -17, -16, -15, -16, -17, -18, -17, -16, -15, -14, -15, -14, -13, -12, -11, -12, -11, -12, -13, -12, -11, -12, -13, -14, -15, -14, -13, -12, -13, -12, -11, -10, -11, -12, -13, -14, -13, -14, -15, -14, -15, -14, -15, -16, -17, -16, -15, -16, -17, -16, -15, -14, -13, -12, -13, -12, -11, -10, -9, -10, -9, -8, -7, -8, -7, -6, -5, -4, -5, -6, -7, -6, -5, -6, -7, -8, -7, -8, -9, -10, -11, -10, -11, -12, -13, -14, -13, -12, -13, -14, -13, -12, -11, -10, -11, -12, -11, -12, -13, -12, -11, -12, -11, -10, -9, -10, -11, -10, -9, -8, -7, -6, -7, -8, -7, -8, -7, -6, -7, -6, -7, -6, -7, -6, -5, -4, -3, -2, -3, -2, -1, -2, -3, -4, -5, -4, -5, -6, -7, -8, -7, -8, -7, -8, -9, -10, -9, -10, -9, -10, -9, -10, -11, -12, -13, -14, -13, -12, -11, -10, -11, -10, -9, -10, -9, -10, -9, -8, -9, -8, -9, -8, -9, -8, -7, -8, -7, -6, -7, -6, -7, -6, -7, -6, -5, -4, -5, -6, -7, -6, -5, -4, -5, -4, -5, -4, -3, -2, -1, 0, -1, -2, -3, -4, -5, -6, -5, -6, -7, -6, -7, -6, -5, -6, -7, -8, -9, -8, -7, -6, -7, -8, -7, -8, -9, -10, -9, -10, -9, -10, -11, -10, -9, -10, -11, -10, -11, -12, -11, -10, -11, -12, -11, -10, -11, -10, -11, -10, -9, -10, -9, -8, -9, -8, -9, -10, -11, -12, -11, -12, -11, -10, -9, -8, -7, -8, -9, -8, -9, -8, -7, -6, -7, -6, -7, -6, -7, -6, -7, -8, -7, -8, -9, -10, -11, -12, -13, -12, -13, -14, -15, -14, -13, -12, -11, -12, -11, -12, -13, -14, -13, -14, -13, -12, -11, -12, -11, -12, -11, -12, -13, -12, -11, -12, -13, -12, -11, -12, -13, -12, -13, -14, -13, -14, -13, -12, -13, -12, -13, -12, -11, -10, -11, -12, -13, -14, -13, -12, -11, -12, -11, -12, -13, -14, -15, -16, -15, -16, -15, -16, -17, -16, -17, -18, -17, -18, -19, -20, -19, -20, -21, -22, -21, -22, -23, -24, -23, -24, -23, -22, -21, -22, -23, -22, -21, -22, -23, -24, -23, -24, -23, -22, -23, -24, -23, -22, -21, -22, -23, -24, -25, -26, -25, -26, -27, -26, -25, -26, -27, -26, -25, -24, -25, -26, -25, -26, -27, -28, -27, -28, -29, -28, -29, -30, -29, -28, -27, -28, -27, -28, -27, -26, -27, -26, -25, -26, -25, -24, -23, -22, -21, -20, -19, -18, -19, -18, -17, -16, -17, -16, -15, -14, -15, -14, -13, -14, -13, -14, -13, -12, -11, -12, -13, -12, -11, -12, -11, -12, -13, -12, -13, -12, -11, -12, -11, -10, -11, -12, -11, -10, -9, -10, -11, -12, -11, -10, -11, -10, -9, -8, -9, -8, -7, -8, -7, -6, -7, -8, -7, -8, -7, -8, -7, -6, -7, -6, -7, -6, -7, -6, -7, -6, -5, -6, -5, -4, -3, -2, -1, 0, -1, 0, -1, -2, -1, -2, -1, 0, -1, 0, 1, 0, -1, -2, -1, 0, -1, 0, -1, -2, -1, 0, 1, 0, 1, 2, 3, 4, 5, 6, 7, 8, 7, 8, 7, 6, 7, 6, 7, 6, 7, 8, 9, 10, 11, 10, 9, 10, 11, 12, 13, 12, 11, 12, 13, 12, 11, 10, 9, 8, 7, 6, 5, 6, 7, 6, 5, 6, 7, 8, 9, 8, 7, 8, 9, 8, 7, 6, 7, 6, 7, 6, 7, 8, 7, 6, 5, 4, 3, 2, 3, 2, 1, 0, -1, -2, -1, 0, 1, 2, 1, 0, -1, -2, -3, -2, -3, -4, -5, -6, -7, -8, -7, -8, -9, -10, -9, -8, -9, -8, -9, -8, -9, -8, -9, -8, -7, -8, -9, -8, -7, -6, -5, -6, -5, -6, -7, -6, -7, -8, -7, -6, -7, -8, -7, -8, -7, -6, -7, -8, -9, -10, -11, -10, -9, -8, -9, -8, -7, -8, -7, -6, -5, -6, -5, -4, -3, -4, -5, -4, -3, -2, -3, -2, -3, -2, -1, -2, -1, 0, -1, 0, -1, 0, -1, 0, -1, -2, -1, -2, -3, -4, -5, -4, -5, -4, -5, -6, -5, -6, -7, -6, -7, -6, -5, -6, -7, -6, -5, -6, -7, -6, -5, -6, -7, -6, -7, -6, -5, -4, -5, -4, -5, -4, -5, -4, -5, -4, -3, -4, -3, -2, -1, -2, -3, -4, -5, -4, -3, -4, -5, -4, -3, -2, -3, -2, -3, -4, -5, -6, -7, -6, -5, -6, -7, -8, -7, -8, -9, -8, -9, -8, -9, -8, -7, -6, -5, -4, -3, -2, -1, 0, -1, 0, 1, 0, -1, 0, 1, 2, 1, 0, 1, 2, 1, 2, 3, 2, 3, 4, 3, 4, 3, 4, 5, 4, 5, 6, 7, 6, 5, 6, 7, 8, 7, 8, 9, 10, 9, 8, 7, 8, 9, 8, 9, 8, 7, 6, 7, 6, 5, 4, 3, 4, 5, 6, 5, 4, 3, 4, 5, 4, 3, 2]\n"
     ]
    }
   ],
   "source": [
    "# 순수 파이썬 버젼\n",
    "import random\n",
    "\n",
    "pos = 0\n",
    "walk = []\n",
    "steps = 1000\n",
    "for i in xrange(steps):\n",
    "    step = 1 if random.randint(0, 1) else -1 #np.random.randit과 옵션이 다르다.\n",
    "    pos += step\n",
    "    walk.append(pos)\n",
    "    \n",
    "print walk"
   ]
  },
  {
   "cell_type": "code",
   "execution_count": 58,
   "metadata": {
    "collapsed": false
   },
   "outputs": [
    {
     "name": "stdout",
     "output_type": "stream",
     "text": [
      "[  1   2   3   2   1   0  -1  -2  -3  -4  -5  -6  -7  -8  -7  -6  -7  -6\n",
      "  -7  -6  -7  -6  -5  -6  -7  -6  -5  -4  -3  -4  -5  -4  -3  -4  -5  -6\n",
      "  -5  -6  -7  -8  -7  -6  -7  -8  -7  -6  -7  -6  -7  -8  -9  -8  -7  -8\n",
      "  -9  -8  -7  -8  -7  -8  -7  -8  -9  -8  -7  -6  -5  -4  -5  -6  -7  -6\n",
      "  -5  -6  -5  -4  -5  -4  -3  -2  -3  -4  -5  -6  -5  -4  -5  -6  -5  -6\n",
      "  -7  -8  -9 -10  -9  -8  -9  -8  -7  -8  -7  -8  -7  -6  -5  -6  -7  -6\n",
      "  -5  -4  -5  -4  -3  -2  -3  -2  -3  -4  -3  -4  -5  -4  -5  -4  -3  -2\n",
      "  -1   0  -1  -2  -1  -2  -1  -2  -1  -2  -1   0  -1   0  -1  -2  -3  -2\n",
      "  -1   0   1   2   1   2   3   2   1   2   1   0   1   0  -1  -2  -1   0\n",
      "  -1  -2  -1  -2  -3  -4  -5  -4  -5  -6  -5  -4  -5  -6  -5  -6  -7  -6\n",
      "  -5  -4  -3  -4  -3  -4  -5  -4  -5  -6  -7  -8  -7  -8  -9  -8  -9 -10\n",
      " -11 -10  -9  -8  -7  -8  -7  -8  -7  -6  -7  -8  -7  -8  -9 -10 -11 -12\n",
      " -13 -12 -13 -12 -11 -10 -11 -12 -11 -10  -9 -10  -9 -10  -9  -8  -9 -10\n",
      "  -9  -8  -9  -8  -9 -10 -11 -12 -11 -10 -11 -10 -11 -10 -11 -10  -9  -8\n",
      "  -7  -8  -9 -10  -9  -8  -9  -8  -9  -8  -9 -10 -11 -10  -9  -8  -7  -6\n",
      "  -5  -6  -7  -6  -5  -4  -5  -6  -5  -6  -5  -4  -3  -4  -5  -4  -3  -4\n",
      "  -5  -4  -3  -4  -5  -4  -5  -4  -5  -4  -5  -6  -7  -6  -5  -6  -5  -6\n",
      "  -5  -4  -3  -4  -3  -2  -3  -4  -3  -2  -3  -2  -3  -2  -1  -2  -3  -2\n",
      "  -1  -2  -1   0  -1   0   1   0   1   0   1   2   1   0  -1  -2  -3  -4\n",
      "  -3  -4  -5  -4  -3  -4  -5  -6  -5  -4  -3  -4  -3  -4  -5  -6  -7  -8\n",
      "  -9  -8  -7  -8  -7  -6  -5  -4  -5  -4  -5  -4  -5  -4  -5  -6  -5  -6\n",
      "  -7  -8  -7  -6  -5  -4  -5  -4  -5  -6  -5  -4  -5  -6  -7  -6  -7  -6\n",
      "  -7  -8  -7  -8  -7  -6  -5  -4  -5  -6  -7  -8  -9 -10 -11 -12 -11 -10\n",
      "  -9 -10 -11 -12 -11 -10  -9  -8  -9  -8  -7  -8  -7  -6  -7  -6  -5  -4\n",
      "  -3  -4  -3  -4  -5  -4  -3  -2  -3  -2  -3  -2  -1   0  -1   0   1   2\n",
      "   1   2   3   2   1   0  -1  -2  -1   0  -1   0  -1   0  -1  -2  -3  -2\n",
      "  -3  -4  -5  -4  -3  -4  -5  -4  -5  -6  -5  -6  -5  -6  -5  -6  -7  -6\n",
      "  -5  -6  -5  -4  -3  -2  -3  -4  -3  -4  -3  -4  -3  -4  -5  -4  -5  -6\n",
      "  -7  -6  -5  -6  -5  -4  -3  -2  -1   0   1   0  -1   0  -1  -2  -3  -4\n",
      "  -5  -6  -7  -6  -5  -4  -5  -4  -3  -2  -3  -2  -3  -4  -3  -4  -5  -4\n",
      "  -3  -2  -3  -4  -3  -4  -5  -6  -5  -4  -3  -2  -1   0   1   0  -1  -2\n",
      "  -3  -2  -1  -2  -3  -2  -1   0   1   2   1   0   1   2   1   0   1   0\n",
      "   1   0  -1  -2  -3  -2  -3  -2  -1  -2  -1  -2  -1   0  -1  -2  -1   0\n",
      "   1   0  -1  -2  -3  -4  -5  -4  -5  -4  -3  -4  -5  -6  -7  -8  -9  -8\n",
      "  -9 -10 -11 -10 -11 -12 -11 -12 -11 -12 -11 -12 -11 -10 -11 -12 -11 -10\n",
      "  -9 -10 -11 -12 -13 -14 -15 -14 -15 -14 -13 -12 -11 -12 -11 -12 -13 -12\n",
      " -11 -10  -9 -10  -9 -10  -9  -8  -9  -8  -9 -10  -9 -10 -11 -10  -9 -10\n",
      " -11 -10 -11 -10  -9  -8  -7  -6  -5  -4  -5  -6  -5  -6  -5  -4  -5  -4\n",
      "  -5  -6  -7  -8  -7  -6  -7  -6  -7  -8  -7  -6  -7  -6  -7  -8  -7  -8\n",
      "  -7  -6  -5  -6  -5  -4  -3  -4  -3  -2  -1  -2  -1  -2  -3  -4  -3  -2\n",
      "  -3  -4  -3  -2  -3  -4  -3  -4  -3  -4  -3  -4  -5  -6  -5  -4  -3  -2\n",
      "  -1   0  -1  -2  -3  -4  -5  -4  -3  -4  -5  -6  -5  -6  -7  -8  -9 -10\n",
      " -11 -10 -11 -10  -9 -10  -9  -8  -9 -10  -9 -10 -11 -10 -11 -10 -11 -10\n",
      "  -9 -10 -11 -10  -9 -10  -9  -8  -7  -8  -9  -8  -7  -6  -7  -6  -5  -6\n",
      "  -5  -6  -5  -6  -7  -6  -7  -6  -7  -6  -7  -8  -7  -8  -9  -8  -9  -8\n",
      "  -9 -10 -11 -12 -13 -14 -15 -16 -17 -18 -19 -20 -21 -22 -21 -22 -21 -20\n",
      " -21 -22 -23 -24 -23 -22 -21 -20 -21 -20 -21 -20 -19 -18 -19 -20 -21 -20\n",
      " -19 -18 -19 -20 -21 -22 -21 -22 -23 -22 -21 -22 -21 -20 -19 -20 -21 -22\n",
      " -21 -22 -23 -22 -23 -24 -25 -26 -27 -26 -25 -24 -23 -22 -21 -20 -21 -22\n",
      " -23 -24 -23 -22 -23 -24 -25 -26 -27 -26 -27 -28 -27 -28 -27 -26 -25 -26\n",
      " -25 -24 -25 -26 -25 -24 -23 -24 -25 -26 -25 -26 -27 -26 -25 -24 -25 -24\n",
      " -23 -24 -23 -22 -23 -24 -25 -24 -25 -24 -23 -22 -23 -22 -23 -24 -23 -24\n",
      " -25 -26 -27 -26 -25 -26 -25 -24 -23 -24 -25 -24 -25 -24 -25 -26 -27 -28\n",
      " -27 -26 -25 -24 -23 -24 -25 -24 -23 -22 -21 -20 -19 -20 -19 -18 -19 -18\n",
      " -17 -16 -17 -16 -17 -16 -17 -16 -15 -16 -17 -16 -17 -18 -17 -16 -17 -16\n",
      " -17 -16 -15 -16 -15 -14 -13 -12 -11 -12]\n"
     ]
    }
   ],
   "source": [
    "# numpy version\n",
    "steps = 1000\n",
    "ways = np.random.randint(0, 2, size = steps)\n",
    "steps = np.where(ways > 0, 1, -1)\n",
    "walk = steps.cumsum() # 누적합을 구하는 함수\n",
    "print walk"
   ]
  },
  {
   "cell_type": "markdown",
   "metadata": {},
   "source": [
    "* pandas "
   ]
  },
  {
   "cell_type": "markdown",
   "metadata": {},
   "source": [
    "* group by\n",
    "  + 아래의 세 단계를 포함 (SQL의 group by 와 개념적으로는 동일, 사용법은 유사)\n",
    "    - 데이터 분할\n",
    "    - operation 적용\n",
    "    - 데이터 병합"
   ]
  },
  {
   "cell_type": "code",
   "execution_count": 61,
   "metadata": {
    "collapsed": true
   },
   "outputs": [],
   "source": [
    "import pandas as pd"
   ]
  },
  {
   "cell_type": "code",
   "execution_count": 62,
   "metadata": {
    "collapsed": false
   },
   "outputs": [],
   "source": [
    "# 1955년부터의 유로리그 우승팀 데이터\n",
    "df = pd.read_csv('./data/euro_winners.csv')"
   ]
  },
  {
   "cell_type": "code",
   "execution_count": 65,
   "metadata": {
    "collapsed": false
   },
   "outputs": [
    {
     "data": {
      "text/html": [
       "<div>\n",
       "<table border=\"1\" class=\"dataframe\">\n",
       "  <thead>\n",
       "    <tr style=\"text-align: right;\">\n",
       "      <th></th>\n",
       "      <th>Season</th>\n",
       "      <th>Nation</th>\n",
       "      <th>Winners</th>\n",
       "      <th>Score</th>\n",
       "      <th>Runners-up</th>\n",
       "      <th>Runner-UpNation</th>\n",
       "      <th>Venue</th>\n",
       "      <th>Attendance</th>\n",
       "    </tr>\n",
       "  </thead>\n",
       "  <tbody>\n",
       "    <tr>\n",
       "      <th>0</th>\n",
       "      <td>1955–56</td>\n",
       "      <td>Spain</td>\n",
       "      <td>Real Madrid</td>\n",
       "      <td>4–3</td>\n",
       "      <td>Stade de Reims</td>\n",
       "      <td>France</td>\n",
       "      <td>Parc des Princes,Paris</td>\n",
       "      <td>38239</td>\n",
       "    </tr>\n",
       "    <tr>\n",
       "      <th>1</th>\n",
       "      <td>1956–57</td>\n",
       "      <td>Spain</td>\n",
       "      <td>Real Madrid</td>\n",
       "      <td>2–0</td>\n",
       "      <td>Fiorentina</td>\n",
       "      <td>Italy</td>\n",
       "      <td>Santiago Bernabéu Stadium, Madrid</td>\n",
       "      <td>124000</td>\n",
       "    </tr>\n",
       "    <tr>\n",
       "      <th>2</th>\n",
       "      <td>1957–58</td>\n",
       "      <td>Spain</td>\n",
       "      <td>Real Madrid</td>\n",
       "      <td>3–2</td>\n",
       "      <td>Milan</td>\n",
       "      <td>Italy</td>\n",
       "      <td>Heysel Stadium,Brussels</td>\n",
       "      <td>67000</td>\n",
       "    </tr>\n",
       "    <tr>\n",
       "      <th>3</th>\n",
       "      <td>1958–59</td>\n",
       "      <td>Spain</td>\n",
       "      <td>Real Madrid</td>\n",
       "      <td>2–0</td>\n",
       "      <td>Stade de Reims</td>\n",
       "      <td>France</td>\n",
       "      <td>Neckarstadion,Stuttgart</td>\n",
       "      <td>72000</td>\n",
       "    </tr>\n",
       "    <tr>\n",
       "      <th>4</th>\n",
       "      <td>1959–60</td>\n",
       "      <td>Spain</td>\n",
       "      <td>Real Madrid</td>\n",
       "      <td>7–3</td>\n",
       "      <td>Eintracht Frankfurt</td>\n",
       "      <td>Germany</td>\n",
       "      <td>Hampden Park,Glasgow</td>\n",
       "      <td>127621</td>\n",
       "    </tr>\n",
       "    <tr>\n",
       "      <th>5</th>\n",
       "      <td>1960–61</td>\n",
       "      <td>Portugal</td>\n",
       "      <td>Benfica</td>\n",
       "      <td>3–2</td>\n",
       "      <td>Barcelona</td>\n",
       "      <td>Spain</td>\n",
       "      <td>Wankdorf Stadium,Bern</td>\n",
       "      <td>26732</td>\n",
       "    </tr>\n",
       "    <tr>\n",
       "      <th>6</th>\n",
       "      <td>1961–62</td>\n",
       "      <td>Portugal</td>\n",
       "      <td>Benfica</td>\n",
       "      <td>5–3</td>\n",
       "      <td>Real Madrid</td>\n",
       "      <td>Spain</td>\n",
       "      <td>Olympisch Stadion,Amsterdam</td>\n",
       "      <td>61257</td>\n",
       "    </tr>\n",
       "    <tr>\n",
       "      <th>7</th>\n",
       "      <td>1962–63</td>\n",
       "      <td>Italy</td>\n",
       "      <td>Milan</td>\n",
       "      <td>2–1</td>\n",
       "      <td>Benfica</td>\n",
       "      <td>Portugal</td>\n",
       "      <td>Wembley Stadium,London</td>\n",
       "      <td>45715</td>\n",
       "    </tr>\n",
       "    <tr>\n",
       "      <th>8</th>\n",
       "      <td>1963–64</td>\n",
       "      <td>Italy</td>\n",
       "      <td>Internazionale</td>\n",
       "      <td>3–1</td>\n",
       "      <td>Real Madrid</td>\n",
       "      <td>Spain</td>\n",
       "      <td>Prater Stadium,Vienna</td>\n",
       "      <td>71333</td>\n",
       "    </tr>\n",
       "    <tr>\n",
       "      <th>9</th>\n",
       "      <td>1964–65</td>\n",
       "      <td>Italy</td>\n",
       "      <td>Internazionale</td>\n",
       "      <td>1–0</td>\n",
       "      <td>Benfica</td>\n",
       "      <td>Portugal</td>\n",
       "      <td>San Siro, Milan</td>\n",
       "      <td>89000</td>\n",
       "    </tr>\n",
       "    <tr>\n",
       "      <th>10</th>\n",
       "      <td>1965–66</td>\n",
       "      <td>Spain</td>\n",
       "      <td>Real Madrid</td>\n",
       "      <td>2–1</td>\n",
       "      <td>Partizan</td>\n",
       "      <td>Yugoslavia</td>\n",
       "      <td>Heysel Stadium,Brussels</td>\n",
       "      <td>46745</td>\n",
       "    </tr>\n",
       "    <tr>\n",
       "      <th>11</th>\n",
       "      <td>1966–67</td>\n",
       "      <td>Scotland</td>\n",
       "      <td>Celtic</td>\n",
       "      <td>2–1</td>\n",
       "      <td>Internazionale</td>\n",
       "      <td>Italy</td>\n",
       "      <td>Estádio Nacional,Lisbon</td>\n",
       "      <td>45000</td>\n",
       "    </tr>\n",
       "    <tr>\n",
       "      <th>12</th>\n",
       "      <td>1967–68</td>\n",
       "      <td>England</td>\n",
       "      <td>Manchester United</td>\n",
       "      <td>4–1</td>\n",
       "      <td>Benfica</td>\n",
       "      <td>Portugal</td>\n",
       "      <td>Wembley Stadium,London</td>\n",
       "      <td>92225</td>\n",
       "    </tr>\n",
       "    <tr>\n",
       "      <th>13</th>\n",
       "      <td>1968–69</td>\n",
       "      <td>Italy</td>\n",
       "      <td>Milan</td>\n",
       "      <td>4–1</td>\n",
       "      <td>Ajax</td>\n",
       "      <td>Netherlands</td>\n",
       "      <td>Santiago Bernabéu Stadium, Madrid</td>\n",
       "      <td>31782</td>\n",
       "    </tr>\n",
       "    <tr>\n",
       "      <th>14</th>\n",
       "      <td>1969–70</td>\n",
       "      <td>Netherlands</td>\n",
       "      <td>Feyenoord</td>\n",
       "      <td>2–1</td>\n",
       "      <td>Celtic</td>\n",
       "      <td>Scotland</td>\n",
       "      <td>San Siro, Milan</td>\n",
       "      <td>53187</td>\n",
       "    </tr>\n",
       "  </tbody>\n",
       "</table>\n",
       "</div>"
      ],
      "text/plain": [
       "     Season       Nation            Winners Score           Runners-up  \\\n",
       "0   1955–56        Spain        Real Madrid   4–3       Stade de Reims   \n",
       "1   1956–57        Spain        Real Madrid   2–0           Fiorentina   \n",
       "2   1957–58        Spain        Real Madrid   3–2                Milan   \n",
       "3   1958–59        Spain        Real Madrid   2–0       Stade de Reims   \n",
       "4   1959–60        Spain        Real Madrid   7–3  Eintracht Frankfurt   \n",
       "5   1960–61     Portugal            Benfica   3–2            Barcelona   \n",
       "6   1961–62     Portugal            Benfica   5–3          Real Madrid   \n",
       "7   1962–63        Italy              Milan   2–1              Benfica   \n",
       "8   1963–64        Italy     Internazionale   3–1          Real Madrid   \n",
       "9   1964–65        Italy     Internazionale   1–0              Benfica   \n",
       "10  1965–66        Spain        Real Madrid   2–1             Partizan   \n",
       "11  1966–67     Scotland             Celtic   2–1       Internazionale   \n",
       "12  1967–68      England  Manchester United   4–1              Benfica   \n",
       "13  1968–69        Italy              Milan   4–1                 Ajax   \n",
       "14  1969–70  Netherlands          Feyenoord   2–1               Celtic   \n",
       "\n",
       "   Runner-UpNation                              Venue  Attendance  \n",
       "0           France             Parc des Princes,Paris       38239  \n",
       "1            Italy  Santiago Bernabéu Stadium, Madrid      124000  \n",
       "2            Italy            Heysel Stadium,Brussels       67000  \n",
       "3           France            Neckarstadion,Stuttgart       72000  \n",
       "4          Germany               Hampden Park,Glasgow      127621  \n",
       "5            Spain              Wankdorf Stadium,Bern       26732  \n",
       "6            Spain        Olympisch Stadion,Amsterdam       61257  \n",
       "7         Portugal             Wembley Stadium,London       45715  \n",
       "8            Spain              Prater Stadium,Vienna       71333  \n",
       "9         Portugal                    San Siro, Milan       89000  \n",
       "10      Yugoslavia            Heysel Stadium,Brussels       46745  \n",
       "11           Italy            Estádio Nacional,Lisbon       45000  \n",
       "12        Portugal             Wembley Stadium,London       92225  \n",
       "13     Netherlands  Santiago Bernabéu Stadium, Madrid       31782  \n",
       "14        Scotland                    San Siro, Milan       53187  "
      ]
     },
     "execution_count": 65,
     "metadata": {},
     "output_type": "execute_result"
    }
   ],
   "source": [
    "df.head(15)"
   ]
  },
  {
   "cell_type": "code",
   "execution_count": 64,
   "metadata": {
    "collapsed": false
   },
   "outputs": [
    {
     "data": {
      "text/plain": [
       "pandas.core.groupby.DataFrameGroupBy"
      ]
     },
     "execution_count": 64,
     "metadata": {},
     "output_type": "execute_result"
    }
   ],
   "source": [
    "# 국가별로 그룹핑 \n",
    "nation_group = df.groupby('Nation')\n",
    "type(nation_group)"
   ]
  },
  {
   "cell_type": "code",
   "execution_count": 66,
   "metadata": {
    "collapsed": false
   },
   "outputs": [
    {
     "name": "stdout",
     "output_type": "stream",
     "text": [
      "['Attendance', 'Nation', 'Score', 'Season', 'Venue', 'Winners', '__bytes__', '__class__', '__delattr__', '__dict__', '__dir__', '__doc__', '__format__', '__getattr__', '__getattribute__', '__getitem__', '__hash__', '__init__', '__iter__', '__len__', '__module__', '__new__', '__reduce__', '__reduce_ex__', '__repr__', '__setattr__', '__sizeof__', '__str__', '__subclasshook__', '__unicode__', '__weakref__', '_agg_doc', '_aggregate', '_aggregate_generic', '_aggregate_item_by_item', '_aggregate_multiple_funcs', '_apply_filter', '_apply_to_column_groupbys', '_apply_whitelist', '_assure_grouper', '_block_agg_axis', '_builtin_table', '_choose_path', '_concat_objects', '_constructor', '_cumcount_array', '_cython_agg_blocks', '_cython_agg_general', '_cython_table', '_cython_transform', '_decide_output_index', '_def_str', '_define_paths', '_dir_additions', '_dir_deletions', '_get_data_to_aggregate', '_get_index', '_get_indices', '_gotitem', '_group_selection', '_index_with_as_index', '_insert_inaxis_grouper_inplace', '_internal_names', '_internal_names_set', '_is_builtin_func', '_is_cython_func', '_iterate_column_groupbys', '_iterate_slices', '_make_wrapper', '_obj_with_exclusions', '_post_process_cython_aggregate', '_python_agg_general', '_python_apply_general', '_reindex_output', '_reset_cache', '_reset_group_selection', '_see_also_template', '_selected_obj', '_selection', '_selection_list', '_set_group_selection', '_set_result_index_ordered', '_shallow_copy', '_transform_fast', '_transform_general', '_transform_item_by_item', '_try_cast', '_wrap_agged_blocks', '_wrap_aggregated_output', '_wrap_applied_output', '_wrap_generic_output', '_wrap_transformed_output', 'agg', 'aggregate', 'all', 'any', 'apply', 'backfill', 'bfill', 'boxplot', 'corr', 'corrwith', 'count', 'cov', 'cumcount', 'cummax', 'cummin', 'cumprod', 'cumsum', 'describe', 'diff', 'dtypes', 'expanding', 'ffill', 'fillna', 'filter', 'first', 'get_group', 'groups', 'head', 'hist', 'idxmax', 'idxmin', 'indices', 'irow', 'last', 'mad', 'max', 'mean', 'median', 'min', 'name', 'ndim', 'ngroups', 'nth', 'ohlc', 'pad', 'pct_change', 'plot', 'prod', 'quantile', 'rank', 'resample', 'rolling', 'sem', 'shift', 'size', 'skew', 'std', 'sum', 'tail', 'take', 'transform', 'tshift', 'var']\n"
     ]
    }
   ],
   "source": [
    "print dir(nation_group)"
   ]
  },
  {
   "cell_type": "code",
   "execution_count": 67,
   "metadata": {
    "collapsed": false
   },
   "outputs": [
    {
     "data": {
      "text/plain": [
       "{'England': Int64Index([12, 21, 22, 23, 24, 25, 26, 28, 43, 49, 52, 56], dtype='int64'),\n",
       " 'France': Int64Index([37], dtype='int64'),\n",
       " 'Germany': Int64Index([18, 19, 20, 27, 41, 45, 57], dtype='int64'),\n",
       " 'Italy': Int64Index([7, 8, 9, 13, 29, 33, 34, 38, 40, 47, 51, 54], dtype='int64'),\n",
       " 'Netherlands': Int64Index([14, 15, 16, 17, 32, 39], dtype='int64'),\n",
       " 'Portugal': Int64Index([5, 6, 31, 48], dtype='int64'),\n",
       " 'Romania': Int64Index([30], dtype='int64'),\n",
       " 'Scotland': Int64Index([11], dtype='int64'),\n",
       " 'Spain': Int64Index([0, 1, 2, 3, 4, 10, 36, 42, 44, 46, 50, 53, 55], dtype='int64'),\n",
       " 'Yugoslavia': Int64Index([35], dtype='int64')}"
      ]
     },
     "execution_count": 67,
     "metadata": {},
     "output_type": "execute_result"
    }
   ],
   "source": [
    "nation_group.groups # groups 속성으로 group 정보를 dict로 반환"
   ]
  },
  {
   "cell_type": "code",
   "execution_count": 68,
   "metadata": {
    "collapsed": false
   },
   "outputs": [
    {
     "data": {
      "text/plain": [
       "10"
      ]
     },
     "execution_count": 68,
     "metadata": {},
     "output_type": "execute_result"
    }
   ],
   "source": [
    "len(nation_group.groups) # 그룹의 개수"
   ]
  },
  {
   "cell_type": "markdown",
   "metadata": {},
   "source": [
    "* group 함수"
   ]
  },
  {
   "cell_type": "code",
   "execution_count": 73,
   "metadata": {
    "collapsed": false
   },
   "outputs": [
    {
     "data": {
      "text/html": [
       "<div>\n",
       "<table border=\"1\" class=\"dataframe\">\n",
       "  <thead>\n",
       "    <tr style=\"text-align: right;\">\n",
       "      <th></th>\n",
       "      <th>Season</th>\n",
       "      <th>Winners</th>\n",
       "      <th>Score</th>\n",
       "      <th>Runners-up</th>\n",
       "      <th>Runner-UpNation</th>\n",
       "      <th>Venue</th>\n",
       "      <th>Attendance</th>\n",
       "    </tr>\n",
       "    <tr>\n",
       "      <th>Nation</th>\n",
       "      <th></th>\n",
       "      <th></th>\n",
       "      <th></th>\n",
       "      <th></th>\n",
       "      <th></th>\n",
       "      <th></th>\n",
       "      <th></th>\n",
       "    </tr>\n",
       "  </thead>\n",
       "  <tbody>\n",
       "    <tr>\n",
       "      <th>England</th>\n",
       "      <td>12</td>\n",
       "      <td>12</td>\n",
       "      <td>12</td>\n",
       "      <td>12</td>\n",
       "      <td>12</td>\n",
       "      <td>12</td>\n",
       "      <td>12</td>\n",
       "    </tr>\n",
       "    <tr>\n",
       "      <th>France</th>\n",
       "      <td>1</td>\n",
       "      <td>1</td>\n",
       "      <td>1</td>\n",
       "      <td>1</td>\n",
       "      <td>1</td>\n",
       "      <td>1</td>\n",
       "      <td>1</td>\n",
       "    </tr>\n",
       "    <tr>\n",
       "      <th>Germany</th>\n",
       "      <td>7</td>\n",
       "      <td>7</td>\n",
       "      <td>7</td>\n",
       "      <td>7</td>\n",
       "      <td>7</td>\n",
       "      <td>7</td>\n",
       "      <td>7</td>\n",
       "    </tr>\n",
       "    <tr>\n",
       "      <th>Italy</th>\n",
       "      <td>12</td>\n",
       "      <td>12</td>\n",
       "      <td>12</td>\n",
       "      <td>12</td>\n",
       "      <td>12</td>\n",
       "      <td>12</td>\n",
       "      <td>12</td>\n",
       "    </tr>\n",
       "    <tr>\n",
       "      <th>Netherlands</th>\n",
       "      <td>6</td>\n",
       "      <td>6</td>\n",
       "      <td>6</td>\n",
       "      <td>6</td>\n",
       "      <td>6</td>\n",
       "      <td>6</td>\n",
       "      <td>6</td>\n",
       "    </tr>\n",
       "    <tr>\n",
       "      <th>Portugal</th>\n",
       "      <td>4</td>\n",
       "      <td>4</td>\n",
       "      <td>4</td>\n",
       "      <td>4</td>\n",
       "      <td>4</td>\n",
       "      <td>4</td>\n",
       "      <td>4</td>\n",
       "    </tr>\n",
       "    <tr>\n",
       "      <th>Romania</th>\n",
       "      <td>1</td>\n",
       "      <td>1</td>\n",
       "      <td>1</td>\n",
       "      <td>1</td>\n",
       "      <td>1</td>\n",
       "      <td>1</td>\n",
       "      <td>1</td>\n",
       "    </tr>\n",
       "    <tr>\n",
       "      <th>Scotland</th>\n",
       "      <td>1</td>\n",
       "      <td>1</td>\n",
       "      <td>1</td>\n",
       "      <td>1</td>\n",
       "      <td>1</td>\n",
       "      <td>1</td>\n",
       "      <td>1</td>\n",
       "    </tr>\n",
       "    <tr>\n",
       "      <th>Spain</th>\n",
       "      <td>13</td>\n",
       "      <td>13</td>\n",
       "      <td>13</td>\n",
       "      <td>13</td>\n",
       "      <td>13</td>\n",
       "      <td>13</td>\n",
       "      <td>13</td>\n",
       "    </tr>\n",
       "    <tr>\n",
       "      <th>Yugoslavia</th>\n",
       "      <td>1</td>\n",
       "      <td>1</td>\n",
       "      <td>1</td>\n",
       "      <td>1</td>\n",
       "      <td>1</td>\n",
       "      <td>1</td>\n",
       "      <td>1</td>\n",
       "    </tr>\n",
       "  </tbody>\n",
       "</table>\n",
       "</div>"
      ],
      "text/plain": [
       "             Season  Winners  Score  Runners-up  Runner-UpNation  Venue  \\\n",
       "Nation                                                                    \n",
       "England          12       12     12          12               12     12   \n",
       "France            1        1      1           1                1      1   \n",
       "Germany           7        7      7           7                7      7   \n",
       "Italy            12       12     12          12               12     12   \n",
       "Netherlands       6        6      6           6                6      6   \n",
       "Portugal          4        4      4           4                4      4   \n",
       "Romania           1        1      1           1                1      1   \n",
       "Scotland          1        1      1           1                1      1   \n",
       "Spain            13       13     13          13               13     13   \n",
       "Yugoslavia        1        1      1           1                1      1   \n",
       "\n",
       "             Attendance  \n",
       "Nation                   \n",
       "England              12  \n",
       "France                1  \n",
       "Germany               7  \n",
       "Italy                12  \n",
       "Netherlands           6  \n",
       "Portugal              4  \n",
       "Romania               1  \n",
       "Scotland              1  \n",
       "Spain                13  \n",
       "Yugoslavia            1  "
      ]
     },
     "execution_count": 73,
     "metadata": {},
     "output_type": "execute_result"
    }
   ],
   "source": [
    "nation_group.count()"
   ]
  },
  {
   "cell_type": "code",
   "execution_count": 74,
   "metadata": {
    "collapsed": false
   },
   "outputs": [
    {
     "data": {
      "text/plain": [
       "Nation\n",
       "England        12\n",
       "France          1\n",
       "Germany         7\n",
       "Italy          12\n",
       "Netherlands     6\n",
       "Portugal        4\n",
       "Romania         1\n",
       "Scotland        1\n",
       "Spain          13\n",
       "Yugoslavia      1\n",
       "dtype: int64"
      ]
     },
     "execution_count": 74,
     "metadata": {},
     "output_type": "execute_result"
    }
   ],
   "source": [
    "nation_group.size() # 시리즈로 반환"
   ]
  },
  {
   "cell_type": "code",
   "execution_count": 75,
   "metadata": {
    "collapsed": false
   },
   "outputs": [
    {
     "data": {
      "text/plain": [
       "Nation\n",
       "Spain          13\n",
       "Italy          12\n",
       "England        12\n",
       "Germany         7\n",
       "Netherlands     6\n",
       "Portugal        4\n",
       "Yugoslavia      1\n",
       "Scotland        1\n",
       "Romania         1\n",
       "France          1\n",
       "dtype: int64"
      ]
     },
     "execution_count": 75,
     "metadata": {},
     "output_type": "execute_result"
    }
   ],
   "source": [
    "nation_group.size().sort_values(ascending = False) # 왜 sort_values지?"
   ]
  },
  {
   "cell_type": "code",
   "execution_count": 72,
   "metadata": {
    "collapsed": false
   },
   "outputs": [
    {
     "data": {
      "text/plain": [
       "Nation       Winners          \n",
       "Spain        Real Madrid          9\n",
       "Italy        Milan                7\n",
       "Germany      Bayern Munich        5\n",
       "England      Liverpool            5\n",
       "Spain        Barcelona            4\n",
       "Netherlands  Ajax                 4\n",
       "England      Manchester United    3\n",
       "Italy        Internazionale       3\n",
       "             Juventus             2\n",
       "Portugal     Porto                2\n",
       "             Benfica              2\n",
       "England      Nottingham Forest    2\n",
       "             Chelsea              1\n",
       "France       Marseille            1\n",
       "Yugoslavia   Red Star Belgrade    1\n",
       "Germany      Borussia Dortmund    1\n",
       "             Hamburg              1\n",
       "Netherlands  Feyenoord            1\n",
       "             PSV Eindhoven        1\n",
       "Romania      Steaua Bucure?ti     1\n",
       "Scotland     Celtic               1\n",
       "England      Aston Villa          1\n",
       "dtype: int64"
      ]
     },
     "execution_count": 72,
     "metadata": {},
     "output_type": "execute_result"
    }
   ],
   "source": [
    "# 2개 이상의 컬럼으로 grouping 가능\n",
    "club_group = df.groupby(['Nation', 'Winners']) # 인덱스 레벨 2개\n",
    "club_group.size().sort_values(ascending = False)"
   ]
  },
  {
   "cell_type": "code",
   "execution_count": 76,
   "metadata": {
    "collapsed": true
   },
   "outputs": [],
   "source": [
    "df = pd.read_csv('./data/goal_stats_euro_leagues_2012-13.csv')"
   ]
  },
  {
   "cell_type": "code",
   "execution_count": 78,
   "metadata": {
    "collapsed": false
   },
   "outputs": [
    {
     "data": {
      "text/html": [
       "<div>\n",
       "<table border=\"1\" class=\"dataframe\">\n",
       "  <thead>\n",
       "    <tr style=\"text-align: right;\">\n",
       "      <th></th>\n",
       "      <th>Month</th>\n",
       "      <th>Stat</th>\n",
       "      <th>EPL</th>\n",
       "      <th>La Liga</th>\n",
       "      <th>Serie A</th>\n",
       "      <th>Bundesliga</th>\n",
       "    </tr>\n",
       "  </thead>\n",
       "  <tbody>\n",
       "    <tr>\n",
       "      <th>0</th>\n",
       "      <td>08/01/2012</td>\n",
       "      <td>MatchesPlayed</td>\n",
       "      <td>20.0</td>\n",
       "      <td>20</td>\n",
       "      <td>10.0</td>\n",
       "      <td>10.0</td>\n",
       "    </tr>\n",
       "    <tr>\n",
       "      <th>1</th>\n",
       "      <td>09/01/2012</td>\n",
       "      <td>MatchesPlayed</td>\n",
       "      <td>38.0</td>\n",
       "      <td>39</td>\n",
       "      <td>50.0</td>\n",
       "      <td>44.0</td>\n",
       "    </tr>\n",
       "    <tr>\n",
       "      <th>2</th>\n",
       "      <td>10/01/2012</td>\n",
       "      <td>MatchesPlayed</td>\n",
       "      <td>31.0</td>\n",
       "      <td>31</td>\n",
       "      <td>39.0</td>\n",
       "      <td>27.0</td>\n",
       "    </tr>\n",
       "    <tr>\n",
       "      <th>3</th>\n",
       "      <td>11/01/2012</td>\n",
       "      <td>MatchesPlayed</td>\n",
       "      <td>50.0</td>\n",
       "      <td>41</td>\n",
       "      <td>42.0</td>\n",
       "      <td>46.0</td>\n",
       "    </tr>\n",
       "    <tr>\n",
       "      <th>4</th>\n",
       "      <td>12/01/2012</td>\n",
       "      <td>MatchesPlayed</td>\n",
       "      <td>59.0</td>\n",
       "      <td>39</td>\n",
       "      <td>39.0</td>\n",
       "      <td>26.0</td>\n",
       "    </tr>\n",
       "    <tr>\n",
       "      <th>5</th>\n",
       "      <td>01/01/2013</td>\n",
       "      <td>MatchesPlayed</td>\n",
       "      <td>42.0</td>\n",
       "      <td>40</td>\n",
       "      <td>40.0</td>\n",
       "      <td>18.0</td>\n",
       "    </tr>\n",
       "    <tr>\n",
       "      <th>6</th>\n",
       "      <td>02/01/2013</td>\n",
       "      <td>MatchesPlayed</td>\n",
       "      <td>30.0</td>\n",
       "      <td>40</td>\n",
       "      <td>40.0</td>\n",
       "      <td>36.0</td>\n",
       "    </tr>\n",
       "    <tr>\n",
       "      <th>7</th>\n",
       "      <td>03/01/2013</td>\n",
       "      <td>MatchesPlayed</td>\n",
       "      <td>35.0</td>\n",
       "      <td>38</td>\n",
       "      <td>39.0</td>\n",
       "      <td>36.0</td>\n",
       "    </tr>\n",
       "    <tr>\n",
       "      <th>8</th>\n",
       "      <td>04/01/2013</td>\n",
       "      <td>MatchesPlayed</td>\n",
       "      <td>42.0</td>\n",
       "      <td>42</td>\n",
       "      <td>41.0</td>\n",
       "      <td>36.0</td>\n",
       "    </tr>\n",
       "    <tr>\n",
       "      <th>9</th>\n",
       "      <td>05/01/2013</td>\n",
       "      <td>MatchesPlayed</td>\n",
       "      <td>33.0</td>\n",
       "      <td>40</td>\n",
       "      <td>40.0</td>\n",
       "      <td>27.0</td>\n",
       "    </tr>\n",
       "    <tr>\n",
       "      <th>10</th>\n",
       "      <td>06/02/2013</td>\n",
       "      <td>MatchesPlayed</td>\n",
       "      <td>NaN</td>\n",
       "      <td>10</td>\n",
       "      <td>NaN</td>\n",
       "      <td>NaN</td>\n",
       "    </tr>\n",
       "    <tr>\n",
       "      <th>11</th>\n",
       "      <td>08/01/2012</td>\n",
       "      <td>GoalsScored</td>\n",
       "      <td>57.0</td>\n",
       "      <td>60</td>\n",
       "      <td>21.0</td>\n",
       "      <td>23.0</td>\n",
       "    </tr>\n",
       "    <tr>\n",
       "      <th>12</th>\n",
       "      <td>09/01/2012</td>\n",
       "      <td>GoalsScored</td>\n",
       "      <td>111.0</td>\n",
       "      <td>112</td>\n",
       "      <td>133.0</td>\n",
       "      <td>135.0</td>\n",
       "    </tr>\n",
       "    <tr>\n",
       "      <th>13</th>\n",
       "      <td>10/01/2012</td>\n",
       "      <td>GoalsScored</td>\n",
       "      <td>95.0</td>\n",
       "      <td>88</td>\n",
       "      <td>97.0</td>\n",
       "      <td>77.0</td>\n",
       "    </tr>\n",
       "    <tr>\n",
       "      <th>14</th>\n",
       "      <td>11/01/2012</td>\n",
       "      <td>GoalsScored</td>\n",
       "      <td>121.0</td>\n",
       "      <td>116</td>\n",
       "      <td>120.0</td>\n",
       "      <td>137.0</td>\n",
       "    </tr>\n",
       "    <tr>\n",
       "      <th>15</th>\n",
       "      <td>12/01/2012</td>\n",
       "      <td>GoalsScored</td>\n",
       "      <td>183.0</td>\n",
       "      <td>109</td>\n",
       "      <td>125.0</td>\n",
       "      <td>72.0</td>\n",
       "    </tr>\n",
       "    <tr>\n",
       "      <th>16</th>\n",
       "      <td>01/01/2013</td>\n",
       "      <td>GoalsScored</td>\n",
       "      <td>117.0</td>\n",
       "      <td>121</td>\n",
       "      <td>104.0</td>\n",
       "      <td>51.0</td>\n",
       "    </tr>\n",
       "    <tr>\n",
       "      <th>17</th>\n",
       "      <td>02/01/2013</td>\n",
       "      <td>GoalsScored</td>\n",
       "      <td>87.0</td>\n",
       "      <td>110</td>\n",
       "      <td>100.0</td>\n",
       "      <td>101.0</td>\n",
       "    </tr>\n",
       "    <tr>\n",
       "      <th>18</th>\n",
       "      <td>03/01/2013</td>\n",
       "      <td>GoalsScored</td>\n",
       "      <td>91.0</td>\n",
       "      <td>101</td>\n",
       "      <td>99.0</td>\n",
       "      <td>106.0</td>\n",
       "    </tr>\n",
       "    <tr>\n",
       "      <th>19</th>\n",
       "      <td>04/01/2013</td>\n",
       "      <td>GoalsScored</td>\n",
       "      <td>105.0</td>\n",
       "      <td>127</td>\n",
       "      <td>102.0</td>\n",
       "      <td>104.0</td>\n",
       "    </tr>\n",
       "  </tbody>\n",
       "</table>\n",
       "</div>"
      ],
      "text/plain": [
       "         Month           Stat    EPL  La Liga  Serie A  Bundesliga\n",
       "0   08/01/2012  MatchesPlayed   20.0       20     10.0        10.0\n",
       "1   09/01/2012  MatchesPlayed   38.0       39     50.0        44.0\n",
       "2   10/01/2012  MatchesPlayed   31.0       31     39.0        27.0\n",
       "3   11/01/2012  MatchesPlayed   50.0       41     42.0        46.0\n",
       "4   12/01/2012  MatchesPlayed   59.0       39     39.0        26.0\n",
       "5   01/01/2013  MatchesPlayed   42.0       40     40.0        18.0\n",
       "6   02/01/2013  MatchesPlayed   30.0       40     40.0        36.0\n",
       "7   03/01/2013  MatchesPlayed   35.0       38     39.0        36.0\n",
       "8   04/01/2013  MatchesPlayed   42.0       42     41.0        36.0\n",
       "9   05/01/2013  MatchesPlayed   33.0       40     40.0        27.0\n",
       "10  06/02/2013  MatchesPlayed    NaN       10      NaN         NaN\n",
       "11  08/01/2012    GoalsScored   57.0       60     21.0        23.0\n",
       "12  09/01/2012    GoalsScored  111.0      112    133.0       135.0\n",
       "13  10/01/2012    GoalsScored   95.0       88     97.0        77.0\n",
       "14  11/01/2012    GoalsScored  121.0      116    120.0       137.0\n",
       "15  12/01/2012    GoalsScored  183.0      109    125.0        72.0\n",
       "16  01/01/2013    GoalsScored  117.0      121    104.0        51.0\n",
       "17  02/01/2013    GoalsScored   87.0      110    100.0       101.0\n",
       "18  03/01/2013    GoalsScored   91.0      101     99.0       106.0\n",
       "19  04/01/2013    GoalsScored  105.0      127    102.0       104.0"
      ]
     },
     "execution_count": 78,
     "metadata": {},
     "output_type": "execute_result"
    }
   ],
   "source": [
    "df.head(20)"
   ]
  },
  {
   "cell_type": "code",
   "execution_count": 79,
   "metadata": {
    "collapsed": true
   },
   "outputs": [],
   "source": [
    "# Month column을 index로 생성\n",
    "df = df.set_index('Month')"
   ]
  },
  {
   "cell_type": "code",
   "execution_count": 80,
   "metadata": {
    "collapsed": false
   },
   "outputs": [
    {
     "data": {
      "text/html": [
       "<div>\n",
       "<table border=\"1\" class=\"dataframe\">\n",
       "  <thead>\n",
       "    <tr style=\"text-align: right;\">\n",
       "      <th></th>\n",
       "      <th>Stat</th>\n",
       "      <th>EPL</th>\n",
       "      <th>La Liga</th>\n",
       "      <th>Serie A</th>\n",
       "      <th>Bundesliga</th>\n",
       "    </tr>\n",
       "    <tr>\n",
       "      <th>Month</th>\n",
       "      <th></th>\n",
       "      <th></th>\n",
       "      <th></th>\n",
       "      <th></th>\n",
       "      <th></th>\n",
       "    </tr>\n",
       "  </thead>\n",
       "  <tbody>\n",
       "    <tr>\n",
       "      <th>08/01/2012</th>\n",
       "      <td>MatchesPlayed</td>\n",
       "      <td>20.0</td>\n",
       "      <td>20</td>\n",
       "      <td>10.0</td>\n",
       "      <td>10.0</td>\n",
       "    </tr>\n",
       "    <tr>\n",
       "      <th>09/01/2012</th>\n",
       "      <td>MatchesPlayed</td>\n",
       "      <td>38.0</td>\n",
       "      <td>39</td>\n",
       "      <td>50.0</td>\n",
       "      <td>44.0</td>\n",
       "    </tr>\n",
       "    <tr>\n",
       "      <th>10/01/2012</th>\n",
       "      <td>MatchesPlayed</td>\n",
       "      <td>31.0</td>\n",
       "      <td>31</td>\n",
       "      <td>39.0</td>\n",
       "      <td>27.0</td>\n",
       "    </tr>\n",
       "    <tr>\n",
       "      <th>11/01/2012</th>\n",
       "      <td>MatchesPlayed</td>\n",
       "      <td>50.0</td>\n",
       "      <td>41</td>\n",
       "      <td>42.0</td>\n",
       "      <td>46.0</td>\n",
       "    </tr>\n",
       "    <tr>\n",
       "      <th>12/01/2012</th>\n",
       "      <td>MatchesPlayed</td>\n",
       "      <td>59.0</td>\n",
       "      <td>39</td>\n",
       "      <td>39.0</td>\n",
       "      <td>26.0</td>\n",
       "    </tr>\n",
       "  </tbody>\n",
       "</table>\n",
       "</div>"
      ],
      "text/plain": [
       "                     Stat   EPL  La Liga  Serie A  Bundesliga\n",
       "Month                                                        \n",
       "08/01/2012  MatchesPlayed  20.0       20     10.0        10.0\n",
       "09/01/2012  MatchesPlayed  38.0       39     50.0        44.0\n",
       "10/01/2012  MatchesPlayed  31.0       31     39.0        27.0\n",
       "11/01/2012  MatchesPlayed  50.0       41     42.0        46.0\n",
       "12/01/2012  MatchesPlayed  59.0       39     39.0        26.0"
      ]
     },
     "execution_count": 80,
     "metadata": {},
     "output_type": "execute_result"
    }
   ],
   "source": [
    "df.head()"
   ]
  },
  {
   "cell_type": "code",
   "execution_count": 81,
   "metadata": {
    "collapsed": true
   },
   "outputs": [],
   "source": [
    "# group by year\n",
    "year_group = df.groupby(lambda month : month.split('/')[2])"
   ]
  },
  {
   "cell_type": "code",
   "execution_count": 82,
   "metadata": {
    "collapsed": false
   },
   "outputs": [
    {
     "data": {
      "text/plain": [
       "{'2012': Index([u'08/01/2012', u'09/01/2012', u'10/01/2012', u'11/01/2012',\n",
       "        u'12/01/2012', u'08/01/2012', u'09/01/2012', u'10/01/2012',\n",
       "        u'11/01/2012', u'12/01/2012'],\n",
       "       dtype='object', name=u'Month'),\n",
       " '2013': Index([u'01/01/2013', u'02/01/2013', u'03/01/2013', u'04/01/2013',\n",
       "        u'05/01/2013', u'06/02/2013', u'01/01/2013', u'02/01/2013',\n",
       "        u'03/01/2013', u'04/01/2013', u'05/01/2013', u'06/01/2013'],\n",
       "       dtype='object', name=u'Month')}"
      ]
     },
     "execution_count": 82,
     "metadata": {},
     "output_type": "execute_result"
    }
   ],
   "source": [
    "year_group.groups"
   ]
  },
  {
   "cell_type": "code",
   "execution_count": 83,
   "metadata": {
    "collapsed": false
   },
   "outputs": [
    {
     "data": {
      "text/plain": [
       "2012    10\n",
       "2013    12\n",
       "dtype: int64"
      ]
     },
     "execution_count": 83,
     "metadata": {},
     "output_type": "execute_result"
    }
   ],
   "source": [
    "year_group.size()"
   ]
  },
  {
   "cell_type": "code",
   "execution_count": 84,
   "metadata": {
    "collapsed": false
   },
   "outputs": [
    {
     "name": "stdout",
     "output_type": "stream",
     "text": [
      "2012\n",
      "                     Stat    EPL  La Liga  Serie A  Bundesliga\n",
      "Month                                                         \n",
      "08/01/2012  MatchesPlayed   20.0       20     10.0        10.0\n",
      "09/01/2012  MatchesPlayed   38.0       39     50.0        44.0\n",
      "10/01/2012  MatchesPlayed   31.0       31     39.0        27.0\n",
      "11/01/2012  MatchesPlayed   50.0       41     42.0        46.0\n",
      "12/01/2012  MatchesPlayed   59.0       39     39.0        26.0\n",
      "08/01/2012    GoalsScored   57.0       60     21.0        23.0\n",
      "09/01/2012    GoalsScored  111.0      112    133.0       135.0\n",
      "10/01/2012    GoalsScored   95.0       88     97.0        77.0\n",
      "11/01/2012    GoalsScored  121.0      116    120.0       137.0\n",
      "12/01/2012    GoalsScored  183.0      109    125.0        72.0\n",
      "2013\n",
      "                     Stat    EPL  La Liga  Serie A  Bundesliga\n",
      "Month                                                         \n",
      "01/01/2013  MatchesPlayed   42.0       40     40.0        18.0\n",
      "02/01/2013  MatchesPlayed   30.0       40     40.0        36.0\n",
      "03/01/2013  MatchesPlayed   35.0       38     39.0        36.0\n",
      "04/01/2013  MatchesPlayed   42.0       42     41.0        36.0\n",
      "05/01/2013  MatchesPlayed   33.0       40     40.0        27.0\n",
      "06/02/2013  MatchesPlayed    NaN       10      NaN         NaN\n",
      "01/01/2013    GoalsScored  117.0      121    104.0        51.0\n",
      "02/01/2013    GoalsScored   87.0      110    100.0       101.0\n",
      "03/01/2013    GoalsScored   91.0      101     99.0       106.0\n",
      "04/01/2013    GoalsScored  105.0      127    102.0       104.0\n",
      "05/01/2013    GoalsScored   96.0      109    102.0        92.0\n",
      "06/01/2013    GoalsScored    NaN       80      NaN         NaN\n"
     ]
    }
   ],
   "source": [
    "for name, group in year_group:\n",
    "    print name\n",
    "    print group"
   ]
  },
  {
   "cell_type": "code",
   "execution_count": 86,
   "metadata": {
    "collapsed": true
   },
   "outputs": [],
   "source": [
    "# index의 경우에는 column name이 아닌, 레벨로 grouping 가능\n",
    "month_group = df.groupby(level = 0)"
   ]
  },
  {
   "cell_type": "code",
   "execution_count": 87,
   "metadata": {
    "collapsed": false
   },
   "outputs": [
    {
     "name": "stdout",
     "output_type": "stream",
     "text": [
      "01/01/2013\n",
      "                     Stat    EPL  La Liga  Serie A  Bundesliga\n",
      "Month                                                         \n",
      "01/01/2013  MatchesPlayed   42.0       40     40.0        18.0\n",
      "01/01/2013    GoalsScored  117.0      121    104.0        51.0\n",
      "*\n",
      "02/01/2013\n",
      "                     Stat   EPL  La Liga  Serie A  Bundesliga\n",
      "Month                                                        \n",
      "02/01/2013  MatchesPlayed  30.0       40     40.0        36.0\n",
      "02/01/2013    GoalsScored  87.0      110    100.0       101.0\n",
      "*\n",
      "03/01/2013\n",
      "                     Stat   EPL  La Liga  Serie A  Bundesliga\n",
      "Month                                                        \n",
      "03/01/2013  MatchesPlayed  35.0       38     39.0        36.0\n",
      "03/01/2013    GoalsScored  91.0      101     99.0       106.0\n",
      "*\n",
      "04/01/2013\n",
      "                     Stat    EPL  La Liga  Serie A  Bundesliga\n",
      "Month                                                         \n",
      "04/01/2013  MatchesPlayed   42.0       42     41.0        36.0\n",
      "04/01/2013    GoalsScored  105.0      127    102.0       104.0\n",
      "*\n",
      "05/01/2013\n",
      "                     Stat   EPL  La Liga  Serie A  Bundesliga\n",
      "Month                                                        \n",
      "05/01/2013  MatchesPlayed  33.0       40     40.0        27.0\n",
      "05/01/2013    GoalsScored  96.0      109    102.0        92.0\n",
      "*\n",
      "06/01/2013\n",
      "                   Stat  EPL  La Liga  Serie A  Bundesliga\n",
      "Month                                                     \n",
      "06/01/2013  GoalsScored  NaN       80      NaN         NaN\n",
      "*\n",
      "06/02/2013\n",
      "                     Stat  EPL  La Liga  Serie A  Bundesliga\n",
      "Month                                                       \n",
      "06/02/2013  MatchesPlayed  NaN       10      NaN         NaN\n",
      "*\n",
      "08/01/2012\n",
      "                     Stat   EPL  La Liga  Serie A  Bundesliga\n",
      "Month                                                        \n",
      "08/01/2012  MatchesPlayed  20.0       20     10.0        10.0\n",
      "08/01/2012    GoalsScored  57.0       60     21.0        23.0\n",
      "*\n",
      "09/01/2012\n",
      "                     Stat    EPL  La Liga  Serie A  Bundesliga\n",
      "Month                                                         \n",
      "09/01/2012  MatchesPlayed   38.0       39     50.0        44.0\n",
      "09/01/2012    GoalsScored  111.0      112    133.0       135.0\n",
      "*\n",
      "10/01/2012\n",
      "                     Stat   EPL  La Liga  Serie A  Bundesliga\n",
      "Month                                                        \n",
      "10/01/2012  MatchesPlayed  31.0       31     39.0        27.0\n",
      "10/01/2012    GoalsScored  95.0       88     97.0        77.0\n",
      "*\n",
      "11/01/2012\n",
      "                     Stat    EPL  La Liga  Serie A  Bundesliga\n",
      "Month                                                         \n",
      "11/01/2012  MatchesPlayed   50.0       41     42.0        46.0\n",
      "11/01/2012    GoalsScored  121.0      116    120.0       137.0\n",
      "*\n",
      "12/01/2012\n",
      "                     Stat    EPL  La Liga  Serie A  Bundesliga\n",
      "Month                                                         \n",
      "12/01/2012  MatchesPlayed   59.0       39     39.0        26.0\n",
      "12/01/2012    GoalsScored  183.0      109    125.0        72.0\n",
      "*\n"
     ]
    }
   ],
   "source": [
    "for name, group in month_group:\n",
    "    print name\n",
    "    print group\n",
    "    print '*'"
   ]
  },
  {
   "cell_type": "markdown",
   "metadata": {},
   "source": [
    "* multi index grouping"
   ]
  },
  {
   "cell_type": "markdown",
   "metadata": {},
   "source": [
    "* index 항목 제거"
   ]
  },
  {
   "cell_type": "code",
   "execution_count": 88,
   "metadata": {
    "collapsed": true
   },
   "outputs": [],
   "source": [
    "df = df.reset_index()"
   ]
  },
  {
   "cell_type": "code",
   "execution_count": 89,
   "metadata": {
    "collapsed": false
   },
   "outputs": [
    {
     "data": {
      "text/html": [
       "<div>\n",
       "<table border=\"1\" class=\"dataframe\">\n",
       "  <thead>\n",
       "    <tr style=\"text-align: right;\">\n",
       "      <th></th>\n",
       "      <th>Month</th>\n",
       "      <th>Stat</th>\n",
       "      <th>EPL</th>\n",
       "      <th>La Liga</th>\n",
       "      <th>Serie A</th>\n",
       "      <th>Bundesliga</th>\n",
       "    </tr>\n",
       "  </thead>\n",
       "  <tbody>\n",
       "    <tr>\n",
       "      <th>0</th>\n",
       "      <td>08/01/2012</td>\n",
       "      <td>MatchesPlayed</td>\n",
       "      <td>20.0</td>\n",
       "      <td>20</td>\n",
       "      <td>10.0</td>\n",
       "      <td>10.0</td>\n",
       "    </tr>\n",
       "    <tr>\n",
       "      <th>1</th>\n",
       "      <td>09/01/2012</td>\n",
       "      <td>MatchesPlayed</td>\n",
       "      <td>38.0</td>\n",
       "      <td>39</td>\n",
       "      <td>50.0</td>\n",
       "      <td>44.0</td>\n",
       "    </tr>\n",
       "    <tr>\n",
       "      <th>2</th>\n",
       "      <td>10/01/2012</td>\n",
       "      <td>MatchesPlayed</td>\n",
       "      <td>31.0</td>\n",
       "      <td>31</td>\n",
       "      <td>39.0</td>\n",
       "      <td>27.0</td>\n",
       "    </tr>\n",
       "    <tr>\n",
       "      <th>3</th>\n",
       "      <td>11/01/2012</td>\n",
       "      <td>MatchesPlayed</td>\n",
       "      <td>50.0</td>\n",
       "      <td>41</td>\n",
       "      <td>42.0</td>\n",
       "      <td>46.0</td>\n",
       "    </tr>\n",
       "    <tr>\n",
       "      <th>4</th>\n",
       "      <td>12/01/2012</td>\n",
       "      <td>MatchesPlayed</td>\n",
       "      <td>59.0</td>\n",
       "      <td>39</td>\n",
       "      <td>39.0</td>\n",
       "      <td>26.0</td>\n",
       "    </tr>\n",
       "  </tbody>\n",
       "</table>\n",
       "</div>"
      ],
      "text/plain": [
       "        Month           Stat   EPL  La Liga  Serie A  Bundesliga\n",
       "0  08/01/2012  MatchesPlayed  20.0       20     10.0        10.0\n",
       "1  09/01/2012  MatchesPlayed  38.0       39     50.0        44.0\n",
       "2  10/01/2012  MatchesPlayed  31.0       31     39.0        27.0\n",
       "3  11/01/2012  MatchesPlayed  50.0       41     42.0        46.0\n",
       "4  12/01/2012  MatchesPlayed  59.0       39     39.0        26.0"
      ]
     },
     "execution_count": 89,
     "metadata": {},
     "output_type": "execute_result"
    }
   ],
   "source": [
    "df.head()"
   ]
  },
  {
   "cell_type": "markdown",
   "metadata": {},
   "source": [
    "* 2가지 컬럼으로 인덱싱"
   ]
  },
  {
   "cell_type": "code",
   "execution_count": 90,
   "metadata": {
    "collapsed": false
   },
   "outputs": [
    {
     "data": {
      "text/html": [
       "<div>\n",
       "<table border=\"1\" class=\"dataframe\">\n",
       "  <thead>\n",
       "    <tr style=\"text-align: right;\">\n",
       "      <th></th>\n",
       "      <th></th>\n",
       "      <th>EPL</th>\n",
       "      <th>La Liga</th>\n",
       "      <th>Serie A</th>\n",
       "      <th>Bundesliga</th>\n",
       "    </tr>\n",
       "    <tr>\n",
       "      <th>Month</th>\n",
       "      <th>Stat</th>\n",
       "      <th></th>\n",
       "      <th></th>\n",
       "      <th></th>\n",
       "      <th></th>\n",
       "    </tr>\n",
       "  </thead>\n",
       "  <tbody>\n",
       "    <tr>\n",
       "      <th>08/01/2012</th>\n",
       "      <th>MatchesPlayed</th>\n",
       "      <td>20.0</td>\n",
       "      <td>20</td>\n",
       "      <td>10.0</td>\n",
       "      <td>10.0</td>\n",
       "    </tr>\n",
       "    <tr>\n",
       "      <th>09/01/2012</th>\n",
       "      <th>MatchesPlayed</th>\n",
       "      <td>38.0</td>\n",
       "      <td>39</td>\n",
       "      <td>50.0</td>\n",
       "      <td>44.0</td>\n",
       "    </tr>\n",
       "    <tr>\n",
       "      <th>10/01/2012</th>\n",
       "      <th>MatchesPlayed</th>\n",
       "      <td>31.0</td>\n",
       "      <td>31</td>\n",
       "      <td>39.0</td>\n",
       "      <td>27.0</td>\n",
       "    </tr>\n",
       "    <tr>\n",
       "      <th>11/01/2012</th>\n",
       "      <th>MatchesPlayed</th>\n",
       "      <td>50.0</td>\n",
       "      <td>41</td>\n",
       "      <td>42.0</td>\n",
       "      <td>46.0</td>\n",
       "    </tr>\n",
       "    <tr>\n",
       "      <th>12/01/2012</th>\n",
       "      <th>MatchesPlayed</th>\n",
       "      <td>59.0</td>\n",
       "      <td>39</td>\n",
       "      <td>39.0</td>\n",
       "      <td>26.0</td>\n",
       "    </tr>\n",
       "  </tbody>\n",
       "</table>\n",
       "</div>"
      ],
      "text/plain": [
       "                           EPL  La Liga  Serie A  Bundesliga\n",
       "Month      Stat                                             \n",
       "08/01/2012 MatchesPlayed  20.0       20     10.0        10.0\n",
       "09/01/2012 MatchesPlayed  38.0       39     50.0        44.0\n",
       "10/01/2012 MatchesPlayed  31.0       31     39.0        27.0\n",
       "11/01/2012 MatchesPlayed  50.0       41     42.0        46.0\n",
       "12/01/2012 MatchesPlayed  59.0       39     39.0        26.0"
      ]
     },
     "execution_count": 90,
     "metadata": {},
     "output_type": "execute_result"
    }
   ],
   "source": [
    "df = df.set_index(['Month', 'Stat'])\n",
    "df.head()"
   ]
  },
  {
   "cell_type": "code",
   "execution_count": 97,
   "metadata": {
    "collapsed": false
   },
   "outputs": [
    {
     "data": {
      "text/plain": [
       "EPL           20.0\n",
       "La Liga       20.0\n",
       "Serie A       10.0\n",
       "Bundesliga    10.0\n",
       "Name: (08/01/2012, MatchesPlayed), dtype: float64"
      ]
     },
     "execution_count": 97,
     "metadata": {},
     "output_type": "execute_result"
    }
   ],
   "source": [
    "df.loc['08/01/2012', 'MatchesPlayed']"
   ]
  },
  {
   "cell_type": "code",
   "execution_count": 91,
   "metadata": {
    "collapsed": true
   },
   "outputs": [],
   "source": [
    "# multi level grouping\n",
    "month_stat_group = df.groupby(level = [0, 1])"
   ]
  },
  {
   "cell_type": "code",
   "execution_count": 98,
   "metadata": {
    "collapsed": false
   },
   "outputs": [
    {
     "name": "stdout",
     "output_type": "stream",
     "text": [
      "('01/01/2013', 'GoalsScored')\n",
      "                          EPL  La Liga  Serie A  Bundesliga\n",
      "Month      Stat                                            \n",
      "01/01/2013 GoalsScored  117.0      121    104.0        51.0\n",
      "('01/01/2013', 'MatchesPlayed')\n",
      "                           EPL  La Liga  Serie A  Bundesliga\n",
      "Month      Stat                                             \n",
      "01/01/2013 MatchesPlayed  42.0       40     40.0        18.0\n",
      "('02/01/2013', 'GoalsScored')\n",
      "                         EPL  La Liga  Serie A  Bundesliga\n",
      "Month      Stat                                           \n",
      "02/01/2013 GoalsScored  87.0      110    100.0       101.0\n",
      "('02/01/2013', 'MatchesPlayed')\n",
      "                           EPL  La Liga  Serie A  Bundesliga\n",
      "Month      Stat                                             \n",
      "02/01/2013 MatchesPlayed  30.0       40     40.0        36.0\n",
      "('03/01/2013', 'GoalsScored')\n",
      "                         EPL  La Liga  Serie A  Bundesliga\n",
      "Month      Stat                                           \n",
      "03/01/2013 GoalsScored  91.0      101     99.0       106.0\n",
      "('03/01/2013', 'MatchesPlayed')\n",
      "                           EPL  La Liga  Serie A  Bundesliga\n",
      "Month      Stat                                             \n",
      "03/01/2013 MatchesPlayed  35.0       38     39.0        36.0\n",
      "('04/01/2013', 'GoalsScored')\n",
      "                          EPL  La Liga  Serie A  Bundesliga\n",
      "Month      Stat                                            \n",
      "04/01/2013 GoalsScored  105.0      127    102.0       104.0\n",
      "('04/01/2013', 'MatchesPlayed')\n",
      "                           EPL  La Liga  Serie A  Bundesliga\n",
      "Month      Stat                                             \n",
      "04/01/2013 MatchesPlayed  42.0       42     41.0        36.0\n",
      "('05/01/2013', 'GoalsScored')\n",
      "                         EPL  La Liga  Serie A  Bundesliga\n",
      "Month      Stat                                           \n",
      "05/01/2013 GoalsScored  96.0      109    102.0        92.0\n",
      "('05/01/2013', 'MatchesPlayed')\n",
      "                           EPL  La Liga  Serie A  Bundesliga\n",
      "Month      Stat                                             \n",
      "05/01/2013 MatchesPlayed  33.0       40     40.0        27.0\n",
      "('06/01/2013', 'GoalsScored')\n",
      "                        EPL  La Liga  Serie A  Bundesliga\n",
      "Month      Stat                                          \n",
      "06/01/2013 GoalsScored  NaN       80      NaN         NaN\n",
      "('06/02/2013', 'MatchesPlayed')\n",
      "                          EPL  La Liga  Serie A  Bundesliga\n",
      "Month      Stat                                            \n",
      "06/02/2013 MatchesPlayed  NaN       10      NaN         NaN\n",
      "('08/01/2012', 'GoalsScored')\n",
      "                         EPL  La Liga  Serie A  Bundesliga\n",
      "Month      Stat                                           \n",
      "08/01/2012 GoalsScored  57.0       60     21.0        23.0\n",
      "('08/01/2012', 'MatchesPlayed')\n",
      "                           EPL  La Liga  Serie A  Bundesliga\n",
      "Month      Stat                                             \n",
      "08/01/2012 MatchesPlayed  20.0       20     10.0        10.0\n",
      "('09/01/2012', 'GoalsScored')\n",
      "                          EPL  La Liga  Serie A  Bundesliga\n",
      "Month      Stat                                            \n",
      "09/01/2012 GoalsScored  111.0      112    133.0       135.0\n",
      "('09/01/2012', 'MatchesPlayed')\n",
      "                           EPL  La Liga  Serie A  Bundesliga\n",
      "Month      Stat                                             \n",
      "09/01/2012 MatchesPlayed  38.0       39     50.0        44.0\n",
      "('10/01/2012', 'GoalsScored')\n",
      "                         EPL  La Liga  Serie A  Bundesliga\n",
      "Month      Stat                                           \n",
      "10/01/2012 GoalsScored  95.0       88     97.0        77.0\n",
      "('10/01/2012', 'MatchesPlayed')\n",
      "                           EPL  La Liga  Serie A  Bundesliga\n",
      "Month      Stat                                             \n",
      "10/01/2012 MatchesPlayed  31.0       31     39.0        27.0\n",
      "('11/01/2012', 'GoalsScored')\n",
      "                          EPL  La Liga  Serie A  Bundesliga\n",
      "Month      Stat                                            \n",
      "11/01/2012 GoalsScored  121.0      116    120.0       137.0\n",
      "('11/01/2012', 'MatchesPlayed')\n",
      "                           EPL  La Liga  Serie A  Bundesliga\n",
      "Month      Stat                                             \n",
      "11/01/2012 MatchesPlayed  50.0       41     42.0        46.0\n",
      "('12/01/2012', 'GoalsScored')\n",
      "                          EPL  La Liga  Serie A  Bundesliga\n",
      "Month      Stat                                            \n",
      "12/01/2012 GoalsScored  183.0      109    125.0        72.0\n",
      "('12/01/2012', 'MatchesPlayed')\n",
      "                           EPL  La Liga  Serie A  Bundesliga\n",
      "Month      Stat                                             \n",
      "12/01/2012 MatchesPlayed  59.0       39     39.0        26.0\n"
     ]
    }
   ],
   "source": [
    "for name, group in month_stat_group:\n",
    "    print name # tuple\n",
    "    print group"
   ]
  },
  {
   "cell_type": "code",
   "execution_count": 99,
   "metadata": {
    "collapsed": true
   },
   "outputs": [],
   "source": [
    "month_stat_group = df.groupby(level = ['Month', 'Stat'])"
   ]
  },
  {
   "cell_type": "code",
   "execution_count": 100,
   "metadata": {
    "collapsed": false
   },
   "outputs": [
    {
     "name": "stdout",
     "output_type": "stream",
     "text": [
      "('01/01/2013', 'GoalsScored')\n",
      "                          EPL  La Liga  Serie A  Bundesliga\n",
      "Month      Stat                                            \n",
      "01/01/2013 GoalsScored  117.0      121    104.0        51.0\n",
      "('01/01/2013', 'MatchesPlayed')\n",
      "                           EPL  La Liga  Serie A  Bundesliga\n",
      "Month      Stat                                             \n",
      "01/01/2013 MatchesPlayed  42.0       40     40.0        18.0\n",
      "('02/01/2013', 'GoalsScored')\n",
      "                         EPL  La Liga  Serie A  Bundesliga\n",
      "Month      Stat                                           \n",
      "02/01/2013 GoalsScored  87.0      110    100.0       101.0\n",
      "('02/01/2013', 'MatchesPlayed')\n",
      "                           EPL  La Liga  Serie A  Bundesliga\n",
      "Month      Stat                                             \n",
      "02/01/2013 MatchesPlayed  30.0       40     40.0        36.0\n",
      "('03/01/2013', 'GoalsScored')\n",
      "                         EPL  La Liga  Serie A  Bundesliga\n",
      "Month      Stat                                           \n",
      "03/01/2013 GoalsScored  91.0      101     99.0       106.0\n",
      "('03/01/2013', 'MatchesPlayed')\n",
      "                           EPL  La Liga  Serie A  Bundesliga\n",
      "Month      Stat                                             \n",
      "03/01/2013 MatchesPlayed  35.0       38     39.0        36.0\n",
      "('04/01/2013', 'GoalsScored')\n",
      "                          EPL  La Liga  Serie A  Bundesliga\n",
      "Month      Stat                                            \n",
      "04/01/2013 GoalsScored  105.0      127    102.0       104.0\n",
      "('04/01/2013', 'MatchesPlayed')\n",
      "                           EPL  La Liga  Serie A  Bundesliga\n",
      "Month      Stat                                             \n",
      "04/01/2013 MatchesPlayed  42.0       42     41.0        36.0\n",
      "('05/01/2013', 'GoalsScored')\n",
      "                         EPL  La Liga  Serie A  Bundesliga\n",
      "Month      Stat                                           \n",
      "05/01/2013 GoalsScored  96.0      109    102.0        92.0\n",
      "('05/01/2013', 'MatchesPlayed')\n",
      "                           EPL  La Liga  Serie A  Bundesliga\n",
      "Month      Stat                                             \n",
      "05/01/2013 MatchesPlayed  33.0       40     40.0        27.0\n",
      "('06/01/2013', 'GoalsScored')\n",
      "                        EPL  La Liga  Serie A  Bundesliga\n",
      "Month      Stat                                          \n",
      "06/01/2013 GoalsScored  NaN       80      NaN         NaN\n",
      "('06/02/2013', 'MatchesPlayed')\n",
      "                          EPL  La Liga  Serie A  Bundesliga\n",
      "Month      Stat                                            \n",
      "06/02/2013 MatchesPlayed  NaN       10      NaN         NaN\n",
      "('08/01/2012', 'GoalsScored')\n",
      "                         EPL  La Liga  Serie A  Bundesliga\n",
      "Month      Stat                                           \n",
      "08/01/2012 GoalsScored  57.0       60     21.0        23.0\n",
      "('08/01/2012', 'MatchesPlayed')\n",
      "                           EPL  La Liga  Serie A  Bundesliga\n",
      "Month      Stat                                             \n",
      "08/01/2012 MatchesPlayed  20.0       20     10.0        10.0\n",
      "('09/01/2012', 'GoalsScored')\n",
      "                          EPL  La Liga  Serie A  Bundesliga\n",
      "Month      Stat                                            \n",
      "09/01/2012 GoalsScored  111.0      112    133.0       135.0\n",
      "('09/01/2012', 'MatchesPlayed')\n",
      "                           EPL  La Liga  Serie A  Bundesliga\n",
      "Month      Stat                                             \n",
      "09/01/2012 MatchesPlayed  38.0       39     50.0        44.0\n",
      "('10/01/2012', 'GoalsScored')\n",
      "                         EPL  La Liga  Serie A  Bundesliga\n",
      "Month      Stat                                           \n",
      "10/01/2012 GoalsScored  95.0       88     97.0        77.0\n",
      "('10/01/2012', 'MatchesPlayed')\n",
      "                           EPL  La Liga  Serie A  Bundesliga\n",
      "Month      Stat                                             \n",
      "10/01/2012 MatchesPlayed  31.0       31     39.0        27.0\n",
      "('11/01/2012', 'GoalsScored')\n",
      "                          EPL  La Liga  Serie A  Bundesliga\n",
      "Month      Stat                                            \n",
      "11/01/2012 GoalsScored  121.0      116    120.0       137.0\n",
      "('11/01/2012', 'MatchesPlayed')\n",
      "                           EPL  La Liga  Serie A  Bundesliga\n",
      "Month      Stat                                             \n",
      "11/01/2012 MatchesPlayed  50.0       41     42.0        46.0\n",
      "('12/01/2012', 'GoalsScored')\n",
      "                          EPL  La Liga  Serie A  Bundesliga\n",
      "Month      Stat                                            \n",
      "12/01/2012 GoalsScored  183.0      109    125.0        72.0\n",
      "('12/01/2012', 'MatchesPlayed')\n",
      "                           EPL  La Liga  Serie A  Bundesliga\n",
      "Month      Stat                                             \n",
      "12/01/2012 MatchesPlayed  59.0       39     39.0        26.0\n"
     ]
    }
   ],
   "source": [
    "for name, group in month_stat_group:\n",
    "    print name # tuple\n",
    "    print group"
   ]
  },
  {
   "cell_type": "markdown",
   "metadata": {},
   "source": [
    "* indexing"
   ]
  },
  {
   "cell_type": "code",
   "execution_count": 107,
   "metadata": {
    "collapsed": true
   },
   "outputs": [],
   "source": [
    "df2 = pd.read_csv('./data/goal_stats_euro_leagues_2012-13.csv')"
   ]
  },
  {
   "cell_type": "code",
   "execution_count": 108,
   "metadata": {
    "collapsed": false
   },
   "outputs": [
    {
     "data": {
      "text/html": [
       "<div>\n",
       "<table border=\"1\" class=\"dataframe\">\n",
       "  <thead>\n",
       "    <tr style=\"text-align: right;\">\n",
       "      <th></th>\n",
       "      <th>Month</th>\n",
       "      <th>Stat</th>\n",
       "      <th>EPL</th>\n",
       "      <th>La Liga</th>\n",
       "      <th>Serie A</th>\n",
       "      <th>Bundesliga</th>\n",
       "    </tr>\n",
       "  </thead>\n",
       "  <tbody>\n",
       "    <tr>\n",
       "      <th>0</th>\n",
       "      <td>08/01/2012</td>\n",
       "      <td>MatchesPlayed</td>\n",
       "      <td>20.0</td>\n",
       "      <td>20</td>\n",
       "      <td>10.0</td>\n",
       "      <td>10.0</td>\n",
       "    </tr>\n",
       "    <tr>\n",
       "      <th>1</th>\n",
       "      <td>09/01/2012</td>\n",
       "      <td>MatchesPlayed</td>\n",
       "      <td>38.0</td>\n",
       "      <td>39</td>\n",
       "      <td>50.0</td>\n",
       "      <td>44.0</td>\n",
       "    </tr>\n",
       "    <tr>\n",
       "      <th>2</th>\n",
       "      <td>10/01/2012</td>\n",
       "      <td>MatchesPlayed</td>\n",
       "      <td>31.0</td>\n",
       "      <td>31</td>\n",
       "      <td>39.0</td>\n",
       "      <td>27.0</td>\n",
       "    </tr>\n",
       "    <tr>\n",
       "      <th>3</th>\n",
       "      <td>11/01/2012</td>\n",
       "      <td>MatchesPlayed</td>\n",
       "      <td>50.0</td>\n",
       "      <td>41</td>\n",
       "      <td>42.0</td>\n",
       "      <td>46.0</td>\n",
       "    </tr>\n",
       "    <tr>\n",
       "      <th>4</th>\n",
       "      <td>12/01/2012</td>\n",
       "      <td>MatchesPlayed</td>\n",
       "      <td>59.0</td>\n",
       "      <td>39</td>\n",
       "      <td>39.0</td>\n",
       "      <td>26.0</td>\n",
       "    </tr>\n",
       "  </tbody>\n",
       "</table>\n",
       "</div>"
      ],
      "text/plain": [
       "        Month           Stat   EPL  La Liga  Serie A  Bundesliga\n",
       "0  08/01/2012  MatchesPlayed  20.0       20     10.0        10.0\n",
       "1  09/01/2012  MatchesPlayed  38.0       39     50.0        44.0\n",
       "2  10/01/2012  MatchesPlayed  31.0       31     39.0        27.0\n",
       "3  11/01/2012  MatchesPlayed  50.0       41     42.0        46.0\n",
       "4  12/01/2012  MatchesPlayed  59.0       39     39.0        26.0"
      ]
     },
     "execution_count": 108,
     "metadata": {},
     "output_type": "execute_result"
    }
   ],
   "source": [
    "df2.head()"
   ]
  },
  {
   "cell_type": "code",
   "execution_count": 103,
   "metadata": {
    "collapsed": false
   },
   "outputs": [
    {
     "data": {
      "text/plain": [
       "Month            08/01/2012\n",
       "Stat          MatchesPlayed\n",
       "EPL                      20\n",
       "La Liga                  20\n",
       "Serie A                  10\n",
       "Bundesliga               10\n",
       "Name: 0, dtype: object"
      ]
     },
     "execution_count": 103,
     "metadata": {},
     "output_type": "execute_result"
    }
   ],
   "source": [
    "df2.loc[0] # 0은 인덱스를 의미, 여기서는 단순한 순서"
   ]
  },
  {
   "cell_type": "code",
   "execution_count": 109,
   "metadata": {
    "collapsed": false
   },
   "outputs": [
    {
     "data": {
      "text/html": [
       "<div>\n",
       "<table border=\"1\" class=\"dataframe\">\n",
       "  <thead>\n",
       "    <tr style=\"text-align: right;\">\n",
       "      <th></th>\n",
       "      <th>Stat</th>\n",
       "      <th>EPL</th>\n",
       "      <th>La Liga</th>\n",
       "      <th>Serie A</th>\n",
       "      <th>Bundesliga</th>\n",
       "    </tr>\n",
       "    <tr>\n",
       "      <th>Month</th>\n",
       "      <th></th>\n",
       "      <th></th>\n",
       "      <th></th>\n",
       "      <th></th>\n",
       "      <th></th>\n",
       "    </tr>\n",
       "  </thead>\n",
       "  <tbody>\n",
       "    <tr>\n",
       "      <th>08/01/2012</th>\n",
       "      <td>MatchesPlayed</td>\n",
       "      <td>20.0</td>\n",
       "      <td>20</td>\n",
       "      <td>10.0</td>\n",
       "      <td>10.0</td>\n",
       "    </tr>\n",
       "    <tr>\n",
       "      <th>09/01/2012</th>\n",
       "      <td>MatchesPlayed</td>\n",
       "      <td>38.0</td>\n",
       "      <td>39</td>\n",
       "      <td>50.0</td>\n",
       "      <td>44.0</td>\n",
       "    </tr>\n",
       "    <tr>\n",
       "      <th>10/01/2012</th>\n",
       "      <td>MatchesPlayed</td>\n",
       "      <td>31.0</td>\n",
       "      <td>31</td>\n",
       "      <td>39.0</td>\n",
       "      <td>27.0</td>\n",
       "    </tr>\n",
       "    <tr>\n",
       "      <th>11/01/2012</th>\n",
       "      <td>MatchesPlayed</td>\n",
       "      <td>50.0</td>\n",
       "      <td>41</td>\n",
       "      <td>42.0</td>\n",
       "      <td>46.0</td>\n",
       "    </tr>\n",
       "    <tr>\n",
       "      <th>12/01/2012</th>\n",
       "      <td>MatchesPlayed</td>\n",
       "      <td>59.0</td>\n",
       "      <td>39</td>\n",
       "      <td>39.0</td>\n",
       "      <td>26.0</td>\n",
       "    </tr>\n",
       "  </tbody>\n",
       "</table>\n",
       "</div>"
      ],
      "text/plain": [
       "                     Stat   EPL  La Liga  Serie A  Bundesliga\n",
       "Month                                                        \n",
       "08/01/2012  MatchesPlayed  20.0       20     10.0        10.0\n",
       "09/01/2012  MatchesPlayed  38.0       39     50.0        44.0\n",
       "10/01/2012  MatchesPlayed  31.0       31     39.0        27.0\n",
       "11/01/2012  MatchesPlayed  50.0       41     42.0        46.0\n",
       "12/01/2012  MatchesPlayed  59.0       39     39.0        26.0"
      ]
     },
     "execution_count": 109,
     "metadata": {},
     "output_type": "execute_result"
    }
   ],
   "source": [
    "df2 = df2.set_index('Month')\n",
    "df2.head()"
   ]
  },
  {
   "cell_type": "code",
   "execution_count": 110,
   "metadata": {
    "collapsed": false
   },
   "outputs": [
    {
     "data": {
      "text/html": [
       "<div>\n",
       "<table border=\"1\" class=\"dataframe\">\n",
       "  <thead>\n",
       "    <tr style=\"text-align: right;\">\n",
       "      <th></th>\n",
       "      <th>Stat</th>\n",
       "      <th>EPL</th>\n",
       "      <th>La Liga</th>\n",
       "      <th>Serie A</th>\n",
       "      <th>Bundesliga</th>\n",
       "    </tr>\n",
       "    <tr>\n",
       "      <th>Month</th>\n",
       "      <th></th>\n",
       "      <th></th>\n",
       "      <th></th>\n",
       "      <th></th>\n",
       "      <th></th>\n",
       "    </tr>\n",
       "  </thead>\n",
       "  <tbody>\n",
       "    <tr>\n",
       "      <th>08/01/2012</th>\n",
       "      <td>MatchesPlayed</td>\n",
       "      <td>20.0</td>\n",
       "      <td>20</td>\n",
       "      <td>10.0</td>\n",
       "      <td>10.0</td>\n",
       "    </tr>\n",
       "    <tr>\n",
       "      <th>08/01/2012</th>\n",
       "      <td>GoalsScored</td>\n",
       "      <td>57.0</td>\n",
       "      <td>60</td>\n",
       "      <td>21.0</td>\n",
       "      <td>23.0</td>\n",
       "    </tr>\n",
       "  </tbody>\n",
       "</table>\n",
       "</div>"
      ],
      "text/plain": [
       "                     Stat   EPL  La Liga  Serie A  Bundesliga\n",
       "Month                                                        \n",
       "08/01/2012  MatchesPlayed  20.0       20     10.0        10.0\n",
       "08/01/2012    GoalsScored  57.0       60     21.0        23.0"
      ]
     },
     "execution_count": 110,
     "metadata": {},
     "output_type": "execute_result"
    }
   ],
   "source": [
    "# index가 Month로 바뀌었으므로\n",
    "df2.loc['08/01/2012']"
   ]
  },
  {
   "cell_type": "code",
   "execution_count": 111,
   "metadata": {
    "collapsed": false
   },
   "outputs": [
    {
     "data": {
      "text/plain": [
       "Stat          MatchesPlayed\n",
       "EPL                      20\n",
       "La Liga                  20\n",
       "Serie A                  10\n",
       "Bundesliga               10\n",
       "Name: 08/01/2012, dtype: object"
      ]
     },
     "execution_count": 111,
     "metadata": {},
     "output_type": "execute_result"
    }
   ],
   "source": [
    "# 0번째\n",
    "df2.iloc[0]"
   ]
  },
  {
   "cell_type": "code",
   "execution_count": 112,
   "metadata": {
    "collapsed": true
   },
   "outputs": [],
   "source": [
    "df2 = df2.reset_index()"
   ]
  },
  {
   "cell_type": "markdown",
   "metadata": {},
   "source": [
    "* multiple index"
   ]
  },
  {
   "cell_type": "code",
   "execution_count": 113,
   "metadata": {
    "collapsed": false
   },
   "outputs": [
    {
     "data": {
      "text/html": [
       "<div>\n",
       "<table border=\"1\" class=\"dataframe\">\n",
       "  <thead>\n",
       "    <tr style=\"text-align: right;\">\n",
       "      <th></th>\n",
       "      <th></th>\n",
       "      <th>EPL</th>\n",
       "      <th>La Liga</th>\n",
       "      <th>Serie A</th>\n",
       "      <th>Bundesliga</th>\n",
       "    </tr>\n",
       "    <tr>\n",
       "      <th>Month</th>\n",
       "      <th>Stat</th>\n",
       "      <th></th>\n",
       "      <th></th>\n",
       "      <th></th>\n",
       "      <th></th>\n",
       "    </tr>\n",
       "  </thead>\n",
       "  <tbody>\n",
       "    <tr>\n",
       "      <th>08/01/2012</th>\n",
       "      <th>MatchesPlayed</th>\n",
       "      <td>20.0</td>\n",
       "      <td>20</td>\n",
       "      <td>10.0</td>\n",
       "      <td>10.0</td>\n",
       "    </tr>\n",
       "    <tr>\n",
       "      <th>09/01/2012</th>\n",
       "      <th>MatchesPlayed</th>\n",
       "      <td>38.0</td>\n",
       "      <td>39</td>\n",
       "      <td>50.0</td>\n",
       "      <td>44.0</td>\n",
       "    </tr>\n",
       "    <tr>\n",
       "      <th>10/01/2012</th>\n",
       "      <th>MatchesPlayed</th>\n",
       "      <td>31.0</td>\n",
       "      <td>31</td>\n",
       "      <td>39.0</td>\n",
       "      <td>27.0</td>\n",
       "    </tr>\n",
       "    <tr>\n",
       "      <th>11/01/2012</th>\n",
       "      <th>MatchesPlayed</th>\n",
       "      <td>50.0</td>\n",
       "      <td>41</td>\n",
       "      <td>42.0</td>\n",
       "      <td>46.0</td>\n",
       "    </tr>\n",
       "    <tr>\n",
       "      <th>12/01/2012</th>\n",
       "      <th>MatchesPlayed</th>\n",
       "      <td>59.0</td>\n",
       "      <td>39</td>\n",
       "      <td>39.0</td>\n",
       "      <td>26.0</td>\n",
       "    </tr>\n",
       "  </tbody>\n",
       "</table>\n",
       "</div>"
      ],
      "text/plain": [
       "                           EPL  La Liga  Serie A  Bundesliga\n",
       "Month      Stat                                             \n",
       "08/01/2012 MatchesPlayed  20.0       20     10.0        10.0\n",
       "09/01/2012 MatchesPlayed  38.0       39     50.0        44.0\n",
       "10/01/2012 MatchesPlayed  31.0       31     39.0        27.0\n",
       "11/01/2012 MatchesPlayed  50.0       41     42.0        46.0\n",
       "12/01/2012 MatchesPlayed  59.0       39     39.0        26.0"
      ]
     },
     "execution_count": 113,
     "metadata": {},
     "output_type": "execute_result"
    }
   ],
   "source": [
    "df2 = df2.set_index(['Month', 'Stat'])\n",
    "df2.head()"
   ]
  },
  {
   "cell_type": "code",
   "execution_count": 114,
   "metadata": {
    "collapsed": false
   },
   "outputs": [
    {
     "data": {
      "text/plain": [
       "EPL           20.0\n",
       "La Liga       20.0\n",
       "Serie A       10.0\n",
       "Bundesliga    10.0\n",
       "Name: (08/01/2012, MatchesPlayed), dtype: float64"
      ]
     },
     "execution_count": 114,
     "metadata": {},
     "output_type": "execute_result"
    }
   ],
   "source": [
    "df2.iloc[0]"
   ]
  },
  {
   "cell_type": "code",
   "execution_count": 116,
   "metadata": {
    "collapsed": false
   },
   "outputs": [
    {
     "data": {
      "text/plain": [
       "EPL           20.0\n",
       "La Liga       20.0\n",
       "Serie A       10.0\n",
       "Bundesliga    10.0\n",
       "Name: (08/01/2012, MatchesPlayed), dtype: float64"
      ]
     },
     "execution_count": 116,
     "metadata": {},
     "output_type": "execute_result"
    }
   ],
   "source": [
    "# multi index의 경우 ','로 구별하여 인덱싱 가능\n",
    "df2.loc['08/01/2012', 'MatchesPlayed']"
   ]
  },
  {
   "cell_type": "code",
   "execution_count": 117,
   "metadata": {
    "collapsed": false
   },
   "outputs": [
    {
     "data": {
      "text/plain": [
       "EPL           20.0\n",
       "La Liga       20.0\n",
       "Serie A       10.0\n",
       "Bundesliga    10.0\n",
       "Name: (08/01/2012, MatchesPlayed), dtype: float64"
      ]
     },
     "execution_count": 117,
     "metadata": {},
     "output_type": "execute_result"
    }
   ],
   "source": [
    "df2.ix['08/01/2012', 'MatchesPlayed']"
   ]
  },
  {
   "cell_type": "markdown",
   "metadata": {},
   "source": [
    "* grouping with multi index"
   ]
  },
  {
   "cell_type": "code",
   "execution_count": 119,
   "metadata": {
    "collapsed": false
   },
   "outputs": [
    {
     "data": {
      "text/html": [
       "<div>\n",
       "<table border=\"1\" class=\"dataframe\">\n",
       "  <thead>\n",
       "    <tr style=\"text-align: right;\">\n",
       "      <th></th>\n",
       "      <th></th>\n",
       "      <th>EPL</th>\n",
       "      <th>La Liga</th>\n",
       "      <th>Serie A</th>\n",
       "      <th>Bundesliga</th>\n",
       "    </tr>\n",
       "    <tr>\n",
       "      <th>Month</th>\n",
       "      <th>Stat</th>\n",
       "      <th></th>\n",
       "      <th></th>\n",
       "      <th></th>\n",
       "      <th></th>\n",
       "    </tr>\n",
       "  </thead>\n",
       "  <tbody>\n",
       "    <tr>\n",
       "      <th>08/01/2012</th>\n",
       "      <th>MatchesPlayed</th>\n",
       "      <td>20.0</td>\n",
       "      <td>20</td>\n",
       "      <td>10.0</td>\n",
       "      <td>10.0</td>\n",
       "    </tr>\n",
       "    <tr>\n",
       "      <th>09/01/2012</th>\n",
       "      <th>MatchesPlayed</th>\n",
       "      <td>38.0</td>\n",
       "      <td>39</td>\n",
       "      <td>50.0</td>\n",
       "      <td>44.0</td>\n",
       "    </tr>\n",
       "    <tr>\n",
       "      <th>10/01/2012</th>\n",
       "      <th>MatchesPlayed</th>\n",
       "      <td>31.0</td>\n",
       "      <td>31</td>\n",
       "      <td>39.0</td>\n",
       "      <td>27.0</td>\n",
       "    </tr>\n",
       "    <tr>\n",
       "      <th>11/01/2012</th>\n",
       "      <th>MatchesPlayed</th>\n",
       "      <td>50.0</td>\n",
       "      <td>41</td>\n",
       "      <td>42.0</td>\n",
       "      <td>46.0</td>\n",
       "    </tr>\n",
       "    <tr>\n",
       "      <th>12/01/2012</th>\n",
       "      <th>MatchesPlayed</th>\n",
       "      <td>59.0</td>\n",
       "      <td>39</td>\n",
       "      <td>39.0</td>\n",
       "      <td>26.0</td>\n",
       "    </tr>\n",
       "  </tbody>\n",
       "</table>\n",
       "</div>"
      ],
      "text/plain": [
       "                           EPL  La Liga  Serie A  Bundesliga\n",
       "Month      Stat                                             \n",
       "08/01/2012 MatchesPlayed  20.0       20     10.0        10.0\n",
       "09/01/2012 MatchesPlayed  38.0       39     50.0        44.0\n",
       "10/01/2012 MatchesPlayed  31.0       31     39.0        27.0\n",
       "11/01/2012 MatchesPlayed  50.0       41     42.0        46.0\n",
       "12/01/2012 MatchesPlayed  59.0       39     39.0        26.0"
      ]
     },
     "execution_count": 119,
     "metadata": {},
     "output_type": "execute_result"
    }
   ],
   "source": [
    "df2.head()"
   ]
  },
  {
   "cell_type": "code",
   "execution_count": 120,
   "metadata": {
    "collapsed": false
   },
   "outputs": [
    {
     "name": "stdout",
     "output_type": "stream",
     "text": [
      "GoalsScored\n",
      "                          EPL  La Liga  Serie A  Bundesliga\n",
      "Month      Stat                                            \n",
      "08/01/2012 GoalsScored   57.0       60     21.0        23.0\n",
      "09/01/2012 GoalsScored  111.0      112    133.0       135.0\n",
      "10/01/2012 GoalsScored   95.0       88     97.0        77.0\n",
      "11/01/2012 GoalsScored  121.0      116    120.0       137.0\n",
      "12/01/2012 GoalsScored  183.0      109    125.0        72.0\n",
      "01/01/2013 GoalsScored  117.0      121    104.0        51.0\n",
      "02/01/2013 GoalsScored   87.0      110    100.0       101.0\n",
      "03/01/2013 GoalsScored   91.0      101     99.0       106.0\n",
      "04/01/2013 GoalsScored  105.0      127    102.0       104.0\n",
      "05/01/2013 GoalsScored   96.0      109    102.0        92.0\n",
      "06/01/2013 GoalsScored    NaN       80      NaN         NaN\n",
      "MatchesPlayed\n",
      "                           EPL  La Liga  Serie A  Bundesliga\n",
      "Month      Stat                                             \n",
      "08/01/2012 MatchesPlayed  20.0       20     10.0        10.0\n",
      "09/01/2012 MatchesPlayed  38.0       39     50.0        44.0\n",
      "10/01/2012 MatchesPlayed  31.0       31     39.0        27.0\n",
      "11/01/2012 MatchesPlayed  50.0       41     42.0        46.0\n",
      "12/01/2012 MatchesPlayed  59.0       39     39.0        26.0\n",
      "01/01/2013 MatchesPlayed  42.0       40     40.0        18.0\n",
      "02/01/2013 MatchesPlayed  30.0       40     40.0        36.0\n",
      "03/01/2013 MatchesPlayed  35.0       38     39.0        36.0\n",
      "04/01/2013 MatchesPlayed  42.0       42     41.0        36.0\n",
      "05/01/2013 MatchesPlayed  33.0       40     40.0        27.0\n",
      "06/02/2013 MatchesPlayed   NaN       10      NaN         NaN\n"
     ]
    }
   ],
   "source": [
    "stat_group = df2.groupby(level = 'Stat')\n",
    "for name, group in stat_group:\n",
    "    print name\n",
    "    print group"
   ]
  },
  {
   "cell_type": "code",
   "execution_count": 123,
   "metadata": {
    "collapsed": false
   },
   "outputs": [
    {
     "data": {
      "text/html": [
       "<div>\n",
       "<table border=\"1\" class=\"dataframe\">\n",
       "  <thead>\n",
       "    <tr style=\"text-align: right;\">\n",
       "      <th></th>\n",
       "      <th>EPL</th>\n",
       "      <th>La Liga</th>\n",
       "      <th>Serie A</th>\n",
       "      <th>Bundesliga</th>\n",
       "    </tr>\n",
       "    <tr>\n",
       "      <th>Stat</th>\n",
       "      <th></th>\n",
       "      <th></th>\n",
       "      <th></th>\n",
       "      <th></th>\n",
       "    </tr>\n",
       "  </thead>\n",
       "  <tbody>\n",
       "    <tr>\n",
       "      <th>GoalsScored</th>\n",
       "      <td>1063.0</td>\n",
       "      <td>1133</td>\n",
       "      <td>1003.0</td>\n",
       "      <td>898.0</td>\n",
       "    </tr>\n",
       "    <tr>\n",
       "      <th>MatchesPlayed</th>\n",
       "      <td>380.0</td>\n",
       "      <td>380</td>\n",
       "      <td>380.0</td>\n",
       "      <td>306.0</td>\n",
       "    </tr>\n",
       "  </tbody>\n",
       "</table>\n",
       "</div>"
      ],
      "text/plain": [
       "                  EPL  La Liga  Serie A  Bundesliga\n",
       "Stat                                               \n",
       "GoalsScored    1063.0     1133   1003.0       898.0\n",
       "MatchesPlayed   380.0      380    380.0       306.0"
      ]
     },
     "execution_count": 123,
     "metadata": {},
     "output_type": "execute_result"
    }
   ],
   "source": [
    "# group의 sum method를 이용\n",
    "# 각 리그당 경기 수와 골을 나타냄\n",
    "stat_group.sum()"
   ]
  },
  {
   "cell_type": "code",
   "execution_count": 122,
   "metadata": {
    "collapsed": false
   },
   "outputs": [
    {
     "data": {
      "text/html": [
       "<div>\n",
       "<table border=\"1\" class=\"dataframe\">\n",
       "  <thead>\n",
       "    <tr style=\"text-align: right;\">\n",
       "      <th></th>\n",
       "      <th>EPL</th>\n",
       "      <th>La Liga</th>\n",
       "      <th>Serie A</th>\n",
       "      <th>Bundesliga</th>\n",
       "    </tr>\n",
       "    <tr>\n",
       "      <th>Stat</th>\n",
       "      <th></th>\n",
       "      <th></th>\n",
       "      <th></th>\n",
       "      <th></th>\n",
       "    </tr>\n",
       "  </thead>\n",
       "  <tbody>\n",
       "    <tr>\n",
       "      <th>GoalsScored</th>\n",
       "      <td>1063.0</td>\n",
       "      <td>1133</td>\n",
       "      <td>1003.0</td>\n",
       "      <td>898.0</td>\n",
       "    </tr>\n",
       "    <tr>\n",
       "      <th>MatchesPlayed</th>\n",
       "      <td>380.0</td>\n",
       "      <td>380</td>\n",
       "      <td>380.0</td>\n",
       "      <td>306.0</td>\n",
       "    </tr>\n",
       "  </tbody>\n",
       "</table>\n",
       "</div>"
      ],
      "text/plain": [
       "                  EPL  La Liga  Serie A  Bundesliga\n",
       "Stat                                               \n",
       "GoalsScored    1063.0     1133   1003.0       898.0\n",
       "MatchesPlayed   380.0      380    380.0       306.0"
      ]
     },
     "execution_count": 122,
     "metadata": {},
     "output_type": "execute_result"
    }
   ],
   "source": [
    "# 혹은 level을 이용하여 dataframe level에서 계산 가능\n",
    "df2.sum(level = 'Stat')"
   ]
  },
  {
   "cell_type": "code",
   "execution_count": 124,
   "metadata": {
    "collapsed": false
   },
   "outputs": [
    {
     "data": {
      "text/html": [
       "<div>\n",
       "<table border=\"1\" class=\"dataframe\">\n",
       "  <thead>\n",
       "    <tr style=\"text-align: right;\">\n",
       "      <th></th>\n",
       "      <th>EPL</th>\n",
       "      <th>La Liga</th>\n",
       "      <th>Serie A</th>\n",
       "      <th>Bundesliga</th>\n",
       "    </tr>\n",
       "    <tr>\n",
       "      <th>Stat</th>\n",
       "      <th></th>\n",
       "      <th></th>\n",
       "      <th></th>\n",
       "      <th></th>\n",
       "    </tr>\n",
       "  </thead>\n",
       "  <tbody>\n",
       "    <tr>\n",
       "      <th>GoalsScored</th>\n",
       "      <td>1063.0</td>\n",
       "      <td>1133</td>\n",
       "      <td>1003.0</td>\n",
       "      <td>898.0</td>\n",
       "    </tr>\n",
       "    <tr>\n",
       "      <th>MatchesPlayed</th>\n",
       "      <td>380.0</td>\n",
       "      <td>380</td>\n",
       "      <td>380.0</td>\n",
       "      <td>306.0</td>\n",
       "    </tr>\n",
       "  </tbody>\n",
       "</table>\n",
       "</div>"
      ],
      "text/plain": [
       "                  EPL  La Liga  Serie A  Bundesliga\n",
       "Stat                                               \n",
       "GoalsScored    1063.0     1133   1003.0       898.0\n",
       "MatchesPlayed   380.0      380    380.0       306.0"
      ]
     },
     "execution_count": 124,
     "metadata": {},
     "output_type": "execute_result"
    }
   ],
   "source": [
    "total_goal_df = stat_group.sum()\n",
    "total_goal_df.head()"
   ]
  },
  {
   "cell_type": "markdown",
   "metadata": {},
   "source": [
    "* 각 리그의 경기당 평균골 구하기"
   ]
  },
  {
   "cell_type": "code",
   "execution_count": 125,
   "metadata": {
    "collapsed": false
   },
   "outputs": [
    {
     "data": {
      "text/plain": [
       "EPL           2.797368\n",
       "La Liga       2.981579\n",
       "Serie A       2.639474\n",
       "Bundesliga    2.934641\n",
       "dtype: float64"
      ]
     },
     "execution_count": 125,
     "metadata": {},
     "output_type": "execute_result"
    }
   ],
   "source": [
    "total_goal_df.ix['GoalsScored'] / total_goal_df.ix['MatchesPlayed']"
   ]
  },
  {
   "cell_type": "code",
   "execution_count": 133,
   "metadata": {
    "collapsed": false
   },
   "outputs": [
    {
     "data": {
      "text/plain": [
       "EPL           2.797368\n",
       "La Liga       2.981579\n",
       "Serie A       2.639474\n",
       "Bundesliga    2.934641\n",
       "dtype: float64"
      ]
     },
     "execution_count": 133,
     "metadata": {},
     "output_type": "execute_result"
    }
   ],
   "source": [
    "goals_per_game_df = total_goal_df.ix['GoalsScored'] / total_goal_df.ix['MatchesPlayed']\n",
    "goals_per_game_df"
   ]
  },
  {
   "cell_type": "code",
   "execution_count": 134,
   "metadata": {
    "collapsed": false
   },
   "outputs": [
    {
     "data": {
      "text/html": [
       "<div>\n",
       "<table border=\"1\" class=\"dataframe\">\n",
       "  <thead>\n",
       "    <tr style=\"text-align: right;\">\n",
       "      <th></th>\n",
       "      <th>EPL</th>\n",
       "      <th>La Liga</th>\n",
       "      <th>Serie A</th>\n",
       "      <th>Bundesliga</th>\n",
       "    </tr>\n",
       "  </thead>\n",
       "  <tbody>\n",
       "    <tr>\n",
       "      <th>0</th>\n",
       "      <td>2.797368</td>\n",
       "      <td>2.981579</td>\n",
       "      <td>2.639474</td>\n",
       "      <td>2.934641</td>\n",
       "    </tr>\n",
       "  </tbody>\n",
       "</table>\n",
       "</div>"
      ],
      "text/plain": [
       "        EPL   La Liga   Serie A  Bundesliga\n",
       "0  2.797368  2.981579  2.639474    2.934641"
      ]
     },
     "execution_count": 134,
     "metadata": {},
     "output_type": "execute_result"
    }
   ],
   "source": [
    "goals_per_game_df = pd.DataFrame(goals_per_game_df).T\n",
    "goals_per_game_df"
   ]
  },
  {
   "cell_type": "markdown",
   "metadata": {},
   "source": [
    "* rename index"
   ]
  },
  {
   "cell_type": "code",
   "execution_count": 135,
   "metadata": {
    "collapsed": false
   },
   "outputs": [
    {
     "data": {
      "text/html": [
       "<div>\n",
       "<table border=\"1\" class=\"dataframe\">\n",
       "  <thead>\n",
       "    <tr style=\"text-align: right;\">\n",
       "      <th></th>\n",
       "      <th>EPL</th>\n",
       "      <th>La Liga</th>\n",
       "      <th>Serie A</th>\n",
       "      <th>Bundesliga</th>\n",
       "    </tr>\n",
       "  </thead>\n",
       "  <tbody>\n",
       "    <tr>\n",
       "      <th>goals per game</th>\n",
       "      <td>2.797368</td>\n",
       "      <td>2.981579</td>\n",
       "      <td>2.639474</td>\n",
       "      <td>2.934641</td>\n",
       "    </tr>\n",
       "  </tbody>\n",
       "</table>\n",
       "</div>"
      ],
      "text/plain": [
       "                     EPL   La Liga   Serie A  Bundesliga\n",
       "goals per game  2.797368  2.981579  2.639474    2.934641"
      ]
     },
     "execution_count": 135,
     "metadata": {},
     "output_type": "execute_result"
    }
   ],
   "source": [
    "goals_per_game_df = goals_per_game_df.rename(index = {0 : 'goals per game'})  # 인덱스값을 왜 dict로 주지?\n",
    "goals_per_game_df"
   ]
  },
  {
   "cell_type": "code",
   "execution_count": 136,
   "metadata": {
    "collapsed": false
   },
   "outputs": [
    {
     "data": {
      "text/html": [
       "<div>\n",
       "<table border=\"1\" class=\"dataframe\">\n",
       "  <thead>\n",
       "    <tr style=\"text-align: right;\">\n",
       "      <th></th>\n",
       "      <th>EPL</th>\n",
       "      <th>La Liga</th>\n",
       "      <th>Serie A</th>\n",
       "      <th>Bundesliga</th>\n",
       "    </tr>\n",
       "  </thead>\n",
       "  <tbody>\n",
       "    <tr>\n",
       "      <th>GoalsScored</th>\n",
       "      <td>1063.000000</td>\n",
       "      <td>1133.000000</td>\n",
       "      <td>1003.000000</td>\n",
       "      <td>898.000000</td>\n",
       "    </tr>\n",
       "    <tr>\n",
       "      <th>MatchesPlayed</th>\n",
       "      <td>380.000000</td>\n",
       "      <td>380.000000</td>\n",
       "      <td>380.000000</td>\n",
       "      <td>306.000000</td>\n",
       "    </tr>\n",
       "    <tr>\n",
       "      <th>goals per game</th>\n",
       "      <td>2.797368</td>\n",
       "      <td>2.981579</td>\n",
       "      <td>2.639474</td>\n",
       "      <td>2.934641</td>\n",
       "    </tr>\n",
       "  </tbody>\n",
       "</table>\n",
       "</div>"
      ],
      "text/plain": [
       "                        EPL      La Liga      Serie A  Bundesliga\n",
       "GoalsScored     1063.000000  1133.000000  1003.000000  898.000000\n",
       "MatchesPlayed    380.000000   380.000000   380.000000  306.000000\n",
       "goals per game     2.797368     2.981579     2.639474    2.934641"
      ]
     },
     "execution_count": 136,
     "metadata": {},
     "output_type": "execute_result"
    }
   ],
   "source": [
    "total_goal_df.append(goals_per_game_df)"
   ]
  },
  {
   "cell_type": "markdown",
   "metadata": {},
   "source": [
    "* 소수점 2자리까지 출력하도록 설정"
   ]
  },
  {
   "cell_type": "code",
   "execution_count": 138,
   "metadata": {
    "collapsed": false
   },
   "outputs": [
    {
     "data": {
      "text/html": [
       "<div>\n",
       "<table border=\"1\" class=\"dataframe\">\n",
       "  <thead>\n",
       "    <tr style=\"text-align: right;\">\n",
       "      <th></th>\n",
       "      <th>EPL</th>\n",
       "      <th>La Liga</th>\n",
       "      <th>Serie A</th>\n",
       "      <th>Bundesliga</th>\n",
       "    </tr>\n",
       "  </thead>\n",
       "  <tbody>\n",
       "    <tr>\n",
       "      <th>GoalsScored</th>\n",
       "      <td>1063.00</td>\n",
       "      <td>1133.00</td>\n",
       "      <td>1003.00</td>\n",
       "      <td>898.00</td>\n",
       "    </tr>\n",
       "    <tr>\n",
       "      <th>MatchesPlayed</th>\n",
       "      <td>380.00</td>\n",
       "      <td>380.00</td>\n",
       "      <td>380.00</td>\n",
       "      <td>306.00</td>\n",
       "    </tr>\n",
       "    <tr>\n",
       "      <th>goals per game</th>\n",
       "      <td>2.80</td>\n",
       "      <td>2.98</td>\n",
       "      <td>2.64</td>\n",
       "      <td>2.93</td>\n",
       "    </tr>\n",
       "  </tbody>\n",
       "</table>\n",
       "</div>"
      ],
      "text/plain": [
       "                   EPL  La Liga  Serie A  Bundesliga\n",
       "GoalsScored    1063.00  1133.00  1003.00      898.00\n",
       "MatchesPlayed   380.00   380.00   380.00      306.00\n",
       "goals per game    2.80     2.98     2.64        2.93"
      ]
     },
     "execution_count": 138,
     "metadata": {},
     "output_type": "execute_result"
    }
   ],
   "source": [
    "pd.options.display.float_format='{:.2f}'.format\n",
    "total_goal_df.append(goals_per_game_df)"
   ]
  },
  {
   "cell_type": "markdown",
   "metadata": {},
   "source": [
    "* formating\n",
    "  - https://pyformat.info/ 참고"
   ]
  },
  {
   "cell_type": "markdown",
   "metadata": {},
   "source": [
    "* aggregate method"
   ]
  },
  {
   "cell_type": "code",
   "execution_count": 139,
   "metadata": {
    "collapsed": false
   },
   "outputs": [
    {
     "data": {
      "text/html": [
       "<div>\n",
       "<table border=\"1\" class=\"dataframe\">\n",
       "  <thead>\n",
       "    <tr style=\"text-align: right;\">\n",
       "      <th></th>\n",
       "      <th></th>\n",
       "      <th>EPL</th>\n",
       "      <th>La Liga</th>\n",
       "      <th>Serie A</th>\n",
       "      <th>Bundesliga</th>\n",
       "    </tr>\n",
       "    <tr>\n",
       "      <th>Month</th>\n",
       "      <th>Stat</th>\n",
       "      <th></th>\n",
       "      <th></th>\n",
       "      <th></th>\n",
       "      <th></th>\n",
       "    </tr>\n",
       "  </thead>\n",
       "  <tbody>\n",
       "    <tr>\n",
       "      <th>08/01/2012</th>\n",
       "      <th>MatchesPlayed</th>\n",
       "      <td>20.00</td>\n",
       "      <td>20</td>\n",
       "      <td>10.00</td>\n",
       "      <td>10.00</td>\n",
       "    </tr>\n",
       "    <tr>\n",
       "      <th>09/01/2012</th>\n",
       "      <th>MatchesPlayed</th>\n",
       "      <td>38.00</td>\n",
       "      <td>39</td>\n",
       "      <td>50.00</td>\n",
       "      <td>44.00</td>\n",
       "    </tr>\n",
       "    <tr>\n",
       "      <th>10/01/2012</th>\n",
       "      <th>MatchesPlayed</th>\n",
       "      <td>31.00</td>\n",
       "      <td>31</td>\n",
       "      <td>39.00</td>\n",
       "      <td>27.00</td>\n",
       "    </tr>\n",
       "    <tr>\n",
       "      <th>11/01/2012</th>\n",
       "      <th>MatchesPlayed</th>\n",
       "      <td>50.00</td>\n",
       "      <td>41</td>\n",
       "      <td>42.00</td>\n",
       "      <td>46.00</td>\n",
       "    </tr>\n",
       "    <tr>\n",
       "      <th>12/01/2012</th>\n",
       "      <th>MatchesPlayed</th>\n",
       "      <td>59.00</td>\n",
       "      <td>39</td>\n",
       "      <td>39.00</td>\n",
       "      <td>26.00</td>\n",
       "    </tr>\n",
       "    <tr>\n",
       "      <th>08/01/2012</th>\n",
       "      <th>GoalsScored</th>\n",
       "      <td>57.00</td>\n",
       "      <td>60</td>\n",
       "      <td>21.00</td>\n",
       "      <td>23.00</td>\n",
       "    </tr>\n",
       "    <tr>\n",
       "      <th>09/01/2012</th>\n",
       "      <th>GoalsScored</th>\n",
       "      <td>111.00</td>\n",
       "      <td>112</td>\n",
       "      <td>133.00</td>\n",
       "      <td>135.00</td>\n",
       "    </tr>\n",
       "    <tr>\n",
       "      <th>10/01/2012</th>\n",
       "      <th>GoalsScored</th>\n",
       "      <td>95.00</td>\n",
       "      <td>88</td>\n",
       "      <td>97.00</td>\n",
       "      <td>77.00</td>\n",
       "    </tr>\n",
       "    <tr>\n",
       "      <th>11/01/2012</th>\n",
       "      <th>GoalsScored</th>\n",
       "      <td>121.00</td>\n",
       "      <td>116</td>\n",
       "      <td>120.00</td>\n",
       "      <td>137.00</td>\n",
       "    </tr>\n",
       "    <tr>\n",
       "      <th>12/01/2012</th>\n",
       "      <th>GoalsScored</th>\n",
       "      <td>183.00</td>\n",
       "      <td>109</td>\n",
       "      <td>125.00</td>\n",
       "      <td>72.00</td>\n",
       "    </tr>\n",
       "  </tbody>\n",
       "</table>\n",
       "</div>"
      ],
      "text/plain": [
       "                            EPL  La Liga  Serie A  Bundesliga\n",
       "Month      Stat                                              \n",
       "08/01/2012 MatchesPlayed  20.00       20    10.00       10.00\n",
       "09/01/2012 MatchesPlayed  38.00       39    50.00       44.00\n",
       "10/01/2012 MatchesPlayed  31.00       31    39.00       27.00\n",
       "11/01/2012 MatchesPlayed  50.00       41    42.00       46.00\n",
       "12/01/2012 MatchesPlayed  59.00       39    39.00       26.00\n",
       "08/01/2012 GoalsScored    57.00       60    21.00       23.00\n",
       "09/01/2012 GoalsScored   111.00      112   133.00      135.00\n",
       "10/01/2012 GoalsScored    95.00       88    97.00       77.00\n",
       "11/01/2012 GoalsScored   121.00      116   120.00      137.00\n",
       "12/01/2012 GoalsScored   183.00      109   125.00       72.00"
      ]
     },
     "execution_count": 139,
     "metadata": {},
     "output_type": "execute_result"
    }
   ],
   "source": [
    "stat_group.head()"
   ]
  },
  {
   "cell_type": "code",
   "execution_count": 140,
   "metadata": {
    "collapsed": false
   },
   "outputs": [
    {
     "data": {
      "text/html": [
       "<div>\n",
       "<table border=\"1\" class=\"dataframe\">\n",
       "  <thead>\n",
       "    <tr style=\"text-align: right;\">\n",
       "      <th></th>\n",
       "      <th>EPL</th>\n",
       "      <th>La Liga</th>\n",
       "      <th>Serie A</th>\n",
       "      <th>Bundesliga</th>\n",
       "    </tr>\n",
       "    <tr>\n",
       "      <th>Stat</th>\n",
       "      <th></th>\n",
       "      <th></th>\n",
       "      <th></th>\n",
       "      <th></th>\n",
       "    </tr>\n",
       "  </thead>\n",
       "  <tbody>\n",
       "    <tr>\n",
       "      <th>GoalsScored</th>\n",
       "      <td>1063.00</td>\n",
       "      <td>1133</td>\n",
       "      <td>1003.00</td>\n",
       "      <td>898.00</td>\n",
       "    </tr>\n",
       "    <tr>\n",
       "      <th>MatchesPlayed</th>\n",
       "      <td>380.00</td>\n",
       "      <td>380</td>\n",
       "      <td>380.00</td>\n",
       "      <td>306.00</td>\n",
       "    </tr>\n",
       "  </tbody>\n",
       "</table>\n",
       "</div>"
      ],
      "text/plain": [
       "                  EPL  La Liga  Serie A  Bundesliga\n",
       "Stat                                               \n",
       "GoalsScored   1063.00     1133  1003.00      898.00\n",
       "MatchesPlayed  380.00      380   380.00      306.00"
      ]
     },
     "execution_count": 140,
     "metadata": {},
     "output_type": "execute_result"
    }
   ],
   "source": [
    "stat_group.aggregate(np.sum)"
   ]
  },
  {
   "cell_type": "markdown",
   "metadata": {},
   "source": [
    "* 복수의 함수 적용"
   ]
  },
  {
   "cell_type": "code",
   "execution_count": 141,
   "metadata": {
    "collapsed": false
   },
   "outputs": [
    {
     "data": {
      "text/html": [
       "<div>\n",
       "<table border=\"1\" class=\"dataframe\">\n",
       "  <thead>\n",
       "    <tr>\n",
       "      <th></th>\n",
       "      <th colspan=\"3\" halign=\"left\">EPL</th>\n",
       "      <th colspan=\"3\" halign=\"left\">La Liga</th>\n",
       "      <th colspan=\"3\" halign=\"left\">Serie A</th>\n",
       "      <th colspan=\"3\" halign=\"left\">Bundesliga</th>\n",
       "    </tr>\n",
       "    <tr>\n",
       "      <th></th>\n",
       "      <th>sum</th>\n",
       "      <th>mean</th>\n",
       "      <th>size</th>\n",
       "      <th>sum</th>\n",
       "      <th>mean</th>\n",
       "      <th>size</th>\n",
       "      <th>sum</th>\n",
       "      <th>mean</th>\n",
       "      <th>size</th>\n",
       "      <th>sum</th>\n",
       "      <th>mean</th>\n",
       "      <th>size</th>\n",
       "    </tr>\n",
       "    <tr>\n",
       "      <th>Stat</th>\n",
       "      <th></th>\n",
       "      <th></th>\n",
       "      <th></th>\n",
       "      <th></th>\n",
       "      <th></th>\n",
       "      <th></th>\n",
       "      <th></th>\n",
       "      <th></th>\n",
       "      <th></th>\n",
       "      <th></th>\n",
       "      <th></th>\n",
       "      <th></th>\n",
       "    </tr>\n",
       "  </thead>\n",
       "  <tbody>\n",
       "    <tr>\n",
       "      <th>GoalsScored</th>\n",
       "      <td>1063.00</td>\n",
       "      <td>106.30</td>\n",
       "      <td>11.00</td>\n",
       "      <td>1133</td>\n",
       "      <td>103.00</td>\n",
       "      <td>11</td>\n",
       "      <td>1003.00</td>\n",
       "      <td>100.30</td>\n",
       "      <td>11.00</td>\n",
       "      <td>898.00</td>\n",
       "      <td>89.80</td>\n",
       "      <td>11.00</td>\n",
       "    </tr>\n",
       "    <tr>\n",
       "      <th>MatchesPlayed</th>\n",
       "      <td>380.00</td>\n",
       "      <td>38.00</td>\n",
       "      <td>11.00</td>\n",
       "      <td>380</td>\n",
       "      <td>34.55</td>\n",
       "      <td>11</td>\n",
       "      <td>380.00</td>\n",
       "      <td>38.00</td>\n",
       "      <td>11.00</td>\n",
       "      <td>306.00</td>\n",
       "      <td>30.60</td>\n",
       "      <td>11.00</td>\n",
       "    </tr>\n",
       "  </tbody>\n",
       "</table>\n",
       "</div>"
      ],
      "text/plain": [
       "                  EPL              La Liga             Serie A               \\\n",
       "                  sum   mean  size     sum   mean size     sum   mean  size   \n",
       "Stat                                                                          \n",
       "GoalsScored   1063.00 106.30 11.00    1133 103.00   11 1003.00 100.30 11.00   \n",
       "MatchesPlayed  380.00  38.00 11.00     380  34.55   11  380.00  38.00 11.00   \n",
       "\n",
       "              Bundesliga              \n",
       "                     sum  mean  size  \n",
       "Stat                                  \n",
       "GoalsScored       898.00 89.80 11.00  \n",
       "MatchesPlayed     306.00 30.60 11.00  "
      ]
     },
     "execution_count": 141,
     "metadata": {},
     "output_type": "execute_result"
    }
   ],
   "source": [
    "stat_group.aggregate([np.sum, np.mean, np.size])"
   ]
  },
  {
   "cell_type": "markdown",
   "metadata": {},
   "source": [
    "* transform method"
   ]
  },
  {
   "cell_type": "code",
   "execution_count": 143,
   "metadata": {
    "collapsed": false
   },
   "outputs": [
    {
     "data": {
      "text/html": [
       "<div>\n",
       "<table border=\"1\" class=\"dataframe\">\n",
       "  <thead>\n",
       "    <tr style=\"text-align: right;\">\n",
       "      <th></th>\n",
       "      <th>Stat</th>\n",
       "      <th>EPL</th>\n",
       "      <th>La Liga</th>\n",
       "      <th>Serie A</th>\n",
       "      <th>Bundesliga</th>\n",
       "    </tr>\n",
       "    <tr>\n",
       "      <th>Month</th>\n",
       "      <th></th>\n",
       "      <th></th>\n",
       "      <th></th>\n",
       "      <th></th>\n",
       "      <th></th>\n",
       "    </tr>\n",
       "  </thead>\n",
       "  <tbody>\n",
       "    <tr>\n",
       "      <th>08/01/2012</th>\n",
       "      <td>GoalsScored</td>\n",
       "      <td>57.00</td>\n",
       "      <td>60</td>\n",
       "      <td>21.00</td>\n",
       "      <td>23.00</td>\n",
       "    </tr>\n",
       "    <tr>\n",
       "      <th>09/01/2012</th>\n",
       "      <td>GoalsScored</td>\n",
       "      <td>111.00</td>\n",
       "      <td>112</td>\n",
       "      <td>133.00</td>\n",
       "      <td>135.00</td>\n",
       "    </tr>\n",
       "    <tr>\n",
       "      <th>10/01/2012</th>\n",
       "      <td>GoalsScored</td>\n",
       "      <td>95.00</td>\n",
       "      <td>88</td>\n",
       "      <td>97.00</td>\n",
       "      <td>77.00</td>\n",
       "    </tr>\n",
       "    <tr>\n",
       "      <th>11/01/2012</th>\n",
       "      <td>GoalsScored</td>\n",
       "      <td>121.00</td>\n",
       "      <td>116</td>\n",
       "      <td>120.00</td>\n",
       "      <td>137.00</td>\n",
       "    </tr>\n",
       "    <tr>\n",
       "      <th>12/01/2012</th>\n",
       "      <td>GoalsScored</td>\n",
       "      <td>183.00</td>\n",
       "      <td>109</td>\n",
       "      <td>125.00</td>\n",
       "      <td>72.00</td>\n",
       "    </tr>\n",
       "    <tr>\n",
       "      <th>01/01/2013</th>\n",
       "      <td>GoalsScored</td>\n",
       "      <td>117.00</td>\n",
       "      <td>121</td>\n",
       "      <td>104.00</td>\n",
       "      <td>51.00</td>\n",
       "    </tr>\n",
       "    <tr>\n",
       "      <th>02/01/2013</th>\n",
       "      <td>GoalsScored</td>\n",
       "      <td>87.00</td>\n",
       "      <td>110</td>\n",
       "      <td>100.00</td>\n",
       "      <td>101.00</td>\n",
       "    </tr>\n",
       "    <tr>\n",
       "      <th>03/01/2013</th>\n",
       "      <td>GoalsScored</td>\n",
       "      <td>91.00</td>\n",
       "      <td>101</td>\n",
       "      <td>99.00</td>\n",
       "      <td>106.00</td>\n",
       "    </tr>\n",
       "    <tr>\n",
       "      <th>04/01/2013</th>\n",
       "      <td>GoalsScored</td>\n",
       "      <td>105.00</td>\n",
       "      <td>127</td>\n",
       "      <td>102.00</td>\n",
       "      <td>104.00</td>\n",
       "    </tr>\n",
       "    <tr>\n",
       "      <th>05/01/2013</th>\n",
       "      <td>GoalsScored</td>\n",
       "      <td>96.00</td>\n",
       "      <td>109</td>\n",
       "      <td>102.00</td>\n",
       "      <td>92.00</td>\n",
       "    </tr>\n",
       "    <tr>\n",
       "      <th>06/01/2013</th>\n",
       "      <td>GoalsScored</td>\n",
       "      <td>nan</td>\n",
       "      <td>80</td>\n",
       "      <td>nan</td>\n",
       "      <td>nan</td>\n",
       "    </tr>\n",
       "  </tbody>\n",
       "</table>\n",
       "</div>"
      ],
      "text/plain": [
       "                   Stat    EPL  La Liga  Serie A  Bundesliga\n",
       "Month                                                       \n",
       "08/01/2012  GoalsScored  57.00       60    21.00       23.00\n",
       "09/01/2012  GoalsScored 111.00      112   133.00      135.00\n",
       "10/01/2012  GoalsScored  95.00       88    97.00       77.00\n",
       "11/01/2012  GoalsScored 121.00      116   120.00      137.00\n",
       "12/01/2012  GoalsScored 183.00      109   125.00       72.00\n",
       "01/01/2013  GoalsScored 117.00      121   104.00       51.00\n",
       "02/01/2013  GoalsScored  87.00      110   100.00      101.00\n",
       "03/01/2013  GoalsScored  91.00      101    99.00      106.00\n",
       "04/01/2013  GoalsScored 105.00      127   102.00      104.00\n",
       "05/01/2013  GoalsScored  96.00      109   102.00       92.00\n",
       "06/01/2013  GoalsScored    nan       80      nan         nan"
      ]
     },
     "execution_count": 143,
     "metadata": {},
     "output_type": "execute_result"
    }
   ],
   "source": [
    "df3 = pd.read_csv('./data/goal_stats_euro_leagues_2012-13.csv')\n",
    "df3 = df3.set_index('Month')\n",
    "df3 = df3[df3['Stat'] == 'GoalsScored']\n",
    "df3"
   ]
  },
  {
   "cell_type": "code",
   "execution_count": 144,
   "metadata": {
    "collapsed": false
   },
   "outputs": [
    {
     "data": {
      "text/html": [
       "<div>\n",
       "<table border=\"1\" class=\"dataframe\">\n",
       "  <thead>\n",
       "    <tr style=\"text-align: right;\">\n",
       "      <th></th>\n",
       "      <th>EPL</th>\n",
       "      <th>La Liga</th>\n",
       "      <th>Serie A</th>\n",
       "      <th>Bundesliga</th>\n",
       "    </tr>\n",
       "    <tr>\n",
       "      <th>Month</th>\n",
       "      <th></th>\n",
       "      <th></th>\n",
       "      <th></th>\n",
       "      <th></th>\n",
       "    </tr>\n",
       "  </thead>\n",
       "  <tbody>\n",
       "    <tr>\n",
       "      <th>08/01/2012</th>\n",
       "      <td>57.00</td>\n",
       "      <td>60</td>\n",
       "      <td>21.00</td>\n",
       "      <td>23.00</td>\n",
       "    </tr>\n",
       "    <tr>\n",
       "      <th>09/01/2012</th>\n",
       "      <td>111.00</td>\n",
       "      <td>112</td>\n",
       "      <td>133.00</td>\n",
       "      <td>135.00</td>\n",
       "    </tr>\n",
       "    <tr>\n",
       "      <th>10/01/2012</th>\n",
       "      <td>95.00</td>\n",
       "      <td>88</td>\n",
       "      <td>97.00</td>\n",
       "      <td>77.00</td>\n",
       "    </tr>\n",
       "    <tr>\n",
       "      <th>11/01/2012</th>\n",
       "      <td>121.00</td>\n",
       "      <td>116</td>\n",
       "      <td>120.00</td>\n",
       "      <td>137.00</td>\n",
       "    </tr>\n",
       "    <tr>\n",
       "      <th>12/01/2012</th>\n",
       "      <td>183.00</td>\n",
       "      <td>109</td>\n",
       "      <td>125.00</td>\n",
       "      <td>72.00</td>\n",
       "    </tr>\n",
       "    <tr>\n",
       "      <th>01/01/2013</th>\n",
       "      <td>117.00</td>\n",
       "      <td>121</td>\n",
       "      <td>104.00</td>\n",
       "      <td>51.00</td>\n",
       "    </tr>\n",
       "    <tr>\n",
       "      <th>02/01/2013</th>\n",
       "      <td>87.00</td>\n",
       "      <td>110</td>\n",
       "      <td>100.00</td>\n",
       "      <td>101.00</td>\n",
       "    </tr>\n",
       "    <tr>\n",
       "      <th>03/01/2013</th>\n",
       "      <td>91.00</td>\n",
       "      <td>101</td>\n",
       "      <td>99.00</td>\n",
       "      <td>106.00</td>\n",
       "    </tr>\n",
       "    <tr>\n",
       "      <th>04/01/2013</th>\n",
       "      <td>105.00</td>\n",
       "      <td>127</td>\n",
       "      <td>102.00</td>\n",
       "      <td>104.00</td>\n",
       "    </tr>\n",
       "    <tr>\n",
       "      <th>05/01/2013</th>\n",
       "      <td>96.00</td>\n",
       "      <td>109</td>\n",
       "      <td>102.00</td>\n",
       "      <td>92.00</td>\n",
       "    </tr>\n",
       "    <tr>\n",
       "      <th>06/01/2013</th>\n",
       "      <td>nan</td>\n",
       "      <td>80</td>\n",
       "      <td>nan</td>\n",
       "      <td>nan</td>\n",
       "    </tr>\n",
       "  </tbody>\n",
       "</table>\n",
       "</div>"
      ],
      "text/plain": [
       "              EPL  La Liga  Serie A  Bundesliga\n",
       "Month                                          \n",
       "08/01/2012  57.00       60    21.00       23.00\n",
       "09/01/2012 111.00      112   133.00      135.00\n",
       "10/01/2012  95.00       88    97.00       77.00\n",
       "11/01/2012 121.00      116   120.00      137.00\n",
       "12/01/2012 183.00      109   125.00       72.00\n",
       "01/01/2013 117.00      121   104.00       51.00\n",
       "02/01/2013  87.00      110   100.00      101.00\n",
       "03/01/2013  91.00      101    99.00      106.00\n",
       "04/01/2013 105.00      127   102.00      104.00\n",
       "05/01/2013  96.00      109   102.00       92.00\n",
       "06/01/2013    nan       80      nan         nan"
      ]
     },
     "execution_count": 144,
     "metadata": {},
     "output_type": "execute_result"
    }
   ],
   "source": [
    "df3.iloc[:, 1:] # 6월은 La liga만 경기가 열린다."
   ]
  },
  {
   "cell_type": "code",
   "execution_count": 145,
   "metadata": {
    "collapsed": false
   },
   "outputs": [
    {
     "data": {
      "text/html": [
       "<div>\n",
       "<table border=\"1\" class=\"dataframe\">\n",
       "  <thead>\n",
       "    <tr style=\"text-align: right;\">\n",
       "      <th></th>\n",
       "      <th>EPL</th>\n",
       "      <th>La Liga</th>\n",
       "      <th>Serie A</th>\n",
       "      <th>Bundesliga</th>\n",
       "    </tr>\n",
       "  </thead>\n",
       "  <tbody>\n",
       "    <tr>\n",
       "      <th>2012</th>\n",
       "      <td>113.40</td>\n",
       "      <td>97</td>\n",
       "      <td>99.20</td>\n",
       "      <td>88.80</td>\n",
       "    </tr>\n",
       "    <tr>\n",
       "      <th>2013</th>\n",
       "      <td>99.20</td>\n",
       "      <td>108</td>\n",
       "      <td>101.40</td>\n",
       "      <td>90.80</td>\n",
       "    </tr>\n",
       "  </tbody>\n",
       "</table>\n",
       "</div>"
      ],
      "text/plain": [
       "        EPL  La Liga  Serie A  Bundesliga\n",
       "2012 113.40       97    99.20       88.80\n",
       "2013  99.20      108   101.40       90.80"
      ]
     },
     "execution_count": 145,
     "metadata": {},
     "output_type": "execute_result"
    }
   ],
   "source": [
    "year_group3 = df3.groupby(lambda m : m.split('/')[2])\n",
    "year_group3.mean()"
   ]
  },
  {
   "cell_type": "code",
   "execution_count": 146,
   "metadata": {
    "collapsed": false
   },
   "outputs": [
    {
     "data": {
      "text/html": [
       "<div>\n",
       "<table border=\"1\" class=\"dataframe\">\n",
       "  <thead>\n",
       "    <tr style=\"text-align: right;\">\n",
       "      <th></th>\n",
       "      <th>Stat</th>\n",
       "      <th>EPL</th>\n",
       "      <th>La Liga</th>\n",
       "      <th>Serie A</th>\n",
       "      <th>Bundesliga</th>\n",
       "    </tr>\n",
       "  </thead>\n",
       "  <tbody>\n",
       "    <tr>\n",
       "      <th>2012</th>\n",
       "      <td>5</td>\n",
       "      <td>5</td>\n",
       "      <td>5</td>\n",
       "      <td>5</td>\n",
       "      <td>5</td>\n",
       "    </tr>\n",
       "    <tr>\n",
       "      <th>2013</th>\n",
       "      <td>6</td>\n",
       "      <td>5</td>\n",
       "      <td>6</td>\n",
       "      <td>5</td>\n",
       "      <td>5</td>\n",
       "    </tr>\n",
       "  </tbody>\n",
       "</table>\n",
       "</div>"
      ],
      "text/plain": [
       "      Stat  EPL  La Liga  Serie A  Bundesliga\n",
       "2012     5    5        5        5           5\n",
       "2013     6    5        6        5           5"
      ]
     },
     "execution_count": 146,
     "metadata": {},
     "output_type": "execute_result"
    }
   ],
   "source": [
    "year_group3.count()"
   ]
  },
  {
   "cell_type": "code",
   "execution_count": 147,
   "metadata": {
    "collapsed": true
   },
   "outputs": [],
   "source": [
    "# 각각 subframe(group)에 변형 적용\n",
    "transformed = year_group3.transform(lambda x : x.fillna(x.mean()))"
   ]
  },
  {
   "cell_type": "code",
   "execution_count": 148,
   "metadata": {
    "collapsed": false
   },
   "outputs": [
    {
     "data": {
      "text/html": [
       "<div>\n",
       "<table border=\"1\" class=\"dataframe\">\n",
       "  <thead>\n",
       "    <tr style=\"text-align: right;\">\n",
       "      <th></th>\n",
       "      <th>EPL</th>\n",
       "      <th>La Liga</th>\n",
       "      <th>Serie A</th>\n",
       "      <th>Bundesliga</th>\n",
       "    </tr>\n",
       "    <tr>\n",
       "      <th>Month</th>\n",
       "      <th></th>\n",
       "      <th></th>\n",
       "      <th></th>\n",
       "      <th></th>\n",
       "    </tr>\n",
       "  </thead>\n",
       "  <tbody>\n",
       "    <tr>\n",
       "      <th>08/01/2012</th>\n",
       "      <td>57.00</td>\n",
       "      <td>60</td>\n",
       "      <td>21.00</td>\n",
       "      <td>23.00</td>\n",
       "    </tr>\n",
       "    <tr>\n",
       "      <th>09/01/2012</th>\n",
       "      <td>111.00</td>\n",
       "      <td>112</td>\n",
       "      <td>133.00</td>\n",
       "      <td>135.00</td>\n",
       "    </tr>\n",
       "    <tr>\n",
       "      <th>10/01/2012</th>\n",
       "      <td>95.00</td>\n",
       "      <td>88</td>\n",
       "      <td>97.00</td>\n",
       "      <td>77.00</td>\n",
       "    </tr>\n",
       "    <tr>\n",
       "      <th>11/01/2012</th>\n",
       "      <td>121.00</td>\n",
       "      <td>116</td>\n",
       "      <td>120.00</td>\n",
       "      <td>137.00</td>\n",
       "    </tr>\n",
       "    <tr>\n",
       "      <th>12/01/2012</th>\n",
       "      <td>183.00</td>\n",
       "      <td>109</td>\n",
       "      <td>125.00</td>\n",
       "      <td>72.00</td>\n",
       "    </tr>\n",
       "    <tr>\n",
       "      <th>01/01/2013</th>\n",
       "      <td>117.00</td>\n",
       "      <td>121</td>\n",
       "      <td>104.00</td>\n",
       "      <td>51.00</td>\n",
       "    </tr>\n",
       "    <tr>\n",
       "      <th>02/01/2013</th>\n",
       "      <td>87.00</td>\n",
       "      <td>110</td>\n",
       "      <td>100.00</td>\n",
       "      <td>101.00</td>\n",
       "    </tr>\n",
       "    <tr>\n",
       "      <th>03/01/2013</th>\n",
       "      <td>91.00</td>\n",
       "      <td>101</td>\n",
       "      <td>99.00</td>\n",
       "      <td>106.00</td>\n",
       "    </tr>\n",
       "    <tr>\n",
       "      <th>04/01/2013</th>\n",
       "      <td>105.00</td>\n",
       "      <td>127</td>\n",
       "      <td>102.00</td>\n",
       "      <td>104.00</td>\n",
       "    </tr>\n",
       "    <tr>\n",
       "      <th>05/01/2013</th>\n",
       "      <td>96.00</td>\n",
       "      <td>109</td>\n",
       "      <td>102.00</td>\n",
       "      <td>92.00</td>\n",
       "    </tr>\n",
       "    <tr>\n",
       "      <th>06/01/2013</th>\n",
       "      <td>99.20</td>\n",
       "      <td>80</td>\n",
       "      <td>101.40</td>\n",
       "      <td>90.80</td>\n",
       "    </tr>\n",
       "  </tbody>\n",
       "</table>\n",
       "</div>"
      ],
      "text/plain": [
       "              EPL  La Liga  Serie A  Bundesliga\n",
       "Month                                          \n",
       "08/01/2012  57.00       60    21.00       23.00\n",
       "09/01/2012 111.00      112   133.00      135.00\n",
       "10/01/2012  95.00       88    97.00       77.00\n",
       "11/01/2012 121.00      116   120.00      137.00\n",
       "12/01/2012 183.00      109   125.00       72.00\n",
       "01/01/2013 117.00      121   104.00       51.00\n",
       "02/01/2013  87.00      110   100.00      101.00\n",
       "03/01/2013  91.00      101    99.00      106.00\n",
       "04/01/2013 105.00      127   102.00      104.00\n",
       "05/01/2013  96.00      109   102.00       92.00\n",
       "06/01/2013  99.20       80   101.40       90.80"
      ]
     },
     "execution_count": 148,
     "metadata": {},
     "output_type": "execute_result"
    }
   ],
   "source": [
    "transformed"
   ]
  },
  {
   "cell_type": "markdown",
   "metadata": {},
   "source": [
    "* pivot & reshaping"
   ]
  },
  {
   "cell_type": "code",
   "execution_count": 150,
   "metadata": {
    "collapsed": false
   },
   "outputs": [
    {
     "data": {
      "text/html": [
       "<div>\n",
       "<table border=\"1\" class=\"dataframe\">\n",
       "  <thead>\n",
       "    <tr style=\"text-align: right;\">\n",
       "      <th></th>\n",
       "      <th>observation</th>\n",
       "      <th>weight</th>\n",
       "      <th>group</th>\n",
       "    </tr>\n",
       "  </thead>\n",
       "  <tbody>\n",
       "    <tr>\n",
       "      <th>0</th>\n",
       "      <td>1</td>\n",
       "      <td>4.17</td>\n",
       "      <td>ctrl</td>\n",
       "    </tr>\n",
       "    <tr>\n",
       "      <th>1</th>\n",
       "      <td>2</td>\n",
       "      <td>5.58</td>\n",
       "      <td>ctrl</td>\n",
       "    </tr>\n",
       "    <tr>\n",
       "      <th>2</th>\n",
       "      <td>3</td>\n",
       "      <td>5.18</td>\n",
       "      <td>ctrl</td>\n",
       "    </tr>\n",
       "    <tr>\n",
       "      <th>3</th>\n",
       "      <td>4</td>\n",
       "      <td>6.11</td>\n",
       "      <td>ctrl</td>\n",
       "    </tr>\n",
       "    <tr>\n",
       "      <th>4</th>\n",
       "      <td>5</td>\n",
       "      <td>4.50</td>\n",
       "      <td>ctrl</td>\n",
       "    </tr>\n",
       "  </tbody>\n",
       "</table>\n",
       "</div>"
      ],
      "text/plain": [
       "   observation  weight group\n",
       "0            1    4.17  ctrl\n",
       "1            2    5.58  ctrl\n",
       "2            3    5.18  ctrl\n",
       "3            4    6.11  ctrl\n",
       "4            5    4.50  ctrl"
      ]
     },
     "execution_count": 150,
     "metadata": {},
     "output_type": "execute_result"
    }
   ],
   "source": [
    "plant_df = pd.read_csv('./data/PlantGrowth.csv')\n",
    "plant_df.head()"
   ]
  },
  {
   "cell_type": "code",
   "execution_count": 151,
   "metadata": {
    "collapsed": false
   },
   "outputs": [
    {
     "data": {
      "text/html": [
       "<div>\n",
       "<table border=\"1\" class=\"dataframe\">\n",
       "  <thead>\n",
       "    <tr style=\"text-align: right;\">\n",
       "      <th></th>\n",
       "      <th>observation</th>\n",
       "      <th>weight</th>\n",
       "      <th>group</th>\n",
       "    </tr>\n",
       "  </thead>\n",
       "  <tbody>\n",
       "    <tr>\n",
       "      <th>0</th>\n",
       "      <td>1</td>\n",
       "      <td>4.17</td>\n",
       "      <td>ctrl</td>\n",
       "    </tr>\n",
       "    <tr>\n",
       "      <th>1</th>\n",
       "      <td>2</td>\n",
       "      <td>5.58</td>\n",
       "      <td>ctrl</td>\n",
       "    </tr>\n",
       "    <tr>\n",
       "      <th>2</th>\n",
       "      <td>3</td>\n",
       "      <td>5.18</td>\n",
       "      <td>ctrl</td>\n",
       "    </tr>\n",
       "    <tr>\n",
       "      <th>3</th>\n",
       "      <td>4</td>\n",
       "      <td>6.11</td>\n",
       "      <td>ctrl</td>\n",
       "    </tr>\n",
       "    <tr>\n",
       "      <th>4</th>\n",
       "      <td>5</td>\n",
       "      <td>4.50</td>\n",
       "      <td>ctrl</td>\n",
       "    </tr>\n",
       "    <tr>\n",
       "      <th>5</th>\n",
       "      <td>6</td>\n",
       "      <td>4.61</td>\n",
       "      <td>ctrl</td>\n",
       "    </tr>\n",
       "    <tr>\n",
       "      <th>6</th>\n",
       "      <td>7</td>\n",
       "      <td>5.17</td>\n",
       "      <td>ctrl</td>\n",
       "    </tr>\n",
       "    <tr>\n",
       "      <th>7</th>\n",
       "      <td>8</td>\n",
       "      <td>4.53</td>\n",
       "      <td>ctrl</td>\n",
       "    </tr>\n",
       "    <tr>\n",
       "      <th>8</th>\n",
       "      <td>9</td>\n",
       "      <td>5.33</td>\n",
       "      <td>ctrl</td>\n",
       "    </tr>\n",
       "    <tr>\n",
       "      <th>9</th>\n",
       "      <td>10</td>\n",
       "      <td>5.14</td>\n",
       "      <td>ctrl</td>\n",
       "    </tr>\n",
       "    <tr>\n",
       "      <th>10</th>\n",
       "      <td>1</td>\n",
       "      <td>4.81</td>\n",
       "      <td>trt1</td>\n",
       "    </tr>\n",
       "    <tr>\n",
       "      <th>11</th>\n",
       "      <td>2</td>\n",
       "      <td>4.17</td>\n",
       "      <td>trt1</td>\n",
       "    </tr>\n",
       "    <tr>\n",
       "      <th>12</th>\n",
       "      <td>3</td>\n",
       "      <td>4.41</td>\n",
       "      <td>trt1</td>\n",
       "    </tr>\n",
       "    <tr>\n",
       "      <th>13</th>\n",
       "      <td>4</td>\n",
       "      <td>3.59</td>\n",
       "      <td>trt1</td>\n",
       "    </tr>\n",
       "    <tr>\n",
       "      <th>14</th>\n",
       "      <td>5</td>\n",
       "      <td>5.87</td>\n",
       "      <td>trt1</td>\n",
       "    </tr>\n",
       "    <tr>\n",
       "      <th>15</th>\n",
       "      <td>6</td>\n",
       "      <td>3.83</td>\n",
       "      <td>trt1</td>\n",
       "    </tr>\n",
       "    <tr>\n",
       "      <th>16</th>\n",
       "      <td>7</td>\n",
       "      <td>6.03</td>\n",
       "      <td>trt1</td>\n",
       "    </tr>\n",
       "    <tr>\n",
       "      <th>17</th>\n",
       "      <td>8</td>\n",
       "      <td>4.89</td>\n",
       "      <td>trt1</td>\n",
       "    </tr>\n",
       "    <tr>\n",
       "      <th>18</th>\n",
       "      <td>9</td>\n",
       "      <td>4.32</td>\n",
       "      <td>trt1</td>\n",
       "    </tr>\n",
       "    <tr>\n",
       "      <th>19</th>\n",
       "      <td>10</td>\n",
       "      <td>4.69</td>\n",
       "      <td>trt1</td>\n",
       "    </tr>\n",
       "    <tr>\n",
       "      <th>20</th>\n",
       "      <td>1</td>\n",
       "      <td>6.31</td>\n",
       "      <td>trt2</td>\n",
       "    </tr>\n",
       "    <tr>\n",
       "      <th>21</th>\n",
       "      <td>2</td>\n",
       "      <td>5.12</td>\n",
       "      <td>trt2</td>\n",
       "    </tr>\n",
       "    <tr>\n",
       "      <th>22</th>\n",
       "      <td>3</td>\n",
       "      <td>5.54</td>\n",
       "      <td>trt2</td>\n",
       "    </tr>\n",
       "    <tr>\n",
       "      <th>23</th>\n",
       "      <td>4</td>\n",
       "      <td>5.50</td>\n",
       "      <td>trt2</td>\n",
       "    </tr>\n",
       "    <tr>\n",
       "      <th>24</th>\n",
       "      <td>5</td>\n",
       "      <td>5.37</td>\n",
       "      <td>trt2</td>\n",
       "    </tr>\n",
       "    <tr>\n",
       "      <th>25</th>\n",
       "      <td>6</td>\n",
       "      <td>5.29</td>\n",
       "      <td>trt2</td>\n",
       "    </tr>\n",
       "    <tr>\n",
       "      <th>26</th>\n",
       "      <td>7</td>\n",
       "      <td>4.92</td>\n",
       "      <td>trt2</td>\n",
       "    </tr>\n",
       "    <tr>\n",
       "      <th>27</th>\n",
       "      <td>8</td>\n",
       "      <td>6.15</td>\n",
       "      <td>trt2</td>\n",
       "    </tr>\n",
       "    <tr>\n",
       "      <th>28</th>\n",
       "      <td>9</td>\n",
       "      <td>5.80</td>\n",
       "      <td>trt2</td>\n",
       "    </tr>\n",
       "    <tr>\n",
       "      <th>29</th>\n",
       "      <td>10</td>\n",
       "      <td>5.26</td>\n",
       "      <td>trt2</td>\n",
       "    </tr>\n",
       "  </tbody>\n",
       "</table>\n",
       "</div>"
      ],
      "text/plain": [
       "    observation  weight group\n",
       "0             1    4.17  ctrl\n",
       "1             2    5.58  ctrl\n",
       "2             3    5.18  ctrl\n",
       "3             4    6.11  ctrl\n",
       "4             5    4.50  ctrl\n",
       "5             6    4.61  ctrl\n",
       "6             7    5.17  ctrl\n",
       "7             8    4.53  ctrl\n",
       "8             9    5.33  ctrl\n",
       "9            10    5.14  ctrl\n",
       "10            1    4.81  trt1\n",
       "11            2    4.17  trt1\n",
       "12            3    4.41  trt1\n",
       "13            4    3.59  trt1\n",
       "14            5    5.87  trt1\n",
       "15            6    3.83  trt1\n",
       "16            7    6.03  trt1\n",
       "17            8    4.89  trt1\n",
       "18            9    4.32  trt1\n",
       "19           10    4.69  trt1\n",
       "20            1    6.31  trt2\n",
       "21            2    5.12  trt2\n",
       "22            3    5.54  trt2\n",
       "23            4    5.50  trt2\n",
       "24            5    5.37  trt2\n",
       "25            6    5.29  trt2\n",
       "26            7    4.92  trt2\n",
       "27            8    6.15  trt2\n",
       "28            9    5.80  trt2\n",
       "29           10    5.26  trt2"
      ]
     },
     "execution_count": 151,
     "metadata": {},
     "output_type": "execute_result"
    }
   ],
   "source": [
    "plant_df\n",
    "# control(ctrl)하여 실험한 값과, 두 개의 다른 조건(tr1, tr2)을 주었을 때의 실험에 대한 결과 \n",
    "# data가 stacked 됨. (말 그대로 쌓여있음)\n",
    "# 데이터 분석하기 편리하지 않음"
   ]
  },
  {
   "cell_type": "code",
   "execution_count": 153,
   "metadata": {
    "collapsed": false
   },
   "outputs": [
    {
     "data": {
      "text/html": [
       "<div>\n",
       "<table border=\"1\" class=\"dataframe\">\n",
       "  <thead>\n",
       "    <tr style=\"text-align: right;\">\n",
       "      <th></th>\n",
       "      <th>observation</th>\n",
       "      <th>weight</th>\n",
       "      <th>group</th>\n",
       "    </tr>\n",
       "  </thead>\n",
       "  <tbody>\n",
       "    <tr>\n",
       "      <th>0</th>\n",
       "      <td>1</td>\n",
       "      <td>4.17</td>\n",
       "      <td>ctrl</td>\n",
       "    </tr>\n",
       "    <tr>\n",
       "      <th>1</th>\n",
       "      <td>2</td>\n",
       "      <td>5.58</td>\n",
       "      <td>ctrl</td>\n",
       "    </tr>\n",
       "    <tr>\n",
       "      <th>2</th>\n",
       "      <td>3</td>\n",
       "      <td>5.18</td>\n",
       "      <td>ctrl</td>\n",
       "    </tr>\n",
       "    <tr>\n",
       "      <th>3</th>\n",
       "      <td>4</td>\n",
       "      <td>6.11</td>\n",
       "      <td>ctrl</td>\n",
       "    </tr>\n",
       "    <tr>\n",
       "      <th>4</th>\n",
       "      <td>5</td>\n",
       "      <td>4.50</td>\n",
       "      <td>ctrl</td>\n",
       "    </tr>\n",
       "    <tr>\n",
       "      <th>5</th>\n",
       "      <td>6</td>\n",
       "      <td>4.61</td>\n",
       "      <td>ctrl</td>\n",
       "    </tr>\n",
       "    <tr>\n",
       "      <th>6</th>\n",
       "      <td>7</td>\n",
       "      <td>5.17</td>\n",
       "      <td>ctrl</td>\n",
       "    </tr>\n",
       "    <tr>\n",
       "      <th>7</th>\n",
       "      <td>8</td>\n",
       "      <td>4.53</td>\n",
       "      <td>ctrl</td>\n",
       "    </tr>\n",
       "    <tr>\n",
       "      <th>8</th>\n",
       "      <td>9</td>\n",
       "      <td>5.33</td>\n",
       "      <td>ctrl</td>\n",
       "    </tr>\n",
       "    <tr>\n",
       "      <th>9</th>\n",
       "      <td>10</td>\n",
       "      <td>5.14</td>\n",
       "      <td>ctrl</td>\n",
       "    </tr>\n",
       "  </tbody>\n",
       "</table>\n",
       "</div>"
      ],
      "text/plain": [
       "   observation  weight group\n",
       "0            1    4.17  ctrl\n",
       "1            2    5.58  ctrl\n",
       "2            3    5.18  ctrl\n",
       "3            4    6.11  ctrl\n",
       "4            5    4.50  ctrl\n",
       "5            6    4.61  ctrl\n",
       "6            7    5.17  ctrl\n",
       "7            8    4.53  ctrl\n",
       "8            9    5.33  ctrl\n",
       "9           10    5.14  ctrl"
      ]
     },
     "execution_count": 153,
     "metadata": {},
     "output_type": "execute_result"
    }
   ],
   "source": [
    "# 아래와 같이 filtering하여 각각의 결과를 뽑을 수 있으나, pivot, unstack을 이용하여 분석하기 용이하도록 변형 가능\n",
    "plant_df[plant_df['group'] == 'ctrl']"
   ]
  },
  {
   "cell_type": "code",
   "execution_count": 154,
   "metadata": {
    "collapsed": false
   },
   "outputs": [
    {
     "data": {
      "text/html": [
       "<div>\n",
       "<table border=\"1\" class=\"dataframe\">\n",
       "  <thead>\n",
       "    <tr style=\"text-align: right;\">\n",
       "      <th>group</th>\n",
       "      <th>ctrl</th>\n",
       "      <th>trt1</th>\n",
       "      <th>trt2</th>\n",
       "    </tr>\n",
       "    <tr>\n",
       "      <th>observation</th>\n",
       "      <th></th>\n",
       "      <th></th>\n",
       "      <th></th>\n",
       "    </tr>\n",
       "  </thead>\n",
       "  <tbody>\n",
       "    <tr>\n",
       "      <th>1</th>\n",
       "      <td>4.17</td>\n",
       "      <td>4.81</td>\n",
       "      <td>6.31</td>\n",
       "    </tr>\n",
       "    <tr>\n",
       "      <th>2</th>\n",
       "      <td>5.58</td>\n",
       "      <td>4.17</td>\n",
       "      <td>5.12</td>\n",
       "    </tr>\n",
       "    <tr>\n",
       "      <th>3</th>\n",
       "      <td>5.18</td>\n",
       "      <td>4.41</td>\n",
       "      <td>5.54</td>\n",
       "    </tr>\n",
       "    <tr>\n",
       "      <th>4</th>\n",
       "      <td>6.11</td>\n",
       "      <td>3.59</td>\n",
       "      <td>5.50</td>\n",
       "    </tr>\n",
       "    <tr>\n",
       "      <th>5</th>\n",
       "      <td>4.50</td>\n",
       "      <td>5.87</td>\n",
       "      <td>5.37</td>\n",
       "    </tr>\n",
       "    <tr>\n",
       "      <th>6</th>\n",
       "      <td>4.61</td>\n",
       "      <td>3.83</td>\n",
       "      <td>5.29</td>\n",
       "    </tr>\n",
       "    <tr>\n",
       "      <th>7</th>\n",
       "      <td>5.17</td>\n",
       "      <td>6.03</td>\n",
       "      <td>4.92</td>\n",
       "    </tr>\n",
       "    <tr>\n",
       "      <th>8</th>\n",
       "      <td>4.53</td>\n",
       "      <td>4.89</td>\n",
       "      <td>6.15</td>\n",
       "    </tr>\n",
       "    <tr>\n",
       "      <th>9</th>\n",
       "      <td>5.33</td>\n",
       "      <td>4.32</td>\n",
       "      <td>5.80</td>\n",
       "    </tr>\n",
       "    <tr>\n",
       "      <th>10</th>\n",
       "      <td>5.14</td>\n",
       "      <td>4.69</td>\n",
       "      <td>5.26</td>\n",
       "    </tr>\n",
       "  </tbody>\n",
       "</table>\n",
       "</div>"
      ],
      "text/plain": [
       "group        ctrl  trt1  trt2\n",
       "observation                  \n",
       "1            4.17  4.81  6.31\n",
       "2            5.58  4.17  5.12\n",
       "3            5.18  4.41  5.54\n",
       "4            6.11  3.59  5.50\n",
       "5            4.50  5.87  5.37\n",
       "6            4.61  3.83  5.29\n",
       "7            5.17  6.03  4.92\n",
       "8            4.53  4.89  6.15\n",
       "9            5.33  4.32  5.80\n",
       "10           5.14  4.69  5.26"
      ]
     },
     "execution_count": 154,
     "metadata": {},
     "output_type": "execute_result"
    }
   ],
   "source": [
    "# dataframe reshaping\n",
    "plant_df.pivot(index = 'observation', columns = 'group', values = 'weight')"
   ]
  },
  {
   "cell_type": "code",
   "execution_count": 155,
   "metadata": {
    "collapsed": false
   },
   "outputs": [
    {
     "data": {
      "text/html": [
       "<div>\n",
       "<table border=\"1\" class=\"dataframe\">\n",
       "  <thead>\n",
       "    <tr style=\"text-align: right;\">\n",
       "      <th>group</th>\n",
       "      <th>ctrl</th>\n",
       "      <th>trt1</th>\n",
       "      <th>trt2</th>\n",
       "    </tr>\n",
       "    <tr>\n",
       "      <th>observation</th>\n",
       "      <th></th>\n",
       "      <th></th>\n",
       "      <th></th>\n",
       "    </tr>\n",
       "  </thead>\n",
       "  <tbody>\n",
       "    <tr>\n",
       "      <th>1</th>\n",
       "      <td>4.17</td>\n",
       "      <td>4.81</td>\n",
       "      <td>6.31</td>\n",
       "    </tr>\n",
       "    <tr>\n",
       "      <th>2</th>\n",
       "      <td>5.58</td>\n",
       "      <td>4.17</td>\n",
       "      <td>5.12</td>\n",
       "    </tr>\n",
       "    <tr>\n",
       "      <th>3</th>\n",
       "      <td>5.18</td>\n",
       "      <td>4.41</td>\n",
       "      <td>5.54</td>\n",
       "    </tr>\n",
       "    <tr>\n",
       "      <th>4</th>\n",
       "      <td>6.11</td>\n",
       "      <td>3.59</td>\n",
       "      <td>5.50</td>\n",
       "    </tr>\n",
       "    <tr>\n",
       "      <th>5</th>\n",
       "      <td>4.50</td>\n",
       "      <td>5.87</td>\n",
       "      <td>5.37</td>\n",
       "    </tr>\n",
       "    <tr>\n",
       "      <th>6</th>\n",
       "      <td>4.61</td>\n",
       "      <td>3.83</td>\n",
       "      <td>5.29</td>\n",
       "    </tr>\n",
       "    <tr>\n",
       "      <th>7</th>\n",
       "      <td>5.17</td>\n",
       "      <td>6.03</td>\n",
       "      <td>4.92</td>\n",
       "    </tr>\n",
       "    <tr>\n",
       "      <th>8</th>\n",
       "      <td>4.53</td>\n",
       "      <td>4.89</td>\n",
       "      <td>6.15</td>\n",
       "    </tr>\n",
       "    <tr>\n",
       "      <th>9</th>\n",
       "      <td>5.33</td>\n",
       "      <td>4.32</td>\n",
       "      <td>5.80</td>\n",
       "    </tr>\n",
       "    <tr>\n",
       "      <th>10</th>\n",
       "      <td>5.14</td>\n",
       "      <td>4.69</td>\n",
       "      <td>5.26</td>\n",
       "    </tr>\n",
       "  </tbody>\n",
       "</table>\n",
       "</div>"
      ],
      "text/plain": [
       "group        ctrl  trt1  trt2\n",
       "observation                  \n",
       "1            4.17  4.81  6.31\n",
       "2            5.58  4.17  5.12\n",
       "3            5.18  4.41  5.54\n",
       "4            6.11  3.59  5.50\n",
       "5            4.50  5.87  5.37\n",
       "6            4.61  3.83  5.29\n",
       "7            5.17  6.03  4.92\n",
       "8            4.53  4.89  6.15\n",
       "9            5.33  4.32  5.80\n",
       "10           5.14  4.69  5.26"
      ]
     },
     "execution_count": 155,
     "metadata": {},
     "output_type": "execute_result"
    }
   ],
   "source": [
    "# pivot_table 으로도 동일 결과 가능 => pandas의 멤버함수라 부르는 방법이 다르다.\n",
    "pd.pivot_table(plant_df, values = 'weight', index = 'observation', columns='group')"
   ]
  },
  {
   "cell_type": "code",
   "execution_count": 156,
   "metadata": {
    "collapsed": false
   },
   "outputs": [
    {
     "data": {
      "text/plain": [
       "group\n",
       "ctrl   5.03\n",
       "trt1   4.66\n",
       "trt2   5.53\n",
       "Name: weight, dtype: float64"
      ]
     },
     "execution_count": 156,
     "metadata": {},
     "output_type": "execute_result"
    }
   ],
   "source": [
    "# pivot_table의 경우 aggregation 수행 가능\n",
    "pd.pivot_table(plant_df, values = 'weight',\n",
    "               columns=['group'], aggfunc=np.mean) #기준 : column별"
   ]
  },
  {
   "cell_type": "markdown",
   "metadata": {},
   "source": [
    "* stack & unstack\n",
    " - stack : column -> row\n",
    " - unstack : row index -> column"
   ]
  },
  {
   "cell_type": "code",
   "execution_count": 157,
   "metadata": {
    "collapsed": false
   },
   "outputs": [
    {
     "data": {
      "text/html": [
       "<div>\n",
       "<table border=\"1\" class=\"dataframe\">\n",
       "  <thead>\n",
       "    <tr style=\"text-align: right;\">\n",
       "      <th></th>\n",
       "      <th>observation</th>\n",
       "      <th>weight</th>\n",
       "      <th>group</th>\n",
       "    </tr>\n",
       "  </thead>\n",
       "  <tbody>\n",
       "    <tr>\n",
       "      <th>0</th>\n",
       "      <td>1</td>\n",
       "      <td>4.17</td>\n",
       "      <td>ctrl</td>\n",
       "    </tr>\n",
       "    <tr>\n",
       "      <th>1</th>\n",
       "      <td>2</td>\n",
       "      <td>5.58</td>\n",
       "      <td>ctrl</td>\n",
       "    </tr>\n",
       "    <tr>\n",
       "      <th>2</th>\n",
       "      <td>3</td>\n",
       "      <td>5.18</td>\n",
       "      <td>ctrl</td>\n",
       "    </tr>\n",
       "    <tr>\n",
       "      <th>3</th>\n",
       "      <td>4</td>\n",
       "      <td>6.11</td>\n",
       "      <td>ctrl</td>\n",
       "    </tr>\n",
       "    <tr>\n",
       "      <th>4</th>\n",
       "      <td>5</td>\n",
       "      <td>4.50</td>\n",
       "      <td>ctrl</td>\n",
       "    </tr>\n",
       "    <tr>\n",
       "      <th>5</th>\n",
       "      <td>6</td>\n",
       "      <td>4.61</td>\n",
       "      <td>ctrl</td>\n",
       "    </tr>\n",
       "    <tr>\n",
       "      <th>6</th>\n",
       "      <td>7</td>\n",
       "      <td>5.17</td>\n",
       "      <td>ctrl</td>\n",
       "    </tr>\n",
       "    <tr>\n",
       "      <th>7</th>\n",
       "      <td>8</td>\n",
       "      <td>4.53</td>\n",
       "      <td>ctrl</td>\n",
       "    </tr>\n",
       "    <tr>\n",
       "      <th>8</th>\n",
       "      <td>9</td>\n",
       "      <td>5.33</td>\n",
       "      <td>ctrl</td>\n",
       "    </tr>\n",
       "    <tr>\n",
       "      <th>9</th>\n",
       "      <td>10</td>\n",
       "      <td>5.14</td>\n",
       "      <td>ctrl</td>\n",
       "    </tr>\n",
       "    <tr>\n",
       "      <th>10</th>\n",
       "      <td>1</td>\n",
       "      <td>4.81</td>\n",
       "      <td>trt1</td>\n",
       "    </tr>\n",
       "    <tr>\n",
       "      <th>11</th>\n",
       "      <td>2</td>\n",
       "      <td>4.17</td>\n",
       "      <td>trt1</td>\n",
       "    </tr>\n",
       "    <tr>\n",
       "      <th>12</th>\n",
       "      <td>3</td>\n",
       "      <td>4.41</td>\n",
       "      <td>trt1</td>\n",
       "    </tr>\n",
       "    <tr>\n",
       "      <th>13</th>\n",
       "      <td>4</td>\n",
       "      <td>3.59</td>\n",
       "      <td>trt1</td>\n",
       "    </tr>\n",
       "    <tr>\n",
       "      <th>14</th>\n",
       "      <td>5</td>\n",
       "      <td>5.87</td>\n",
       "      <td>trt1</td>\n",
       "    </tr>\n",
       "    <tr>\n",
       "      <th>15</th>\n",
       "      <td>6</td>\n",
       "      <td>3.83</td>\n",
       "      <td>trt1</td>\n",
       "    </tr>\n",
       "    <tr>\n",
       "      <th>16</th>\n",
       "      <td>7</td>\n",
       "      <td>6.03</td>\n",
       "      <td>trt1</td>\n",
       "    </tr>\n",
       "    <tr>\n",
       "      <th>17</th>\n",
       "      <td>8</td>\n",
       "      <td>4.89</td>\n",
       "      <td>trt1</td>\n",
       "    </tr>\n",
       "    <tr>\n",
       "      <th>18</th>\n",
       "      <td>9</td>\n",
       "      <td>4.32</td>\n",
       "      <td>trt1</td>\n",
       "    </tr>\n",
       "    <tr>\n",
       "      <th>19</th>\n",
       "      <td>10</td>\n",
       "      <td>4.69</td>\n",
       "      <td>trt1</td>\n",
       "    </tr>\n",
       "    <tr>\n",
       "      <th>20</th>\n",
       "      <td>1</td>\n",
       "      <td>6.31</td>\n",
       "      <td>trt2</td>\n",
       "    </tr>\n",
       "    <tr>\n",
       "      <th>21</th>\n",
       "      <td>2</td>\n",
       "      <td>5.12</td>\n",
       "      <td>trt2</td>\n",
       "    </tr>\n",
       "    <tr>\n",
       "      <th>22</th>\n",
       "      <td>3</td>\n",
       "      <td>5.54</td>\n",
       "      <td>trt2</td>\n",
       "    </tr>\n",
       "    <tr>\n",
       "      <th>23</th>\n",
       "      <td>4</td>\n",
       "      <td>5.50</td>\n",
       "      <td>trt2</td>\n",
       "    </tr>\n",
       "    <tr>\n",
       "      <th>24</th>\n",
       "      <td>5</td>\n",
       "      <td>5.37</td>\n",
       "      <td>trt2</td>\n",
       "    </tr>\n",
       "    <tr>\n",
       "      <th>25</th>\n",
       "      <td>6</td>\n",
       "      <td>5.29</td>\n",
       "      <td>trt2</td>\n",
       "    </tr>\n",
       "    <tr>\n",
       "      <th>26</th>\n",
       "      <td>7</td>\n",
       "      <td>4.92</td>\n",
       "      <td>trt2</td>\n",
       "    </tr>\n",
       "    <tr>\n",
       "      <th>27</th>\n",
       "      <td>8</td>\n",
       "      <td>6.15</td>\n",
       "      <td>trt2</td>\n",
       "    </tr>\n",
       "    <tr>\n",
       "      <th>28</th>\n",
       "      <td>9</td>\n",
       "      <td>5.80</td>\n",
       "      <td>trt2</td>\n",
       "    </tr>\n",
       "    <tr>\n",
       "      <th>29</th>\n",
       "      <td>10</td>\n",
       "      <td>5.26</td>\n",
       "      <td>trt2</td>\n",
       "    </tr>\n",
       "  </tbody>\n",
       "</table>\n",
       "</div>"
      ],
      "text/plain": [
       "    observation  weight group\n",
       "0             1    4.17  ctrl\n",
       "1             2    5.58  ctrl\n",
       "2             3    5.18  ctrl\n",
       "3             4    6.11  ctrl\n",
       "4             5    4.50  ctrl\n",
       "5             6    4.61  ctrl\n",
       "6             7    5.17  ctrl\n",
       "7             8    4.53  ctrl\n",
       "8             9    5.33  ctrl\n",
       "9            10    5.14  ctrl\n",
       "10            1    4.81  trt1\n",
       "11            2    4.17  trt1\n",
       "12            3    4.41  trt1\n",
       "13            4    3.59  trt1\n",
       "14            5    5.87  trt1\n",
       "15            6    3.83  trt1\n",
       "16            7    6.03  trt1\n",
       "17            8    4.89  trt1\n",
       "18            9    4.32  trt1\n",
       "19           10    4.69  trt1\n",
       "20            1    6.31  trt2\n",
       "21            2    5.12  trt2\n",
       "22            3    5.54  trt2\n",
       "23            4    5.50  trt2\n",
       "24            5    5.37  trt2\n",
       "25            6    5.29  trt2\n",
       "26            7    4.92  trt2\n",
       "27            8    6.15  trt2\n",
       "28            9    5.80  trt2\n",
       "29           10    5.26  trt2"
      ]
     },
     "execution_count": 157,
     "metadata": {},
     "output_type": "execute_result"
    }
   ],
   "source": [
    "plant_df"
   ]
  },
  {
   "cell_type": "code",
   "execution_count": 159,
   "metadata": {
    "collapsed": false
   },
   "outputs": [
    {
     "data": {
      "text/html": [
       "<div>\n",
       "<table border=\"1\" class=\"dataframe\">\n",
       "  <thead>\n",
       "    <tr style=\"text-align: right;\">\n",
       "      <th></th>\n",
       "      <th></th>\n",
       "      <th>weight</th>\n",
       "    </tr>\n",
       "    <tr>\n",
       "      <th>group</th>\n",
       "      <th>observation</th>\n",
       "      <th></th>\n",
       "    </tr>\n",
       "  </thead>\n",
       "  <tbody>\n",
       "    <tr>\n",
       "      <th rowspan=\"10\" valign=\"top\">ctrl</th>\n",
       "      <th>1</th>\n",
       "      <td>4.17</td>\n",
       "    </tr>\n",
       "    <tr>\n",
       "      <th>2</th>\n",
       "      <td>5.58</td>\n",
       "    </tr>\n",
       "    <tr>\n",
       "      <th>3</th>\n",
       "      <td>5.18</td>\n",
       "    </tr>\n",
       "    <tr>\n",
       "      <th>4</th>\n",
       "      <td>6.11</td>\n",
       "    </tr>\n",
       "    <tr>\n",
       "      <th>5</th>\n",
       "      <td>4.50</td>\n",
       "    </tr>\n",
       "    <tr>\n",
       "      <th>6</th>\n",
       "      <td>4.61</td>\n",
       "    </tr>\n",
       "    <tr>\n",
       "      <th>7</th>\n",
       "      <td>5.17</td>\n",
       "    </tr>\n",
       "    <tr>\n",
       "      <th>8</th>\n",
       "      <td>4.53</td>\n",
       "    </tr>\n",
       "    <tr>\n",
       "      <th>9</th>\n",
       "      <td>5.33</td>\n",
       "    </tr>\n",
       "    <tr>\n",
       "      <th>10</th>\n",
       "      <td>5.14</td>\n",
       "    </tr>\n",
       "    <tr>\n",
       "      <th rowspan=\"10\" valign=\"top\">trt1</th>\n",
       "      <th>1</th>\n",
       "      <td>4.81</td>\n",
       "    </tr>\n",
       "    <tr>\n",
       "      <th>2</th>\n",
       "      <td>4.17</td>\n",
       "    </tr>\n",
       "    <tr>\n",
       "      <th>3</th>\n",
       "      <td>4.41</td>\n",
       "    </tr>\n",
       "    <tr>\n",
       "      <th>4</th>\n",
       "      <td>3.59</td>\n",
       "    </tr>\n",
       "    <tr>\n",
       "      <th>5</th>\n",
       "      <td>5.87</td>\n",
       "    </tr>\n",
       "    <tr>\n",
       "      <th>6</th>\n",
       "      <td>3.83</td>\n",
       "    </tr>\n",
       "    <tr>\n",
       "      <th>7</th>\n",
       "      <td>6.03</td>\n",
       "    </tr>\n",
       "    <tr>\n",
       "      <th>8</th>\n",
       "      <td>4.89</td>\n",
       "    </tr>\n",
       "    <tr>\n",
       "      <th>9</th>\n",
       "      <td>4.32</td>\n",
       "    </tr>\n",
       "    <tr>\n",
       "      <th>10</th>\n",
       "      <td>4.69</td>\n",
       "    </tr>\n",
       "    <tr>\n",
       "      <th rowspan=\"10\" valign=\"top\">trt2</th>\n",
       "      <th>1</th>\n",
       "      <td>6.31</td>\n",
       "    </tr>\n",
       "    <tr>\n",
       "      <th>2</th>\n",
       "      <td>5.12</td>\n",
       "    </tr>\n",
       "    <tr>\n",
       "      <th>3</th>\n",
       "      <td>5.54</td>\n",
       "    </tr>\n",
       "    <tr>\n",
       "      <th>4</th>\n",
       "      <td>5.50</td>\n",
       "    </tr>\n",
       "    <tr>\n",
       "      <th>5</th>\n",
       "      <td>5.37</td>\n",
       "    </tr>\n",
       "    <tr>\n",
       "      <th>6</th>\n",
       "      <td>5.29</td>\n",
       "    </tr>\n",
       "    <tr>\n",
       "      <th>7</th>\n",
       "      <td>4.92</td>\n",
       "    </tr>\n",
       "    <tr>\n",
       "      <th>8</th>\n",
       "      <td>6.15</td>\n",
       "    </tr>\n",
       "    <tr>\n",
       "      <th>9</th>\n",
       "      <td>5.80</td>\n",
       "    </tr>\n",
       "    <tr>\n",
       "      <th>10</th>\n",
       "      <td>5.26</td>\n",
       "    </tr>\n",
       "  </tbody>\n",
       "</table>\n",
       "</div>"
      ],
      "text/plain": [
       "                   weight\n",
       "group observation        \n",
       "ctrl  1              4.17\n",
       "      2              5.58\n",
       "      3              5.18\n",
       "      4              6.11\n",
       "      5              4.50\n",
       "      6              4.61\n",
       "      7              5.17\n",
       "      8              4.53\n",
       "      9              5.33\n",
       "      10             5.14\n",
       "trt1  1              4.81\n",
       "      2              4.17\n",
       "      3              4.41\n",
       "      4              3.59\n",
       "      5              5.87\n",
       "      6              3.83\n",
       "      7              6.03\n",
       "      8              4.89\n",
       "      9              4.32\n",
       "      10             4.69\n",
       "trt2  1              6.31\n",
       "      2              5.12\n",
       "      3              5.54\n",
       "      4              5.50\n",
       "      5              5.37\n",
       "      6              5.29\n",
       "      7              4.92\n",
       "      8              6.15\n",
       "      9              5.80\n",
       "      10             5.26"
      ]
     },
     "execution_count": 159,
     "metadata": {},
     "output_type": "execute_result"
    }
   ],
   "source": [
    "stacked_df = plant_df.set_index(['group', 'observation'])\n",
    "stacked_df"
   ]
  },
  {
   "cell_type": "code",
   "execution_count": 160,
   "metadata": {
    "collapsed": false
   },
   "outputs": [
    {
     "data": {
      "text/html": [
       "<div>\n",
       "<table border=\"1\" class=\"dataframe\">\n",
       "  <thead>\n",
       "    <tr>\n",
       "      <th></th>\n",
       "      <th colspan=\"3\" halign=\"left\">weight</th>\n",
       "    </tr>\n",
       "    <tr>\n",
       "      <th>group</th>\n",
       "      <th>ctrl</th>\n",
       "      <th>trt1</th>\n",
       "      <th>trt2</th>\n",
       "    </tr>\n",
       "    <tr>\n",
       "      <th>observation</th>\n",
       "      <th></th>\n",
       "      <th></th>\n",
       "      <th></th>\n",
       "    </tr>\n",
       "  </thead>\n",
       "  <tbody>\n",
       "    <tr>\n",
       "      <th>1</th>\n",
       "      <td>4.17</td>\n",
       "      <td>4.81</td>\n",
       "      <td>6.31</td>\n",
       "    </tr>\n",
       "    <tr>\n",
       "      <th>2</th>\n",
       "      <td>5.58</td>\n",
       "      <td>4.17</td>\n",
       "      <td>5.12</td>\n",
       "    </tr>\n",
       "    <tr>\n",
       "      <th>3</th>\n",
       "      <td>5.18</td>\n",
       "      <td>4.41</td>\n",
       "      <td>5.54</td>\n",
       "    </tr>\n",
       "    <tr>\n",
       "      <th>4</th>\n",
       "      <td>6.11</td>\n",
       "      <td>3.59</td>\n",
       "      <td>5.50</td>\n",
       "    </tr>\n",
       "    <tr>\n",
       "      <th>5</th>\n",
       "      <td>4.50</td>\n",
       "      <td>5.87</td>\n",
       "      <td>5.37</td>\n",
       "    </tr>\n",
       "    <tr>\n",
       "      <th>6</th>\n",
       "      <td>4.61</td>\n",
       "      <td>3.83</td>\n",
       "      <td>5.29</td>\n",
       "    </tr>\n",
       "    <tr>\n",
       "      <th>7</th>\n",
       "      <td>5.17</td>\n",
       "      <td>6.03</td>\n",
       "      <td>4.92</td>\n",
       "    </tr>\n",
       "    <tr>\n",
       "      <th>8</th>\n",
       "      <td>4.53</td>\n",
       "      <td>4.89</td>\n",
       "      <td>6.15</td>\n",
       "    </tr>\n",
       "    <tr>\n",
       "      <th>9</th>\n",
       "      <td>5.33</td>\n",
       "      <td>4.32</td>\n",
       "      <td>5.80</td>\n",
       "    </tr>\n",
       "    <tr>\n",
       "      <th>10</th>\n",
       "      <td>5.14</td>\n",
       "      <td>4.69</td>\n",
       "      <td>5.26</td>\n",
       "    </tr>\n",
       "  </tbody>\n",
       "</table>\n",
       "</div>"
      ],
      "text/plain": [
       "            weight          \n",
       "group         ctrl trt1 trt2\n",
       "observation                 \n",
       "1             4.17 4.81 6.31\n",
       "2             5.58 4.17 5.12\n",
       "3             5.18 4.41 5.54\n",
       "4             6.11 3.59 5.50\n",
       "5             4.50 5.87 5.37\n",
       "6             4.61 3.83 5.29\n",
       "7             5.17 6.03 4.92\n",
       "8             4.53 4.89 6.15\n",
       "9             5.33 4.32 5.80\n",
       "10            5.14 4.69 5.26"
      ]
     },
     "execution_count": 160,
     "metadata": {},
     "output_type": "execute_result"
    }
   ],
   "source": [
    "stacked_df.unstack(level = 0)"
   ]
  },
  {
   "cell_type": "code",
   "execution_count": 161,
   "metadata": {
    "collapsed": false
   },
   "outputs": [
    {
     "data": {
      "text/html": [
       "<div>\n",
       "<table border=\"1\" class=\"dataframe\">\n",
       "  <thead>\n",
       "    <tr>\n",
       "      <th></th>\n",
       "      <th colspan=\"3\" halign=\"left\">weight</th>\n",
       "    </tr>\n",
       "    <tr>\n",
       "      <th>group</th>\n",
       "      <th>ctrl</th>\n",
       "      <th>trt1</th>\n",
       "      <th>trt2</th>\n",
       "    </tr>\n",
       "    <tr>\n",
       "      <th>observation</th>\n",
       "      <th></th>\n",
       "      <th></th>\n",
       "      <th></th>\n",
       "    </tr>\n",
       "  </thead>\n",
       "  <tbody>\n",
       "    <tr>\n",
       "      <th>1</th>\n",
       "      <td>4.17</td>\n",
       "      <td>4.81</td>\n",
       "      <td>6.31</td>\n",
       "    </tr>\n",
       "    <tr>\n",
       "      <th>2</th>\n",
       "      <td>5.58</td>\n",
       "      <td>4.17</td>\n",
       "      <td>5.12</td>\n",
       "    </tr>\n",
       "    <tr>\n",
       "      <th>3</th>\n",
       "      <td>5.18</td>\n",
       "      <td>4.41</td>\n",
       "      <td>5.54</td>\n",
       "    </tr>\n",
       "    <tr>\n",
       "      <th>4</th>\n",
       "      <td>6.11</td>\n",
       "      <td>3.59</td>\n",
       "      <td>5.50</td>\n",
       "    </tr>\n",
       "    <tr>\n",
       "      <th>5</th>\n",
       "      <td>4.50</td>\n",
       "      <td>5.87</td>\n",
       "      <td>5.37</td>\n",
       "    </tr>\n",
       "    <tr>\n",
       "      <th>6</th>\n",
       "      <td>4.61</td>\n",
       "      <td>3.83</td>\n",
       "      <td>5.29</td>\n",
       "    </tr>\n",
       "    <tr>\n",
       "      <th>7</th>\n",
       "      <td>5.17</td>\n",
       "      <td>6.03</td>\n",
       "      <td>4.92</td>\n",
       "    </tr>\n",
       "    <tr>\n",
       "      <th>8</th>\n",
       "      <td>4.53</td>\n",
       "      <td>4.89</td>\n",
       "      <td>6.15</td>\n",
       "    </tr>\n",
       "    <tr>\n",
       "      <th>9</th>\n",
       "      <td>5.33</td>\n",
       "      <td>4.32</td>\n",
       "      <td>5.80</td>\n",
       "    </tr>\n",
       "    <tr>\n",
       "      <th>10</th>\n",
       "      <td>5.14</td>\n",
       "      <td>4.69</td>\n",
       "      <td>5.26</td>\n",
       "    </tr>\n",
       "  </tbody>\n",
       "</table>\n",
       "</div>"
      ],
      "text/plain": [
       "            weight          \n",
       "group         ctrl trt1 trt2\n",
       "observation                 \n",
       "1             4.17 4.81 6.31\n",
       "2             5.58 4.17 5.12\n",
       "3             5.18 4.41 5.54\n",
       "4             6.11 3.59 5.50\n",
       "5             4.50 5.87 5.37\n",
       "6             4.61 3.83 5.29\n",
       "7             5.17 6.03 4.92\n",
       "8             4.53 4.89 6.15\n",
       "9             5.33 4.32 5.80\n",
       "10            5.14 4.69 5.26"
      ]
     },
     "execution_count": 161,
     "metadata": {},
     "output_type": "execute_result"
    }
   ],
   "source": [
    "stacked_df.unstack(level = 'group')"
   ]
  },
  {
   "cell_type": "markdown",
   "metadata": {},
   "source": [
    "* index 살펴보기"
   ]
  },
  {
   "cell_type": "code",
   "execution_count": 162,
   "metadata": {
    "collapsed": false
   },
   "outputs": [
    {
     "data": {
      "text/plain": [
       "RangeIndex(start=0, stop=30, step=1)"
      ]
     },
     "execution_count": 162,
     "metadata": {},
     "output_type": "execute_result"
    }
   ],
   "source": [
    "plant_df.index"
   ]
  },
  {
   "cell_type": "code",
   "execution_count": 163,
   "metadata": {
    "collapsed": false
   },
   "outputs": [
    {
     "data": {
      "text/plain": [
       "MultiIndex(levels=[[u'ctrl', u'trt1', u'trt2'], [1, 2, 3, 4, 5, 6, 7, 8, 9, 10]],\n",
       "           labels=[[0, 0, 0, 0, 0, 0, 0, 0, 0, 0, 1, 1, 1, 1, 1, 1, 1, 1, 1, 1, 2, 2, 2, 2, 2, 2, 2, 2, 2, 2], [0, 1, 2, 3, 4, 5, 6, 7, 8, 9, 0, 1, 2, 3, 4, 5, 6, 7, 8, 9, 0, 1, 2, 3, 4, 5, 6, 7, 8, 9]],\n",
       "           names=[u'group', u'observation'])"
      ]
     },
     "execution_count": 163,
     "metadata": {},
     "output_type": "execute_result"
    }
   ],
   "source": [
    "stacked_df.index"
   ]
  },
  {
   "cell_type": "code",
   "execution_count": 164,
   "metadata": {
    "collapsed": false
   },
   "outputs": [
    {
     "data": {
      "text/plain": [
       "Index([u'weight'], dtype='object')"
      ]
     },
     "execution_count": 164,
     "metadata": {},
     "output_type": "execute_result"
    }
   ],
   "source": [
    "stacked_df.columns"
   ]
  },
  {
   "cell_type": "code",
   "execution_count": 165,
   "metadata": {
    "collapsed": false
   },
   "outputs": [
    {
     "data": {
      "text/plain": [
       "Int64Index([1, 2, 3, 4, 5, 6, 7, 8, 9, 10], dtype='int64', name=u'observation')"
      ]
     },
     "execution_count": 165,
     "metadata": {},
     "output_type": "execute_result"
    }
   ],
   "source": [
    "stacked_df.unstack(level = 'group').index"
   ]
  },
  {
   "cell_type": "code",
   "execution_count": 166,
   "metadata": {
    "collapsed": false
   },
   "outputs": [
    {
     "data": {
      "text/plain": [
       "MultiIndex(levels=[[u'weight'], [u'ctrl', u'trt1', u'trt2']],\n",
       "           labels=[[0, 0, 0], [0, 1, 2]],\n",
       "           names=[None, u'group'])"
      ]
     },
     "execution_count": 166,
     "metadata": {},
     "output_type": "execute_result"
    }
   ],
   "source": [
    "stacked_df.unstack(level = 'group').columns"
   ]
  },
  {
   "cell_type": "code",
   "execution_count": 169,
   "metadata": {
    "collapsed": false
   },
   "outputs": [
    {
     "data": {
      "text/html": [
       "<div>\n",
       "<table border=\"1\" class=\"dataframe\">\n",
       "  <thead>\n",
       "    <tr>\n",
       "      <th></th>\n",
       "      <th colspan=\"3\" halign=\"left\">weight</th>\n",
       "    </tr>\n",
       "    <tr>\n",
       "      <th>group</th>\n",
       "      <th>ctrl</th>\n",
       "      <th>trt1</th>\n",
       "      <th>trt2</th>\n",
       "    </tr>\n",
       "    <tr>\n",
       "      <th>observation</th>\n",
       "      <th></th>\n",
       "      <th></th>\n",
       "      <th></th>\n",
       "    </tr>\n",
       "  </thead>\n",
       "  <tbody>\n",
       "    <tr>\n",
       "      <th>1</th>\n",
       "      <td>4.17</td>\n",
       "      <td>4.81</td>\n",
       "      <td>6.31</td>\n",
       "    </tr>\n",
       "    <tr>\n",
       "      <th>2</th>\n",
       "      <td>5.58</td>\n",
       "      <td>4.17</td>\n",
       "      <td>5.12</td>\n",
       "    </tr>\n",
       "    <tr>\n",
       "      <th>3</th>\n",
       "      <td>5.18</td>\n",
       "      <td>4.41</td>\n",
       "      <td>5.54</td>\n",
       "    </tr>\n",
       "    <tr>\n",
       "      <th>4</th>\n",
       "      <td>6.11</td>\n",
       "      <td>3.59</td>\n",
       "      <td>5.50</td>\n",
       "    </tr>\n",
       "    <tr>\n",
       "      <th>5</th>\n",
       "      <td>4.50</td>\n",
       "      <td>5.87</td>\n",
       "      <td>5.37</td>\n",
       "    </tr>\n",
       "    <tr>\n",
       "      <th>6</th>\n",
       "      <td>4.61</td>\n",
       "      <td>3.83</td>\n",
       "      <td>5.29</td>\n",
       "    </tr>\n",
       "    <tr>\n",
       "      <th>7</th>\n",
       "      <td>5.17</td>\n",
       "      <td>6.03</td>\n",
       "      <td>4.92</td>\n",
       "    </tr>\n",
       "    <tr>\n",
       "      <th>8</th>\n",
       "      <td>4.53</td>\n",
       "      <td>4.89</td>\n",
       "      <td>6.15</td>\n",
       "    </tr>\n",
       "    <tr>\n",
       "      <th>9</th>\n",
       "      <td>5.33</td>\n",
       "      <td>4.32</td>\n",
       "      <td>5.80</td>\n",
       "    </tr>\n",
       "    <tr>\n",
       "      <th>10</th>\n",
       "      <td>5.14</td>\n",
       "      <td>4.69</td>\n",
       "      <td>5.26</td>\n",
       "    </tr>\n",
       "  </tbody>\n",
       "</table>\n",
       "</div>"
      ],
      "text/plain": [
       "            weight          \n",
       "group         ctrl trt1 trt2\n",
       "observation                 \n",
       "1             4.17 4.81 6.31\n",
       "2             5.58 4.17 5.12\n",
       "3             5.18 4.41 5.54\n",
       "4             6.11 3.59 5.50\n",
       "5             4.50 5.87 5.37\n",
       "6             4.61 3.83 5.29\n",
       "7             5.17 6.03 4.92\n",
       "8             4.53 4.89 6.15\n",
       "9             5.33 4.32 5.80\n",
       "10            5.14 4.69 5.26"
      ]
     },
     "execution_count": 169,
     "metadata": {},
     "output_type": "execute_result"
    }
   ],
   "source": [
    "stacked_df.unstack(level = 'group')"
   ]
  },
  {
   "cell_type": "code",
   "execution_count": 168,
   "metadata": {
    "collapsed": false
   },
   "outputs": [
    {
     "data": {
      "text/html": [
       "<div>\n",
       "<table border=\"1\" class=\"dataframe\">\n",
       "  <thead>\n",
       "    <tr style=\"text-align: right;\">\n",
       "      <th></th>\n",
       "      <th></th>\n",
       "      <th>weight</th>\n",
       "    </tr>\n",
       "    <tr>\n",
       "      <th>observation</th>\n",
       "      <th>group</th>\n",
       "      <th></th>\n",
       "    </tr>\n",
       "  </thead>\n",
       "  <tbody>\n",
       "    <tr>\n",
       "      <th rowspan=\"3\" valign=\"top\">1</th>\n",
       "      <th>ctrl</th>\n",
       "      <td>4.17</td>\n",
       "    </tr>\n",
       "    <tr>\n",
       "      <th>trt1</th>\n",
       "      <td>4.81</td>\n",
       "    </tr>\n",
       "    <tr>\n",
       "      <th>trt2</th>\n",
       "      <td>6.31</td>\n",
       "    </tr>\n",
       "    <tr>\n",
       "      <th rowspan=\"3\" valign=\"top\">2</th>\n",
       "      <th>ctrl</th>\n",
       "      <td>5.58</td>\n",
       "    </tr>\n",
       "    <tr>\n",
       "      <th>trt1</th>\n",
       "      <td>4.17</td>\n",
       "    </tr>\n",
       "    <tr>\n",
       "      <th>trt2</th>\n",
       "      <td>5.12</td>\n",
       "    </tr>\n",
       "    <tr>\n",
       "      <th rowspan=\"3\" valign=\"top\">3</th>\n",
       "      <th>ctrl</th>\n",
       "      <td>5.18</td>\n",
       "    </tr>\n",
       "    <tr>\n",
       "      <th>trt1</th>\n",
       "      <td>4.41</td>\n",
       "    </tr>\n",
       "    <tr>\n",
       "      <th>trt2</th>\n",
       "      <td>5.54</td>\n",
       "    </tr>\n",
       "    <tr>\n",
       "      <th rowspan=\"3\" valign=\"top\">4</th>\n",
       "      <th>ctrl</th>\n",
       "      <td>6.11</td>\n",
       "    </tr>\n",
       "    <tr>\n",
       "      <th>trt1</th>\n",
       "      <td>3.59</td>\n",
       "    </tr>\n",
       "    <tr>\n",
       "      <th>trt2</th>\n",
       "      <td>5.50</td>\n",
       "    </tr>\n",
       "    <tr>\n",
       "      <th rowspan=\"3\" valign=\"top\">5</th>\n",
       "      <th>ctrl</th>\n",
       "      <td>4.50</td>\n",
       "    </tr>\n",
       "    <tr>\n",
       "      <th>trt1</th>\n",
       "      <td>5.87</td>\n",
       "    </tr>\n",
       "    <tr>\n",
       "      <th>trt2</th>\n",
       "      <td>5.37</td>\n",
       "    </tr>\n",
       "    <tr>\n",
       "      <th rowspan=\"3\" valign=\"top\">6</th>\n",
       "      <th>ctrl</th>\n",
       "      <td>4.61</td>\n",
       "    </tr>\n",
       "    <tr>\n",
       "      <th>trt1</th>\n",
       "      <td>3.83</td>\n",
       "    </tr>\n",
       "    <tr>\n",
       "      <th>trt2</th>\n",
       "      <td>5.29</td>\n",
       "    </tr>\n",
       "    <tr>\n",
       "      <th rowspan=\"3\" valign=\"top\">7</th>\n",
       "      <th>ctrl</th>\n",
       "      <td>5.17</td>\n",
       "    </tr>\n",
       "    <tr>\n",
       "      <th>trt1</th>\n",
       "      <td>6.03</td>\n",
       "    </tr>\n",
       "    <tr>\n",
       "      <th>trt2</th>\n",
       "      <td>4.92</td>\n",
       "    </tr>\n",
       "    <tr>\n",
       "      <th rowspan=\"3\" valign=\"top\">8</th>\n",
       "      <th>ctrl</th>\n",
       "      <td>4.53</td>\n",
       "    </tr>\n",
       "    <tr>\n",
       "      <th>trt1</th>\n",
       "      <td>4.89</td>\n",
       "    </tr>\n",
       "    <tr>\n",
       "      <th>trt2</th>\n",
       "      <td>6.15</td>\n",
       "    </tr>\n",
       "    <tr>\n",
       "      <th rowspan=\"3\" valign=\"top\">9</th>\n",
       "      <th>ctrl</th>\n",
       "      <td>5.33</td>\n",
       "    </tr>\n",
       "    <tr>\n",
       "      <th>trt1</th>\n",
       "      <td>4.32</td>\n",
       "    </tr>\n",
       "    <tr>\n",
       "      <th>trt2</th>\n",
       "      <td>5.80</td>\n",
       "    </tr>\n",
       "    <tr>\n",
       "      <th rowspan=\"3\" valign=\"top\">10</th>\n",
       "      <th>ctrl</th>\n",
       "      <td>5.14</td>\n",
       "    </tr>\n",
       "    <tr>\n",
       "      <th>trt1</th>\n",
       "      <td>4.69</td>\n",
       "    </tr>\n",
       "    <tr>\n",
       "      <th>trt2</th>\n",
       "      <td>5.26</td>\n",
       "    </tr>\n",
       "  </tbody>\n",
       "</table>\n",
       "</div>"
      ],
      "text/plain": [
       "                   weight\n",
       "observation group        \n",
       "1           ctrl     4.17\n",
       "            trt1     4.81\n",
       "            trt2     6.31\n",
       "2           ctrl     5.58\n",
       "            trt1     4.17\n",
       "            trt2     5.12\n",
       "3           ctrl     5.18\n",
       "            trt1     4.41\n",
       "            trt2     5.54\n",
       "4           ctrl     6.11\n",
       "            trt1     3.59\n",
       "            trt2     5.50\n",
       "5           ctrl     4.50\n",
       "            trt1     5.87\n",
       "            trt2     5.37\n",
       "6           ctrl     4.61\n",
       "            trt1     3.83\n",
       "            trt2     5.29\n",
       "7           ctrl     5.17\n",
       "            trt1     6.03\n",
       "            trt2     4.92\n",
       "8           ctrl     4.53\n",
       "            trt1     4.89\n",
       "            trt2     6.15\n",
       "9           ctrl     5.33\n",
       "            trt1     4.32\n",
       "            trt2     5.80\n",
       "10          ctrl     5.14\n",
       "            trt1     4.69\n",
       "            trt2     5.26"
      ]
     },
     "execution_count": 168,
     "metadata": {},
     "output_type": "execute_result"
    }
   ],
   "source": [
    "stacked_df.unstack(level = 'group').stack(level='group') # 언스텍 후에 스택을 다시하면 기본 인덱스 뒤에 붙는다."
   ]
  },
  {
   "cell_type": "code",
   "execution_count": 170,
   "metadata": {
    "collapsed": false
   },
   "outputs": [
    {
     "data": {
      "text/html": [
       "<div>\n",
       "<table border=\"1\" class=\"dataframe\">\n",
       "  <thead>\n",
       "    <tr>\n",
       "      <th></th>\n",
       "      <th colspan=\"10\" halign=\"left\">weight</th>\n",
       "    </tr>\n",
       "    <tr>\n",
       "      <th>observation</th>\n",
       "      <th>1</th>\n",
       "      <th>2</th>\n",
       "      <th>3</th>\n",
       "      <th>4</th>\n",
       "      <th>5</th>\n",
       "      <th>6</th>\n",
       "      <th>7</th>\n",
       "      <th>8</th>\n",
       "      <th>9</th>\n",
       "      <th>10</th>\n",
       "    </tr>\n",
       "    <tr>\n",
       "      <th>group</th>\n",
       "      <th></th>\n",
       "      <th></th>\n",
       "      <th></th>\n",
       "      <th></th>\n",
       "      <th></th>\n",
       "      <th></th>\n",
       "      <th></th>\n",
       "      <th></th>\n",
       "      <th></th>\n",
       "      <th></th>\n",
       "    </tr>\n",
       "  </thead>\n",
       "  <tbody>\n",
       "    <tr>\n",
       "      <th>ctrl</th>\n",
       "      <td>4.17</td>\n",
       "      <td>5.58</td>\n",
       "      <td>5.18</td>\n",
       "      <td>6.11</td>\n",
       "      <td>4.50</td>\n",
       "      <td>4.61</td>\n",
       "      <td>5.17</td>\n",
       "      <td>4.53</td>\n",
       "      <td>5.33</td>\n",
       "      <td>5.14</td>\n",
       "    </tr>\n",
       "    <tr>\n",
       "      <th>trt1</th>\n",
       "      <td>4.81</td>\n",
       "      <td>4.17</td>\n",
       "      <td>4.41</td>\n",
       "      <td>3.59</td>\n",
       "      <td>5.87</td>\n",
       "      <td>3.83</td>\n",
       "      <td>6.03</td>\n",
       "      <td>4.89</td>\n",
       "      <td>4.32</td>\n",
       "      <td>4.69</td>\n",
       "    </tr>\n",
       "    <tr>\n",
       "      <th>trt2</th>\n",
       "      <td>6.31</td>\n",
       "      <td>5.12</td>\n",
       "      <td>5.54</td>\n",
       "      <td>5.50</td>\n",
       "      <td>5.37</td>\n",
       "      <td>5.29</td>\n",
       "      <td>4.92</td>\n",
       "      <td>6.15</td>\n",
       "      <td>5.80</td>\n",
       "      <td>5.26</td>\n",
       "    </tr>\n",
       "  </tbody>\n",
       "</table>\n",
       "</div>"
      ],
      "text/plain": [
       "            weight                                             \n",
       "observation     1    2    3    4    5    6    7    8    9    10\n",
       "group                                                          \n",
       "ctrl          4.17 5.58 5.18 6.11 4.50 4.61 5.17 4.53 5.33 5.14\n",
       "trt1          4.81 4.17 4.41 3.59 5.87 3.83 6.03 4.89 4.32 4.69\n",
       "trt2          6.31 5.12 5.54 5.50 5.37 5.29 4.92 6.15 5.80 5.26"
      ]
     },
     "execution_count": 170,
     "metadata": {},
     "output_type": "execute_result"
    }
   ],
   "source": [
    "stacked_df.unstack() # 기본적으로 가장 마지막 레벨의 인덱스를 기준으로 동작 / 마지막 인덱스 => 컬럼으로"
   ]
  },
  {
   "cell_type": "code",
   "execution_count": 171,
   "metadata": {
    "collapsed": false
   },
   "outputs": [
    {
     "data": {
      "text/html": [
       "<div>\n",
       "<table border=\"1\" class=\"dataframe\">\n",
       "  <thead>\n",
       "    <tr style=\"text-align: right;\">\n",
       "      <th></th>\n",
       "      <th></th>\n",
       "      <th>weight</th>\n",
       "    </tr>\n",
       "    <tr>\n",
       "      <th>group</th>\n",
       "      <th>observation</th>\n",
       "      <th></th>\n",
       "    </tr>\n",
       "  </thead>\n",
       "  <tbody>\n",
       "    <tr>\n",
       "      <th rowspan=\"10\" valign=\"top\">ctrl</th>\n",
       "      <th>1</th>\n",
       "      <td>4.17</td>\n",
       "    </tr>\n",
       "    <tr>\n",
       "      <th>2</th>\n",
       "      <td>5.58</td>\n",
       "    </tr>\n",
       "    <tr>\n",
       "      <th>3</th>\n",
       "      <td>5.18</td>\n",
       "    </tr>\n",
       "    <tr>\n",
       "      <th>4</th>\n",
       "      <td>6.11</td>\n",
       "    </tr>\n",
       "    <tr>\n",
       "      <th>5</th>\n",
       "      <td>4.50</td>\n",
       "    </tr>\n",
       "    <tr>\n",
       "      <th>6</th>\n",
       "      <td>4.61</td>\n",
       "    </tr>\n",
       "    <tr>\n",
       "      <th>7</th>\n",
       "      <td>5.17</td>\n",
       "    </tr>\n",
       "    <tr>\n",
       "      <th>8</th>\n",
       "      <td>4.53</td>\n",
       "    </tr>\n",
       "    <tr>\n",
       "      <th>9</th>\n",
       "      <td>5.33</td>\n",
       "    </tr>\n",
       "    <tr>\n",
       "      <th>10</th>\n",
       "      <td>5.14</td>\n",
       "    </tr>\n",
       "    <tr>\n",
       "      <th rowspan=\"10\" valign=\"top\">trt1</th>\n",
       "      <th>1</th>\n",
       "      <td>4.81</td>\n",
       "    </tr>\n",
       "    <tr>\n",
       "      <th>2</th>\n",
       "      <td>4.17</td>\n",
       "    </tr>\n",
       "    <tr>\n",
       "      <th>3</th>\n",
       "      <td>4.41</td>\n",
       "    </tr>\n",
       "    <tr>\n",
       "      <th>4</th>\n",
       "      <td>3.59</td>\n",
       "    </tr>\n",
       "    <tr>\n",
       "      <th>5</th>\n",
       "      <td>5.87</td>\n",
       "    </tr>\n",
       "    <tr>\n",
       "      <th>6</th>\n",
       "      <td>3.83</td>\n",
       "    </tr>\n",
       "    <tr>\n",
       "      <th>7</th>\n",
       "      <td>6.03</td>\n",
       "    </tr>\n",
       "    <tr>\n",
       "      <th>8</th>\n",
       "      <td>4.89</td>\n",
       "    </tr>\n",
       "    <tr>\n",
       "      <th>9</th>\n",
       "      <td>4.32</td>\n",
       "    </tr>\n",
       "    <tr>\n",
       "      <th>10</th>\n",
       "      <td>4.69</td>\n",
       "    </tr>\n",
       "    <tr>\n",
       "      <th rowspan=\"10\" valign=\"top\">trt2</th>\n",
       "      <th>1</th>\n",
       "      <td>6.31</td>\n",
       "    </tr>\n",
       "    <tr>\n",
       "      <th>2</th>\n",
       "      <td>5.12</td>\n",
       "    </tr>\n",
       "    <tr>\n",
       "      <th>3</th>\n",
       "      <td>5.54</td>\n",
       "    </tr>\n",
       "    <tr>\n",
       "      <th>4</th>\n",
       "      <td>5.50</td>\n",
       "    </tr>\n",
       "    <tr>\n",
       "      <th>5</th>\n",
       "      <td>5.37</td>\n",
       "    </tr>\n",
       "    <tr>\n",
       "      <th>6</th>\n",
       "      <td>5.29</td>\n",
       "    </tr>\n",
       "    <tr>\n",
       "      <th>7</th>\n",
       "      <td>4.92</td>\n",
       "    </tr>\n",
       "    <tr>\n",
       "      <th>8</th>\n",
       "      <td>6.15</td>\n",
       "    </tr>\n",
       "    <tr>\n",
       "      <th>9</th>\n",
       "      <td>5.80</td>\n",
       "    </tr>\n",
       "    <tr>\n",
       "      <th>10</th>\n",
       "      <td>5.26</td>\n",
       "    </tr>\n",
       "  </tbody>\n",
       "</table>\n",
       "</div>"
      ],
      "text/plain": [
       "                   weight\n",
       "group observation        \n",
       "ctrl  1              4.17\n",
       "      2              5.58\n",
       "      3              5.18\n",
       "      4              6.11\n",
       "      5              4.50\n",
       "      6              4.61\n",
       "      7              5.17\n",
       "      8              4.53\n",
       "      9              5.33\n",
       "      10             5.14\n",
       "trt1  1              4.81\n",
       "      2              4.17\n",
       "      3              4.41\n",
       "      4              3.59\n",
       "      5              5.87\n",
       "      6              3.83\n",
       "      7              6.03\n",
       "      8              4.89\n",
       "      9              4.32\n",
       "      10             4.69\n",
       "trt2  1              6.31\n",
       "      2              5.12\n",
       "      3              5.54\n",
       "      4              5.50\n",
       "      5              5.37\n",
       "      6              5.29\n",
       "      7              4.92\n",
       "      8              6.15\n",
       "      9              5.80\n",
       "      10             5.26"
      ]
     },
     "execution_count": 171,
     "metadata": {},
     "output_type": "execute_result"
    }
   ],
   "source": [
    "stacked_df.unstack().stack()"
   ]
  },
  {
   "cell_type": "code",
   "execution_count": null,
   "metadata": {
    "collapsed": true
   },
   "outputs": [],
   "source": []
  },
  {
   "cell_type": "markdown",
   "metadata": {},
   "source": [
    "* 도식화 및 시각화\n",
    " - 파이썬은 다양한 시각화 도구를 제공\n",
    " - matplotlib는 주로 2D 도표를 위해 설계되었고, MATLAB과 유사한 인터페이스를 지원하고자 시작됨.\n",
    " - pip install matplotlib\n",
    " - matplotlib pyplot으로 검색하여 튜토리얼 공부하면 좋다."
   ]
  },
  {
   "cell_type": "code",
   "execution_count": 2,
   "metadata": {
    "collapsed": false
   },
   "outputs": [],
   "source": [
    "import matplotlib.pyplot as plt\n",
    "%matplotlib inline "
   ]
  },
  {
   "cell_type": "code",
   "execution_count": 173,
   "metadata": {
    "collapsed": false
   },
   "outputs": [
    {
     "data": {
      "image/png": "[encoded data removed]",
      "text/plain": [
       "<matplotlib.figure.Figure at 0x1118ce590>"
      ]
     },
     "metadata": {},
     "output_type": "display_data"
    }
   ],
   "source": []
  },
  {
   "cell_type": "code",
   "execution_count": 174,
   "metadata": {
    "collapsed": false
   },
   "outputs": [
    {
     "data": {
      "image/png": "[encoded data removed]",
      "text/plain": [
       "<matplotlib.figure.Figure at 0x1119a3650>"
      ]
     },
     "metadata": {},
     "output_type": "display_data"
    }
   ],
   "source": []
  },
  {
   "cell_type": "code",
   "execution_count": 175,
   "metadata": {
    "collapsed": false
   },
   "outputs": [
    {
     "data": {
      "image/png": "[encoded data removed]",
      "text/plain": [
       "<matplotlib.figure.Figure at 0x111b70710>"
      ]
     },
     "metadata": {},
     "output_type": "display_data"
    }
   ],
   "source": []
  },
  {
   "cell_type": "markdown",
   "metadata": {},
   "source": [
    "* subplot\n",
    "  - 여러개의 sub plot으로 구성 가능"
   ]
  },
  {
   "cell_type": "code",
   "execution_count": 75,
   "metadata": {
    "collapsed": false
   },
   "outputs": [
    {
     "data": {
      "image/png": "[encoded data removed]",
      "text/plain": [
       "<matplotlib.figure.Figure at 0x105e01e10>"
      ]
     },
     "metadata": {},
     "output_type": "display_data"
    }
   ],
   "source": []
  },
  {
   "cell_type": "markdown",
   "metadata": {},
   "source": [
    "* 선 스타일\n",
    " - 색상, 마커, 스타일\n",
    " - 색상 \n",
    "    + 주로 RGB 값을 사용하나, r(빨강), g(초록), b(파랑), k(검정)과 같이 약어를 쓰기도한다.\n",
    " - 스타일\n",
    "    + -, --, -., :, o, x, ^"
   ]
  },
  {
   "cell_type": "code",
   "execution_count": 3,
   "metadata": {
    "collapsed": false
   },
   "outputs": [
    {
     "ename": "NameError",
     "evalue": "name 'plt' is not defined",
     "output_type": "error",
     "traceback": [
      "\u001b[0;31m---------------------------------------------------------------------------\u001b[0m",
      "\u001b[0;31mNameError\u001b[0m                                 Traceback (most recent call last)",
      "\u001b[0;32m<ipython-input-3-dbbdb4ed2331>\u001b[0m in \u001b[0;36m<module>\u001b[0;34m()\u001b[0m\n\u001b[0;32m----> 1\u001b[0;31m \u001b[0mplt\u001b[0m\u001b[1;33m.\u001b[0m\u001b[0mplot\u001b[0m\u001b[1;33m(\u001b[0m\u001b[0mnp\u001b[0m\u001b[1;33m.\u001b[0m\u001b[0marange\u001b[0m\u001b[1;33m(\u001b[0m\u001b[1;36m10\u001b[0m\u001b[1;33m)\u001b[0m\u001b[1;33m,\u001b[0m \u001b[0mnp\u001b[0m\u001b[1;33m.\u001b[0m\u001b[0marange\u001b[0m\u001b[1;33m(\u001b[0m\u001b[1;36m10\u001b[0m\u001b[1;33m)\u001b[0m \u001b[1;33m+\u001b[0m \u001b[1;36m3\u001b[0m \u001b[1;33m*\u001b[0m \u001b[0mnp\u001b[0m\u001b[1;33m.\u001b[0m\u001b[0mrandom\u001b[0m\u001b[1;33m.\u001b[0m\u001b[0mrandn\u001b[0m\u001b[1;33m(\u001b[0m\u001b[1;36m10\u001b[0m\u001b[1;33m)\u001b[0m\u001b[1;33m,\u001b[0m \u001b[1;34m'r-'\u001b[0m \u001b[1;33m)\u001b[0m\u001b[1;33m\u001b[0m\u001b[0m\n\u001b[0m\u001b[1;32m      2\u001b[0m \u001b[0mplt\u001b[0m\u001b[1;33m.\u001b[0m\u001b[0mshow\u001b[0m\u001b[1;33m(\u001b[0m\u001b[1;33m)\u001b[0m\u001b[1;33m\u001b[0m\u001b[0m\n",
      "\u001b[0;31mNameError\u001b[0m: name 'plt' is not defined"
     ]
    }
   ],
   "source": [
    "plt.plot(np.arange(10), np.arange(10) + 3 * np.random.randn(10), 'r-')\n",
    "plt.show()"
   ]
  },
  {
   "cell_type": "markdown",
   "metadata": {},
   "source": [
    "* 연습문제 )\n",
    " 1. 파랑, 녹색을 이용하여 subplot에 -, --, -., : x, o, ^의 조합의 선 그래프를 출력해보세요"
   ]
  },
  {
   "cell_type": "code",
   "execution_count": 154,
   "metadata": {
    "collapsed": false
   },
   "outputs": [
    {
     "data": {
      "image/png": "[encoded data removed]",
      "text/plain": [
       "<matplotlib.figure.Figure at 0x10ecf45d0>"
      ]
     },
     "metadata": {},
     "output_type": "display_data"
    }
   ],
   "source": []
  },
  {
   "cell_type": "markdown",
   "metadata": {},
   "source": [
    "* 제목, 축이름, 눈금, 눈금이름 설정"
   ]
  },
  {
   "cell_type": "code",
   "execution_count": 156,
   "metadata": {
    "collapsed": false
   },
   "outputs": [
    {
     "data": {
      "image/png": "[encoded data removed]",
      "text/plain": [
       "<matplotlib.figure.Figure at 0x11048d290>"
      ]
     },
     "metadata": {},
     "output_type": "display_data"
    }
   ],
   "source": []
  },
  {
   "cell_type": "code",
   "execution_count": 177,
   "metadata": {
    "collapsed": false
   },
   "outputs": [
    {
     "data": {
      "image/png": "[encoded data removed]",
      "text/plain": [
       "<matplotlib.figure.Figure at 0x111d0f6d0>"
      ]
     },
     "metadata": {},
     "output_type": "display_data"
    }
   ],
   "source": []
  },
  {
   "cell_type": "markdown",
   "metadata": {},
   "source": [
    "* 연습문제 \n",
    " 1. 방금 전 구현했던 계단 오르내리는 과정을 그래프로 표현해보세요\n",
    "   - python version과 numpy 버젼을 범례와 함께 같이 그려보세요"
   ]
  },
  {
   "cell_type": "code",
   "execution_count": 187,
   "metadata": {
    "collapsed": false
   },
   "outputs": [
    {
     "name": "stdout",
     "output_type": "stream",
     "text": [
      "1001\n"
     ]
    }
   ],
   "source": [
    "# 순수 파이썬 버젼\n",
    "import random\n",
    "pos = 0\n",
    "walk = [pos]\n",
    "steps = 1000\n",
    "for i in xrange(steps):\n",
    "    step = 1 if random.randint(0, 1) else -1\n",
    "    pos += step\n",
    "    walk.append(pos)\n",
    "\n",
    "print len(walk)"
   ]
  },
  {
   "cell_type": "code",
   "execution_count": 188,
   "metadata": {
    "collapsed": false
   },
   "outputs": [
    {
     "name": "stdout",
     "output_type": "stream",
     "text": [
      "1000\n"
     ]
    }
   ],
   "source": [
    "np_steps = 1000\n",
    "ways = np.random.randint(0, 2, size = np_steps)\n",
    "np_steps = np.where(ways > 0, 1, -1)\n",
    "np_walk = np_steps.cumsum()\n",
    "print len(np_walk)"
   ]
  },
  {
   "cell_type": "code",
   "execution_count": 194,
   "metadata": {
    "collapsed": false
   },
   "outputs": [
    {
     "data": {
      "image/png": "[encoded data removed]",
      "text/plain": [
       "<matplotlib.figure.Figure at 0x1100dda50>"
      ]
     },
     "metadata": {},
     "output_type": "display_data"
    }
   ],
   "source": []
  }
 ],
 "metadata": {
  "kernelspec": {
   "display_name": "Python 2",
   "language": "python",
   "name": "python2"
  },
  "language_info": {
   "codemirror_mode": {
    "name": "ipython",
    "version": 2
   },
   "file_extension": ".py",
   "mimetype": "text/x-python",
   "name": "python",
   "nbconvert_exporter": "python",
   "pygments_lexer": "ipython2",
   "version": "2.7.13"
  }
 },
 "nbformat": 4,
 "nbformat_minor": 1
}
