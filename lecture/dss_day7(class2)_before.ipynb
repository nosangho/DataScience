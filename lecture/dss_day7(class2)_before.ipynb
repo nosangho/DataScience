{
 "cells": [
  {
   "cell_type": "markdown",
   "metadata": {},
   "source": [
    "# Class 설계"
   ]
  },
  {
   "cell_type": "markdown",
   "metadata": {},
   "source": [
    "## 학습목표\n",
    "\n",
    " - 클래스 복습 및 활용\n",
    " - 클래스 설계기본 이해\n",
    " - 요구사항에 대한 클래스 설계"
   ]
  },
  {
   "cell_type": "markdown",
   "metadata": {},
   "source": [
    "1. Calculator class를 작성하세요\n",
    " - a, b 두개의 정수를 속성으로 갖습니다.\n",
    " - func이라는 함수를 속성으로 갖습니다.\n",
    " - 속성으로 갖고있는 func을 a,b를 인자로 호출하여 결과를 반환하는 메소드를 갖습니다. apply(self) \n",
    " ========> 이럴경우 lambda를 활용하면 좋다.\n",
    " \n",
    "\n",
    "2. 여러분이 멜론에서 일한다고 합시다.\n",
    " - 요구사항 : 일간 음악 랭킹(사람들이 많이 들을 수록 순위가 높음)을 구하는 class를 만들어 보세요."
   ]
  },
  {
   "cell_type": "code",
   "execution_count": null,
   "metadata": {
    "collapsed": true
   },
   "outputs": [],
   "source": []
  },
  {
   "cell_type": "code",
   "execution_count": 19,
   "metadata": {
    "collapsed": false
   },
   "outputs": [
    {
     "name": "stdout",
     "output_type": "stream",
     "text": [
      "[('hahaha', 4), ('haha', 2)]\n"
     ]
    }
   ],
   "source": []
  },
  {
   "cell_type": "code",
   "execution_count": null,
   "metadata": {
    "collapsed": true
   },
   "outputs": [],
   "source": []
  },
  {
   "cell_type": "markdown",
   "metadata": {},
   "source": [
    "* named tuple\n",
    " - tuple의 자식 클래스 \n",
    " - 클래스없이 객체를 생성할 수 있는 방법\n",
    " - 멤버함수 필요없이 속성만 필요할때 간단히 하는 방법\n",
    " - 멤버함수 없는 간단한 클래스"
   ]
  },
  {
   "cell_type": "code",
   "execution_count": 1,
   "metadata": {
    "collapsed": false
   },
   "outputs": [
    {
     "name": "stdout",
     "output_type": "stream",
     "text": [
      "xar(engine='super power', door='ultra')\n",
      "xar(engine='super2', door='side') <class '__main__.xar'>\n"
     ]
    }
   ],
   "source": [
    "from collections import namedtuple\n",
    "Car = namedtuple('Car', 'engine door')\n",
    "# class Car(object): 와 동일\n",
    "# 뒤에 spacebar 기준으로 나뉨 =====> 밑의 리스트로 사용하는 방법도 있음\n",
    "car1 = Car('super power', 'ultra') # Car는 type 이름\n",
    "print car1\n",
    "\n",
    "car2 = Car(engine = 'super2', door = 'side')\n",
    "\n",
    "print car2, type(car2)"
   ]
  },
  {
   "cell_type": "code",
   "execution_count": 11,
   "metadata": {
    "collapsed": false
   },
   "outputs": [
    {
     "name": "stdout",
     "output_type": "stream",
     "text": [
      "Pet(name='allen', age=10) allen 10\n",
      "Pet(name='doggy', age=3)\n",
      "allen 10\n"
     ]
    }
   ],
   "source": [
    "Pet = namedtuple('Pet', ['name', 'age'])\n",
    "\n",
    "cat = Pet('allen', 10)\n",
    "dog = Pet('doggy', 3)\n",
    "\n",
    "print cat, cat[0], cat[1]\n",
    "print dog\n",
    "\n",
    "name, age = cat\n",
    "print name, age\n",
    "\n"
   ]
  },
  {
   "cell_type": "markdown",
   "metadata": {},
   "source": [
    "* 연습문제 \n",
    " 1. 학생의 이름, 나이, 전공을 속성으로 갖는 class를 정의하세요\n",
    " 2. Namedtuple을 이용하여, 학생의 이름, 나이, 전공을 속성으로 갖는 class를 정의하세요"
   ]
  },
  {
   "cell_type": "code",
   "execution_count": null,
   "metadata": {
    "collapsed": true
   },
   "outputs": [],
   "source": []
  },
  {
   "cell_type": "code",
   "execution_count": null,
   "metadata": {
    "collapsed": true
   },
   "outputs": [],
   "source": []
  },
  {
   "cell_type": "markdown",
   "metadata": {},
   "source": [
    "* 5가지 클래스 설계의 원칙 (S.O.L.I.D)\n",
    " - single responsibility principle\n",
    " - open-closed principle\n",
    " - Liskov substitutio principle\n",
    " - Interface segregation\n",
    " - Dependency Inversion\n",
    " \n",
    " 출처) https://scotch.io/bar-talk/s-o-l-i-d-the-first-five-principles-of-object-oriented-design\n",
    " \n",
    " 객체지향과 디자인 패턴 관련 책 : http://www.aladin.co.kr/shop/wproduct.aspx?ItemId=28301535\n",
    " 파이썬은 아니나, Object Oriendted design과 Design pattern에 관심있으신분은 해당 서적을 참고하시면 좋습니다."
   ]
  },
  {
   "cell_type": "code",
   "execution_count": null,
   "metadata": {
    "collapsed": true
   },
   "outputs": [],
   "source": []
  },
  {
   "cell_type": "markdown",
   "metadata": {},
   "source": [
    "* Single Responsibility "
   ]
  },
  {
   "cell_type": "code",
   "execution_count": null,
   "metadata": {
    "collapsed": true
   },
   "outputs": [],
   "source": [
    "# 클래스는 한가지 책임만 가져야 한다.\n",
    "# 실습 코드"
   ]
  },
  {
   "cell_type": "markdown",
   "metadata": {},
   "source": [
    "* Open-Closed"
   ]
  },
  {
   "cell_type": "code",
   "execution_count": null,
   "metadata": {
    "collapsed": true
   },
   "outputs": [],
   "source": [
    "\n",
    "# 실습 코드"
   ]
  },
  {
   "cell_type": "markdown",
   "metadata": {},
   "source": [
    "* Liskov substitutio principle"
   ]
  },
  {
   "cell_type": "code",
   "execution_count": null,
   "metadata": {
    "collapsed": true
   },
   "outputs": [],
   "source": [
    "# 실습 코드"
   ]
  },
  {
   "cell_type": "markdown",
   "metadata": {},
   "source": [
    "* Interface segregation"
   ]
  },
  {
   "cell_type": "code",
   "execution_count": null,
   "metadata": {
    "collapsed": true
   },
   "outputs": [],
   "source": [
    "# 실습 코드"
   ]
  },
  {
   "cell_type": "markdown",
   "metadata": {},
   "source": [
    "* Dependency Inversion"
   ]
  },
  {
   "cell_type": "code",
   "execution_count": 4,
   "metadata": {
    "collapsed": true
   },
   "outputs": [],
   "source": [
    "# 실습 코드"
   ]
  },
  {
   "cell_type": "code",
   "execution_count": null,
   "metadata": {
    "collapsed": true
   },
   "outputs": [],
   "source": []
  },
  {
   "cell_type": "markdown",
   "metadata": {},
   "source": [
    "* 설계 패턴 실습)\n",
    " - 소프트웨어 개발이 고도화 되면서, 대가들이 그동안의 개발에 사용되었던 정형화된 패턴을 모아놓은 방법론 \n",
    " - https://en.wikipedia.org/wiki/Design_Patterns 디자인 패턴 관련한 최초의 서적\n",
    " - 이 중, 이해하기 쉽고 자주 사용되는 패턴들 몇개를 실습 해보겠습니다."
   ]
  },
  {
   "cell_type": "markdown",
   "metadata": {},
   "source": [
    "* observer 패턴\n",
    " - 관찰자 / 비관찰자 관계에서 관찰자에게 특정 이벤트의 발생의 알림을 전달하는 패턴"
   ]
  },
  {
   "cell_type": "code",
   "execution_count": null,
   "metadata": {
    "collapsed": true
   },
   "outputs": [],
   "source": [
    "# 실습코드"
   ]
  },
  {
   "cell_type": "markdown",
   "metadata": {},
   "source": [
    "* Builder pattern\n",
    "  - 복잡한 객체를 생성하는 패턴 "
   ]
  },
  {
   "cell_type": "code",
   "execution_count": null,
   "metadata": {
    "collapsed": true
   },
   "outputs": [],
   "source": [
    "#실습 코드\n",
    "class Student(object):\n",
    "    \n",
    "    def __init__(self, name, age, height, weight, major, courses):\n",
    "        self.name = name\n",
    "        self.age = age\n",
    "        self.height = height\n",
    "        self.weight = weight\n",
    "        self.major = self.courses\n",
    "        \n",
    "# 생성자에서 많은 작업을 함\n",
    "# 새로 필드가 추가되면 생성자를 수정해야 함\n",
    "s1 = Student('aaron', 20, 180, 180, 'cs', ['data structures', 'artificial intelligence'])"
   ]
  },
  {
   "cell_type": "code",
   "execution_count": 3,
   "metadata": {
    "collapsed": false
   },
   "outputs": [
    {
     "name": "stdout",
     "output_type": "stream",
     "text": [
      "baron\n",
      "30\n",
      "180\n"
     ]
    }
   ],
   "source": []
  },
  {
   "cell_type": "markdown",
   "metadata": {},
   "source": [
    "* Factory pattern \n",
    "  - 객체를 생성하는 객체(Factory)를 만드는 패턴\n",
    "  - 안드로이드, 아이폰, 윈도우폰에 각각 push 메시지를 전송해야한다. \n",
    "  해당 기능을 이용하는 쪽에서는 각각 호출하게 될 폰의 종류를 알 수 있는데, 어떻게 설계 할 수 있을까?"
   ]
  },
  {
   "cell_type": "code",
   "execution_count": null,
   "metadata": {
    "collapsed": true
   },
   "outputs": [],
   "source": []
  },
  {
   "cell_type": "code",
   "execution_count": null,
   "metadata": {
    "collapsed": true
   },
   "outputs": [],
   "source": []
  },
  {
   "cell_type": "markdown",
   "metadata": {},
   "source": [
    "* class 설계를 해봅시다.\n",
    " - 기능명세 작성\n",
    " - 기능을 담당할 클래스 추출\n",
    " - 멤버함수 정의\n",
    " \n",
    "* 기능 요구사항\n",
    " 1. 대학교종합정보시스템 학생관리 기능 (학생 추가, 학생정보 열람(이름순, 성적순), 학생 삭제, 해당과목 성적 조회, 전체 성적 조회) \n",
    " 2. 제목에 '스마트폰', '애플', '삼성' 등 관심있는 키워드가 들어간 news의 댓글을 모아, 해당 기사에 대한 반응이 긍정적인지 부정적인지 판별 하는 기능을 만들려고 합니다. 어떤 클래스들이 필요할까요?\n",
    " 3. 쇼핑몰을 만든다고 해보세요. 상품의 판매가 일어나고, 관리자는 상품을 등록할 수 있으며, 모든 사용자가 후기와 댓글을 달 수 있습니다. 어떤 클래스들이 필요할까요?\n",
    " \n",
    "* 위의 문제들에는 답이 없습니다. 하지만 위에서 배운 원칙을 생각해보고 적용하면서 작업을 해보세요~"
   ]
  },
  {
   "cell_type": "code",
   "execution_count": null,
   "metadata": {
    "collapsed": true
   },
   "outputs": [],
   "source": []
  }
 ],
 "metadata": {
  "kernelspec": {
   "display_name": "Python 2",
   "language": "python",
   "name": "python2"
  },
  "language_info": {
   "codemirror_mode": {
    "name": "ipython",
    "version": 2
   },
   "file_extension": ".py",
   "mimetype": "text/x-python",
   "name": "python",
   "nbconvert_exporter": "python",
   "pygments_lexer": "ipython2",
   "version": "2.7.13"
  }
 },
 "nbformat": 4,
 "nbformat_minor": 1
}
