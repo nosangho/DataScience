{
 "cells": [
  {
   "cell_type": "markdown",
   "metadata": {},
   "source": [
    "# Data Science & Python "
   ]
  },
  {
   "cell_type": "markdown",
   "metadata": {},
   "source": [
    "# Hello python\n",
    "## hello python\n",
    "### hello python\n",
    "\n",
    "제목크기 : #으로 결정 / #을 많이 쓸수록 작아진다."
   ]
  },
  {
   "cell_type": "markdown",
   "metadata": {},
   "source": [
    "## Hello python"
   ]
  },
  {
   "cell_type": "code",
   "execution_count": 1,
   "metadata": {
    "collapsed": false
   },
   "outputs": [
    {
     "name": "stdout",
     "output_type": "stream",
     "text": [
      "Hello World\n"
     ]
    }
   ],
   "source": [
    "print 'Hello World'"
   ]
  },
  {
   "cell_type": "markdown",
   "metadata": {},
   "source": [
    "#### Markdown practice"
   ]
  },
  {
   "cell_type": "markdown",
   "metadata": {},
   "source": [
    "# Hello markdown1\n",
    "## Hello markdown2\n",
    "### Hello markdown3\n",
    "#### Hello markdown4\n",
    "\n",
    "\n",
    "* python 2.7\n",
    "* python 3.5\n",
    "\n",
    "```python\n",
    "s = \"Python syntax highlighting\"\n",
    "print s\n",
    "def add(a, b):\n",
    "    return a + b\n",
    "```\n",
    "\n",
    "> Blockquotes starts\n",
    "> This line is part of the same quote.\n",
    "\n",
    "> Good\n",
    "\n",
    "\n",
    "This is *python*\n",
    "\n",
    "This is **python**\n",
    "\n",
    "This is python\n",
    "\n",
    "[python webpage](https://www.python.org)"
   ]
  },
  {
   "cell_type": "markdown",
   "metadata": {},
   "source": [
    "## Basic data type\n",
    "* variable declaration & value assignment (변수 선언 및 값 할당)"
   ]
  },
  {
   "cell_type": "markdown",
   "metadata": {},
   "source": [
    "##### = -> 대입 연산자,  == -> 비교 연산자 "
   ]
  },
  {
   "cell_type": "code",
   "execution_count": 11,
   "metadata": {
    "collapsed": true
   },
   "outputs": [],
   "source": [
    "a = 10   # int\n",
    "b = 1000 # int\n",
    "c = 12.677 # float\n",
    "\n",
    "d = 'this is python' #문자열 string\n",
    "\n",
    "e = True \n",
    "f = False # Boolean 주석 O\n",
    "\n",
    "g = 1.633e8 # 가독성"
   ]
  },
  {
   "cell_type": "code",
   "execution_count": 10,
   "metadata": {
    "collapsed": false
   },
   "outputs": [
    {
     "name": "stdout",
     "output_type": "stream",
     "text": [
      "10 1000\n",
      "1000\n",
      "12.677\n",
      "this is python\n",
      "True\n",
      "False\n",
      "163300000.0\n"
     ]
    }
   ],
   "source": [
    "print a, b\n",
    "print b\n",
    "print c\n",
    "print d\n",
    "print e\n",
    "print f\n",
    "print g"
   ]
  },
  {
   "cell_type": "markdown",
   "metadata": {},
   "source": [
    "* variable naming (변수 이름 규칙)"
   ]
  },
  {
   "cell_type": "code",
   "execution_count": 11,
   "metadata": {
    "collapsed": false
   },
   "outputs": [],
   "source": [
    "a = 4\n",
    "a1 = 5\n",
    "a_123 = 4545\n",
    "ABC = 'ABC'\n",
    "_124 = 'string'\n",
    "_abc = 'abc'\n",
    "\n",
    "# 영어소문자, 영어대문자, 언더바___\n",
    "# 변수는 숫자로 시작하면 안된다.\n",
    "# 3ad 같은건 안된다."
   ]
  },
  {
   "cell_type": "markdown",
   "metadata": {},
   "source": [
    "* reserved keywords (예약어)"
   ]
  },
  {
   "cell_type": "code",
   "execution_count": null,
   "metadata": {
    "collapsed": true
   },
   "outputs": [],
   "source": [
    "class = 3\n",
    "return = 5\n",
    "for = 4 \n",
    "if = 5\n",
    "while = 0\n",
    "def = 11\n",
    "\n",
    "# 예약어도 변수이름으로는 안된다."
   ]
  },
  {
   "cell_type": "markdown",
   "metadata": {},
   "source": [
    "* check variable type (변수 타입) "
   ]
  },
  {
   "cell_type": "code",
   "execution_count": 13,
   "metadata": {
    "collapsed": false
   },
   "outputs": [
    {
     "name": "stdout",
     "output_type": "stream",
     "text": [
      "<type 'int'>\n",
      "<type 'int'>\n",
      "<type 'float'>\n",
      "<type 'str'>\n",
      "<type 'bool'>\n"
     ]
    }
   ],
   "source": [
    "print type(a)\n",
    "print type(b)\n",
    "print type(c)\n",
    "print type(d)\n",
    "print type(e)"
   ]
  },
  {
   "cell_type": "markdown",
   "metadata": {},
   "source": [
    "* numbers"
   ]
  },
  {
   "cell_type": "code",
   "execution_count": 17,
   "metadata": {
    "collapsed": false
   },
   "outputs": [
    {
     "name": "stdout",
     "output_type": "stream",
     "text": [
      "78\n",
      "12\n",
      "85\n",
      "3.4\n",
      "3.0\n",
      "2\n",
      "64\n"
     ]
    }
   ],
   "source": [
    "print 17 + 5 + 56\n",
    "print 17 - 5\n",
    "print 17 * 5\n",
    "\n",
    "print 17.0 / 5\n",
    "print 17.0 // 5\n",
    "\n",
    "print 17 % 5\n",
    "print 4 ** 3"
   ]
  },
  {
   "cell_type": "code",
   "execution_count": 19,
   "metadata": {
    "collapsed": false
   },
   "outputs": [
    {
     "ename": "ZeroDivisionError",
     "evalue": "integer division or modulo by zero",
     "output_type": "error",
     "traceback": [
      "\u001b[0;31m---------------------------------------------------------------------------\u001b[0m",
      "\u001b[0;31mZeroDivisionError\u001b[0m                         Traceback (most recent call last)",
      "\u001b[0;32m<ipython-input-19-a7561d933d33>\u001b[0m in \u001b[0;36m<module>\u001b[0;34m()\u001b[0m\n\u001b[1;32m      1\u001b[0m \u001b[0ma\u001b[0m \u001b[0;34m=\u001b[0m \u001b[0;36m100\u001b[0m\u001b[0;34m\u001b[0m\u001b[0m\n\u001b[1;32m      2\u001b[0m \u001b[0ma\u001b[0m \u001b[0;34m=\u001b[0m \u001b[0;36m0\u001b[0m\u001b[0;34m\u001b[0m\u001b[0m\n\u001b[0;32m----> 3\u001b[0;31m \u001b[0;32mprint\u001b[0m \u001b[0;36m5\u001b[0m \u001b[0;34m/\u001b[0m \u001b[0ma\u001b[0m\u001b[0;34m\u001b[0m\u001b[0m\n\u001b[0m",
      "\u001b[0;31mZeroDivisionError\u001b[0m: integer division or modulo by zero"
     ]
    }
   ],
   "source": [
    "a = 100\n",
    "a = 0\n",
    "print 5 / a"
   ]
  },
  {
   "cell_type": "markdown",
   "metadata": {},
   "source": [
    "* operator priorities (연산자 우선순위)"
   ]
  },
  {
   "cell_type": "code",
   "execution_count": 12,
   "metadata": {
    "collapsed": false
   },
   "outputs": [
    {
     "name": "stdout",
     "output_type": "stream",
     "text": [
      "23\n",
      "32\n"
     ]
    }
   ],
   "source": [
    "print 3 + 5 * 4\n",
    "print (3 + 5) * 4    "
   ]
  },
  {
   "cell_type": "markdown",
   "metadata": {},
   "source": [
    "*  **quiz1)** 다음의 각 a값을 출력 했을 때 결과는? \n"
   ]
  },
  {
   "cell_type": "code",
   "execution_count": null,
   "metadata": {
    "collapsed": true
   },
   "outputs": [],
   "source": [
    "a = 9\n",
    "print a\n",
    "a - 3\n",
    "print a"
   ]
  },
  {
   "cell_type": "markdown",
   "metadata": {},
   "source": [
    "* expression evaluation & assignment (식평가 & 대입)"
   ]
  },
  {
   "cell_type": "code",
   "execution_count": 22,
   "metadata": {
    "collapsed": false
   },
   "outputs": [
    {
     "name": "stdout",
     "output_type": "stream",
     "text": [
      "6\n"
     ]
    }
   ],
   "source": [
    "a = 9\n",
    "temp = a - 3\n",
    "a = temp\n",
    "print a"
   ]
  },
  {
   "cell_type": "code",
   "execution_count": 23,
   "metadata": {
    "collapsed": false
   },
   "outputs": [
    {
     "name": "stdout",
     "output_type": "stream",
     "text": [
      "6\n",
      "3\n"
     ]
    }
   ],
   "source": [
    "a = 9\n",
    "a = a - 3\n",
    "print a\n",
    "a -= 3\n",
    "print a"
   ]
  },
  {
   "cell_type": "code",
   "execution_count": 26,
   "metadata": {
    "collapsed": false
   },
   "outputs": [
    {
     "name": "stdout",
     "output_type": "stream",
     "text": [
      "18\n",
      "20\n",
      "400\n"
     ]
    }
   ],
   "source": [
    "a = 9\n",
    "a *= 2\n",
    "print a\n",
    "\n",
    "a += 2\n",
    "print a\n",
    "\n",
    "a **= 2\n",
    "\n",
    "print a"
   ]
  },
  {
   "cell_type": "markdown",
   "metadata": {},
   "source": [
    "* type conversion (형변환)"
   ]
  },
  {
   "cell_type": "code",
   "execution_count": 27,
   "metadata": {
    "collapsed": false
   },
   "outputs": [
    {
     "name": "stdout",
     "output_type": "stream",
     "text": [
      "1\n",
      "0\n"
     ]
    }
   ],
   "source": [
    "# bool type\n",
    "# int()\n",
    "\n",
    "print int(True)\n",
    "print int(False)"
   ]
  },
  {
   "cell_type": "code",
   "execution_count": 1,
   "metadata": {
    "collapsed": false
   },
   "outputs": [
    {
     "name": "stdout",
     "output_type": "stream",
     "text": [
      "98\n",
      "-23\n"
     ]
    }
   ],
   "source": [
    "print int(98.4432)\n",
    "print int('-23')"
   ]
  },
  {
   "cell_type": "code",
   "execution_count": 2,
   "metadata": {
    "collapsed": false
   },
   "outputs": [
    {
     "ename": "ValueError",
     "evalue": "invalid literal for int() with base 10: 'python'",
     "output_type": "error",
     "traceback": [
      "\u001b[0;31m---------------------------------------------------------------------------\u001b[0m",
      "\u001b[0;31mValueError\u001b[0m                                Traceback (most recent call last)",
      "\u001b[0;32m<ipython-input-2-7ebb5b97ee44>\u001b[0m in \u001b[0;36m<module>\u001b[0;34m()\u001b[0m\n\u001b[0;32m----> 1\u001b[0;31m \u001b[0;32mprint\u001b[0m \u001b[0mint\u001b[0m\u001b[0;34m(\u001b[0m\u001b[0;34m'python'\u001b[0m\u001b[0;34m)\u001b[0m\u001b[0;34m\u001b[0m\u001b[0m\n\u001b[0m",
      "\u001b[0;31mValueError\u001b[0m: invalid literal for int() with base 10: 'python'"
     ]
    }
   ],
   "source": [
    "print int('python')"
   ]
  },
  {
   "cell_type": "markdown",
   "metadata": {},
   "source": [
    "* import math "
   ]
  },
  {
   "cell_type": "code",
   "execution_count": 30,
   "metadata": {
    "collapsed": true
   },
   "outputs": [],
   "source": [
    "import math\n",
    "\n",
    "# math는 기본적으로 내포되어 있는 패키지"
   ]
  },
  {
   "cell_type": "code",
   "execution_count": 33,
   "metadata": {
    "collapsed": false
   },
   "outputs": [
    {
     "name": "stdout",
     "output_type": "stream",
     "text": [
      "['__doc__', '__file__', '__name__', '__package__', 'acos', 'acosh', 'asin', 'asinh', 'atan', 'atan2', 'atanh', 'ceil', 'copysign', 'cos', 'cosh', 'degrees', 'e', 'erf', 'erfc', 'exp', 'expm1', 'fabs', 'factorial', 'floor', 'fmod', 'frexp', 'fsum', 'gamma', 'hypot', 'isinf', 'isnan', 'ldexp', 'lgamma', 'log', 'log10', 'log1p', 'modf', 'pi', 'pow', 'radians', 'sin', 'sinh', 'sqrt', 'tan', 'tanh', 'trunc']\n",
      "3.14159265359\n",
      "0.999822729504\n"
     ]
    }
   ],
   "source": [
    "print dir(math)  # 패키지 않에서 지원되는 함수들 모음\n",
    "print math.pi    # 패키지.함수면 -> 실행? \n",
    "print math.log(2.7178)"
   ]
  },
  {
   "cell_type": "markdown",
   "metadata": {},
   "source": [
    "* float (부동소수점, 한마디로 실수)"
   ]
  },
  {
   "cell_type": "code",
   "execution_count": 36,
   "metadata": {
    "collapsed": false
   },
   "outputs": [
    {
     "name": "stdout",
     "output_type": "stream",
     "text": [
      "98.45\n",
      "154300000.0\n",
      "5.66666666667\n"
     ]
    }
   ],
   "source": [
    "print 98.45\n",
    "print 1.543e8\n",
    "\n",
    "a = 98.343\n",
    "b = 1332.e6\n",
    "\n",
    "c = 17.0 / 3 # 파이썬 2에서는 실수와 정수와 연산 = 실수\n",
    "\n",
    "print c"
   ]
  },
  {
   "cell_type": "markdown",
   "metadata": {},
   "source": [
    "* string (문자열)"
   ]
  },
  {
   "cell_type": "code",
   "execution_count": 37,
   "metadata": {
    "collapsed": false
   },
   "outputs": [
    {
     "name": "stdout",
     "output_type": "stream",
     "text": [
      "python\n",
      "python\n",
      "python\n",
      "python\n"
     ]
    }
   ],
   "source": [
    "print 'python' # ' 제일 많이 쓴다\n",
    "print \"python\"\n",
    "print '''python'''\n",
    "print \"\"\"python\"\"\"\n",
    "\n",
    "# ''___'' or \"\"___\"\"  => 2개짜리는 없다."
   ]
  },
  {
   "cell_type": "code",
   "execution_count": 40,
   "metadata": {
    "collapsed": false
   },
   "outputs": [
    {
     "name": "stdout",
     "output_type": "stream",
     "text": [
      "python's nickname\n"
     ]
    }
   ],
   "source": [
    "print \"python's nickname\""
   ]
  },
  {
   "cell_type": "code",
   "execution_count": 41,
   "metadata": {
    "collapsed": false
   },
   "outputs": [
    {
     "name": "stdout",
     "output_type": "stream",
     "text": [
      "This is very long dffadfadfadfadfdafdafadffdafadff\n",
      "string....\n"
     ]
    }
   ],
   "source": [
    "print '''This is very long dffadfadfadfadfdafdafadffdafadff\n",
    "string....'''\n",
    "\n",
    "# 행 전환이 있을때는 '''세개짜리를 사용한다.'''"
   ]
  },
  {
   "cell_type": "markdown",
   "metadata": {},
   "source": [
    "* string conversion (문자열 변환)"
   ]
  },
  {
   "cell_type": "code",
   "execution_count": 43,
   "metadata": {
    "collapsed": false
   },
   "outputs": [
    {
     "name": "stdout",
     "output_type": "stream",
     "text": [
      "98.4 <type 'str'>\n",
      "200000000.0\n"
     ]
    }
   ],
   "source": [
    "print str(98.4), type(str(98.4))\n",
    "\n",
    "\n"
   ]
  },
  {
   "cell_type": "markdown",
   "metadata": {},
   "source": [
    "#### escape string (이스케이프 문자)\n",
    "* 문자열내의 일부 문자의 의미를 달리하여 `특정한 효과`를 주는 것\n",
    "* `\\n` : new line `\\t` : tab 등등\n",
    "\n"
   ]
  },
  {
   "cell_type": "code",
   "execution_count": 3,
   "metadata": {
    "collapsed": false
   },
   "outputs": [
    {
     "name": "stdout",
     "output_type": "stream",
     "text": [
      "The value is \t100\n"
     ]
    }
   ],
   "source": [
    "\n",
    "a = 100\n",
    "str1 = 'The value is \\t'\n",
    "\n",
    "print str1 + str(a)\n"
   ]
  },
  {
   "cell_type": "code",
   "execution_count": 47,
   "metadata": {
    "collapsed": false
   },
   "outputs": [
    {
     "name": "stdout",
     "output_type": "stream",
     "text": [
      "Hello World\n",
      "<type 'str'>\n"
     ]
    }
   ],
   "source": [
    "print 'Hello' + ' World'\n",
    "print type('Hello')"
   ]
  },
  {
   "cell_type": "markdown",
   "metadata": {},
   "source": [
    "* **quiz2)** str2의 값은 무엇일까요?"
   ]
  },
  {
   "cell_type": "code",
   "execution_count": 48,
   "metadata": {
    "collapsed": false
   },
   "outputs": [
    {
     "name": "stdout",
     "output_type": "stream",
     "text": [
      "HaHaHaHaHo\n"
     ]
    }
   ],
   "source": [
    "str2 = 'Ha' * 4 + 'Ho'\n",
    "print str2"
   ]
  },
  {
   "cell_type": "markdown",
   "metadata": {},
   "source": [
    "* slicing string (문자 추출) -> 엄청 많이 쓰인다.\n",
    "* [start:end]"
   ]
  },
  {
   "cell_type": "code",
   "execution_count": 49,
   "metadata": {
    "collapsed": false
   },
   "outputs": [
    {
     "name": "stdout",
     "output_type": "stream",
     "text": [
      "1\n",
      "b\n",
      "d\n",
      "9\n"
     ]
    }
   ],
   "source": [
    "a = '123456789abcd'\n",
    "print a[0]    # 모든 문자열의 첫번째 문자\n",
    "print a[10]\n",
    "print a[-1]   # 모든 문자열의 마지막 문자 - 유용?\n",
    "print a[-5]\n",
    "\n",
    "# a[0:] 처음부터 끝까지\n",
    "# a[:-1] 처음부터 마지막은 포함하지 않음\n",
    "# a[:] 전체\n",
    "\n",
    "#print letters[13]"
   ]
  },
  {
   "cell_type": "code",
   "execution_count": 78,
   "metadata": {
    "collapsed": true
   },
   "outputs": [
    {
     "name": "stdout",
     "output_type": "stream",
     "text": [
      "1\n",
      "456789abcd\n",
      "1234\n"
     ]
    }
   ],
   "source": [
    "print letters[0:1]\n",
    "print letters[3:]\n",
    "print letters[:4]"
   ]
  },
  {
   "cell_type": "markdown",
   "metadata": {},
   "source": [
    "* string length (문자열의 길이)"
   ]
  },
  {
   "cell_type": "code",
   "execution_count": 55,
   "metadata": {
    "collapsed": false
   },
   "outputs": [
    {
     "name": "stdout",
     "output_type": "stream",
     "text": [
      "PELLO\n",
      "pello\n"
     ]
    }
   ],
   "source": [
    "a = \"hello\"\n",
    "a.replace('h', 'p')\n",
    "print a.upper()\n",
    "a.lower()\n",
    "\n",
    "# a라는 객체는 자체적으로 함수를 가진다.    그렇기 때문에 a.함수가 가능\n"
   ]
  },
  {
   "cell_type": "markdown",
   "metadata": {},
   "source": [
    "#### 연습문제\n",
    "1. 1주일은 몇초 입니까?\n",
    "2. 구구단 7단을 계산하여 답을 순서대로 출력하시오\n",
    "3. 1에서 11까지의 합을 구하시오\n",
    "4. 우사인 볼트는 100m를 9.5초에 뛰었습니다. 이때 우사인 볼트의 평균 시속은 몇km인가요?\n",
    "5. 반지름이 10cm인 원의 넓이와 둘레를 출력하세요. \n",
    "6. a = 'python is a great language' 일 때, 맨 처음의 소문자 p를 대문자 P로 변경하고 싶다. 어떻게 하면 될까?"
   ]
  },
  {
   "cell_type": "code",
   "execution_count": null,
   "metadata": {
    "collapsed": true
   },
   "outputs": [],
   "source": []
  }
 ],
 "metadata": {
  "kernelspec": {
   "display_name": "Python 2",
   "language": "python",
   "name": "python2"
  },
  "language_info": {
   "codemirror_mode": {
    "name": "ipython",
    "version": 2
   },
   "file_extension": ".py",
   "mimetype": "text/x-python",
   "name": "python",
   "nbconvert_exporter": "python",
   "pygments_lexer": "ipython2",
   "version": "2.7.13"
  }
 },
 "nbformat": 4,
 "nbformat_minor": 1
}
